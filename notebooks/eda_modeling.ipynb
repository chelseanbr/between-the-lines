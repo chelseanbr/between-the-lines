{
 "cells": [
  {
   "cell_type": "code",
   "execution_count": 1,
   "metadata": {},
   "outputs": [],
   "source": [
    "%load_ext autoreload\n",
    "%autoreload 2\n",
    "import sys\n",
    "import os\n",
    "module_path = os.path.abspath(os.path.join('..'))\n",
    "if module_path not in sys.path:\n",
    "    sys.path.append(module_path+\"/src\")\n",
    "import helpers as hlp"
   ]
  },
  {
   "cell_type": "code",
   "execution_count": 2,
   "metadata": {},
   "outputs": [],
   "source": [
    "import numpy as np\n",
    "import pandas as pd\n",
    "import matplotlib.pyplot as plt\n",
    "import seaborn as sns\n",
    "from sklearn.model_selection import train_test_split"
   ]
  },
  {
   "cell_type": "code",
   "execution_count": 3,
   "metadata": {},
   "outputs": [],
   "source": [
    "# Set plot sizes\n",
    "SMALL_SIZE = 22\n",
    "MEDIUM_SIZE = 24\n",
    "BIGGER_SIZE = 26\n",
    "BIGGEST_SIZE = 28\n",
    "\n",
    "plt.rc('font', size=SMALL_SIZE)          # controls default text sizes\n",
    "plt.rc('axes', titlesize=SMALL_SIZE)     # fontsize of the axes title\n",
    "plt.rc('axes', labelsize=MEDIUM_SIZE)    # fontsize of the x and y labels\n",
    "plt.rc('xtick', labelsize=SMALL_SIZE)    # fontsize of the tick labels\n",
    "plt.rc('ytick', labelsize=SMALL_SIZE)    # fontsize of the tick labels\n",
    "plt.rc('legend', fontsize=SMALL_SIZE)    # legend fontsize\n",
    "plt.rc('figure', titlesize=BIGGEST_SIZE)  # fontsize of the figure title"
   ]
  },
  {
   "cell_type": "markdown",
   "metadata": {},
   "source": [
    "# Load & Merge CSV Data"
   ]
  },
  {
   "cell_type": "code",
   "execution_count": 4,
   "metadata": {},
   "outputs": [
    {
     "name": "stdout",
     "output_type": "stream",
     "text": [
      "Folders: ['Honolulu-Hawaii.pg1', 'New_York_City-New_York-pg1', 'Honolulu-Hawaii.pg3', 'Tokyo-Kanto-pg1', 'Honolulu-Hawaii.pg2', 'Honolulu-Hawaii.pg4']\n"
     ]
    }
   ],
   "source": [
    "aws_data_dir = '../data/web_scraped/aws_final/'\n",
    "\n",
    "# Use helper function to load and merge CSVs from folders in above dir\n",
    "df_all_hotels = hlp.merge_csv_mult_dir(aws_data_dir)"
   ]
  },
  {
   "cell_type": "code",
   "execution_count": 5,
   "metadata": {},
   "outputs": [
    {
     "data": {
      "text/plain": [
       "(212155, 10)"
      ]
     },
     "execution_count": 5,
     "metadata": {},
     "output_type": "execute_result"
    }
   ],
   "source": [
    "df_all_hotels.shape"
   ]
  },
  {
   "cell_type": "code",
   "execution_count": 6,
   "metadata": {},
   "outputs": [
    {
     "data": {
      "text/html": [
       "<div>\n",
       "<style scoped>\n",
       "    .dataframe tbody tr th:only-of-type {\n",
       "        vertical-align: middle;\n",
       "    }\n",
       "\n",
       "    .dataframe tbody tr th {\n",
       "        vertical-align: top;\n",
       "    }\n",
       "\n",
       "    .dataframe thead th {\n",
       "        text-align: right;\n",
       "    }\n",
       "</style>\n",
       "<table border=\"1\" class=\"dataframe\">\n",
       "  <thead>\n",
       "    <tr style=\"text-align: right;\">\n",
       "      <th></th>\n",
       "      <th>review_id</th>\n",
       "      <th>url</th>\n",
       "      <th>hotel_name</th>\n",
       "      <th>review_date</th>\n",
       "      <th>review_body</th>\n",
       "      <th>user_location</th>\n",
       "      <th>helpful_vote</th>\n",
       "      <th>rating</th>\n",
       "      <th>csv</th>\n",
       "      <th>folder</th>\n",
       "    </tr>\n",
       "  </thead>\n",
       "  <tbody>\n",
       "    <tr>\n",
       "      <th>0</th>\n",
       "      <td>752691107</td>\n",
       "      <td>https://www.tripadvisor.com/Hotel_Review-g6098...</td>\n",
       "      <td>Waikiki Beachcomber by Outrigger</td>\n",
       "      <td>April 16, 2020</td>\n",
       "      <td>We approached the concierge for help to get s...</td>\n",
       "      <td>Taupo, New Zealand</td>\n",
       "      <td>8</td>\n",
       "      <td>4.0</td>\n",
       "      <td>Waikiki_Beachcomber_by_Outrigger-Honolulu_Oahu...</td>\n",
       "      <td>Honolulu-Hawaii.pg1</td>\n",
       "    </tr>\n",
       "    <tr>\n",
       "      <th>1</th>\n",
       "      <td>678025463</td>\n",
       "      <td>https://www.tripadvisor.com/Hotel_Review-g6098...</td>\n",
       "      <td>Waikiki Beachcomber by Outrigger</td>\n",
       "      <td>June 1, 2019</td>\n",
       "      <td>We have just returned home from spending a fun...</td>\n",
       "      <td>Peakhurst, Australia</td>\n",
       "      <td>5</td>\n",
       "      <td>5.0</td>\n",
       "      <td>Waikiki_Beachcomber_by_Outrigger-Honolulu_Oahu...</td>\n",
       "      <td>Honolulu-Hawaii.pg1</td>\n",
       "    </tr>\n",
       "    <tr>\n",
       "      <th>2</th>\n",
       "      <td>751366035</td>\n",
       "      <td>https://www.tripadvisor.com/Hotel_Review-g6098...</td>\n",
       "      <td>Waikiki Beachcomber by Outrigger</td>\n",
       "      <td>March 18, 2020</td>\n",
       "      <td>Perfect location, beautiful room with well app...</td>\n",
       "      <td>Melbourne, Australia</td>\n",
       "      <td>0</td>\n",
       "      <td>5.0</td>\n",
       "      <td>Waikiki_Beachcomber_by_Outrigger-Honolulu_Oahu...</td>\n",
       "      <td>Honolulu-Hawaii.pg1</td>\n",
       "    </tr>\n",
       "    <tr>\n",
       "      <th>3</th>\n",
       "      <td>751346529</td>\n",
       "      <td>https://www.tripadvisor.com/Hotel_Review-g6098...</td>\n",
       "      <td>Waikiki Beachcomber by Outrigger</td>\n",
       "      <td>March 18, 2020</td>\n",
       "      <td>Kristina works in reception and she was so kin...</td>\n",
       "      <td>Hollywood, California</td>\n",
       "      <td>1</td>\n",
       "      <td>5.0</td>\n",
       "      <td>Waikiki_Beachcomber_by_Outrigger-Honolulu_Oahu...</td>\n",
       "      <td>Honolulu-Hawaii.pg1</td>\n",
       "    </tr>\n",
       "    <tr>\n",
       "      <th>4</th>\n",
       "      <td>751269969</td>\n",
       "      <td>https://www.tripadvisor.com/Hotel_Review-g6098...</td>\n",
       "      <td>Waikiki Beachcomber by Outrigger</td>\n",
       "      <td>March 17, 2020</td>\n",
       "      <td>We spent a week at the Waikiki Beachcomber and...</td>\n",
       "      <td>Salmon Arm, Canada</td>\n",
       "      <td>4</td>\n",
       "      <td>4.0</td>\n",
       "      <td>Waikiki_Beachcomber_by_Outrigger-Honolulu_Oahu...</td>\n",
       "      <td>Honolulu-Hawaii.pg1</td>\n",
       "    </tr>\n",
       "  </tbody>\n",
       "</table>\n",
       "</div>"
      ],
      "text/plain": [
       "   review_id                                                url  \\\n",
       "0  752691107  https://www.tripadvisor.com/Hotel_Review-g6098...   \n",
       "1  678025463  https://www.tripadvisor.com/Hotel_Review-g6098...   \n",
       "2  751366035  https://www.tripadvisor.com/Hotel_Review-g6098...   \n",
       "3  751346529  https://www.tripadvisor.com/Hotel_Review-g6098...   \n",
       "4  751269969  https://www.tripadvisor.com/Hotel_Review-g6098...   \n",
       "\n",
       "                         hotel_name     review_date  \\\n",
       "0  Waikiki Beachcomber by Outrigger  April 16, 2020   \n",
       "1  Waikiki Beachcomber by Outrigger    June 1, 2019   \n",
       "2  Waikiki Beachcomber by Outrigger  March 18, 2020   \n",
       "3  Waikiki Beachcomber by Outrigger  March 18, 2020   \n",
       "4  Waikiki Beachcomber by Outrigger  March 17, 2020   \n",
       "\n",
       "                                         review_body          user_location  \\\n",
       "0   We approached the concierge for help to get s...     Taupo, New Zealand   \n",
       "1  We have just returned home from spending a fun...   Peakhurst, Australia   \n",
       "2  Perfect location, beautiful room with well app...   Melbourne, Australia   \n",
       "3  Kristina works in reception and she was so kin...  Hollywood, California   \n",
       "4  We spent a week at the Waikiki Beachcomber and...     Salmon Arm, Canada   \n",
       "\n",
       "   helpful_vote  rating                                                csv  \\\n",
       "0             8     4.0  Waikiki_Beachcomber_by_Outrigger-Honolulu_Oahu...   \n",
       "1             5     5.0  Waikiki_Beachcomber_by_Outrigger-Honolulu_Oahu...   \n",
       "2             0     5.0  Waikiki_Beachcomber_by_Outrigger-Honolulu_Oahu...   \n",
       "3             1     5.0  Waikiki_Beachcomber_by_Outrigger-Honolulu_Oahu...   \n",
       "4             4     4.0  Waikiki_Beachcomber_by_Outrigger-Honolulu_Oahu...   \n",
       "\n",
       "                folder  \n",
       "0  Honolulu-Hawaii.pg1  \n",
       "1  Honolulu-Hawaii.pg1  \n",
       "2  Honolulu-Hawaii.pg1  \n",
       "3  Honolulu-Hawaii.pg1  \n",
       "4  Honolulu-Hawaii.pg1  "
      ]
     },
     "execution_count": 6,
     "metadata": {},
     "output_type": "execute_result"
    }
   ],
   "source": [
    "df_all_hotels.head()"
   ]
  },
  {
   "cell_type": "code",
   "execution_count": 7,
   "metadata": {},
   "outputs": [
    {
     "name": "stdout",
     "output_type": "stream",
     "text": [
      "<class 'pandas.core.frame.DataFrame'>\n",
      "RangeIndex: 212155 entries, 0 to 212154\n",
      "Data columns (total 10 columns):\n",
      " #   Column         Non-Null Count   Dtype  \n",
      "---  ------         --------------   -----  \n",
      " 0   review_id      212155 non-null  int64  \n",
      " 1   url            212155 non-null  object \n",
      " 2   hotel_name     212155 non-null  object \n",
      " 3   review_date    212155 non-null  object \n",
      " 4   review_body    212155 non-null  object \n",
      " 5   user_location  184157 non-null  object \n",
      " 6   helpful_vote   212155 non-null  int64  \n",
      " 7   rating         212155 non-null  float64\n",
      " 8   csv            212155 non-null  object \n",
      " 9   folder         212155 non-null  object \n",
      "dtypes: float64(1), int64(2), object(7)\n",
      "memory usage: 16.2+ MB\n"
     ]
    }
   ],
   "source": [
    "df_all_hotels.info()"
   ]
  },
  {
   "cell_type": "code",
   "execution_count": 8,
   "metadata": {},
   "outputs": [
    {
     "name": "stdout",
     "output_type": "stream",
     "text": [
      "Number of duplicate rows:\n",
      "\n",
      "review_id        0\n",
      "url              0\n",
      "hotel_name       0\n",
      "review_date      0\n",
      "review_body      0\n",
      "user_location    0\n",
      "helpful_vote     0\n",
      "rating           0\n",
      "csv              0\n",
      "folder           0\n",
      "dtype: int64\n"
     ]
    }
   ],
   "source": [
    "# Check for duplicate rows\n",
    "dup_rows = df_all_hotels[df_all_hotels.duplicated()].count()\n",
    "print('Number of duplicate rows:\\n\\n{}'.format(dup_rows))"
   ]
  },
  {
   "cell_type": "code",
   "execution_count": 9,
   "metadata": {},
   "outputs": [
    {
     "data": {
      "text/html": [
       "<div>\n",
       "<style scoped>\n",
       "    .dataframe tbody tr th:only-of-type {\n",
       "        vertical-align: middle;\n",
       "    }\n",
       "\n",
       "    .dataframe tbody tr th {\n",
       "        vertical-align: top;\n",
       "    }\n",
       "\n",
       "    .dataframe thead th {\n",
       "        text-align: right;\n",
       "    }\n",
       "</style>\n",
       "<table border=\"1\" class=\"dataframe\">\n",
       "  <thead>\n",
       "    <tr style=\"text-align: right;\">\n",
       "      <th></th>\n",
       "      <th>Total</th>\n",
       "      <th>Percent</th>\n",
       "      <th>Type</th>\n",
       "    </tr>\n",
       "  </thead>\n",
       "  <tbody>\n",
       "    <tr>\n",
       "      <th>user_location</th>\n",
       "      <td>27998</td>\n",
       "      <td>0.13197</td>\n",
       "      <td>object</td>\n",
       "    </tr>\n",
       "    <tr>\n",
       "      <th>folder</th>\n",
       "      <td>0</td>\n",
       "      <td>0.00000</td>\n",
       "      <td>object</td>\n",
       "    </tr>\n",
       "    <tr>\n",
       "      <th>csv</th>\n",
       "      <td>0</td>\n",
       "      <td>0.00000</td>\n",
       "      <td>object</td>\n",
       "    </tr>\n",
       "    <tr>\n",
       "      <th>rating</th>\n",
       "      <td>0</td>\n",
       "      <td>0.00000</td>\n",
       "      <td>float64</td>\n",
       "    </tr>\n",
       "    <tr>\n",
       "      <th>helpful_vote</th>\n",
       "      <td>0</td>\n",
       "      <td>0.00000</td>\n",
       "      <td>int64</td>\n",
       "    </tr>\n",
       "    <tr>\n",
       "      <th>review_body</th>\n",
       "      <td>0</td>\n",
       "      <td>0.00000</td>\n",
       "      <td>object</td>\n",
       "    </tr>\n",
       "    <tr>\n",
       "      <th>review_date</th>\n",
       "      <td>0</td>\n",
       "      <td>0.00000</td>\n",
       "      <td>object</td>\n",
       "    </tr>\n",
       "    <tr>\n",
       "      <th>hotel_name</th>\n",
       "      <td>0</td>\n",
       "      <td>0.00000</td>\n",
       "      <td>object</td>\n",
       "    </tr>\n",
       "    <tr>\n",
       "      <th>url</th>\n",
       "      <td>0</td>\n",
       "      <td>0.00000</td>\n",
       "      <td>object</td>\n",
       "    </tr>\n",
       "    <tr>\n",
       "      <th>review_id</th>\n",
       "      <td>0</td>\n",
       "      <td>0.00000</td>\n",
       "      <td>int64</td>\n",
       "    </tr>\n",
       "  </tbody>\n",
       "</table>\n",
       "</div>"
      ],
      "text/plain": [
       "               Total  Percent     Type\n",
       "user_location  27998  0.13197   object\n",
       "folder             0  0.00000   object\n",
       "csv                0  0.00000   object\n",
       "rating             0  0.00000  float64\n",
       "helpful_vote       0  0.00000    int64\n",
       "review_body        0  0.00000   object\n",
       "review_date        0  0.00000   object\n",
       "hotel_name         0  0.00000   object\n",
       "url                0  0.00000   object\n",
       "review_id          0  0.00000    int64"
      ]
     },
     "execution_count": 9,
     "metadata": {},
     "output_type": "execute_result"
    }
   ],
   "source": [
    "# Get count, pct, and type of missing data (per column)\n",
    "hlp.get_nulls(df_all_hotels)"
   ]
  },
  {
   "cell_type": "markdown",
   "metadata": {},
   "source": [
    "# Clean & Prep Data"
   ]
  },
  {
   "cell_type": "code",
   "execution_count": 10,
   "metadata": {},
   "outputs": [
    {
     "name": "stdout",
     "output_type": "stream",
     "text": [
      "<class 'pandas.core.frame.DataFrame'>\n",
      "Int64Index: 212155 entries, 0 to 212154\n",
      "Data columns (total 14 columns):\n",
      " #   Column         Non-Null Count   Dtype  \n",
      "---  ------         --------------   -----  \n",
      " 0   review_id      212155 non-null  int64  \n",
      " 1   url            212155 non-null  object \n",
      " 2   hotel_name     212155 non-null  object \n",
      " 3   review_date    212155 non-null  object \n",
      " 4   review_body    212155 non-null  object \n",
      " 5   user_location  212155 non-null  object \n",
      " 6   helpful_vote   212155 non-null  int64  \n",
      " 7   rating         212155 non-null  float64\n",
      " 8   csv            212155 non-null  object \n",
      " 9   folder         212155 non-null  object \n",
      " 10  City           212155 non-null  object \n",
      " 11  polarity       212155 non-null  float64\n",
      " 12  sentiment_int  212155 non-null  int64  \n",
      " 13  sentiment      212155 non-null  object \n",
      "dtypes: float64(2), int64(3), object(9)\n",
      "memory usage: 24.3+ MB\n"
     ]
    }
   ],
   "source": [
    "df_all_hotels_cleaned = df_all_hotels.copy()\n",
    "\n",
    "# Use helper function to do clean & prep\n",
    "df_all_hotels_cleaned = hlp.clean_and_prep(df_all_hotels_cleaned)\n",
    "\n",
    "df_all_hotels_cleaned.info()"
   ]
  },
  {
   "cell_type": "markdown",
   "metadata": {},
   "source": [
    "# EDA"
   ]
  },
  {
   "cell_type": "code",
   "execution_count": 11,
   "metadata": {},
   "outputs": [
    {
     "data": {
      "text/html": [
       "<div>\n",
       "<style scoped>\n",
       "    .dataframe tbody tr th:only-of-type {\n",
       "        vertical-align: middle;\n",
       "    }\n",
       "\n",
       "    .dataframe tbody tr th {\n",
       "        vertical-align: top;\n",
       "    }\n",
       "\n",
       "    .dataframe thead th {\n",
       "        text-align: right;\n",
       "    }\n",
       "</style>\n",
       "<table border=\"1\" class=\"dataframe\">\n",
       "  <thead>\n",
       "    <tr style=\"text-align: right;\">\n",
       "      <th></th>\n",
       "      <th>review_id</th>\n",
       "      <th>url</th>\n",
       "      <th>hotel_name</th>\n",
       "      <th>review_date</th>\n",
       "      <th>review_body</th>\n",
       "      <th>user_location</th>\n",
       "      <th>helpful_vote</th>\n",
       "      <th>rating</th>\n",
       "      <th>csv</th>\n",
       "      <th>folder</th>\n",
       "      <th>City</th>\n",
       "      <th>polarity</th>\n",
       "      <th>sentiment_int</th>\n",
       "      <th>sentiment</th>\n",
       "    </tr>\n",
       "  </thead>\n",
       "  <tbody>\n",
       "    <tr>\n",
       "      <th>107943</th>\n",
       "      <td>81413871</td>\n",
       "      <td>https://www.tripadvisor.com/Hotel_Review-g6098...</td>\n",
       "      <td>Hotel Renew</td>\n",
       "      <td>September 28, 2010</td>\n",
       "      <td>Hotel Renew can easily be missed located besid...</td>\n",
       "      <td>vancouver</td>\n",
       "      <td>1</td>\n",
       "      <td>5.0</td>\n",
       "      <td>Hotel_Renew-Honolulu_Oahu_Hawaii__en.csv</td>\n",
       "      <td>Honolulu-Hawaii.pg3</td>\n",
       "      <td>Honolulu</td>\n",
       "      <td>1.0</td>\n",
       "      <td>2</td>\n",
       "      <td>positive</td>\n",
       "    </tr>\n",
       "    <tr>\n",
       "      <th>115536</th>\n",
       "      <td>268935315</td>\n",
       "      <td>https://www.tripadvisor.com/Hotel_Review-g6098...</td>\n",
       "      <td>Luana Waikiki Hotel &amp; Suites</td>\n",
       "      <td>April 29, 2015</td>\n",
       "      <td>Luana is good value for money, but rather tire...</td>\n",
       "      <td>Melbourne, Australia</td>\n",
       "      <td>38</td>\n",
       "      <td>3.0</td>\n",
       "      <td>Luana_Waikiki_Hotel_Suites-Honolulu_Oahu_Hawai...</td>\n",
       "      <td>Honolulu-Hawaii.pg3</td>\n",
       "      <td>Honolulu</td>\n",
       "      <td>0.5</td>\n",
       "      <td>1</td>\n",
       "      <td>neutral</td>\n",
       "    </tr>\n",
       "    <tr>\n",
       "      <th>192497</th>\n",
       "      <td>161094438</td>\n",
       "      <td>https://www.tripadvisor.com/Hotel_Review-g6098...</td>\n",
       "      <td>Ilikai Hotel &amp; Luxury Suites</td>\n",
       "      <td>May 18, 2013</td>\n",
       "      <td>We have stayed in Waikiki many times,usually n...</td>\n",
       "      <td>Sun City West, Arizona</td>\n",
       "      <td>9</td>\n",
       "      <td>5.0</td>\n",
       "      <td>Ilikai_Hotel_Luxury_Suites-Honolulu_Oahu_Hawai...</td>\n",
       "      <td>Honolulu-Hawaii.pg2</td>\n",
       "      <td>Honolulu</td>\n",
       "      <td>1.0</td>\n",
       "      <td>2</td>\n",
       "      <td>positive</td>\n",
       "    </tr>\n",
       "    <tr>\n",
       "      <th>93362</th>\n",
       "      <td>394753418</td>\n",
       "      <td>https://www.tripadvisor.com/Hotel_Review-g6076...</td>\n",
       "      <td>New York Hilton Midtown</td>\n",
       "      <td>July 20, 2016</td>\n",
       "      <td>Just returned from 4 days at the HIlton. You a...</td>\n",
       "      <td>Ann Arbor, Michigan</td>\n",
       "      <td>114</td>\n",
       "      <td>4.0</td>\n",
       "      <td>New_York_Hilton_Midtown-New_York_City_New_York...</td>\n",
       "      <td>New_York_City-New_York-pg1</td>\n",
       "      <td>New_York_City</td>\n",
       "      <td>1.0</td>\n",
       "      <td>2</td>\n",
       "      <td>positive</td>\n",
       "    </tr>\n",
       "    <tr>\n",
       "      <th>55057</th>\n",
       "      <td>72775541</td>\n",
       "      <td>https://www.tripadvisor.com/Hotel_Review-g6098...</td>\n",
       "      <td>OHANA Waikiki Malia by Outrigger</td>\n",
       "      <td>July 28, 2010</td>\n",
       "      <td>We stayed at Ohana Waikiki Malia for one night...</td>\n",
       "      <td>Vancouver, Canada</td>\n",
       "      <td>40</td>\n",
       "      <td>4.0</td>\n",
       "      <td>OHANA_Waikiki_Malia_by_Outrigger-Honolulu_Oahu...</td>\n",
       "      <td>Honolulu-Hawaii.pg1</td>\n",
       "      <td>Honolulu</td>\n",
       "      <td>1.0</td>\n",
       "      <td>2</td>\n",
       "      <td>positive</td>\n",
       "    </tr>\n",
       "    <tr>\n",
       "      <th>93813</th>\n",
       "      <td>361361462</td>\n",
       "      <td>https://www.tripadvisor.com/Hotel_Review-g6076...</td>\n",
       "      <td>New York Hilton Midtown</td>\n",
       "      <td>April 3, 2016</td>\n",
       "      <td>As tourists, we already came to New York with ...</td>\n",
       "      <td>singapore</td>\n",
       "      <td>139</td>\n",
       "      <td>3.0</td>\n",
       "      <td>New_York_Hilton_Midtown-New_York_City_New_York...</td>\n",
       "      <td>New_York_City-New_York-pg1</td>\n",
       "      <td>New_York_City</td>\n",
       "      <td>0.5</td>\n",
       "      <td>1</td>\n",
       "      <td>neutral</td>\n",
       "    </tr>\n",
       "    <tr>\n",
       "      <th>194975</th>\n",
       "      <td>734804456</td>\n",
       "      <td>https://www.tripadvisor.com/Hotel_Review-g6098...</td>\n",
       "      <td>‘Alohilani Resort Waikiki Beach</td>\n",
       "      <td>December 26, 2019</td>\n",
       "      <td>We spent there 3 nights. This hotel is located...</td>\n",
       "      <td>Warsaw, Poland</td>\n",
       "      <td>41</td>\n",
       "      <td>5.0</td>\n",
       "      <td>Alohilani_Resort_Waikiki_Beach-Honolulu_Oahu_H...</td>\n",
       "      <td>Honolulu-Hawaii.pg2</td>\n",
       "      <td>Honolulu</td>\n",
       "      <td>1.0</td>\n",
       "      <td>2</td>\n",
       "      <td>positive</td>\n",
       "    </tr>\n",
       "    <tr>\n",
       "      <th>110787</th>\n",
       "      <td>459486544</td>\n",
       "      <td>https://www.tripadvisor.com/Hotel_Review-g6098...</td>\n",
       "      <td>Outrigger Waikiki Beach Resort</td>\n",
       "      <td>February 13, 2017</td>\n",
       "      <td>I've been visiting Hawaii since I was a little...</td>\n",
       "      <td>Bismarck, North Dakota</td>\n",
       "      <td>15</td>\n",
       "      <td>5.0</td>\n",
       "      <td>Outrigger_Waikiki_Beach_Resort-Honolulu_Oahu_H...</td>\n",
       "      <td>Honolulu-Hawaii.pg3</td>\n",
       "      <td>Honolulu</td>\n",
       "      <td>1.0</td>\n",
       "      <td>2</td>\n",
       "      <td>positive</td>\n",
       "    </tr>\n",
       "    <tr>\n",
       "      <th>128334</th>\n",
       "      <td>446208155</td>\n",
       "      <td>https://www.tripadvisor.com/Hotel_Review-g6098...</td>\n",
       "      <td>Hyatt Regency Waikiki Beach Resort &amp; Spa</td>\n",
       "      <td>December 17, 2016</td>\n",
       "      <td>Our stay at the Hyatt Regency, Waikiki was OUT...</td>\n",
       "      <td>Fremont, United States</td>\n",
       "      <td>0</td>\n",
       "      <td>5.0</td>\n",
       "      <td>Hyatt_Regency_Waikiki_Beach_Resort_Spa-Honolul...</td>\n",
       "      <td>Honolulu-Hawaii.pg3</td>\n",
       "      <td>Honolulu</td>\n",
       "      <td>1.0</td>\n",
       "      <td>2</td>\n",
       "      <td>positive</td>\n",
       "    </tr>\n",
       "    <tr>\n",
       "      <th>110644</th>\n",
       "      <td>486192296</td>\n",
       "      <td>https://www.tripadvisor.com/Hotel_Review-g6098...</td>\n",
       "      <td>Outrigger Waikiki Beach Resort</td>\n",
       "      <td>May 21, 2017</td>\n",
       "      <td>From the moment we walked into the Outrigger, ...</td>\n",
       "      <td>benton</td>\n",
       "      <td>9</td>\n",
       "      <td>5.0</td>\n",
       "      <td>Outrigger_Waikiki_Beach_Resort-Honolulu_Oahu_H...</td>\n",
       "      <td>Honolulu-Hawaii.pg3</td>\n",
       "      <td>Honolulu</td>\n",
       "      <td>1.0</td>\n",
       "      <td>2</td>\n",
       "      <td>positive</td>\n",
       "    </tr>\n",
       "    <tr>\n",
       "      <th>206575</th>\n",
       "      <td>507984392</td>\n",
       "      <td>https://www.tripadvisor.com/Hotel_Review-g6098...</td>\n",
       "      <td>The Ritz-Carlton Residences</td>\n",
       "      <td>August 1, 2017</td>\n",
       "      <td>Immaculate, professional and will not disappoi...</td>\n",
       "      <td>Baltimore, United States</td>\n",
       "      <td>11</td>\n",
       "      <td>5.0</td>\n",
       "      <td>The_Ritz_Carlton_Residences-Honolulu_Oahu_Hawa...</td>\n",
       "      <td>Honolulu-Hawaii.pg2</td>\n",
       "      <td>Honolulu</td>\n",
       "      <td>1.0</td>\n",
       "      <td>2</td>\n",
       "      <td>positive</td>\n",
       "    </tr>\n",
       "    <tr>\n",
       "      <th>58471</th>\n",
       "      <td>281495138</td>\n",
       "      <td>https://www.tripadvisor.com/Hotel_Review-g6076...</td>\n",
       "      <td>Sheraton Tribeca New York Hotel</td>\n",
       "      <td>June 19, 2015</td>\n",
       "      <td>By far the worst hotel I've ever stayed at in ...</td>\n",
       "      <td>Farmingdale, New York</td>\n",
       "      <td>6</td>\n",
       "      <td>1.0</td>\n",
       "      <td>Sheraton_Tribeca_New_York_Hotel-New_York_City_...</td>\n",
       "      <td>New_York_City-New_York-pg1</td>\n",
       "      <td>New_York_City</td>\n",
       "      <td>0.0</td>\n",
       "      <td>0</td>\n",
       "      <td>negative</td>\n",
       "    </tr>\n",
       "    <tr>\n",
       "      <th>163714</th>\n",
       "      <td>387922810</td>\n",
       "      <td>https://www.tripadvisor.com/Hotel_Review-g6098...</td>\n",
       "      <td>Stay Hotel Waikiki</td>\n",
       "      <td>June 30, 2016</td>\n",
       "      <td>Big room, everything worked, good wifi, 1 bloc...</td>\n",
       "      <td>Julatten, Australia</td>\n",
       "      <td>5</td>\n",
       "      <td>5.0</td>\n",
       "      <td>Stay_Hotel_Waikiki-Honolulu_Oahu_Hawaii__en.csv</td>\n",
       "      <td>Honolulu-Hawaii.pg2</td>\n",
       "      <td>Honolulu</td>\n",
       "      <td>1.0</td>\n",
       "      <td>2</td>\n",
       "      <td>positive</td>\n",
       "    </tr>\n",
       "    <tr>\n",
       "      <th>167275</th>\n",
       "      <td>456203285</td>\n",
       "      <td>https://www.tripadvisor.com/Hotel_Review-g6098...</td>\n",
       "      <td>Sheraton Waikiki</td>\n",
       "      <td>January 31, 2017</td>\n",
       "      <td>This is a very busy hotel in the heart of Waik...</td>\n",
       "      <td>Kohala Coast, Hawaii</td>\n",
       "      <td>18</td>\n",
       "      <td>4.0</td>\n",
       "      <td>Sheraton_Waikiki-Honolulu_Oahu_Hawaii__en.csv</td>\n",
       "      <td>Honolulu-Hawaii.pg2</td>\n",
       "      <td>Honolulu</td>\n",
       "      <td>1.0</td>\n",
       "      <td>2</td>\n",
       "      <td>positive</td>\n",
       "    </tr>\n",
       "    <tr>\n",
       "      <th>153092</th>\n",
       "      <td>376357142</td>\n",
       "      <td>https://www.tripadvisor.com/Hotel_Review-g1066...</td>\n",
       "      <td>The Royal Park Hotel Iconic Tokyo Shiodome</td>\n",
       "      <td>May 25, 2016</td>\n",
       "      <td>As you would expect from Japan, everything was...</td>\n",
       "      <td>Perth, Australia</td>\n",
       "      <td>4</td>\n",
       "      <td>4.0</td>\n",
       "      <td>The_Royal_Park_Hotel_Iconic_Tokyo_Shiodome-Min...</td>\n",
       "      <td>Tokyo-Kanto-pg1</td>\n",
       "      <td>Tokyo</td>\n",
       "      <td>1.0</td>\n",
       "      <td>2</td>\n",
       "      <td>positive</td>\n",
       "    </tr>\n",
       "  </tbody>\n",
       "</table>\n",
       "</div>"
      ],
      "text/plain": [
       "        review_id                                                url  \\\n",
       "107943   81413871  https://www.tripadvisor.com/Hotel_Review-g6098...   \n",
       "115536  268935315  https://www.tripadvisor.com/Hotel_Review-g6098...   \n",
       "192497  161094438  https://www.tripadvisor.com/Hotel_Review-g6098...   \n",
       "93362   394753418  https://www.tripadvisor.com/Hotel_Review-g6076...   \n",
       "55057    72775541  https://www.tripadvisor.com/Hotel_Review-g6098...   \n",
       "93813   361361462  https://www.tripadvisor.com/Hotel_Review-g6076...   \n",
       "194975  734804456  https://www.tripadvisor.com/Hotel_Review-g6098...   \n",
       "110787  459486544  https://www.tripadvisor.com/Hotel_Review-g6098...   \n",
       "128334  446208155  https://www.tripadvisor.com/Hotel_Review-g6098...   \n",
       "110644  486192296  https://www.tripadvisor.com/Hotel_Review-g6098...   \n",
       "206575  507984392  https://www.tripadvisor.com/Hotel_Review-g6098...   \n",
       "58471   281495138  https://www.tripadvisor.com/Hotel_Review-g6076...   \n",
       "163714  387922810  https://www.tripadvisor.com/Hotel_Review-g6098...   \n",
       "167275  456203285  https://www.tripadvisor.com/Hotel_Review-g6098...   \n",
       "153092  376357142  https://www.tripadvisor.com/Hotel_Review-g1066...   \n",
       "\n",
       "                                        hotel_name         review_date  \\\n",
       "107943                                 Hotel Renew  September 28, 2010   \n",
       "115536                Luana Waikiki Hotel & Suites      April 29, 2015   \n",
       "192497                Ilikai Hotel & Luxury Suites        May 18, 2013   \n",
       "93362                      New York Hilton Midtown       July 20, 2016   \n",
       "55057             OHANA Waikiki Malia by Outrigger       July 28, 2010   \n",
       "93813                      New York Hilton Midtown       April 3, 2016   \n",
       "194975             ‘Alohilani Resort Waikiki Beach   December 26, 2019   \n",
       "110787              Outrigger Waikiki Beach Resort   February 13, 2017   \n",
       "128334    Hyatt Regency Waikiki Beach Resort & Spa   December 17, 2016   \n",
       "110644              Outrigger Waikiki Beach Resort        May 21, 2017   \n",
       "206575                 The Ritz-Carlton Residences      August 1, 2017   \n",
       "58471              Sheraton Tribeca New York Hotel       June 19, 2015   \n",
       "163714                          Stay Hotel Waikiki       June 30, 2016   \n",
       "167275                            Sheraton Waikiki    January 31, 2017   \n",
       "153092  The Royal Park Hotel Iconic Tokyo Shiodome        May 25, 2016   \n",
       "\n",
       "                                              review_body  \\\n",
       "107943  Hotel Renew can easily be missed located besid...   \n",
       "115536  Luana is good value for money, but rather tire...   \n",
       "192497  We have stayed in Waikiki many times,usually n...   \n",
       "93362   Just returned from 4 days at the HIlton. You a...   \n",
       "55057   We stayed at Ohana Waikiki Malia for one night...   \n",
       "93813   As tourists, we already came to New York with ...   \n",
       "194975  We spent there 3 nights. This hotel is located...   \n",
       "110787  I've been visiting Hawaii since I was a little...   \n",
       "128334  Our stay at the Hyatt Regency, Waikiki was OUT...   \n",
       "110644  From the moment we walked into the Outrigger, ...   \n",
       "206575  Immaculate, professional and will not disappoi...   \n",
       "58471   By far the worst hotel I've ever stayed at in ...   \n",
       "163714  Big room, everything worked, good wifi, 1 bloc...   \n",
       "167275  This is a very busy hotel in the heart of Waik...   \n",
       "153092  As you would expect from Japan, everything was...   \n",
       "\n",
       "                   user_location  helpful_vote  rating  \\\n",
       "107943                 vancouver             1     5.0   \n",
       "115536      Melbourne, Australia            38     3.0   \n",
       "192497    Sun City West, Arizona             9     5.0   \n",
       "93362        Ann Arbor, Michigan           114     4.0   \n",
       "55057          Vancouver, Canada            40     4.0   \n",
       "93813                  singapore           139     3.0   \n",
       "194975            Warsaw, Poland            41     5.0   \n",
       "110787    Bismarck, North Dakota            15     5.0   \n",
       "128334    Fremont, United States             0     5.0   \n",
       "110644                    benton             9     5.0   \n",
       "206575  Baltimore, United States            11     5.0   \n",
       "58471      Farmingdale, New York             6     1.0   \n",
       "163714       Julatten, Australia             5     5.0   \n",
       "167275      Kohala Coast, Hawaii            18     4.0   \n",
       "153092          Perth, Australia             4     4.0   \n",
       "\n",
       "                                                      csv  \\\n",
       "107943           Hotel_Renew-Honolulu_Oahu_Hawaii__en.csv   \n",
       "115536  Luana_Waikiki_Hotel_Suites-Honolulu_Oahu_Hawai...   \n",
       "192497  Ilikai_Hotel_Luxury_Suites-Honolulu_Oahu_Hawai...   \n",
       "93362   New_York_Hilton_Midtown-New_York_City_New_York...   \n",
       "55057   OHANA_Waikiki_Malia_by_Outrigger-Honolulu_Oahu...   \n",
       "93813   New_York_Hilton_Midtown-New_York_City_New_York...   \n",
       "194975  Alohilani_Resort_Waikiki_Beach-Honolulu_Oahu_H...   \n",
       "110787  Outrigger_Waikiki_Beach_Resort-Honolulu_Oahu_H...   \n",
       "128334  Hyatt_Regency_Waikiki_Beach_Resort_Spa-Honolul...   \n",
       "110644  Outrigger_Waikiki_Beach_Resort-Honolulu_Oahu_H...   \n",
       "206575  The_Ritz_Carlton_Residences-Honolulu_Oahu_Hawa...   \n",
       "58471   Sheraton_Tribeca_New_York_Hotel-New_York_City_...   \n",
       "163714    Stay_Hotel_Waikiki-Honolulu_Oahu_Hawaii__en.csv   \n",
       "167275      Sheraton_Waikiki-Honolulu_Oahu_Hawaii__en.csv   \n",
       "153092  The_Royal_Park_Hotel_Iconic_Tokyo_Shiodome-Min...   \n",
       "\n",
       "                            folder           City  polarity  sentiment_int  \\\n",
       "107943         Honolulu-Hawaii.pg3       Honolulu       1.0              2   \n",
       "115536         Honolulu-Hawaii.pg3       Honolulu       0.5              1   \n",
       "192497         Honolulu-Hawaii.pg2       Honolulu       1.0              2   \n",
       "93362   New_York_City-New_York-pg1  New_York_City       1.0              2   \n",
       "55057          Honolulu-Hawaii.pg1       Honolulu       1.0              2   \n",
       "93813   New_York_City-New_York-pg1  New_York_City       0.5              1   \n",
       "194975         Honolulu-Hawaii.pg2       Honolulu       1.0              2   \n",
       "110787         Honolulu-Hawaii.pg3       Honolulu       1.0              2   \n",
       "128334         Honolulu-Hawaii.pg3       Honolulu       1.0              2   \n",
       "110644         Honolulu-Hawaii.pg3       Honolulu       1.0              2   \n",
       "206575         Honolulu-Hawaii.pg2       Honolulu       1.0              2   \n",
       "58471   New_York_City-New_York-pg1  New_York_City       0.0              0   \n",
       "163714         Honolulu-Hawaii.pg2       Honolulu       1.0              2   \n",
       "167275         Honolulu-Hawaii.pg2       Honolulu       1.0              2   \n",
       "153092             Tokyo-Kanto-pg1          Tokyo       1.0              2   \n",
       "\n",
       "       sentiment  \n",
       "107943  positive  \n",
       "115536   neutral  \n",
       "192497  positive  \n",
       "93362   positive  \n",
       "55057   positive  \n",
       "93813    neutral  \n",
       "194975  positive  \n",
       "110787  positive  \n",
       "128334  positive  \n",
       "110644  positive  \n",
       "206575  positive  \n",
       "58471   negative  \n",
       "163714  positive  \n",
       "167275  positive  \n",
       "153092  positive  "
      ]
     },
     "execution_count": 11,
     "metadata": {},
     "output_type": "execute_result"
    }
   ],
   "source": [
    "df_all_hotels_cleaned.sample(15)"
   ]
  },
  {
   "cell_type": "code",
   "execution_count": 12,
   "metadata": {},
   "outputs": [
    {
     "name": "stdout",
     "output_type": "stream",
     "text": [
      "Count of Unique Values per Column:\n",
      "\n",
      "review_id: 212155\n",
      "url: 42484\n",
      "hotel_name: 149\n",
      "review_date: 6248\n",
      "review_body: 212124\n",
      "user_location: 27830\n",
      "helpful_vote: 799\n",
      "rating: 5\n",
      "csv: 149\n",
      "folder: 6\n",
      "City: 3\n",
      "polarity: 3\n",
      "sentiment_int: 3\n",
      "sentiment: 3\n"
     ]
    }
   ],
   "source": [
    "# Print how many unique values each column has\n",
    "hlp.print_unique_ct(df_all_hotels_cleaned)"
   ]
  },
  {
   "cell_type": "code",
   "execution_count": 13,
   "metadata": {},
   "outputs": [
    {
     "data": {
      "text/html": [
       "<div>\n",
       "<style scoped>\n",
       "    .dataframe tbody tr th:only-of-type {\n",
       "        vertical-align: middle;\n",
       "    }\n",
       "\n",
       "    .dataframe tbody tr th {\n",
       "        vertical-align: top;\n",
       "    }\n",
       "\n",
       "    .dataframe thead th {\n",
       "        text-align: right;\n",
       "    }\n",
       "</style>\n",
       "<table border=\"1\" class=\"dataframe\">\n",
       "  <thead>\n",
       "    <tr style=\"text-align: right;\">\n",
       "      <th></th>\n",
       "      <th>review_id</th>\n",
       "      <th>helpful_vote</th>\n",
       "      <th>rating</th>\n",
       "      <th>polarity</th>\n",
       "      <th>sentiment_int</th>\n",
       "    </tr>\n",
       "  </thead>\n",
       "  <tbody>\n",
       "    <tr>\n",
       "      <th>count</th>\n",
       "      <td>2.121550e+05</td>\n",
       "      <td>212155.000000</td>\n",
       "      <td>212155.000000</td>\n",
       "      <td>212155.000000</td>\n",
       "      <td>212155.000000</td>\n",
       "    </tr>\n",
       "    <tr>\n",
       "      <th>mean</th>\n",
       "      <td>3.485569e+08</td>\n",
       "      <td>30.036360</td>\n",
       "      <td>4.104650</td>\n",
       "      <td>0.837633</td>\n",
       "      <td>1.675266</td>\n",
       "    </tr>\n",
       "    <tr>\n",
       "      <th>std</th>\n",
       "      <td>2.108024e+08</td>\n",
       "      <td>192.647358</td>\n",
       "      <td>1.094571</td>\n",
       "      <td>0.321905</td>\n",
       "      <td>0.643809</td>\n",
       "    </tr>\n",
       "    <tr>\n",
       "      <th>min</th>\n",
       "      <td>2.824200e+05</td>\n",
       "      <td>0.000000</td>\n",
       "      <td>1.000000</td>\n",
       "      <td>0.000000</td>\n",
       "      <td>0.000000</td>\n",
       "    </tr>\n",
       "    <tr>\n",
       "      <th>25%</th>\n",
       "      <td>1.655966e+08</td>\n",
       "      <td>2.000000</td>\n",
       "      <td>4.000000</td>\n",
       "      <td>1.000000</td>\n",
       "      <td>2.000000</td>\n",
       "    </tr>\n",
       "    <tr>\n",
       "      <th>50%</th>\n",
       "      <td>3.260000e+08</td>\n",
       "      <td>9.000000</td>\n",
       "      <td>4.000000</td>\n",
       "      <td>1.000000</td>\n",
       "      <td>2.000000</td>\n",
       "    </tr>\n",
       "    <tr>\n",
       "      <th>75%</th>\n",
       "      <td>5.286325e+08</td>\n",
       "      <td>29.000000</td>\n",
       "      <td>5.000000</td>\n",
       "      <td>1.000000</td>\n",
       "      <td>2.000000</td>\n",
       "    </tr>\n",
       "    <tr>\n",
       "      <th>max</th>\n",
       "      <td>7.534573e+08</td>\n",
       "      <td>34443.000000</td>\n",
       "      <td>5.000000</td>\n",
       "      <td>1.000000</td>\n",
       "      <td>2.000000</td>\n",
       "    </tr>\n",
       "  </tbody>\n",
       "</table>\n",
       "</div>"
      ],
      "text/plain": [
       "          review_id   helpful_vote         rating       polarity  \\\n",
       "count  2.121550e+05  212155.000000  212155.000000  212155.000000   \n",
       "mean   3.485569e+08      30.036360       4.104650       0.837633   \n",
       "std    2.108024e+08     192.647358       1.094571       0.321905   \n",
       "min    2.824200e+05       0.000000       1.000000       0.000000   \n",
       "25%    1.655966e+08       2.000000       4.000000       1.000000   \n",
       "50%    3.260000e+08       9.000000       4.000000       1.000000   \n",
       "75%    5.286325e+08      29.000000       5.000000       1.000000   \n",
       "max    7.534573e+08   34443.000000       5.000000       1.000000   \n",
       "\n",
       "       sentiment_int  \n",
       "count  212155.000000  \n",
       "mean        1.675266  \n",
       "std         0.643809  \n",
       "min         0.000000  \n",
       "25%         2.000000  \n",
       "50%         2.000000  \n",
       "75%         2.000000  \n",
       "max         2.000000  "
      ]
     },
     "execution_count": 13,
     "metadata": {},
     "output_type": "execute_result"
    }
   ],
   "source": [
    "df_all_hotels_cleaned.describe()"
   ]
  },
  {
   "cell_type": "code",
   "execution_count": 14,
   "metadata": {},
   "outputs": [
    {
     "name": "stdout",
     "output_type": "stream",
     "text": [
      "Total Number of Reviews: 212155\n"
     ]
    },
    {
     "data": {
      "image/png": "[encoded data removed]",
      "text/plain": [
       "<Figure size 864x720 with 1 Axes>"
      ]
     },
     "metadata": {
      "needs_background": "light"
     },
     "output_type": "display_data"
    }
   ],
   "source": [
    "# Plot counts - Reviews per city\n",
    "df = df_all_hotels_cleaned\n",
    "print('Total Number of Reviews:', df.shape[0])\n",
    "\n",
    "fig, ax = plt.subplots(figsize=(12,10))\n",
    "plot = sns.countplot(data=df, x='City', ax=ax, order = df['City'].value_counts().index)\n",
    "ax.set_title('Count of Hotel Reviews per City', size=BIGGEST_SIZE)\n",
    "ax.set_xlabel('City')\n",
    "fig.tight_layout()\n",
    "fig.savefig('../images/countplot_reviews_byCity_full')"
   ]
  },
  {
   "cell_type": "code",
   "execution_count": 15,
   "metadata": {},
   "outputs": [
    {
     "data": {
      "image/png": "[encoded data removed]",
      "text/plain": [
       "<Figure size 864x720 with 1 Axes>"
      ]
     },
     "metadata": {
      "needs_background": "light"
     },
     "output_type": "display_data"
    }
   ],
   "source": [
    "# Plot boxplot - Ratings per city\n",
    "figsize=(12, 10)\n",
    "fig, ax = plt.subplots(figsize=figsize)\n",
    "plot = sns.boxplot(x='City', y='rating', data=df, ax=ax, order = df['City'].value_counts().index)\n",
    "ax.set_title('Distribution of Ratings per City', size=BIGGEST_SIZE)\n",
    "ax.set_ylabel('Hotel Rating')\n",
    "ax.set_xlabel('City')\n",
    "fig.tight_layout()\n",
    "fig.savefig('../images/boxplt_ratings_byCity_full')"
   ]
  },
  {
   "cell_type": "code",
   "execution_count": 16,
   "metadata": {},
   "outputs": [
    {
     "name": "stdout",
     "output_type": "stream",
     "text": [
      "Total Number of Ratings:  212155\n"
     ]
    },
    {
     "data": {
      "image/png": "[encoded data removed]",
      "text/plain": [
       "<Figure size 864x576 with 1 Axes>"
      ]
     },
     "metadata": {
      "needs_background": "light"
     },
     "output_type": "display_data"
    }
   ],
   "source": [
    "# Plot counts - Ratings\n",
    "df = df_all_hotels_cleaned\n",
    "print('Total Number of Ratings: ', df.shape[0])\n",
    "\n",
    "fig, ax = plt.subplots(figsize=(12,8))\n",
    "plot = sns.countplot(data=df, x='rating', ax=ax)\n",
    "ax.set_title('Counts of Hotel Ratings', size=BIGGEST_SIZE)\n",
    "ax.set_xlabel('Hotel Rating')\n",
    "fig.savefig('../images/countplot_ratings_full')"
   ]
  },
  {
   "cell_type": "code",
   "execution_count": 17,
   "metadata": {},
   "outputs": [
    {
     "name": "stdout",
     "output_type": "stream",
     "text": [
      "Total Number of Ratings:  212155\n"
     ]
    },
    {
     "data": {
      "image/png": "[encoded data removed]",
      "text/plain": [
       "<Figure size 576x576 with 1 Axes>"
      ]
     },
     "metadata": {},
     "output_type": "display_data"
    }
   ],
   "source": [
    "# Plot pie - Sentiments\n",
    "df = df_all_hotels_cleaned\n",
    "print('Total Number of Ratings: ', df.shape[0])\n",
    "\n",
    "fig, ax = plt.subplots(figsize=(8,8))\n",
    "hlp.plot_pie(df['sentiment'], fig, ax)\n",
    "ax.set_title('Initial Balance of Review Sentiments', size=BIGGEST_SIZE)\n",
    "ax.set_ylabel('')\n",
    "fig.savefig('../images/pie_sentiments_full')"
   ]
  },
  {
   "cell_type": "markdown",
   "metadata": {},
   "source": [
    "# Train-Test Split"
   ]
  },
  {
   "cell_type": "code",
   "execution_count": 18,
   "metadata": {},
   "outputs": [],
   "source": [
    "# Specify df, target, indices, X & y\n",
    "df = df_all_hotels_cleaned.copy()\n",
    "target = 'sentiment'\n",
    "indices = df.index\n",
    "\n",
    "X = df['review_body']\n",
    "y = df[target].to_numpy()"
   ]
  },
  {
   "cell_type": "code",
   "execution_count": 19,
   "metadata": {},
   "outputs": [
    {
     "data": {
      "text/plain": [
       "((169724,), (42431,))"
      ]
     },
     "execution_count": 19,
     "metadata": {},
     "output_type": "execute_result"
    }
   ],
   "source": [
    "_, X_test, y_train, y_test, indices_train, indices_test = train_test_split(X, y, indices, test_size=0.2, shuffle=True, stratify=y)\n",
    "indices_train.shape, indices_test.shape"
   ]
  },
  {
   "cell_type": "markdown",
   "metadata": {},
   "source": [
    "## Handling class imbalance by under-sampling train data"
   ]
  },
  {
   "cell_type": "code",
   "execution_count": 20,
   "metadata": {},
   "outputs": [
    {
     "data": {
      "text/plain": [
       "(169724, 14)"
      ]
     },
     "execution_count": 20,
     "metadata": {},
     "output_type": "execute_result"
    }
   ],
   "source": [
    "# Get train df with train indices\n",
    "train_df = df.iloc[indices_train,:]\n",
    "train_df.shape"
   ]
  },
  {
   "cell_type": "code",
   "execution_count": 21,
   "metadata": {},
   "outputs": [
    {
     "data": {
      "text/plain": [
       "(array(['negative', 'neutral', 'positive'], dtype=object),\n",
       " array([ 16566,  21984, 131174]))"
      ]
     },
     "execution_count": 21,
     "metadata": {},
     "output_type": "execute_result"
    }
   ],
   "source": [
    "# Get classes and counts\n",
    "unique, counts = np.unique(y_train, return_counts=True)\n",
    "unique, counts"
   ]
  },
  {
   "cell_type": "code",
   "execution_count": 22,
   "metadata": {},
   "outputs": [
    {
     "name": "stdout",
     "output_type": "stream",
     "text": [
      "Majority: positive, Middle: neutral, Minority: negative\n"
     ]
    }
   ],
   "source": [
    "# Determine majority, middle, and minority classes\n",
    "majority_class = unique[np.argmax(counts)]\n",
    "minority_class = unique[np.argmin(counts)]\n",
    "mid_class = np.unique(y_train[(y_train!=majority_class) & (y_train!=minority_class)])[0]\n",
    "print('Majority: {}, Middle: {}, Minority: {}'.format(majority_class, mid_class, minority_class))"
   ]
  },
  {
   "cell_type": "code",
   "execution_count": 23,
   "metadata": {},
   "outputs": [
    {
     "data": {
      "text/plain": [
       "16566"
      ]
     },
     "execution_count": 23,
     "metadata": {},
     "output_type": "execute_result"
    }
   ],
   "source": [
    "# Get minority class indices\n",
    "minority_class_indices = train_df[train_df[target]==minority_class].index\n",
    "minority_class_len = minority_class_indices.shape[0]\n",
    "minority_class_len"
   ]
  },
  {
   "cell_type": "code",
   "execution_count": 24,
   "metadata": {},
   "outputs": [
    {
     "data": {
      "text/plain": [
       "Int64Index([159677,  71377,  70608,  63113,  99457, 120710, 110851,  41488,\n",
       "            160446, 200022,\n",
       "            ...\n",
       "            114810, 201319,  43249, 153274, 176086, 120535, 209144,  88718,\n",
       "             93612,  83737],\n",
       "           dtype='int64', length=131174)"
      ]
     },
     "execution_count": 24,
     "metadata": {},
     "output_type": "execute_result"
    }
   ],
   "source": [
    "# Get majority class indices\n",
    "majority_class_indices = train_df[train_df[target]==majority_class].index\n",
    "majority_class_indices"
   ]
  },
  {
   "cell_type": "code",
   "execution_count": 25,
   "metadata": {},
   "outputs": [
    {
     "data": {
      "text/plain": [
       "Int64Index([ 17530,  93901,  86748, 193314,  34854,  54638,  35135,  44541,\n",
       "             87035, 177015,\n",
       "            ...\n",
       "              8808, 129370,  32154, 140946,  45887, 204549,  93267, 125171,\n",
       "            188817,  83266],\n",
       "           dtype='int64', length=21984)"
      ]
     },
     "execution_count": 25,
     "metadata": {},
     "output_type": "execute_result"
    }
   ],
   "source": [
    "# Get middle class indices\n",
    "middle_class_indices = train_df[train_df[target]==mid_class].index\n",
    "middle_class_indices"
   ]
  },
  {
   "cell_type": "code",
   "execution_count": 26,
   "metadata": {},
   "outputs": [
    {
     "data": {
      "text/plain": [
       "(49698, 14)"
      ]
     },
     "execution_count": 26,
     "metadata": {},
     "output_type": "execute_result"
    }
   ],
   "source": [
    "# Randomly under-sample majority and middle class indices to get new under-sampled train df\n",
    "rand_maj_indices = np.random.choice(majority_class_indices, minority_class_len, replace=False)\n",
    "rand_mid_indices = np.random.choice(middle_class_indices, minority_class_len, replace=False)\n",
    "undersample_indices = np.concatenate([minority_class_indices, rand_mid_indices, rand_maj_indices])\n",
    "\n",
    "train_df_us = df.iloc[undersample_indices,:]\n",
    "train_df_us.shape"
   ]
  },
  {
   "cell_type": "code",
   "execution_count": 27,
   "metadata": {},
   "outputs": [
    {
     "name": "stdout",
     "output_type": "stream",
     "text": [
      "Total Number of Ratings:  49698\n"
     ]
    },
    {
     "data": {
      "image/png": "[encoded data removed]",
      "text/plain": [
       "<Figure size 576x576 with 1 Axes>"
      ]
     },
     "metadata": {},
     "output_type": "display_data"
    }
   ],
   "source": [
    "# Plot pie - Classes after undersampling\n",
    "print('Total Number of Ratings: ', train_df_us.shape[0])\n",
    "\n",
    "fig, ax = plt.subplots(figsize=(8,8))\n",
    "hlp.plot_pie(train_df_us[target], fig, ax)\n",
    "ax.set_title('Balance of Review Sentiments,\\nAfter Under-Sampling Train', size=BIGGEST_SIZE)\n",
    "ax.set_ylabel('')\n",
    "fig.savefig('../images/pie_sentiments_train_undersample')"
   ]
  },
  {
   "cell_type": "code",
   "execution_count": 28,
   "metadata": {},
   "outputs": [],
   "source": [
    "X_train_us = train_df_us['review_body']\n",
    "y_train_us = train_df_us[target].to_numpy()"
   ]
  },
  {
   "cell_type": "markdown",
   "metadata": {},
   "source": [
    "# NLP & Predictive Modeling"
   ]
  },
  {
   "cell_type": "code",
   "execution_count": 75,
   "metadata": {},
   "outputs": [],
   "source": [
    "from nltk.corpus import stopwords\n",
    "from nltk.tokenize import RegexpTokenizer\n",
    "from nltk.stem.porter import PorterStemmer\n",
    "from nltk.stem.snowball import SnowballStemmer\n",
    "from nltk.stem.wordnet import WordNetLemmatizer\n",
    "from sklearn.feature_extraction.text import TfidfVectorizer, CountVectorizer\n",
    "import nltk\n",
    "# nltk.download('stopwords')\n",
    "import nltk\n",
    "# nltk.download('wordnet')\n",
    "\n",
    "from sklearn.naive_bayes import MultinomialNB\n",
    "from sklearn.linear_model import LogisticRegression\n",
    "\n",
    "from sklearn.model_selection import cross_val_score"
   ]
  },
  {
   "cell_type": "code",
   "execution_count": 78,
   "metadata": {},
   "outputs": [],
   "source": [
    "nb_def = MultinomialNB()\n",
    "lr_newton = LogisticRegression(multi_class='multinomial', solver=\"newton-cg\")"
   ]
  },
  {
   "cell_type": "markdown",
   "metadata": {},
   "source": [
    "### Tf-idf, no stemmer, 200 max_features (filter English stopwords)"
   ]
  },
  {
   "cell_type": "code",
   "execution_count": 31,
   "metadata": {},
   "outputs": [
    {
     "name": "stdout",
     "output_type": "stream",
     "text": [
      "Vectorizer: TfidfVectorizer\n",
      "No Stemmer\n",
      "Max features: 200\n"
     ]
    },
    {
     "name": "stderr",
     "output_type": "stream",
     "text": [
      "/opt/conda/lib/python3.7/site-packages/sklearn/feature_extraction/text.py:507: UserWarning: The parameter 'token_pattern' will not be used since 'tokenizer' is not None'\n",
      "  warnings.warn(\"The parameter 'token_pattern' will not be used\"\n"
     ]
    }
   ],
   "source": [
    "tfidf=True\n",
    "stemmer=None\n",
    "max_features=200\n",
    "\n",
    "vect_tfidf_nostem_200, vocab_tfidf_nostem_200 = hlp.build_text_vectorizer(X_train_us,\n",
    "                             use_tfidf=tfidf,\n",
    "                             use_stemmer=stemmer,\n",
    "                             max_features=max_features)"
   ]
  },
  {
   "cell_type": "code",
   "execution_count": 32,
   "metadata": {},
   "outputs": [],
   "source": [
    "Xtr_tfidf_nostem_200 = vect_tfidf_nostem_200(X_train_us)"
   ]
  },
  {
   "cell_type": "code",
   "execution_count": 33,
   "metadata": {},
   "outputs": [
    {
     "data": {
      "text/plain": [
       "array(['across', 'air', 'also', 'although', 'always', 'amazing',\n",
       "       'another', 'area', 'around', 'arrived', 'asked', 'available',\n",
       "       'away', 'back', 'bad', 'balcony', 'bar', 'bathroom', 'beach',\n",
       "       'beautiful', 'bed', 'beds', 'best', 'better', 'big', 'bit',\n",
       "       'booked', 'breakfast', 'business', 'called', 'came', 'car',\n",
       "       'charge', 'check', 'checked', 'city', 'clean', 'close', 'coffee',\n",
       "       'come', 'comfortable', 'could', 'day', 'days', 'definitely',\n",
       "       'desk', 'door', 'early', 'elevator', 'end', 'enough', 'etc',\n",
       "       'even', 'ever', 'every', 'everything', 'excellent', 'expensive',\n",
       "       'experience', 'extra', 'family', 'fee', 'feel', 'find', 'first',\n",
       "       'floor', 'food', 'found', 'free', 'friendly', 'front', 'full',\n",
       "       'get', 'given', 'go', 'going', 'good', 'got', 'great', 'guests',\n",
       "       'hawaii', 'hawaiian', 'head', 'helpful', 'high', 'hilton', 'hotel',\n",
       "       'hotels', 'hour', 'hours', 'however', 'know', 'large', 'last',\n",
       "       'left', 'like', 'little', 'lobby', 'located', 'location', 'long',\n",
       "       'look', 'looking', 'lot', 'lounge', 'made', 'make', 'manager',\n",
       "       'many', 'minutes', 'money', 'morning', 'much', 'need', 'never',\n",
       "       'new', 'next', 'nice', 'night', 'nights', 'noise', 'noisy',\n",
       "       'nothing', 'ocean', 'ok', 'old', 'one', 'open', 'outside',\n",
       "       'overall', 'paid', 'park', 'parking', 'pay', 'people', 'per',\n",
       "       'place', 'pm', 'pool', 'pretty', 'price', 'property', 'quite',\n",
       "       'really', 'reception', 'recommend', 'resort', 'restaurant',\n",
       "       'restaurants', 'right', 'room', 'rooms', 'said', 'say', 'see',\n",
       "       'service', 'shopping', 'shower', 'side', 'since', 'size', 'sleep',\n",
       "       'small', 'staff', 'stay', 'stayed', 'staying', 'still', 'street',\n",
       "       'sure', 'take', 'th', 'thing', 'things', 'think', 'though', 'time',\n",
       "       'times', 'told', 'took', 'towels', 'tower', 'trip', 'two', 'us',\n",
       "       'use', 'used', 'view', 'waikiki', 'wait', 'walk', 'walking',\n",
       "       'want', 'wanted', 'water', 'way', 'well', 'went', 'work', 'would'],\n",
       "      dtype='<U11')"
      ]
     },
     "execution_count": 33,
     "metadata": {},
     "output_type": "execute_result"
    }
   ],
   "source": [
    "vocab_tfidf_nostem_200"
   ]
  },
  {
   "cell_type": "code",
   "execution_count": 34,
   "metadata": {},
   "outputs": [
    {
     "name": "stdout",
     "output_type": "stream",
     "text": [
      "MultinomialNB accuracy, 10-fold CV on Train Data: 0.642\n"
     ]
    }
   ],
   "source": [
    "hlp.fit_pred_score_Nfold(nb_def, Xtr_tfidf_nostem_200, y_train_us, N=10)"
   ]
  },
  {
   "cell_type": "markdown",
   "metadata": {},
   "source": [
    "### Tf-idf, porter stemmer, 200 max_features (filter English stopwords)"
   ]
  },
  {
   "cell_type": "code",
   "execution_count": 35,
   "metadata": {},
   "outputs": [
    {
     "name": "stdout",
     "output_type": "stream",
     "text": [
      "Vectorizer: TfidfVectorizer\n",
      "Using PorterStemmer\n",
      "Max features: 200\n"
     ]
    },
    {
     "name": "stderr",
     "output_type": "stream",
     "text": [
      "/opt/conda/lib/python3.7/site-packages/sklearn/feature_extraction/text.py:507: UserWarning: The parameter 'token_pattern' will not be used since 'tokenizer' is not None'\n",
      "  warnings.warn(\"The parameter 'token_pattern' will not be used\"\n"
     ]
    }
   ],
   "source": [
    "tfidf=True\n",
    "stemmer='porter'\n",
    "max_features=200\n",
    "\n",
    "vect_tfidf_port_200, vocab_tfidf_port_200 = hlp.build_text_vectorizer(X_train_us,\n",
    "                             use_tfidf=tfidf,\n",
    "                             use_stemmer=stemmer,\n",
    "                             max_features=max_features)"
   ]
  },
  {
   "cell_type": "code",
   "execution_count": 36,
   "metadata": {},
   "outputs": [],
   "source": [
    "Xtr_tfidf_port_200 = vect_tfidf_port_200(X_train_us)"
   ]
  },
  {
   "cell_type": "code",
   "execution_count": 37,
   "metadata": {},
   "outputs": [
    {
     "data": {
      "text/plain": [
       "array(['across', 'also', 'alway', 'anoth', 'area', 'around', 'arriv',\n",
       "       'ask', 'avail', 'away', 'back', 'bad', 'balconi', 'bar',\n",
       "       'bathroom', 'beach', 'beauti', 'bed', 'best', 'better', 'big',\n",
       "       'bit', 'block', 'book', 'breakfast', 'build', 'busi', 'call',\n",
       "       'car', 'chair', 'charg', 'check', 'citi', 'clean', 'close',\n",
       "       'coffe', 'come', 'comfort', 'could', 'day', 'definit', 'desk',\n",
       "       'disappoint', 'door', 'drink', 'earli', 'elev', 'end', 'enjoy',\n",
       "       'enough', 'etc', 'even', 'everi', 'everyth', 'excel', 'expect',\n",
       "       'expens', 'experi', 'extra', 'famili', 'fee', 'feel', 'find',\n",
       "       'first', 'floor', 'food', 'found', 'free', 'friendli', 'front',\n",
       "       'get', 'give', 'go', 'good', 'got', 'great', 'guest', 'hawaii',\n",
       "       'head', 'help', 'high', 'hilton', 'hotel', 'hour', 'howev',\n",
       "       'includ', 'issu', 'know', 'larg', 'last', 'left', 'like', 'line',\n",
       "       'littl', 'lobbi', 'locat', 'long', 'look', 'lot', 'loung', 'love',\n",
       "       'made', 'make', 'manag', 'mani', 'minut', 'money', 'morn', 'move',\n",
       "       'much', 'need', 'never', 'new', 'next', 'nice', 'night', 'nois',\n",
       "       'noth', 'ocean', 'offer', 'old', 'one', 'open', 'overal', 'paid',\n",
       "       'park', 'pay', 'peopl', 'per', 'person', 'place', 'pm', 'pool',\n",
       "       'pretti', 'price', 'problem', 'properti', 'provid', 'quit', 'rate',\n",
       "       'realli', 'recommend', 'reserv', 'resort', 'restaur', 'return',\n",
       "       'review', 'right', 'room', 'said', 'say', 'see', 'seem', 'servic',\n",
       "       'shop', 'shower', 'side', 'sinc', 'size', 'sleep', 'small',\n",
       "       'staff', 'star', 'stay', 'still', 'street', 'suit', 'sure', 'take',\n",
       "       'th', 'thing', 'think', 'though', 'time', 'told', 'took', 'towel',\n",
       "       'tower', 'travel', 'tri', 'trip', 'two', 'upgrad', 'us', 'use',\n",
       "       'view', 'visit', 'waikiki', 'wait', 'walk', 'wall', 'want',\n",
       "       'water', 'way', 'week', 'well', 'went', 'work', 'would', 'year'],\n",
       "      dtype='<U10')"
      ]
     },
     "execution_count": 37,
     "metadata": {},
     "output_type": "execute_result"
    }
   ],
   "source": [
    "vocab_tfidf_port_200"
   ]
  },
  {
   "cell_type": "code",
   "execution_count": 38,
   "metadata": {},
   "outputs": [
    {
     "name": "stdout",
     "output_type": "stream",
     "text": [
      "MultinomialNB accuracy, 10-fold CV on Train Data: 0.648\n"
     ]
    }
   ],
   "source": [
    "hlp.fit_pred_score_Nfold(nb_def, Xtr_tfidf_port_200, y_train_us, N=10)"
   ]
  },
  {
   "cell_type": "markdown",
   "metadata": {},
   "source": [
    "### Tf-idf, snowball stemmer, 200 max_features (filter English stopwords)"
   ]
  },
  {
   "cell_type": "code",
   "execution_count": 39,
   "metadata": {},
   "outputs": [
    {
     "name": "stdout",
     "output_type": "stream",
     "text": [
      "Vectorizer: TfidfVectorizer\n",
      "Using SnowballStemmer\n",
      "Max features: 200\n"
     ]
    },
    {
     "name": "stderr",
     "output_type": "stream",
     "text": [
      "/opt/conda/lib/python3.7/site-packages/sklearn/feature_extraction/text.py:507: UserWarning: The parameter 'token_pattern' will not be used since 'tokenizer' is not None'\n",
      "  warnings.warn(\"The parameter 'token_pattern' will not be used\"\n"
     ]
    }
   ],
   "source": [
    "tfidf=True\n",
    "stemmer='snowball'\n",
    "max_features=200\n",
    "\n",
    "vect_tfidf_snow_200, vocab_tfidf_snow_200 = hlp.build_text_vectorizer(X_train_us,\n",
    "                             use_tfidf=tfidf,\n",
    "                             use_stemmer=stemmer,\n",
    "                             max_features=max_features)"
   ]
  },
  {
   "cell_type": "code",
   "execution_count": 40,
   "metadata": {},
   "outputs": [],
   "source": [
    "Xtr_tfidf_snow_200 = vect_tfidf_snow_200(X_train_us)"
   ]
  },
  {
   "cell_type": "code",
   "execution_count": 41,
   "metadata": {},
   "outputs": [
    {
     "data": {
      "text/plain": [
       "array(['across', 'also', 'alway', 'anoth', 'area', 'around', 'arriv',\n",
       "       'ask', 'avail', 'away', 'back', 'bad', 'balconi', 'bar',\n",
       "       'bathroom', 'beach', 'beauti', 'bed', 'best', 'better', 'big',\n",
       "       'bit', 'block', 'book', 'breakfast', 'build', 'busi', 'call',\n",
       "       'car', 'chair', 'charg', 'check', 'citi', 'clean', 'close',\n",
       "       'coffe', 'come', 'comfort', 'could', 'day', 'definit', 'desk',\n",
       "       'disappoint', 'door', 'drink', 'earli', 'elev', 'end', 'enjoy',\n",
       "       'enough', 'etc', 'even', 'everi', 'everyth', 'excel', 'expect',\n",
       "       'expens', 'experi', 'extra', 'famili', 'fee', 'feel', 'find',\n",
       "       'first', 'floor', 'food', 'found', 'free', 'friend', 'front',\n",
       "       'get', 'give', 'go', 'good', 'got', 'great', 'guest', 'hawaii',\n",
       "       'head', 'help', 'high', 'hilton', 'hotel', 'hour', 'howev',\n",
       "       'includ', 'issu', 'know', 'larg', 'last', 'left', 'like', 'line',\n",
       "       'littl', 'lobbi', 'locat', 'long', 'look', 'lot', 'loung', 'love',\n",
       "       'made', 'make', 'manag', 'mani', 'minut', 'money', 'morn', 'move',\n",
       "       'much', 'need', 'never', 'new', 'next', 'nice', 'night', 'nois',\n",
       "       'noth', 'ocean', 'offer', 'old', 'one', 'open', 'overal', 'paid',\n",
       "       'park', 'pay', 'peopl', 'per', 'person', 'place', 'pm', 'pool',\n",
       "       'pretti', 'price', 'problem', 'properti', 'provid', 'quit', 'rate',\n",
       "       'realli', 'recommend', 'reserv', 'resort', 'restaur', 'return',\n",
       "       'review', 'right', 'room', 'said', 'say', 'see', 'seem', 'servic',\n",
       "       'shop', 'shower', 'side', 'sinc', 'size', 'sleep', 'small',\n",
       "       'staff', 'star', 'stay', 'still', 'street', 'suit', 'sure', 'take',\n",
       "       'th', 'thing', 'think', 'though', 'time', 'told', 'took', 'towel',\n",
       "       'tower', 'travel', 'tri', 'trip', 'two', 'upgrad', 'us', 'use',\n",
       "       'view', 'visit', 'waikiki', 'wait', 'walk', 'wall', 'want',\n",
       "       'water', 'way', 'week', 'well', 'went', 'work', 'would', 'year'],\n",
       "      dtype='<U10')"
      ]
     },
     "execution_count": 41,
     "metadata": {},
     "output_type": "execute_result"
    }
   ],
   "source": [
    "vocab_tfidf_snow_200"
   ]
  },
  {
   "cell_type": "code",
   "execution_count": 42,
   "metadata": {},
   "outputs": [
    {
     "name": "stdout",
     "output_type": "stream",
     "text": [
      "MultinomialNB accuracy, 10-fold CV on Train Data: 0.648\n"
     ]
    }
   ],
   "source": [
    "hlp.fit_pred_score_Nfold(nb_def, Xtr_tfidf_snow_200, y_train_us, N=10)"
   ]
  },
  {
   "cell_type": "markdown",
   "metadata": {},
   "source": [
    "### Tf-idf, wordnet lemmatizer, 200 max_features (filter English stopwords)"
   ]
  },
  {
   "cell_type": "code",
   "execution_count": 43,
   "metadata": {},
   "outputs": [
    {
     "name": "stdout",
     "output_type": "stream",
     "text": [
      "Vectorizer: TfidfVectorizer\n",
      "Using WordNetLemmatizer\n",
      "Max features: 200\n"
     ]
    },
    {
     "name": "stderr",
     "output_type": "stream",
     "text": [
      "/opt/conda/lib/python3.7/site-packages/sklearn/feature_extraction/text.py:507: UserWarning: The parameter 'token_pattern' will not be used since 'tokenizer' is not None'\n",
      "  warnings.warn(\"The parameter 'token_pattern' will not be used\"\n"
     ]
    }
   ],
   "source": [
    "tfidf=True\n",
    "stemmer='lem'\n",
    "max_features=200\n",
    "\n",
    "vect_tfidf_lem_200, vocab_tfidf_lem_200 = hlp.build_text_vectorizer(X_train_us,\n",
    "                             use_tfidf=tfidf,\n",
    "                             use_stemmer=stemmer,\n",
    "                             max_features=max_features)"
   ]
  },
  {
   "cell_type": "code",
   "execution_count": 44,
   "metadata": {},
   "outputs": [],
   "source": [
    "Xtr_tfidf_lem_200 = vect_tfidf_lem_200(X_train_us)"
   ]
  },
  {
   "cell_type": "code",
   "execution_count": 45,
   "metadata": {},
   "outputs": [
    {
     "data": {
      "text/plain": [
       "array(['across', 'air', 'also', 'always', 'another', 'area', 'around',\n",
       "       'arrived', 'asked', 'available', 'away', 'back', 'bad', 'balcony',\n",
       "       'bar', 'bathroom', 'beach', 'beautiful', 'bed', 'best', 'better',\n",
       "       'big', 'bit', 'block', 'booked', 'breakfast', 'building',\n",
       "       'business', 'call', 'called', 'came', 'car', 'chair', 'charge',\n",
       "       'check', 'checked', 'city', 'clean', 'close', 'coffee', 'come',\n",
       "       'comfortable', 'could', 'day', 'definitely', 'desk', 'door',\n",
       "       'drink', 'early', 'elevator', 'end', 'enough', 'etc', 'even',\n",
       "       'ever', 'every', 'everything', 'excellent', 'expensive',\n",
       "       'experience', 'extra', 'family', 'fee', 'feel', 'find', 'first',\n",
       "       'floor', 'food', 'found', 'free', 'friendly', 'front', 'full',\n",
       "       'get', 'given', 'go', 'going', 'good', 'got', 'great', 'guest',\n",
       "       'hawaii', 'helpful', 'high', 'hilton', 'hotel', 'hour', 'however',\n",
       "       'issue', 'know', 'large', 'last', 'left', 'like', 'line', 'little',\n",
       "       'lobby', 'located', 'location', 'long', 'look', 'looking', 'lot',\n",
       "       'lounge', 'made', 'make', 'manager', 'many', 'member', 'minute',\n",
       "       'money', 'morning', 'much', 'need', 'never', 'new', 'next', 'nice',\n",
       "       'night', 'noise', 'nothing', 'ocean', 'ok', 'old', 'one', 'open',\n",
       "       'outside', 'overall', 'paid', 'park', 'parking', 'pay', 'people',\n",
       "       'per', 'place', 'pm', 'pool', 'pretty', 'price', 'problem',\n",
       "       'property', 'quite', 'really', 'reception', 'recommend', 'resort',\n",
       "       'restaurant', 'review', 'right', 'room', 'said', 'say', 'see',\n",
       "       'service', 'shop', 'shopping', 'shower', 'side', 'since', 'size',\n",
       "       'sleep', 'small', 'staff', 'star', 'stay', 'stayed', 'staying',\n",
       "       'still', 'street', 'suite', 'sure', 'take', 'th', 'thing', 'think',\n",
       "       'though', 'time', 'told', 'took', 'towel', 'tower', 'trip', 'two',\n",
       "       'u', 'use', 'view', 'waikiki', 'wait', 'walk', 'walking', 'wall',\n",
       "       'want', 'water', 'way', 'week', 'well', 'went', 'work', 'would',\n",
       "       'year'], dtype='<U11')"
      ]
     },
     "execution_count": 45,
     "metadata": {},
     "output_type": "execute_result"
    }
   ],
   "source": [
    "vocab_tfidf_lem_200"
   ]
  },
  {
   "cell_type": "code",
   "execution_count": 46,
   "metadata": {},
   "outputs": [
    {
     "name": "stdout",
     "output_type": "stream",
     "text": [
      "MultinomialNB accuracy, 10-fold CV on Train Data: 0.642\n"
     ]
    }
   ],
   "source": [
    "hlp.fit_pred_score_Nfold(nb_def, Xtr_tfidf_lem_200, y_train_us, N=10)"
   ]
  },
  {
   "cell_type": "markdown",
   "metadata": {},
   "source": [
    "## Increased max_features (max_features=None)"
   ]
  },
  {
   "cell_type": "markdown",
   "metadata": {},
   "source": [
    "### Tf-idf, no stemmer, None max_features (filter English stopwords)"
   ]
  },
  {
   "cell_type": "code",
   "execution_count": 47,
   "metadata": {},
   "outputs": [
    {
     "name": "stdout",
     "output_type": "stream",
     "text": [
      "Vectorizer: TfidfVectorizer\n",
      "No Stemmer\n",
      "Max features: None\n"
     ]
    },
    {
     "name": "stderr",
     "output_type": "stream",
     "text": [
      "/opt/conda/lib/python3.7/site-packages/sklearn/feature_extraction/text.py:507: UserWarning: The parameter 'token_pattern' will not be used since 'tokenizer' is not None'\n",
      "  warnings.warn(\"The parameter 'token_pattern' will not be used\"\n"
     ]
    }
   ],
   "source": [
    "tfidf=True\n",
    "stemmer=None\n",
    "max_features=None\n",
    "\n",
    "vect_tfidf_nostem_none, vocab_tfidf_nostem_none = hlp.build_text_vectorizer(X_train_us,\n",
    "                             use_tfidf=tfidf,\n",
    "                             use_stemmer=stemmer,\n",
    "                             max_features=max_features)"
   ]
  },
  {
   "cell_type": "code",
   "execution_count": 48,
   "metadata": {},
   "outputs": [
    {
     "data": {
      "text/plain": [
       "50095"
      ]
     },
     "execution_count": 48,
     "metadata": {},
     "output_type": "execute_result"
    }
   ],
   "source": [
    "vocab_tfidf_nostem_none.shape[0]"
   ]
  },
  {
   "cell_type": "code",
   "execution_count": 49,
   "metadata": {},
   "outputs": [],
   "source": [
    "Xtr_tfidf_nostem_none = vect_tfidf_nostem_none(X_train_us)"
   ]
  },
  {
   "cell_type": "code",
   "execution_count": 50,
   "metadata": {},
   "outputs": [
    {
     "data": {
      "text/plain": [
       "array(['aa', 'aaa', 'aaaaaaa', ..., 'zyi', 'zyrtec', 'zzz'], dtype='<U155')"
      ]
     },
     "execution_count": 50,
     "metadata": {},
     "output_type": "execute_result"
    }
   ],
   "source": [
    "vocab_tfidf_nostem_none"
   ]
  },
  {
   "cell_type": "code",
   "execution_count": 51,
   "metadata": {},
   "outputs": [
    {
     "name": "stdout",
     "output_type": "stream",
     "text": [
      "MultinomialNB accuracy, 10-fold CV on Train Data: 0.724\n"
     ]
    }
   ],
   "source": [
    "hlp.fit_pred_score_Nfold(nb_def, Xtr_tfidf_nostem_none, y_train_us, N=10)"
   ]
  },
  {
   "cell_type": "markdown",
   "metadata": {},
   "source": [
    "### Tf-idf, porter stemmer, None max_features (filter English stopwords)"
   ]
  },
  {
   "cell_type": "code",
   "execution_count": 52,
   "metadata": {},
   "outputs": [
    {
     "name": "stdout",
     "output_type": "stream",
     "text": [
      "Vectorizer: TfidfVectorizer\n",
      "Using PorterStemmer\n",
      "Max features: None\n"
     ]
    },
    {
     "name": "stderr",
     "output_type": "stream",
     "text": [
      "/opt/conda/lib/python3.7/site-packages/sklearn/feature_extraction/text.py:507: UserWarning: The parameter 'token_pattern' will not be used since 'tokenizer' is not None'\n",
      "  warnings.warn(\"The parameter 'token_pattern' will not be used\"\n"
     ]
    }
   ],
   "source": [
    "tfidf=True\n",
    "stemmer='porter'\n",
    "max_features=None\n",
    "\n",
    "vect_tfidf_port_none, vocab_tfidf_port_none = hlp.build_text_vectorizer(X_train_us,\n",
    "                             use_tfidf=tfidf,\n",
    "                             use_stemmer=stemmer,\n",
    "                             max_features=max_features)"
   ]
  },
  {
   "cell_type": "code",
   "execution_count": 53,
   "metadata": {},
   "outputs": [],
   "source": [
    "Xtr_tfidf_port_none = vect_tfidf_port_none(X_train_us)"
   ]
  },
  {
   "cell_type": "code",
   "execution_count": 54,
   "metadata": {},
   "outputs": [
    {
     "data": {
      "text/plain": [
       "array(['aa', 'aaa', 'aaaaaaa', ..., 'zyi', 'zyrtec', 'zzz'], dtype='<U155')"
      ]
     },
     "execution_count": 54,
     "metadata": {},
     "output_type": "execute_result"
    }
   ],
   "source": [
    "vocab_tfidf_port_none"
   ]
  },
  {
   "cell_type": "code",
   "execution_count": 55,
   "metadata": {},
   "outputs": [
    {
     "name": "stdout",
     "output_type": "stream",
     "text": [
      "MultinomialNB accuracy, 10-fold CV on Train Data: 0.722\n"
     ]
    }
   ],
   "source": [
    "hlp.fit_pred_score_Nfold(nb_def, Xtr_tfidf_port_none, y_train_us, N=10)"
   ]
  },
  {
   "cell_type": "markdown",
   "metadata": {},
   "source": [
    "### Tf-idf, snowball stemmer, None max_features (filter English stopwords)"
   ]
  },
  {
   "cell_type": "code",
   "execution_count": 56,
   "metadata": {},
   "outputs": [
    {
     "name": "stdout",
     "output_type": "stream",
     "text": [
      "Vectorizer: TfidfVectorizer\n",
      "Using SnowballStemmer\n",
      "Max features: None\n"
     ]
    },
    {
     "name": "stderr",
     "output_type": "stream",
     "text": [
      "/opt/conda/lib/python3.7/site-packages/sklearn/feature_extraction/text.py:507: UserWarning: The parameter 'token_pattern' will not be used since 'tokenizer' is not None'\n",
      "  warnings.warn(\"The parameter 'token_pattern' will not be used\"\n"
     ]
    }
   ],
   "source": [
    "tfidf=True\n",
    "stemmer='snowball'\n",
    "max_features=None\n",
    "\n",
    "vect_tfidf_snow_none, vocab_tfidf_snow_none = hlp.build_text_vectorizer(X_train_us,\n",
    "                             use_tfidf=tfidf,\n",
    "                             use_stemmer=stemmer,\n",
    "                             max_features=max_features)"
   ]
  },
  {
   "cell_type": "code",
   "execution_count": 57,
   "metadata": {},
   "outputs": [],
   "source": [
    "Xtr_tfidf_snow_none = vect_tfidf_snow_none(X_train_us)"
   ]
  },
  {
   "cell_type": "code",
   "execution_count": 58,
   "metadata": {},
   "outputs": [
    {
     "data": {
      "text/plain": [
       "array(['aa', 'aaa', 'aaaaaaa', ..., 'zyi', 'zyrtec', 'zzz'], dtype='<U155')"
      ]
     },
     "execution_count": 58,
     "metadata": {},
     "output_type": "execute_result"
    }
   ],
   "source": [
    "vocab_tfidf_snow_none"
   ]
  },
  {
   "cell_type": "code",
   "execution_count": 59,
   "metadata": {},
   "outputs": [
    {
     "name": "stdout",
     "output_type": "stream",
     "text": [
      "MultinomialNB accuracy, 10-fold CV on Train Data: 0.722\n"
     ]
    }
   ],
   "source": [
    "hlp.fit_pred_score_Nfold(nb_def, Xtr_tfidf_snow_none, y_train_us, N=10)"
   ]
  },
  {
   "cell_type": "markdown",
   "metadata": {},
   "source": [
    "### Tf-idf, wordnet lemmatizer, None max_features (filter English stopwords)"
   ]
  },
  {
   "cell_type": "code",
   "execution_count": 65,
   "metadata": {},
   "outputs": [
    {
     "name": "stdout",
     "output_type": "stream",
     "text": [
      "Vectorizer: TfidfVectorizer\n",
      "Using WordNetLemmatizer\n",
      "Max features: None\n"
     ]
    },
    {
     "name": "stderr",
     "output_type": "stream",
     "text": [
      "/opt/conda/lib/python3.7/site-packages/sklearn/feature_extraction/text.py:507: UserWarning: The parameter 'token_pattern' will not be used since 'tokenizer' is not None'\n",
      "  warnings.warn(\"The parameter 'token_pattern' will not be used\"\n"
     ]
    }
   ],
   "source": [
    "tfidf=True\n",
    "stemmer='lem'\n",
    "max_features=None\n",
    "\n",
    "vect_tfidf_lem_none, vocab_tfidf_lem_none = hlp.build_text_vectorizer(X_train_us,\n",
    "                             use_tfidf=tfidf,\n",
    "                             use_stemmer=stemmer,\n",
    "                             max_features=max_features)"
   ]
  },
  {
   "cell_type": "code",
   "execution_count": 66,
   "metadata": {},
   "outputs": [],
   "source": [
    "Xtr_tfidf_lem_none = vect_tfidf_lem_none(X_train_us)"
   ]
  },
  {
   "cell_type": "code",
   "execution_count": 67,
   "metadata": {},
   "outputs": [
    {
     "data": {
      "text/plain": [
       "array(['aa', 'aaa', 'aaaaaaa', ..., 'zyi', 'zyrtec', 'zzz'], dtype='<U155')"
      ]
     },
     "execution_count": 67,
     "metadata": {},
     "output_type": "execute_result"
    }
   ],
   "source": [
    "vocab_tfidf_lem_none"
   ]
  },
  {
   "cell_type": "code",
   "execution_count": 68,
   "metadata": {},
   "outputs": [
    {
     "name": "stdout",
     "output_type": "stream",
     "text": [
      "MultinomialNB accuracy, 10-fold CV on Train Data: 0.725\n"
     ]
    }
   ],
   "source": [
    "hlp.fit_pred_score_Nfold(nb_def, Xtr_tfidf_lem_none, y_train_us, N=10)"
   ]
  },
  {
   "cell_type": "markdown",
   "metadata": {},
   "source": [
    "### CountVectorizer, wordnet lemmatizer, None max_features (filter English stopwords)"
   ]
  },
  {
   "cell_type": "code",
   "execution_count": 69,
   "metadata": {},
   "outputs": [
    {
     "name": "stdout",
     "output_type": "stream",
     "text": [
      "Vectorizer: CountVectorizer\n",
      "Using WordNetLemmatizer\n",
      "Max features: None\n"
     ]
    },
    {
     "name": "stderr",
     "output_type": "stream",
     "text": [
      "/opt/conda/lib/python3.7/site-packages/sklearn/feature_extraction/text.py:507: UserWarning: The parameter 'token_pattern' will not be used since 'tokenizer' is not None'\n",
      "  warnings.warn(\"The parameter 'token_pattern' will not be used\"\n"
     ]
    }
   ],
   "source": [
    "tfidf=False\n",
    "stemmer='lem'\n",
    "max_features=None\n",
    "\n",
    "vect_count_lem_none, vocab_count_lem_none = hlp.build_text_vectorizer(X_train_us,\n",
    "                             use_tfidf=tfidf,\n",
    "                             use_stemmer=stemmer,\n",
    "                             max_features=max_features)"
   ]
  },
  {
   "cell_type": "code",
   "execution_count": 70,
   "metadata": {},
   "outputs": [],
   "source": [
    "Xtr_count_lem_none = vect_count_lem_none(X_train_us)"
   ]
  },
  {
   "cell_type": "code",
   "execution_count": 71,
   "metadata": {},
   "outputs": [
    {
     "data": {
      "text/plain": [
       "array(['aa', 'aaa', 'aaaaaaa', ..., 'zyi', 'zyrtec', 'zzz'], dtype='<U155')"
      ]
     },
     "execution_count": 71,
     "metadata": {},
     "output_type": "execute_result"
    }
   ],
   "source": [
    "vocab_count_lem_none"
   ]
  },
  {
   "cell_type": "code",
   "execution_count": 72,
   "metadata": {},
   "outputs": [
    {
     "name": "stdout",
     "output_type": "stream",
     "text": [
      "MultinomialNB accuracy, 10-fold CV on Train Data: 0.722\n"
     ]
    }
   ],
   "source": [
    "hlp.fit_pred_score_Nfold(nb_def, Xtr_count_lem_none, y_train_us, N=10)"
   ]
  },
  {
   "cell_type": "markdown",
   "metadata": {},
   "source": [
    "# Appendix"
   ]
  },
  {
   "cell_type": "code",
   "execution_count": 64,
   "metadata": {},
   "outputs": [
    {
     "ename": "AssertionError",
     "evalue": "",
     "output_type": "error",
     "traceback": [
      "\u001b[0;31m---------------------------------------------------------------------------\u001b[0m",
      "\u001b[0;31mAssertionError\u001b[0m                            Traceback (most recent call last)",
      "\u001b[0;32m<ipython-input-64-2f502d8ff0c4>\u001b[0m in \u001b[0;36m<module>\u001b[0;34m\u001b[0m\n\u001b[1;32m      1\u001b[0m \u001b[0;31m# don't go beyond here with Run All\u001b[0m\u001b[0;34m\u001b[0m\u001b[0;34m\u001b[0m\u001b[0;34m\u001b[0m\u001b[0m\n\u001b[0;32m----> 2\u001b[0;31m \u001b[0;32massert\u001b[0m \u001b[0;32mFalse\u001b[0m\u001b[0;34m\u001b[0m\u001b[0;34m\u001b[0m\u001b[0m\n\u001b[0m",
      "\u001b[0;31mAssertionError\u001b[0m: "
     ]
    }
   ],
   "source": [
    "# don't go beyond here with Run All\n",
    "assert False"
   ]
  },
  {
   "cell_type": "code",
   "execution_count": null,
   "metadata": {},
   "outputs": [],
   "source": [
    "# Plot distributions - Review length per sentiment\n",
    "df = df_all_hotels_cleaned\n",
    "\n",
    "fig, ax = plt.subplots(figsize=(8,8))\n",
    "# Plot per sentiment\n",
    "for sentiment in df['sentiment'].unique():\n",
    "    sns.distplot(df.groupby('sentiment').get_group(sentiment)['review_length'], ax=ax, label=sentiment)\n",
    "ax.legend()"
   ]
  },
  {
   "cell_type": "code",
   "execution_count": null,
   "metadata": {},
   "outputs": [],
   "source": [
    "# Plot distributions - Review length per city\n",
    "df = df_all_hotels_cleaned\n",
    "\n",
    "fig, ax = plt.subplots(figsize=(8,8))\n",
    "# Plot per city\n",
    "for city in df['City'].unique():\n",
    "    sns.distplot(df.groupby('City').get_group(city)['review_length'], ax=ax, label=city)\n",
    "ax.legend()"
   ]
  }
 ],
 "metadata": {
  "instance_type": "ml.m5.4xlarge",
  "kernelspec": {
   "display_name": "Python 3 (Data Science)",
   "language": "python",
   "name": "python3__SAGEMAKER_INTERNAL__arn:aws:sagemaker:us-east-1:081325390199:image/datascience-1.0"
  },
  "language_info": {
   "codemirror_mode": {
    "name": "ipython",
    "version": 3
   },
   "file_extension": ".py",
   "mimetype": "text/x-python",
   "name": "python",
   "nbconvert_exporter": "python",
   "pygments_lexer": "ipython3",
   "version": "3.7.6"
  }
 },
 "nbformat": 4,
 "nbformat_minor": 4
}
