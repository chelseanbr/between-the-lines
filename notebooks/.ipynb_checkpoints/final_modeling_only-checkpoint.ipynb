{
 "cells": [
  {
   "cell_type": "code",
   "execution_count": 1,
   "metadata": {},
   "outputs": [],
   "source": [
    "%load_ext autoreload\n",
    "%autoreload 2\n",
    "import sys\n",
    "import os\n",
    "module_path = os.path.abspath(os.path.join('..'))\n",
    "if module_path not in sys.path:\n",
    "    sys.path.append(module_path+\"/src\")\n",
    "import helpers as hlp"
   ]
  },
  {
   "cell_type": "code",
   "execution_count": 2,
   "metadata": {},
   "outputs": [],
   "source": [
    "import numpy as np\n",
    "import pandas as pd\n",
    "import matplotlib.pyplot as plt\n",
    "import seaborn as sns\n",
    "from sklearn.model_selection import train_test_split"
   ]
  },
  {
   "cell_type": "code",
   "execution_count": 3,
   "metadata": {},
   "outputs": [],
   "source": [
    "# Set plot sizes\n",
    "SMALL_SIZE = 22\n",
    "MEDIUM_SIZE = 24\n",
    "BIGGER_SIZE = 26\n",
    "BIGGEST_SIZE = 28\n",
    "\n",
    "plt.rc('font', size=SMALL_SIZE)          # controls default text sizes\n",
    "plt.rc('axes', titlesize=SMALL_SIZE)     # fontsize of the axes title\n",
    "plt.rc('axes', labelsize=MEDIUM_SIZE)    # fontsize of the x and y labels\n",
    "plt.rc('xtick', labelsize=SMALL_SIZE)    # fontsize of the tick labels\n",
    "plt.rc('ytick', labelsize=SMALL_SIZE)    # fontsize of the tick labels\n",
    "plt.rc('legend', fontsize=SMALL_SIZE)    # legend fontsize\n",
    "plt.rc('figure', titlesize=BIGGEST_SIZE)  # fontsize of the figure title"
   ]
  },
  {
   "cell_type": "markdown",
   "metadata": {},
   "source": [
    "# Load & Merge CSV Data"
   ]
  },
  {
   "cell_type": "code",
   "execution_count": 4,
   "metadata": {},
   "outputs": [
    {
     "name": "stdout",
     "output_type": "stream",
     "text": [
      "Folders: ['New_York_City-New_York.pg6', 'Honolulu-Hawaii.pg1', 'Tokyo-Kanto.pg5', 'New_York_City-New_York-pg1', 'Honolulu-Hawaii.pg3', 'Tokyo-Kanto-pg1', 'Honolulu-Hawaii.pg2', 'Honolulu-Hawaii.pg4']\n"
     ]
    }
   ],
   "source": [
    "aws_data_dir = '../data/web_scraped/aws_final/'\n",
    "\n",
    "# Use helper function to load and merge CSVs from folders in above dir\n",
    "df_all_hotels = hlp.merge_csv_mult_dir(aws_data_dir)"
   ]
  },
  {
   "cell_type": "code",
   "execution_count": 5,
   "metadata": {},
   "outputs": [
    {
     "data": {
      "text/plain": [
       "(314673, 10)"
      ]
     },
     "execution_count": 5,
     "metadata": {},
     "output_type": "execute_result"
    }
   ],
   "source": [
    "df_all_hotels.shape"
   ]
  },
  {
   "cell_type": "code",
   "execution_count": 6,
   "metadata": {},
   "outputs": [
    {
     "data": {
      "text/html": [
       "<div>\n",
       "<style scoped>\n",
       "    .dataframe tbody tr th:only-of-type {\n",
       "        vertical-align: middle;\n",
       "    }\n",
       "\n",
       "    .dataframe tbody tr th {\n",
       "        vertical-align: top;\n",
       "    }\n",
       "\n",
       "    .dataframe thead th {\n",
       "        text-align: right;\n",
       "    }\n",
       "</style>\n",
       "<table border=\"1\" class=\"dataframe\">\n",
       "  <thead>\n",
       "    <tr style=\"text-align: right;\">\n",
       "      <th></th>\n",
       "      <th>review_id</th>\n",
       "      <th>url</th>\n",
       "      <th>hotel_name</th>\n",
       "      <th>review_date</th>\n",
       "      <th>review_body</th>\n",
       "      <th>user_location</th>\n",
       "      <th>helpful_vote</th>\n",
       "      <th>rating</th>\n",
       "      <th>csv</th>\n",
       "      <th>folder</th>\n",
       "    </tr>\n",
       "  </thead>\n",
       "  <tbody>\n",
       "    <tr>\n",
       "      <th>0</th>\n",
       "      <td>751035792</td>\n",
       "      <td>https://www.tripadvisor.com/Hotel_Review-g6076...</td>\n",
       "      <td>Moxy NYC Downtown</td>\n",
       "      <td>March 15, 2020</td>\n",
       "      <td>From the moment we walked in the door we were ...</td>\n",
       "      <td>NaN</td>\n",
       "      <td>0</td>\n",
       "      <td>5.0</td>\n",
       "      <td>Moxy_NYC_Downtown-New_York_City_New_York__en.csv</td>\n",
       "      <td>New_York_City-New_York.pg6</td>\n",
       "    </tr>\n",
       "    <tr>\n",
       "      <th>1</th>\n",
       "      <td>750880298</td>\n",
       "      <td>https://www.tripadvisor.com/Hotel_Review-g6076...</td>\n",
       "      <td>Moxy NYC Downtown</td>\n",
       "      <td>March 14, 2020</td>\n",
       "      <td>I loved drinking at the bar with Brian C. The ...</td>\n",
       "      <td>NaN</td>\n",
       "      <td>0</td>\n",
       "      <td>5.0</td>\n",
       "      <td>Moxy_NYC_Downtown-New_York_City_New_York__en.csv</td>\n",
       "      <td>New_York_City-New_York.pg6</td>\n",
       "    </tr>\n",
       "    <tr>\n",
       "      <th>2</th>\n",
       "      <td>750330115</td>\n",
       "      <td>https://www.tripadvisor.com/Hotel_Review-g6076...</td>\n",
       "      <td>Moxy NYC Downtown</td>\n",
       "      <td>March 10, 2020</td>\n",
       "      <td>I’m originally from Manhattan and had to go ba...</td>\n",
       "      <td>NYC</td>\n",
       "      <td>0</td>\n",
       "      <td>5.0</td>\n",
       "      <td>Moxy_NYC_Downtown-New_York_City_New_York__en.csv</td>\n",
       "      <td>New_York_City-New_York.pg6</td>\n",
       "    </tr>\n",
       "    <tr>\n",
       "      <th>3</th>\n",
       "      <td>750321994</td>\n",
       "      <td>https://www.tripadvisor.com/Hotel_Review-g6076...</td>\n",
       "      <td>Moxy NYC Downtown</td>\n",
       "      <td>March 10, 2020</td>\n",
       "      <td>Excellent hotel, fab location close to Ground ...</td>\n",
       "      <td>NaN</td>\n",
       "      <td>4</td>\n",
       "      <td>5.0</td>\n",
       "      <td>Moxy_NYC_Downtown-New_York_City_New_York__en.csv</td>\n",
       "      <td>New_York_City-New_York.pg6</td>\n",
       "    </tr>\n",
       "    <tr>\n",
       "      <th>4</th>\n",
       "      <td>749915420</td>\n",
       "      <td>https://www.tripadvisor.com/Hotel_Review-g6076...</td>\n",
       "      <td>Moxy NYC Downtown</td>\n",
       "      <td>March 8, 2020</td>\n",
       "      <td>My frequent stays at the Moxy only improve as ...</td>\n",
       "      <td>NaN</td>\n",
       "      <td>0</td>\n",
       "      <td>5.0</td>\n",
       "      <td>Moxy_NYC_Downtown-New_York_City_New_York__en.csv</td>\n",
       "      <td>New_York_City-New_York.pg6</td>\n",
       "    </tr>\n",
       "  </tbody>\n",
       "</table>\n",
       "</div>"
      ],
      "text/plain": [
       "   review_id                                                url  \\\n",
       "0  751035792  https://www.tripadvisor.com/Hotel_Review-g6076...   \n",
       "1  750880298  https://www.tripadvisor.com/Hotel_Review-g6076...   \n",
       "2  750330115  https://www.tripadvisor.com/Hotel_Review-g6076...   \n",
       "3  750321994  https://www.tripadvisor.com/Hotel_Review-g6076...   \n",
       "4  749915420  https://www.tripadvisor.com/Hotel_Review-g6076...   \n",
       "\n",
       "          hotel_name     review_date  \\\n",
       "0  Moxy NYC Downtown  March 15, 2020   \n",
       "1  Moxy NYC Downtown  March 14, 2020   \n",
       "2  Moxy NYC Downtown  March 10, 2020   \n",
       "3  Moxy NYC Downtown  March 10, 2020   \n",
       "4  Moxy NYC Downtown   March 8, 2020   \n",
       "\n",
       "                                         review_body user_location  \\\n",
       "0  From the moment we walked in the door we were ...           NaN   \n",
       "1  I loved drinking at the bar with Brian C. The ...           NaN   \n",
       "2  I’m originally from Manhattan and had to go ba...           NYC   \n",
       "3  Excellent hotel, fab location close to Ground ...           NaN   \n",
       "4  My frequent stays at the Moxy only improve as ...           NaN   \n",
       "\n",
       "   helpful_vote  rating                                               csv  \\\n",
       "0             0     5.0  Moxy_NYC_Downtown-New_York_City_New_York__en.csv   \n",
       "1             0     5.0  Moxy_NYC_Downtown-New_York_City_New_York__en.csv   \n",
       "2             0     5.0  Moxy_NYC_Downtown-New_York_City_New_York__en.csv   \n",
       "3             4     5.0  Moxy_NYC_Downtown-New_York_City_New_York__en.csv   \n",
       "4             0     5.0  Moxy_NYC_Downtown-New_York_City_New_York__en.csv   \n",
       "\n",
       "                       folder  \n",
       "0  New_York_City-New_York.pg6  \n",
       "1  New_York_City-New_York.pg6  \n",
       "2  New_York_City-New_York.pg6  \n",
       "3  New_York_City-New_York.pg6  \n",
       "4  New_York_City-New_York.pg6  "
      ]
     },
     "execution_count": 6,
     "metadata": {},
     "output_type": "execute_result"
    }
   ],
   "source": [
    "df_all_hotels.head()"
   ]
  },
  {
   "cell_type": "code",
   "execution_count": 7,
   "metadata": {},
   "outputs": [
    {
     "name": "stdout",
     "output_type": "stream",
     "text": [
      "<class 'pandas.core.frame.DataFrame'>\n",
      "RangeIndex: 314673 entries, 0 to 314672\n",
      "Data columns (total 10 columns):\n",
      " #   Column         Non-Null Count   Dtype  \n",
      "---  ------         --------------   -----  \n",
      " 0   review_id      314673 non-null  int64  \n",
      " 1   url            314673 non-null  object \n",
      " 2   hotel_name     314673 non-null  object \n",
      " 3   review_date    314673 non-null  object \n",
      " 4   review_body    314673 non-null  object \n",
      " 5   user_location  272829 non-null  object \n",
      " 6   helpful_vote   314673 non-null  int64  \n",
      " 7   rating         314673 non-null  float64\n",
      " 8   csv            314673 non-null  object \n",
      " 9   folder         314673 non-null  object \n",
      "dtypes: float64(1), int64(2), object(7)\n",
      "memory usage: 24.0+ MB\n"
     ]
    }
   ],
   "source": [
    "df_all_hotels.info()"
   ]
  },
  {
   "cell_type": "code",
   "execution_count": 8,
   "metadata": {},
   "outputs": [
    {
     "name": "stdout",
     "output_type": "stream",
     "text": [
      "Number of duplicate rows:\n",
      "\n",
      "review_id        0\n",
      "url              0\n",
      "hotel_name       0\n",
      "review_date      0\n",
      "review_body      0\n",
      "user_location    0\n",
      "helpful_vote     0\n",
      "rating           0\n",
      "csv              0\n",
      "folder           0\n",
      "dtype: int64\n"
     ]
    }
   ],
   "source": [
    "# Check for duplicate rows\n",
    "dup_rows = df_all_hotels[df_all_hotels.duplicated()].count()\n",
    "print('Number of duplicate rows:\\n\\n{}'.format(dup_rows))"
   ]
  },
  {
   "cell_type": "code",
   "execution_count": 9,
   "metadata": {},
   "outputs": [
    {
     "data": {
      "text/html": [
       "<div>\n",
       "<style scoped>\n",
       "    .dataframe tbody tr th:only-of-type {\n",
       "        vertical-align: middle;\n",
       "    }\n",
       "\n",
       "    .dataframe tbody tr th {\n",
       "        vertical-align: top;\n",
       "    }\n",
       "\n",
       "    .dataframe thead th {\n",
       "        text-align: right;\n",
       "    }\n",
       "</style>\n",
       "<table border=\"1\" class=\"dataframe\">\n",
       "  <thead>\n",
       "    <tr style=\"text-align: right;\">\n",
       "      <th></th>\n",
       "      <th>Total</th>\n",
       "      <th>Percent</th>\n",
       "      <th>Type</th>\n",
       "    </tr>\n",
       "  </thead>\n",
       "  <tbody>\n",
       "    <tr>\n",
       "      <th>user_location</th>\n",
       "      <td>41844</td>\n",
       "      <td>0.132976</td>\n",
       "      <td>object</td>\n",
       "    </tr>\n",
       "    <tr>\n",
       "      <th>folder</th>\n",
       "      <td>0</td>\n",
       "      <td>0.000000</td>\n",
       "      <td>object</td>\n",
       "    </tr>\n",
       "    <tr>\n",
       "      <th>csv</th>\n",
       "      <td>0</td>\n",
       "      <td>0.000000</td>\n",
       "      <td>object</td>\n",
       "    </tr>\n",
       "    <tr>\n",
       "      <th>rating</th>\n",
       "      <td>0</td>\n",
       "      <td>0.000000</td>\n",
       "      <td>float64</td>\n",
       "    </tr>\n",
       "    <tr>\n",
       "      <th>helpful_vote</th>\n",
       "      <td>0</td>\n",
       "      <td>0.000000</td>\n",
       "      <td>int64</td>\n",
       "    </tr>\n",
       "    <tr>\n",
       "      <th>review_body</th>\n",
       "      <td>0</td>\n",
       "      <td>0.000000</td>\n",
       "      <td>object</td>\n",
       "    </tr>\n",
       "    <tr>\n",
       "      <th>review_date</th>\n",
       "      <td>0</td>\n",
       "      <td>0.000000</td>\n",
       "      <td>object</td>\n",
       "    </tr>\n",
       "    <tr>\n",
       "      <th>hotel_name</th>\n",
       "      <td>0</td>\n",
       "      <td>0.000000</td>\n",
       "      <td>object</td>\n",
       "    </tr>\n",
       "    <tr>\n",
       "      <th>url</th>\n",
       "      <td>0</td>\n",
       "      <td>0.000000</td>\n",
       "      <td>object</td>\n",
       "    </tr>\n",
       "    <tr>\n",
       "      <th>review_id</th>\n",
       "      <td>0</td>\n",
       "      <td>0.000000</td>\n",
       "      <td>int64</td>\n",
       "    </tr>\n",
       "  </tbody>\n",
       "</table>\n",
       "</div>"
      ],
      "text/plain": [
       "               Total   Percent     Type\n",
       "user_location  41844  0.132976   object\n",
       "folder             0  0.000000   object\n",
       "csv                0  0.000000   object\n",
       "rating             0  0.000000  float64\n",
       "helpful_vote       0  0.000000    int64\n",
       "review_body        0  0.000000   object\n",
       "review_date        0  0.000000   object\n",
       "hotel_name         0  0.000000   object\n",
       "url                0  0.000000   object\n",
       "review_id          0  0.000000    int64"
      ]
     },
     "execution_count": 9,
     "metadata": {},
     "output_type": "execute_result"
    }
   ],
   "source": [
    "# Get count, pct, and type of missing data (per column)\n",
    "hlp.get_nulls(df_all_hotels)"
   ]
  },
  {
   "cell_type": "markdown",
   "metadata": {},
   "source": [
    "# Clean & Prep Data"
   ]
  },
  {
   "cell_type": "code",
   "execution_count": 10,
   "metadata": {},
   "outputs": [
    {
     "name": "stdout",
     "output_type": "stream",
     "text": [
      "<class 'pandas.core.frame.DataFrame'>\n",
      "Int64Index: 314673 entries, 0 to 314672\n",
      "Data columns (total 14 columns):\n",
      " #   Column         Non-Null Count   Dtype  \n",
      "---  ------         --------------   -----  \n",
      " 0   review_id      314673 non-null  int64  \n",
      " 1   url            314673 non-null  object \n",
      " 2   hotel_name     314673 non-null  object \n",
      " 3   review_date    314673 non-null  object \n",
      " 4   review_body    314673 non-null  object \n",
      " 5   user_location  314673 non-null  object \n",
      " 6   helpful_vote   314673 non-null  int64  \n",
      " 7   rating         314673 non-null  float64\n",
      " 8   csv            314673 non-null  object \n",
      " 9   folder         314673 non-null  object \n",
      " 10  City           314673 non-null  object \n",
      " 11  polarity       314673 non-null  float64\n",
      " 12  sentiment_int  314673 non-null  int64  \n",
      " 13  sentiment      314673 non-null  object \n",
      "dtypes: float64(2), int64(3), object(9)\n",
      "memory usage: 36.0+ MB\n"
     ]
    }
   ],
   "source": [
    "df_all_hotels_cleaned = df_all_hotels.copy()\n",
    "\n",
    "# Use helper function to do clean & prep\n",
    "df_all_hotels_cleaned = hlp.clean_and_prep(df_all_hotels_cleaned)\n",
    "\n",
    "df_all_hotels_cleaned.info()"
   ]
  },
  {
   "cell_type": "markdown",
   "metadata": {},
   "source": [
    "# Train-Test Split"
   ]
  },
  {
   "cell_type": "code",
   "execution_count": 11,
   "metadata": {},
   "outputs": [],
   "source": [
    "# Specify df, target, indices, X & y\n",
    "df = df_all_hotels_cleaned.copy()\n",
    "target = 'sentiment'\n",
    "indices = df.index\n",
    "\n",
    "X = df['review_body']\n",
    "y = df[target].to_numpy()"
   ]
  },
  {
   "cell_type": "code",
   "execution_count": 12,
   "metadata": {},
   "outputs": [
    {
     "data": {
      "text/plain": [
       "((251738,), (62935,))"
      ]
     },
     "execution_count": 12,
     "metadata": {},
     "output_type": "execute_result"
    }
   ],
   "source": [
    "_, X_test, y_train, y_test, indices_train, indices_test = train_test_split(X, y, indices, test_size=0.2, shuffle=True, stratify=y)\n",
    "indices_train.shape, indices_test.shape"
   ]
  },
  {
   "cell_type": "markdown",
   "metadata": {},
   "source": [
    "## Handling class imbalance by under-sampling train data"
   ]
  },
  {
   "cell_type": "code",
   "execution_count": 13,
   "metadata": {},
   "outputs": [
    {
     "data": {
      "text/plain": [
       "(251738, 14)"
      ]
     },
     "execution_count": 13,
     "metadata": {},
     "output_type": "execute_result"
    }
   ],
   "source": [
    "# Get train df with train indices\n",
    "train_df = df.iloc[indices_train,:]\n",
    "train_df.shape"
   ]
  },
  {
   "cell_type": "code",
   "execution_count": 14,
   "metadata": {},
   "outputs": [
    {
     "data": {
      "text/plain": [
       "(array(['negative', 'neutral', 'positive'], dtype=object),\n",
       " array([ 25346,  31887, 194505]))"
      ]
     },
     "execution_count": 14,
     "metadata": {},
     "output_type": "execute_result"
    }
   ],
   "source": [
    "# Get classes and counts\n",
    "unique, counts = np.unique(y_train, return_counts=True)\n",
    "unique, counts"
   ]
  },
  {
   "cell_type": "code",
   "execution_count": 15,
   "metadata": {},
   "outputs": [
    {
     "name": "stdout",
     "output_type": "stream",
     "text": [
      "Majority: positive, Middle: neutral, Minority: negative\n"
     ]
    }
   ],
   "source": [
    "# Determine majority, middle, and minority classes\n",
    "majority_class = unique[np.argmax(counts)]\n",
    "minority_class = unique[np.argmin(counts)]\n",
    "mid_class = np.unique(y_train[(y_train!=majority_class) & (y_train!=minority_class)])[0]\n",
    "print('Majority: {}, Middle: {}, Minority: {}'.format(majority_class, mid_class, minority_class))"
   ]
  },
  {
   "cell_type": "code",
   "execution_count": 16,
   "metadata": {},
   "outputs": [
    {
     "data": {
      "text/plain": [
       "25346"
      ]
     },
     "execution_count": 16,
     "metadata": {},
     "output_type": "execute_result"
    }
   ],
   "source": [
    "# Get minority class indices\n",
    "minority_class_indices = train_df[train_df[target]==minority_class].index\n",
    "minority_class_len = minority_class_indices.shape[0]\n",
    "minority_class_len"
   ]
  },
  {
   "cell_type": "code",
   "execution_count": 17,
   "metadata": {},
   "outputs": [
    {
     "data": {
      "text/plain": [
       "Int64Index([ 35007, 178101,  66893, 203836, 210556,  78909, 240674, 220031,\n",
       "             70129, 262487,\n",
       "            ...\n",
       "            165183, 260758,  52170, 180770, 312878,  82738,  89790, 136599,\n",
       "             64571, 217509],\n",
       "           dtype='int64', length=194505)"
      ]
     },
     "execution_count": 17,
     "metadata": {},
     "output_type": "execute_result"
    }
   ],
   "source": [
    "# Get majority class indices\n",
    "majority_class_indices = train_df[train_df[target]==majority_class].index\n",
    "majority_class_indices"
   ]
  },
  {
   "cell_type": "code",
   "execution_count": 18,
   "metadata": {},
   "outputs": [
    {
     "data": {
      "text/plain": [
       "Int64Index([308253, 248578,  53858,  20556,   3298,  48662, 296174,  99284,\n",
       "            119428, 274114,\n",
       "            ...\n",
       "            298133, 114177,  99662, 169153, 156163, 197501, 161932, 105779,\n",
       "             89007,  26691],\n",
       "           dtype='int64', length=31887)"
      ]
     },
     "execution_count": 18,
     "metadata": {},
     "output_type": "execute_result"
    }
   ],
   "source": [
    "# Get middle class indices\n",
    "middle_class_indices = train_df[train_df[target]==mid_class].index\n",
    "middle_class_indices"
   ]
  },
  {
   "cell_type": "code",
   "execution_count": 19,
   "metadata": {},
   "outputs": [
    {
     "data": {
      "text/plain": [
       "(76038, 14)"
      ]
     },
     "execution_count": 19,
     "metadata": {},
     "output_type": "execute_result"
    }
   ],
   "source": [
    "# Randomly under-sample majority and middle class indices to get new under-sampled train df\n",
    "rand_maj_indices = np.random.choice(majority_class_indices, minority_class_len, replace=False)\n",
    "rand_mid_indices = np.random.choice(middle_class_indices, minority_class_len, replace=False)\n",
    "undersample_indices = np.concatenate([minority_class_indices, rand_mid_indices, rand_maj_indices])\n",
    "\n",
    "train_df_us = df.iloc[undersample_indices,:]\n",
    "train_df_us.shape"
   ]
  },
  {
   "cell_type": "code",
   "execution_count": 20,
   "metadata": {},
   "outputs": [
    {
     "name": "stdout",
     "output_type": "stream",
     "text": [
      "Total Number of Ratings:  76038\n"
     ]
    },
    {
     "data": {
      "image/png": "[encoded data removed]",
      "text/plain": [
       "<Figure size 576x864 with 1 Axes>"
      ]
     },
     "metadata": {},
     "output_type": "display_data"
    }
   ],
   "source": [
    "# Plot pie - Classes after undersampling\n",
    "print('Total Number of Ratings: ', train_df_us.shape[0])\n",
    "\n",
    "fig, ax = plt.subplots(figsize=(12,8))\n",
    "hlp.plot_pie(train_df_us[target], fig, ax)\n",
    "ax.set_title('Balance of Review Sentiments,\\nAfter Under-Sampling Train', size=BIGGEST_SIZE)\n",
    "ax.set_ylabel('')\n",
    "fig.tight_layout()\n",
    "fig.savefig('../images/pie_sentiments_train_undersample')"
   ]
  },
  {
   "cell_type": "code",
   "execution_count": 21,
   "metadata": {},
   "outputs": [],
   "source": [
    "X_train_us = train_df_us['review_body']\n",
    "y_train_us = train_df_us[target].to_numpy()"
   ]
  },
  {
   "cell_type": "markdown",
   "metadata": {},
   "source": [
    "# NLP & Predictive Modeling"
   ]
  },
  {
   "cell_type": "code",
   "execution_count": 22,
   "metadata": {},
   "outputs": [],
   "source": [
    "from nltk.corpus import stopwords\n",
    "from nltk.tokenize import RegexpTokenizer\n",
    "from nltk.stem.porter import PorterStemmer\n",
    "from nltk.stem.snowball import SnowballStemmer\n",
    "from nltk.stem.wordnet import WordNetLemmatizer\n",
    "from sklearn.feature_extraction.text import TfidfVectorizer, CountVectorizer\n",
    "import nltk\n",
    "# nltk.download('stopwords')\n",
    "import nltk\n",
    "# nltk.download('wordnet')\n",
    "\n",
    "from sklearn.naive_bayes import MultinomialNB\n",
    "from sklearn.linear_model import LogisticRegression\n",
    "from sklearn.ensemble import RandomForestClassifier\n",
    "\n",
    "from sklearn.model_selection import cross_val_score"
   ]
  },
  {
   "cell_type": "code",
   "execution_count": 23,
   "metadata": {},
   "outputs": [],
   "source": [
    "nb_def = MultinomialNB()\n",
    "lr_newton = LogisticRegression(multi_class='multinomial', solver=\"newton-cg\")\n",
    "rf_def = RandomForestClassifier()"
   ]
  },
  {
   "cell_type": "markdown",
   "metadata": {},
   "source": [
    "## Increased max_features (max_features=None)"
   ]
  },
  {
   "cell_type": "markdown",
   "metadata": {},
   "source": [
    "### Tf-idf, snowball stemmer, None max_features (filter English stopwords)"
   ]
  },
  {
   "cell_type": "code",
   "execution_count": null,
   "metadata": {},
   "outputs": [
    {
     "name": "stdout",
     "output_type": "stream",
     "text": [
      "Vectorizer: TfidfVectorizer\n",
      "Using SnowballStemmer\n",
      "Max features: None\n"
     ]
    },
    {
     "name": "stderr",
     "output_type": "stream",
     "text": [
      "/opt/conda/lib/python3.7/site-packages/sklearn/feature_extraction/text.py:507: UserWarning: The parameter 'token_pattern' will not be used since 'tokenizer' is not None'\n",
      "  warnings.warn(\"The parameter 'token_pattern' will not be used\"\n"
     ]
    }
   ],
   "source": [
    "tfidf=True\n",
    "stemmer='snowball'\n",
    "max_features=None\n",
    "\n",
    "vect_tfidf_snow_none, vocab_tfidf_snow_none = hlp.build_text_vectorizer(X_train_us,\n",
    "                             use_tfidf=tfidf,\n",
    "                             use_stemmer=stemmer,\n",
    "                             max_features=max_features)"
   ]
  },
  {
   "cell_type": "code",
   "execution_count": null,
   "metadata": {},
   "outputs": [],
   "source": [
    "Xtr_tfidf_snow_none = vect_tfidf_snow_none(X_train_us)"
   ]
  },
  {
   "cell_type": "code",
   "execution_count": null,
   "metadata": {},
   "outputs": [],
   "source": [
    "vocab_tfidf_snow_none"
   ]
  },
  {
   "cell_type": "code",
   "execution_count": null,
   "metadata": {},
   "outputs": [],
   "source": [
    "hlp.fit_pred_score_Nfold(nb_def, Xtr_tfidf_snow_none, y_train_us, N=10)"
   ]
  },
  {
   "cell_type": "code",
   "execution_count": null,
   "metadata": {},
   "outputs": [],
   "source": [
    "hlp.fit_pred_score_Nfold(lr_newton, Xtr_tfidf_snow_none, y_train_us, N=10)"
   ]
  },
  {
   "cell_type": "code",
   "execution_count": null,
   "metadata": {},
   "outputs": [],
   "source": [
    "hlp.fit_pred_score_Nfold(rf_def, Xtr_tfidf_snow_none, y_train_us, N=2)"
   ]
  },
  {
   "cell_type": "markdown",
   "metadata": {},
   "source": [
    "### Tf-idf, wordnet lemmatizer, None max_features (filter English stopwords)"
   ]
  },
  {
   "cell_type": "code",
   "execution_count": null,
   "metadata": {},
   "outputs": [],
   "source": [
    "tfidf=True\n",
    "stemmer='lem'\n",
    "max_features=None\n",
    "\n",
    "vect_tfidf_lem_none, vocab_tfidf_lem_none = hlp.build_text_vectorizer(X_train_us,\n",
    "                             use_tfidf=tfidf,\n",
    "                             use_stemmer=stemmer,\n",
    "                             max_features=max_features)"
   ]
  },
  {
   "cell_type": "code",
   "execution_count": null,
   "metadata": {},
   "outputs": [],
   "source": [
    "Xtr_tfidf_lem_none = vect_tfidf_lem_none(X_train_us)"
   ]
  },
  {
   "cell_type": "code",
   "execution_count": null,
   "metadata": {},
   "outputs": [],
   "source": [
    "vocab_tfidf_lem_none"
   ]
  },
  {
   "cell_type": "code",
   "execution_count": null,
   "metadata": {},
   "outputs": [],
   "source": [
    "hlp.fit_pred_score_Nfold(nb_def, Xtr_tfidf_lem_none, y_train_us, N=10)"
   ]
  },
  {
   "cell_type": "code",
   "execution_count": null,
   "metadata": {},
   "outputs": [],
   "source": [
    "hlp.fit_pred_score_Nfold(lr_newton, Xtr_tfidf_lem_none, y_train_us, N=10)"
   ]
  },
  {
   "cell_type": "code",
   "execution_count": null,
   "metadata": {},
   "outputs": [],
   "source": [
    "hlp.fit_pred_score_Nfold(rf_def, Xtr_tfidf_lem_none, y_train_us, N=2)"
   ]
  },
  {
   "cell_type": "markdown",
   "metadata": {},
   "source": [
    "# Appendix"
   ]
  },
  {
   "cell_type": "code",
   "execution_count": null,
   "metadata": {},
   "outputs": [],
   "source": [
    "# don't go beyond here with Run All\n",
    "assert False"
   ]
  }
 ],
 "metadata": {
  "instance_type": "ml.m5.8xlarge",
  "kernelspec": {
   "display_name": "Python 3 (Data Science)",
   "language": "python",
   "name": "python3__SAGEMAKER_INTERNAL__arn:aws:sagemaker:us-east-1:081325390199:image/datascience-1.0"
  },
  "language_info": {
   "codemirror_mode": {
    "name": "ipython",
    "version": 3
   },
   "file_extension": ".py",
   "mimetype": "text/x-python",
   "name": "python",
   "nbconvert_exporter": "python",
   "pygments_lexer": "ipython3",
   "version": "3.7.6"
  }
 },
 "nbformat": 4,
 "nbformat_minor": 4
}
