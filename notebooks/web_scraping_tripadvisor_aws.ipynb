{
 "cells": [
  {
   "cell_type": "code",
   "execution_count": 7,
   "metadata": {},
   "outputs": [],
   "source": [
    "%load_ext autoreload\n",
    "%autoreload 2\n",
    "import sys\n",
    "import os\n",
    "module_path = os.path.abspath(os.path.join('..'))\n",
    "if module_path not in sys.path:\n",
    "    sys.path.append(module_path+\"/src\")\n",
    "import helpers as hlp"
   ]
  },
  {
   "cell_type": "code",
   "execution_count": 9,
   "metadata": {},
   "outputs": [],
   "source": [
    "import numpy as np\n",
    "import pandas as pd"
   ]
  },
  {
   "cell_type": "markdown",
   "metadata": {},
   "source": [
    "# AWS EC2"
   ]
  },
  {
   "cell_type": "markdown",
   "metadata": {},
   "source": [
    "Instructions for setup: https://github.com/GalvanizeDataScience/lectures/blob/SF/aws/aws_lecture.ipynb\n",
    "\n",
    "Keep python script running: https://stackoverflow.com/questions/47823240/keep-running-a-python-script-on-aws-ec2-even-if-cli-session-is-closed"
   ]
  },
  {
   "cell_type": "markdown",
   "metadata": {},
   "source": [
    "## tripadvisor_web_scraping_ec2"
   ]
  },
  {
   "cell_type": "markdown",
   "metadata": {},
   "source": [
    "```\n",
    "Copying Files to EC2\n",
    "To copy a file myfile.txt to EC2, use a command like this.\n",
    "scp myfile.txt my_first_ec2:\n",
    "To copy a file from the EC2 to the current directory on the local machine, try\n",
    "scp my_first_ec2:path/to/remote_file .\n",
    "To copy a directory mydir to EC2, use a command like this.\n",
    "scp -r mydir my_first ec2:\n",
    "```"
   ]
  },
  {
   "cell_type": "markdown",
   "metadata": {},
   "source": [
    "### Run web scraper\n",
    "```\n",
    "ssh tripadvisor_web_scraping_ec2\n",
    "\n",
    "tmux new -s mywindow\n",
    "\n",
    "```\n",
    "``` python\n",
    "\n",
    "python3 src/web_scraping_aws_test.py\n",
    "\n",
    "#OR\n",
    "\n",
    "python3 src/web_scraping_aws.py\n",
    "\n",
    "```\n",
    "```\n",
    "\n",
    "tmux a -t mywindow\n",
    "\n",
    "tmux kill-window -t mywindow\n",
    "\n",
    "```\n",
    "\n",
    "### Copy csv files from ec2\n",
    "zip -r aws.zip aws\n",
    "\n",
    "scp tripadvisor_web_scraping_ec2:data/web_scraped/aws.zip ."
   ]
  },
  {
   "cell_type": "markdown",
   "metadata": {},
   "source": [
    "# Create Pipeline with Test Files"
   ]
  },
  {
   "cell_type": "code",
   "execution_count": 41,
   "metadata": {},
   "outputs": [],
   "source": [
    "aws_test_data_dir = '../data/web_scraped/aws_test/'"
   ]
  },
  {
   "cell_type": "markdown",
   "metadata": {},
   "source": [
    "## Load & Merge CSV Data for All Hotels"
   ]
  },
  {
   "cell_type": "code",
   "execution_count": 44,
   "metadata": {},
   "outputs": [
    {
     "data": {
      "text/plain": [
       "['pg1', 'pg4', 'pg3', 'pg2']"
      ]
     },
     "execution_count": 44,
     "metadata": {},
     "output_type": "execute_result"
    }
   ],
   "source": [
    "# Get all folders - 1 per tripadvisor hotel result page\n",
    "folders = os.listdir(aws_test_data_dir)\n",
    "folders"
   ]
  },
  {
   "cell_type": "code",
   "execution_count": 45,
   "metadata": {},
   "outputs": [
    {
     "data": {
      "text/plain": [
       "(266, 8)"
      ]
     },
     "execution_count": 45,
     "metadata": {},
     "output_type": "execute_result"
    }
   ],
   "source": [
    "# From each folder, read all CSV files - 1 per hotel\n",
    "dfs = []\n",
    "for folder in folders:\n",
    "#     print(folder)\n",
    "    data_dir = aws_test_data_dir + '/' + folder + '/'\n",
    "    csv_filenames = os.listdir(data_dir)    \n",
    "    for name in csv_filenames:\n",
    "        dfs.append(pd.read_csv(data_dir + name))\n",
    "df_all_hotels = pd.concat(dfs, ignore_index=True)\n",
    "df_all_hotels.shape"
   ]
  },
  {
   "cell_type": "code",
   "execution_count": 47,
   "metadata": {},
   "outputs": [
    {
     "data": {
      "text/html": [
       "<div>\n",
       "<style scoped>\n",
       "    .dataframe tbody tr th:only-of-type {\n",
       "        vertical-align: middle;\n",
       "    }\n",
       "\n",
       "    .dataframe tbody tr th {\n",
       "        vertical-align: top;\n",
       "    }\n",
       "\n",
       "    .dataframe thead th {\n",
       "        text-align: right;\n",
       "    }\n",
       "</style>\n",
       "<table border=\"1\" class=\"dataframe\">\n",
       "  <thead>\n",
       "    <tr style=\"text-align: right;\">\n",
       "      <th></th>\n",
       "      <th>review_id</th>\n",
       "      <th>url</th>\n",
       "      <th>hotel_name</th>\n",
       "      <th>review_date</th>\n",
       "      <th>review_body</th>\n",
       "      <th>user_location</th>\n",
       "      <th>helpful_vote</th>\n",
       "      <th>rating</th>\n",
       "    </tr>\n",
       "  </thead>\n",
       "  <tbody>\n",
       "    <tr>\n",
       "      <td>0</td>\n",
       "      <td>750305270</td>\n",
       "      <td>https://www.tripadvisor.com/Hotel_Review-g6098...</td>\n",
       "      <td>OHANA Waikiki Malia by Outrigger</td>\n",
       "      <td>March 10, 2020</td>\n",
       "      <td>If you are visiting Honolulu on a budget this ...</td>\n",
       "      <td>Medicine Hat, Canada</td>\n",
       "      <td>0</td>\n",
       "      <td>3.0</td>\n",
       "    </tr>\n",
       "    <tr>\n",
       "      <td>1</td>\n",
       "      <td>750121846</td>\n",
       "      <td>https://www.tripadvisor.com/Hotel_Review-g6098...</td>\n",
       "      <td>OHANA Waikiki Malia by Outrigger</td>\n",
       "      <td>March 9, 2020</td>\n",
       "      <td>2 nights here. Bed was comfortable shower pres...</td>\n",
       "      <td>NaN</td>\n",
       "      <td>0</td>\n",
       "      <td>4.0</td>\n",
       "    </tr>\n",
       "    <tr>\n",
       "      <td>2</td>\n",
       "      <td>746226779</td>\n",
       "      <td>https://www.tripadvisor.com/Hotel_Review-g6098...</td>\n",
       "      <td>OHANA Waikiki Malia by Outrigger</td>\n",
       "      <td>February 19, 2020</td>\n",
       "      <td>The property is in a decent location with cour...</td>\n",
       "      <td>Las Vegas, Nevada</td>\n",
       "      <td>1</td>\n",
       "      <td>1.0</td>\n",
       "    </tr>\n",
       "    <tr>\n",
       "      <td>3</td>\n",
       "      <td>752651761</td>\n",
       "      <td>https://www.tripadvisor.ca/Hotel_Review-g60982...</td>\n",
       "      <td>Hilton Hawaiian Village Waikiki Beach Resort</td>\n",
       "      <td>April 15, 2020</td>\n",
       "      <td>I enjoyed my stay overall.The room itself was ...</td>\n",
       "      <td>Seattle, Washington</td>\n",
       "      <td>35</td>\n",
       "      <td>4.0</td>\n",
       "    </tr>\n",
       "    <tr>\n",
       "      <td>4</td>\n",
       "      <td>752585766</td>\n",
       "      <td>https://www.tripadvisor.ca/Hotel_Review-g60982...</td>\n",
       "      <td>Hilton Hawaiian Village Waikiki Beach Resort</td>\n",
       "      <td>April 13, 2020</td>\n",
       "      <td>Our family stayed here as a last second switch...</td>\n",
       "      <td>Pella, Iowa</td>\n",
       "      <td>3</td>\n",
       "      <td>5.0</td>\n",
       "    </tr>\n",
       "  </tbody>\n",
       "</table>\n",
       "</div>"
      ],
      "text/plain": [
       "   review_id                                                url  \\\n",
       "0  750305270  https://www.tripadvisor.com/Hotel_Review-g6098...   \n",
       "1  750121846  https://www.tripadvisor.com/Hotel_Review-g6098...   \n",
       "2  746226779  https://www.tripadvisor.com/Hotel_Review-g6098...   \n",
       "3  752651761  https://www.tripadvisor.ca/Hotel_Review-g60982...   \n",
       "4  752585766  https://www.tripadvisor.ca/Hotel_Review-g60982...   \n",
       "\n",
       "                                     hotel_name        review_date  \\\n",
       "0              OHANA Waikiki Malia by Outrigger     March 10, 2020   \n",
       "1              OHANA Waikiki Malia by Outrigger      March 9, 2020   \n",
       "2              OHANA Waikiki Malia by Outrigger  February 19, 2020   \n",
       "3  Hilton Hawaiian Village Waikiki Beach Resort     April 15, 2020   \n",
       "4  Hilton Hawaiian Village Waikiki Beach Resort     April 13, 2020   \n",
       "\n",
       "                                         review_body         user_location  \\\n",
       "0  If you are visiting Honolulu on a budget this ...  Medicine Hat, Canada   \n",
       "1  2 nights here. Bed was comfortable shower pres...                   NaN   \n",
       "2  The property is in a decent location with cour...     Las Vegas, Nevada   \n",
       "3  I enjoyed my stay overall.The room itself was ...   Seattle, Washington   \n",
       "4  Our family stayed here as a last second switch...           Pella, Iowa   \n",
       "\n",
       "   helpful_vote  rating  \n",
       "0             0     3.0  \n",
       "1             0     4.0  \n",
       "2             1     1.0  \n",
       "3            35     4.0  \n",
       "4             3     5.0  "
      ]
     },
     "execution_count": 47,
     "metadata": {},
     "output_type": "execute_result"
    }
   ],
   "source": [
    "df_all_hotels.head()"
   ]
  },
  {
   "cell_type": "code",
   "execution_count": 50,
   "metadata": {},
   "outputs": [
    {
     "data": {
      "text/html": [
       "<div>\n",
       "<style scoped>\n",
       "    .dataframe tbody tr th:only-of-type {\n",
       "        vertical-align: middle;\n",
       "    }\n",
       "\n",
       "    .dataframe tbody tr th {\n",
       "        vertical-align: top;\n",
       "    }\n",
       "\n",
       "    .dataframe thead th {\n",
       "        text-align: right;\n",
       "    }\n",
       "</style>\n",
       "<table border=\"1\" class=\"dataframe\">\n",
       "  <thead>\n",
       "    <tr style=\"text-align: right;\">\n",
       "      <th></th>\n",
       "      <th>review_id</th>\n",
       "      <th>url</th>\n",
       "      <th>hotel_name</th>\n",
       "      <th>review_date</th>\n",
       "      <th>review_body</th>\n",
       "      <th>user_location</th>\n",
       "      <th>helpful_vote</th>\n",
       "      <th>rating</th>\n",
       "    </tr>\n",
       "  </thead>\n",
       "  <tbody>\n",
       "    <tr>\n",
       "      <td>261</td>\n",
       "      <td>748360164</td>\n",
       "      <td>https://www.tripadvisor.com/Hotel_Review-g6098...</td>\n",
       "      <td>Aqua Aloha Surf Waikiki</td>\n",
       "      <td>February 29, 2020</td>\n",
       "      <td>Check in staff (and check-out) were very, very...</td>\n",
       "      <td>Island of Hawaii, Hawaii</td>\n",
       "      <td>34</td>\n",
       "      <td>2.0</td>\n",
       "    </tr>\n",
       "    <tr>\n",
       "      <td>262</td>\n",
       "      <td>737718477</td>\n",
       "      <td>https://www.tripadvisor.com/Hotel_Review-g6098...</td>\n",
       "      <td>Aqua Aloha Surf Waikiki</td>\n",
       "      <td>January 7, 2020</td>\n",
       "      <td>Located within walking distance from the beach...</td>\n",
       "      <td>NaN</td>\n",
       "      <td>3</td>\n",
       "      <td>3.0</td>\n",
       "    </tr>\n",
       "    <tr>\n",
       "      <td>263</td>\n",
       "      <td>752329491</td>\n",
       "      <td>https://www.tripadvisor.com/Hotel_Review-g6098...</td>\n",
       "      <td>Airport Honolulu Hotel</td>\n",
       "      <td>April 6, 2020</td>\n",
       "      <td>The hotel is nice and clean, even during the C...</td>\n",
       "      <td>NaN</td>\n",
       "      <td>0</td>\n",
       "      <td>5.0</td>\n",
       "    </tr>\n",
       "    <tr>\n",
       "      <td>264</td>\n",
       "      <td>751890692</td>\n",
       "      <td>https://www.tripadvisor.com/Hotel_Review-g6098...</td>\n",
       "      <td>Airport Honolulu Hotel</td>\n",
       "      <td>March 27, 2020</td>\n",
       "      <td>The hotel was great. Clean room and is dated a...</td>\n",
       "      <td>Mudgee, Australia</td>\n",
       "      <td>0</td>\n",
       "      <td>5.0</td>\n",
       "    </tr>\n",
       "    <tr>\n",
       "      <td>265</td>\n",
       "      <td>750263150</td>\n",
       "      <td>https://www.tripadvisor.com/Hotel_Review-g6098...</td>\n",
       "      <td>Airport Honolulu Hotel</td>\n",
       "      <td>March 10, 2020</td>\n",
       "      <td>We just needed an overnight place to sleep. Th...</td>\n",
       "      <td>Laguna Beach, California</td>\n",
       "      <td>4</td>\n",
       "      <td>2.0</td>\n",
       "    </tr>\n",
       "  </tbody>\n",
       "</table>\n",
       "</div>"
      ],
      "text/plain": [
       "     review_id                                                url  \\\n",
       "261  748360164  https://www.tripadvisor.com/Hotel_Review-g6098...   \n",
       "262  737718477  https://www.tripadvisor.com/Hotel_Review-g6098...   \n",
       "263  752329491  https://www.tripadvisor.com/Hotel_Review-g6098...   \n",
       "264  751890692  https://www.tripadvisor.com/Hotel_Review-g6098...   \n",
       "265  750263150  https://www.tripadvisor.com/Hotel_Review-g6098...   \n",
       "\n",
       "                  hotel_name        review_date  \\\n",
       "261  Aqua Aloha Surf Waikiki  February 29, 2020   \n",
       "262  Aqua Aloha Surf Waikiki    January 7, 2020   \n",
       "263   Airport Honolulu Hotel      April 6, 2020   \n",
       "264   Airport Honolulu Hotel     March 27, 2020   \n",
       "265   Airport Honolulu Hotel     March 10, 2020   \n",
       "\n",
       "                                           review_body  \\\n",
       "261  Check in staff (and check-out) were very, very...   \n",
       "262  Located within walking distance from the beach...   \n",
       "263  The hotel is nice and clean, even during the C...   \n",
       "264  The hotel was great. Clean room and is dated a...   \n",
       "265  We just needed an overnight place to sleep. Th...   \n",
       "\n",
       "                user_location  helpful_vote  rating  \n",
       "261  Island of Hawaii, Hawaii            34     2.0  \n",
       "262                       NaN             3     3.0  \n",
       "263                       NaN             0     5.0  \n",
       "264         Mudgee, Australia             0     5.0  \n",
       "265  Laguna Beach, California             4     2.0  "
      ]
     },
     "execution_count": 50,
     "metadata": {},
     "output_type": "execute_result"
    }
   ],
   "source": [
    "df_all_hotels.tail()"
   ]
  },
  {
   "cell_type": "code",
   "execution_count": 48,
   "metadata": {},
   "outputs": [
    {
     "name": "stdout",
     "output_type": "stream",
     "text": [
      "<class 'pandas.core.frame.DataFrame'>\n",
      "RangeIndex: 266 entries, 0 to 265\n",
      "Data columns (total 8 columns):\n",
      "review_id        266 non-null int64\n",
      "url              266 non-null object\n",
      "hotel_name       266 non-null object\n",
      "review_date      266 non-null object\n",
      "review_body      266 non-null object\n",
      "user_location    175 non-null object\n",
      "helpful_vote     266 non-null int64\n",
      "rating           266 non-null float64\n",
      "dtypes: float64(1), int64(2), object(5)\n",
      "memory usage: 16.8+ KB\n"
     ]
    }
   ],
   "source": [
    "df_all_hotels.info()"
   ]
  },
  {
   "cell_type": "code",
   "execution_count": 49,
   "metadata": {},
   "outputs": [
    {
     "data": {
      "text/html": [
       "<div>\n",
       "<style scoped>\n",
       "    .dataframe tbody tr th:only-of-type {\n",
       "        vertical-align: middle;\n",
       "    }\n",
       "\n",
       "    .dataframe tbody tr th {\n",
       "        vertical-align: top;\n",
       "    }\n",
       "\n",
       "    .dataframe thead th {\n",
       "        text-align: right;\n",
       "    }\n",
       "</style>\n",
       "<table border=\"1\" class=\"dataframe\">\n",
       "  <thead>\n",
       "    <tr style=\"text-align: right;\">\n",
       "      <th></th>\n",
       "      <th>review_id</th>\n",
       "      <th>helpful_vote</th>\n",
       "      <th>rating</th>\n",
       "    </tr>\n",
       "  </thead>\n",
       "  <tbody>\n",
       "    <tr>\n",
       "      <td>count</td>\n",
       "      <td>2.660000e+02</td>\n",
       "      <td>266.000000</td>\n",
       "      <td>266.000000</td>\n",
       "    </tr>\n",
       "    <tr>\n",
       "      <td>mean</td>\n",
       "      <td>7.474683e+08</td>\n",
       "      <td>18.706767</td>\n",
       "      <td>4.109023</td>\n",
       "    </tr>\n",
       "    <tr>\n",
       "      <td>std</td>\n",
       "      <td>1.283151e+07</td>\n",
       "      <td>47.475162</td>\n",
       "      <td>1.246638</td>\n",
       "    </tr>\n",
       "    <tr>\n",
       "      <td>min</td>\n",
       "      <td>6.453464e+08</td>\n",
       "      <td>0.000000</td>\n",
       "      <td>1.000000</td>\n",
       "    </tr>\n",
       "    <tr>\n",
       "      <td>25%</td>\n",
       "      <td>7.489957e+08</td>\n",
       "      <td>0.000000</td>\n",
       "      <td>4.000000</td>\n",
       "    </tr>\n",
       "    <tr>\n",
       "      <td>50%</td>\n",
       "      <td>7.513375e+08</td>\n",
       "      <td>1.000000</td>\n",
       "      <td>5.000000</td>\n",
       "    </tr>\n",
       "    <tr>\n",
       "      <td>75%</td>\n",
       "      <td>7.519708e+08</td>\n",
       "      <td>11.750000</td>\n",
       "      <td>5.000000</td>\n",
       "    </tr>\n",
       "    <tr>\n",
       "      <td>max</td>\n",
       "      <td>7.534573e+08</td>\n",
       "      <td>325.000000</td>\n",
       "      <td>5.000000</td>\n",
       "    </tr>\n",
       "  </tbody>\n",
       "</table>\n",
       "</div>"
      ],
      "text/plain": [
       "          review_id  helpful_vote      rating\n",
       "count  2.660000e+02    266.000000  266.000000\n",
       "mean   7.474683e+08     18.706767    4.109023\n",
       "std    1.283151e+07     47.475162    1.246638\n",
       "min    6.453464e+08      0.000000    1.000000\n",
       "25%    7.489957e+08      0.000000    4.000000\n",
       "50%    7.513375e+08      1.000000    5.000000\n",
       "75%    7.519708e+08     11.750000    5.000000\n",
       "max    7.534573e+08    325.000000    5.000000"
      ]
     },
     "execution_count": 49,
     "metadata": {},
     "output_type": "execute_result"
    }
   ],
   "source": [
    "df_all_hotels.describe()"
   ]
  },
  {
   "cell_type": "code",
   "execution_count": 52,
   "metadata": {},
   "outputs": [
    {
     "data": {
      "text/plain": [
       "'If you are visiting Honolulu on a budget this hotel is good... although not on Waikiki beach it is within a 10 minute walk. But this is a “budget” hotel. No bells and whistles... pool is not really much of anything... decor is dated (think 1980s Holiday Inn). The staff is friendly but the cleaning staff unfortunately tended to be smokers so after my room was cleaned I would come in to that smell and would have to open the patio doors to air it out so I just started putting the do not disturb on the door so they wouldn’t clean.'"
      ]
     },
     "execution_count": 52,
     "metadata": {},
     "output_type": "execute_result"
    }
   ],
   "source": [
    "df_all_hotels['review_body'][0]"
   ]
  },
  {
   "cell_type": "markdown",
   "metadata": {},
   "source": [
    "# Appendix"
   ]
  },
  {
   "cell_type": "markdown",
   "metadata": {},
   "source": [
    "# AWS S3 Bucket"
   ]
  },
  {
   "cell_type": "code",
   "execution_count": 10,
   "metadata": {},
   "outputs": [],
   "source": [
    "import boto3\n",
    "\n",
    "s3 = boto3.client('s3')"
   ]
  },
  {
   "cell_type": "code",
   "execution_count": 11,
   "metadata": {},
   "outputs": [
    {
     "name": "stdout",
     "output_type": "stream",
     "text": [
      "chels-first-bucket-2020\n",
      "chels-second-bucket-2020\n",
      "pair-bucket-2020-chels-helnaz\n",
      "pair-bucket-2020-chels-helnaz-2nd\n",
      "spark-rdds-ind\n",
      "tripadvisor-hotel-reviews\n"
     ]
    }
   ],
   "source": [
    "for b in s3.list_buckets()['Buckets']:\n",
    "    print(b['Name'])"
   ]
  },
  {
   "cell_type": "code",
   "execution_count": 12,
   "metadata": {},
   "outputs": [
    {
     "name": "stdout",
     "output_type": "stream",
     "text": [
      "test.txt\n"
     ]
    }
   ],
   "source": [
    "response = s3.list_objects_v2(Bucket='tripadvisor-hotel-reviews')\n",
    "for obj in response['Contents']:\n",
    "    print(obj['Key'])"
   ]
  },
  {
   "cell_type": "code",
   "execution_count": null,
   "metadata": {},
   "outputs": [],
   "source": [
    "# Download file\n",
    "\n",
    "# s3.download_file(Bucket=bucket_name,\n",
    "#                  Key=remote_file_name,\n",
    "#                  Filename=\"downloaded-\" + local_file_name)"
   ]
  }
 ],
 "metadata": {
  "kernelspec": {
   "display_name": "Python 3",
   "language": "python",
   "name": "python3"
  },
  "language_info": {
   "codemirror_mode": {
    "name": "ipython",
    "version": 3
   },
   "file_extension": ".py",
   "mimetype": "text/x-python",
   "name": "python",
   "nbconvert_exporter": "python",
   "pygments_lexer": "ipython3",
   "version": "3.7.4"
  }
 },
 "nbformat": 4,
 "nbformat_minor": 2
}
