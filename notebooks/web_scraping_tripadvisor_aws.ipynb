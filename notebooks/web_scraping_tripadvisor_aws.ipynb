{
 "cells": [
  {
   "cell_type": "code",
   "execution_count": 1,
   "metadata": {},
   "outputs": [],
   "source": [
    "%load_ext autoreload\n",
    "%autoreload 2\n",
    "import sys\n",
    "import os\n",
    "module_path = os.path.abspath(os.path.join('..'))\n",
    "if module_path not in sys.path:\n",
    "    sys.path.append(module_path+\"/src\")\n",
    "import helpers as hlp"
   ]
  },
  {
   "cell_type": "code",
   "execution_count": 2,
   "metadata": {},
   "outputs": [],
   "source": [
    "import numpy as np\n",
    "import pandas as pd\n",
    "import matplotlib.pyplot as plt\n",
    "import seaborn as sns\n",
    "from sklearn.model_selection import train_test_split"
   ]
  },
  {
   "cell_type": "markdown",
   "metadata": {},
   "source": [
    "# AWS EC2"
   ]
  },
  {
   "cell_type": "markdown",
   "metadata": {},
   "source": [
    "Instructions for setup: https://github.com/GalvanizeDataScience/lectures/blob/SF/aws/aws_lecture.ipynb\n",
    "\n",
    "Keep python script running: https://stackoverflow.com/questions/47823240/keep-running-a-python-script-on-aws-ec2-even-if-cli-session-is-closed"
   ]
  },
  {
   "cell_type": "markdown",
   "metadata": {},
   "source": [
    "## tripadvisor_web_scraping_ec2\n",
    "\n",
    "## tripadvisor_web_scraping_ec2_2nd"
   ]
  },
  {
   "cell_type": "markdown",
   "metadata": {},
   "source": [
    "```\n",
    "Copying Files to EC2\n",
    "To copy a file myfile.txt to EC2, use a command like this.\n",
    "scp myfile.txt my_first_ec2:\n",
    "To copy a file from the EC2 to the current directory on the local machine, try\n",
    "scp my_first_ec2:path/to/remote_file .\n",
    "To copy a directory mydir to EC2, use a command like this.\n",
    "scp -r mydir my_first ec2:\n",
    "```"
   ]
  },
  {
   "cell_type": "markdown",
   "metadata": {},
   "source": [
    "### Run web scraper\n",
    "```\n",
    "ssh tripadvisor_web_scraping_ec2\n",
    "\n",
    "tmux new -s mywindow\n",
    "\n",
    "```\n",
    "``` python\n",
    "\n",
    "python3 src/web_scraping_aws_test.py\n",
    "\n",
    "#OR\n",
    "\n",
    "python3 src/web_scraping_aws.py\n",
    "\n",
    "```\n",
    "```\n",
    "\n",
    "tmux a -t mywindow\n",
    "\n",
    "tmux kill-window -t mywindow\n",
    "\n",
    "```\n",
    "\n",
    "### Copy csv files from ec2\n",
    "zip -r aws.zip aws\n",
    "\n",
    "scp tripadvisor_web_scraping_ec2:data/web_scraped/aws.zip ."
   ]
  },
  {
   "cell_type": "markdown",
   "metadata": {},
   "source": [
    "# Test Web Scraping Pipeline"
   ]
  },
  {
   "cell_type": "markdown",
   "metadata": {},
   "source": [
    "## Test getting all reviews for first 3 hotels - Honolulu"
   ]
  },
  {
   "cell_type": "code",
   "execution_count": 3,
   "metadata": {},
   "outputs": [],
   "source": [
    "aws_test_data_dir = '../data/web_scraped/aws_first3/'"
   ]
  },
  {
   "cell_type": "code",
   "execution_count": 4,
   "metadata": {},
   "outputs": [
    {
     "data": {
      "text/plain": [
       "['pg1', 'pg4', 'pg3', 'pg2']"
      ]
     },
     "execution_count": 4,
     "metadata": {},
     "output_type": "execute_result"
    }
   ],
   "source": [
    "# Get all folders - 1 per tripadvisor hotel result page\n",
    "folders = os.listdir(aws_test_data_dir)\n",
    "folders"
   ]
  },
  {
   "cell_type": "code",
   "execution_count": 5,
   "metadata": {},
   "outputs": [
    {
     "data": {
      "text/plain": [
       "(24142, 8)"
      ]
     },
     "execution_count": 5,
     "metadata": {},
     "output_type": "execute_result"
    }
   ],
   "source": [
    "# From each folder, read all CSV files - 1 per hotel\n",
    "dfs = []\n",
    "for folder in folders:\n",
    "#     print(folder)\n",
    "    data_dir = aws_test_data_dir + '/' + folder + '/'\n",
    "    csv_filenames = os.listdir(data_dir)    \n",
    "    for name in csv_filenames:\n",
    "        dfs.append(pd.read_csv(data_dir + name))\n",
    "df_all_hotels = pd.concat(dfs, ignore_index=True)\n",
    "df_all_hotels.shape"
   ]
  },
  {
   "cell_type": "code",
   "execution_count": 6,
   "metadata": {},
   "outputs": [
    {
     "data": {
      "text/html": [
       "<div>\n",
       "<style scoped>\n",
       "    .dataframe tbody tr th:only-of-type {\n",
       "        vertical-align: middle;\n",
       "    }\n",
       "\n",
       "    .dataframe tbody tr th {\n",
       "        vertical-align: top;\n",
       "    }\n",
       "\n",
       "    .dataframe thead th {\n",
       "        text-align: right;\n",
       "    }\n",
       "</style>\n",
       "<table border=\"1\" class=\"dataframe\">\n",
       "  <thead>\n",
       "    <tr style=\"text-align: right;\">\n",
       "      <th></th>\n",
       "      <th>review_id</th>\n",
       "      <th>url</th>\n",
       "      <th>hotel_name</th>\n",
       "      <th>review_date</th>\n",
       "      <th>review_body</th>\n",
       "      <th>user_location</th>\n",
       "      <th>helpful_vote</th>\n",
       "      <th>rating</th>\n",
       "    </tr>\n",
       "  </thead>\n",
       "  <tbody>\n",
       "    <tr>\n",
       "      <td>0</td>\n",
       "      <td>752651761</td>\n",
       "      <td>https://www.tripadvisor.ca/Hotel_Review-g60982...</td>\n",
       "      <td>Hilton Hawaiian Village Waikiki Beach Resort</td>\n",
       "      <td>April 15, 2020</td>\n",
       "      <td>I enjoyed my stay overall.The room itself was ...</td>\n",
       "      <td>Seattle, Washington</td>\n",
       "      <td>35</td>\n",
       "      <td>4.0</td>\n",
       "    </tr>\n",
       "    <tr>\n",
       "      <td>1</td>\n",
       "      <td>677858723</td>\n",
       "      <td>https://www.tripadvisor.ca/Hotel_Review-g60982...</td>\n",
       "      <td>Hilton Hawaiian Village Waikiki Beach Resort</td>\n",
       "      <td>May 31, 2019</td>\n",
       "      <td>We used our points for an ocean front room in ...</td>\n",
       "      <td>Anchorage, Alaska</td>\n",
       "      <td>114</td>\n",
       "      <td>5.0</td>\n",
       "    </tr>\n",
       "    <tr>\n",
       "      <td>2</td>\n",
       "      <td>752585766</td>\n",
       "      <td>https://www.tripadvisor.ca/Hotel_Review-g60982...</td>\n",
       "      <td>Hilton Hawaiian Village Waikiki Beach Resort</td>\n",
       "      <td>April 13, 2020</td>\n",
       "      <td>Our family stayed here as a last second switch...</td>\n",
       "      <td>Pella, Iowa</td>\n",
       "      <td>3</td>\n",
       "      <td>5.0</td>\n",
       "    </tr>\n",
       "    <tr>\n",
       "      <td>3</td>\n",
       "      <td>752581445</td>\n",
       "      <td>https://www.tripadvisor.ca/Hotel_Review-g60982...</td>\n",
       "      <td>Hilton Hawaiian Village Waikiki Beach Resort</td>\n",
       "      <td>April 13, 2020</td>\n",
       "      <td>We've stayed here 3 times in the past 4 years,...</td>\n",
       "      <td>NaN</td>\n",
       "      <td>0</td>\n",
       "      <td>5.0</td>\n",
       "    </tr>\n",
       "    <tr>\n",
       "      <td>4</td>\n",
       "      <td>752537773</td>\n",
       "      <td>https://www.tripadvisor.ca/Hotel_Review-g60982...</td>\n",
       "      <td>Hilton Hawaiian Village Waikiki Beach Resort</td>\n",
       "      <td>April 12, 2020</td>\n",
       "      <td>Great atmosphere in the village. You can prett...</td>\n",
       "      <td>High Ongar, United Kingdom</td>\n",
       "      <td>1</td>\n",
       "      <td>5.0</td>\n",
       "    </tr>\n",
       "  </tbody>\n",
       "</table>\n",
       "</div>"
      ],
      "text/plain": [
       "   review_id                                                url  \\\n",
       "0  752651761  https://www.tripadvisor.ca/Hotel_Review-g60982...   \n",
       "1  677858723  https://www.tripadvisor.ca/Hotel_Review-g60982...   \n",
       "2  752585766  https://www.tripadvisor.ca/Hotel_Review-g60982...   \n",
       "3  752581445  https://www.tripadvisor.ca/Hotel_Review-g60982...   \n",
       "4  752537773  https://www.tripadvisor.ca/Hotel_Review-g60982...   \n",
       "\n",
       "                                     hotel_name     review_date  \\\n",
       "0  Hilton Hawaiian Village Waikiki Beach Resort  April 15, 2020   \n",
       "1  Hilton Hawaiian Village Waikiki Beach Resort    May 31, 2019   \n",
       "2  Hilton Hawaiian Village Waikiki Beach Resort  April 13, 2020   \n",
       "3  Hilton Hawaiian Village Waikiki Beach Resort  April 13, 2020   \n",
       "4  Hilton Hawaiian Village Waikiki Beach Resort  April 12, 2020   \n",
       "\n",
       "                                         review_body  \\\n",
       "0  I enjoyed my stay overall.The room itself was ...   \n",
       "1  We used our points for an ocean front room in ...   \n",
       "2  Our family stayed here as a last second switch...   \n",
       "3  We've stayed here 3 times in the past 4 years,...   \n",
       "4  Great atmosphere in the village. You can prett...   \n",
       "\n",
       "                user_location  helpful_vote  rating  \n",
       "0         Seattle, Washington            35     4.0  \n",
       "1           Anchorage, Alaska           114     5.0  \n",
       "2                 Pella, Iowa             3     5.0  \n",
       "3                         NaN             0     5.0  \n",
       "4  High Ongar, United Kingdom             1     5.0  "
      ]
     },
     "execution_count": 6,
     "metadata": {},
     "output_type": "execute_result"
    }
   ],
   "source": [
    "df_all_hotels.head()"
   ]
  },
  {
   "cell_type": "code",
   "execution_count": 7,
   "metadata": {},
   "outputs": [
    {
     "data": {
      "text/html": [
       "<div>\n",
       "<style scoped>\n",
       "    .dataframe tbody tr th:only-of-type {\n",
       "        vertical-align: middle;\n",
       "    }\n",
       "\n",
       "    .dataframe tbody tr th {\n",
       "        vertical-align: top;\n",
       "    }\n",
       "\n",
       "    .dataframe thead th {\n",
       "        text-align: right;\n",
       "    }\n",
       "</style>\n",
       "<table border=\"1\" class=\"dataframe\">\n",
       "  <thead>\n",
       "    <tr style=\"text-align: right;\">\n",
       "      <th></th>\n",
       "      <th>review_id</th>\n",
       "      <th>url</th>\n",
       "      <th>hotel_name</th>\n",
       "      <th>review_date</th>\n",
       "      <th>review_body</th>\n",
       "      <th>user_location</th>\n",
       "      <th>helpful_vote</th>\n",
       "      <th>rating</th>\n",
       "    </tr>\n",
       "  </thead>\n",
       "  <tbody>\n",
       "    <tr>\n",
       "      <td>24137</td>\n",
       "      <td>995122</td>\n",
       "      <td>https://www.tripadvisor.com/Hotel_Review-g6098...</td>\n",
       "      <td>Hilton Waikiki Beach</td>\n",
       "      <td>May 12, 2003</td>\n",
       "      <td>Stayed here twice b/c it's very clean! - one y...</td>\n",
       "      <td>San Francisco, CA</td>\n",
       "      <td>10</td>\n",
       "      <td>5.0</td>\n",
       "    </tr>\n",
       "    <tr>\n",
       "      <td>24138</td>\n",
       "      <td>850658</td>\n",
       "      <td>https://www.tripadvisor.com/Hotel_Review-g6098...</td>\n",
       "      <td>Hilton Waikiki Beach</td>\n",
       "      <td>January 30, 2003</td>\n",
       "      <td>We stayed at this hotel for the millenium week...</td>\n",
       "      <td>London, England</td>\n",
       "      <td>4</td>\n",
       "      <td>4.0</td>\n",
       "    </tr>\n",
       "    <tr>\n",
       "      <td>24139</td>\n",
       "      <td>809743</td>\n",
       "      <td>https://www.tripadvisor.com/Hotel_Review-g6098...</td>\n",
       "      <td>Hilton Waikiki Beach</td>\n",
       "      <td>November 22, 2002</td>\n",
       "      <td>We have stayed here five times in the last two...</td>\n",
       "      <td>Atlanta, GA</td>\n",
       "      <td>3</td>\n",
       "      <td>5.0</td>\n",
       "    </tr>\n",
       "    <tr>\n",
       "      <td>24140</td>\n",
       "      <td>677983</td>\n",
       "      <td>https://www.tripadvisor.com/Hotel_Review-g6098...</td>\n",
       "      <td>Hilton Waikiki Beach</td>\n",
       "      <td>August 21, 2002</td>\n",
       "      <td>I would highly recommend this hotel if you don...</td>\n",
       "      <td>NaN</td>\n",
       "      <td>0</td>\n",
       "      <td>5.0</td>\n",
       "    </tr>\n",
       "    <tr>\n",
       "      <td>24141</td>\n",
       "      <td>661010</td>\n",
       "      <td>https://www.tripadvisor.com/Hotel_Review-g6098...</td>\n",
       "      <td>Hilton Waikiki Beach</td>\n",
       "      <td>August 17, 2002</td>\n",
       "      <td>I have stayed at this hotel twice, once in 199...</td>\n",
       "      <td>NaN</td>\n",
       "      <td>0</td>\n",
       "      <td>4.0</td>\n",
       "    </tr>\n",
       "  </tbody>\n",
       "</table>\n",
       "</div>"
      ],
      "text/plain": [
       "       review_id                                                url  \\\n",
       "24137     995122  https://www.tripadvisor.com/Hotel_Review-g6098...   \n",
       "24138     850658  https://www.tripadvisor.com/Hotel_Review-g6098...   \n",
       "24139     809743  https://www.tripadvisor.com/Hotel_Review-g6098...   \n",
       "24140     677983  https://www.tripadvisor.com/Hotel_Review-g6098...   \n",
       "24141     661010  https://www.tripadvisor.com/Hotel_Review-g6098...   \n",
       "\n",
       "                 hotel_name        review_date  \\\n",
       "24137  Hilton Waikiki Beach       May 12, 2003   \n",
       "24138  Hilton Waikiki Beach   January 30, 2003   \n",
       "24139  Hilton Waikiki Beach  November 22, 2002   \n",
       "24140  Hilton Waikiki Beach    August 21, 2002   \n",
       "24141  Hilton Waikiki Beach    August 17, 2002   \n",
       "\n",
       "                                             review_body      user_location  \\\n",
       "24137  Stayed here twice b/c it's very clean! - one y...  San Francisco, CA   \n",
       "24138  We stayed at this hotel for the millenium week...    London, England   \n",
       "24139  We have stayed here five times in the last two...        Atlanta, GA   \n",
       "24140  I would highly recommend this hotel if you don...                NaN   \n",
       "24141  I have stayed at this hotel twice, once in 199...                NaN   \n",
       "\n",
       "       helpful_vote  rating  \n",
       "24137            10     5.0  \n",
       "24138             4     4.0  \n",
       "24139             3     5.0  \n",
       "24140             0     5.0  \n",
       "24141             0     4.0  "
      ]
     },
     "execution_count": 7,
     "metadata": {},
     "output_type": "execute_result"
    }
   ],
   "source": [
    "df_all_hotels.tail()"
   ]
  },
  {
   "cell_type": "code",
   "execution_count": 8,
   "metadata": {},
   "outputs": [
    {
     "name": "stdout",
     "output_type": "stream",
     "text": [
      "<class 'pandas.core.frame.DataFrame'>\n",
      "RangeIndex: 24142 entries, 0 to 24141\n",
      "Data columns (total 8 columns):\n",
      "review_id        24142 non-null int64\n",
      "url              24142 non-null object\n",
      "hotel_name       24142 non-null object\n",
      "review_date      24142 non-null object\n",
      "review_body      24142 non-null object\n",
      "user_location    21683 non-null object\n",
      "helpful_vote     24142 non-null int64\n",
      "rating           24142 non-null float64\n",
      "dtypes: float64(1), int64(2), object(5)\n",
      "memory usage: 1.5+ MB\n"
     ]
    }
   ],
   "source": [
    "df_all_hotels.info()"
   ]
  },
  {
   "cell_type": "code",
   "execution_count": 9,
   "metadata": {},
   "outputs": [
    {
     "data": {
      "text/html": [
       "<div>\n",
       "<style scoped>\n",
       "    .dataframe tbody tr th:only-of-type {\n",
       "        vertical-align: middle;\n",
       "    }\n",
       "\n",
       "    .dataframe tbody tr th {\n",
       "        vertical-align: top;\n",
       "    }\n",
       "\n",
       "    .dataframe thead th {\n",
       "        text-align: right;\n",
       "    }\n",
       "</style>\n",
       "<table border=\"1\" class=\"dataframe\">\n",
       "  <thead>\n",
       "    <tr style=\"text-align: right;\">\n",
       "      <th></th>\n",
       "      <th>review_id</th>\n",
       "      <th>helpful_vote</th>\n",
       "      <th>rating</th>\n",
       "    </tr>\n",
       "  </thead>\n",
       "  <tbody>\n",
       "    <tr>\n",
       "      <td>count</td>\n",
       "      <td>2.414200e+04</td>\n",
       "      <td>24142.000000</td>\n",
       "      <td>24142.000000</td>\n",
       "    </tr>\n",
       "    <tr>\n",
       "      <td>mean</td>\n",
       "      <td>3.190713e+08</td>\n",
       "      <td>33.850799</td>\n",
       "      <td>4.040138</td>\n",
       "    </tr>\n",
       "    <tr>\n",
       "      <td>std</td>\n",
       "      <td>2.014299e+08</td>\n",
       "      <td>217.547614</td>\n",
       "      <td>1.102699</td>\n",
       "    </tr>\n",
       "    <tr>\n",
       "      <td>min</td>\n",
       "      <td>4.726350e+05</td>\n",
       "      <td>0.000000</td>\n",
       "      <td>1.000000</td>\n",
       "    </tr>\n",
       "    <tr>\n",
       "      <td>25%</td>\n",
       "      <td>1.545321e+08</td>\n",
       "      <td>4.000000</td>\n",
       "      <td>3.000000</td>\n",
       "    </tr>\n",
       "    <tr>\n",
       "      <td>50%</td>\n",
       "      <td>2.786538e+08</td>\n",
       "      <td>12.000000</td>\n",
       "      <td>4.000000</td>\n",
       "    </tr>\n",
       "    <tr>\n",
       "      <td>75%</td>\n",
       "      <td>4.730438e+08</td>\n",
       "      <td>33.000000</td>\n",
       "      <td>5.000000</td>\n",
       "    </tr>\n",
       "    <tr>\n",
       "      <td>max</td>\n",
       "      <td>7.526518e+08</td>\n",
       "      <td>20809.000000</td>\n",
       "      <td>5.000000</td>\n",
       "    </tr>\n",
       "  </tbody>\n",
       "</table>\n",
       "</div>"
      ],
      "text/plain": [
       "          review_id  helpful_vote        rating\n",
       "count  2.414200e+04  24142.000000  24142.000000\n",
       "mean   3.190713e+08     33.850799      4.040138\n",
       "std    2.014299e+08    217.547614      1.102699\n",
       "min    4.726350e+05      0.000000      1.000000\n",
       "25%    1.545321e+08      4.000000      3.000000\n",
       "50%    2.786538e+08     12.000000      4.000000\n",
       "75%    4.730438e+08     33.000000      5.000000\n",
       "max    7.526518e+08  20809.000000      5.000000"
      ]
     },
     "execution_count": 9,
     "metadata": {},
     "output_type": "execute_result"
    }
   ],
   "source": [
    "df_all_hotels.describe()"
   ]
  },
  {
   "cell_type": "code",
   "execution_count": 10,
   "metadata": {},
   "outputs": [
    {
     "data": {
      "text/plain": [
       "'I enjoyed my stay overall.The room itself was very nice. On a high floor; spacious 1-bedroom unit with a great balcony view of the water.The resort is huge, so I did get lost trying to find my room, but the staff are very helpful and happy to point in the right direction.Food from the restaurants is good, albeit overpriced (not a surprise, though, really).Check-in was fine, though I was a little nonplussed to have the lady tell me my points redemption for the room I got was \"super high\". Oh swell, lol!I picked up a turkey wrap from the on-site store, and when I opened it in my room soon after (like not even 10 minutes), found it to be mushy and soft. Not at all appetizing or even edible, frankly. That was a disappointment.But, the grounds are amazing! Defo take the time to explore if you can!Express checkout was super handy, as I was out to my next adventure by 6am. I also really appreciated the onsite Starbucks that opened at 5:30.'"
      ]
     },
     "execution_count": 10,
     "metadata": {},
     "output_type": "execute_result"
    }
   ],
   "source": [
    "df_all_hotels['review_body'][0]"
   ]
  },
  {
   "cell_type": "code",
   "execution_count": 11,
   "metadata": {},
   "outputs": [
    {
     "name": "stdout",
     "output_type": "stream",
     "text": [
      "<class 'pandas.core.frame.DataFrame'>\n",
      "RangeIndex: 24142 entries, 0 to 24141\n",
      "Data columns (total 8 columns):\n",
      "review_id        24142 non-null int64\n",
      "url              24142 non-null object\n",
      "hotel_name       24142 non-null object\n",
      "review_date      24142 non-null object\n",
      "review_body      24142 non-null object\n",
      "user_location    21683 non-null object\n",
      "helpful_vote     24142 non-null int64\n",
      "rating           24142 non-null float64\n",
      "dtypes: float64(1), int64(2), object(5)\n",
      "memory usage: 1.5+ MB\n"
     ]
    }
   ],
   "source": [
    "df_all_hotels.info()"
   ]
  },
  {
   "cell_type": "code",
   "execution_count": 12,
   "metadata": {},
   "outputs": [
    {
     "data": {
      "text/html": [
       "<div>\n",
       "<style scoped>\n",
       "    .dataframe tbody tr th:only-of-type {\n",
       "        vertical-align: middle;\n",
       "    }\n",
       "\n",
       "    .dataframe tbody tr th {\n",
       "        vertical-align: top;\n",
       "    }\n",
       "\n",
       "    .dataframe thead th {\n",
       "        text-align: right;\n",
       "    }\n",
       "</style>\n",
       "<table border=\"1\" class=\"dataframe\">\n",
       "  <thead>\n",
       "    <tr style=\"text-align: right;\">\n",
       "      <th></th>\n",
       "      <th>review_id</th>\n",
       "      <th>helpful_vote</th>\n",
       "      <th>rating</th>\n",
       "    </tr>\n",
       "  </thead>\n",
       "  <tbody>\n",
       "    <tr>\n",
       "      <td>count</td>\n",
       "      <td>2.414200e+04</td>\n",
       "      <td>24142.000000</td>\n",
       "      <td>24142.000000</td>\n",
       "    </tr>\n",
       "    <tr>\n",
       "      <td>mean</td>\n",
       "      <td>3.190713e+08</td>\n",
       "      <td>33.850799</td>\n",
       "      <td>4.040138</td>\n",
       "    </tr>\n",
       "    <tr>\n",
       "      <td>std</td>\n",
       "      <td>2.014299e+08</td>\n",
       "      <td>217.547614</td>\n",
       "      <td>1.102699</td>\n",
       "    </tr>\n",
       "    <tr>\n",
       "      <td>min</td>\n",
       "      <td>4.726350e+05</td>\n",
       "      <td>0.000000</td>\n",
       "      <td>1.000000</td>\n",
       "    </tr>\n",
       "    <tr>\n",
       "      <td>25%</td>\n",
       "      <td>1.545321e+08</td>\n",
       "      <td>4.000000</td>\n",
       "      <td>3.000000</td>\n",
       "    </tr>\n",
       "    <tr>\n",
       "      <td>50%</td>\n",
       "      <td>2.786538e+08</td>\n",
       "      <td>12.000000</td>\n",
       "      <td>4.000000</td>\n",
       "    </tr>\n",
       "    <tr>\n",
       "      <td>75%</td>\n",
       "      <td>4.730438e+08</td>\n",
       "      <td>33.000000</td>\n",
       "      <td>5.000000</td>\n",
       "    </tr>\n",
       "    <tr>\n",
       "      <td>max</td>\n",
       "      <td>7.526518e+08</td>\n",
       "      <td>20809.000000</td>\n",
       "      <td>5.000000</td>\n",
       "    </tr>\n",
       "  </tbody>\n",
       "</table>\n",
       "</div>"
      ],
      "text/plain": [
       "          review_id  helpful_vote        rating\n",
       "count  2.414200e+04  24142.000000  24142.000000\n",
       "mean   3.190713e+08     33.850799      4.040138\n",
       "std    2.014299e+08    217.547614      1.102699\n",
       "min    4.726350e+05      0.000000      1.000000\n",
       "25%    1.545321e+08      4.000000      3.000000\n",
       "50%    2.786538e+08     12.000000      4.000000\n",
       "75%    4.730438e+08     33.000000      5.000000\n",
       "max    7.526518e+08  20809.000000      5.000000"
      ]
     },
     "execution_count": 12,
     "metadata": {},
     "output_type": "execute_result"
    }
   ],
   "source": [
    "df_all_hotels.describe()"
   ]
  },
  {
   "cell_type": "code",
   "execution_count": 13,
   "metadata": {},
   "outputs": [
    {
     "data": {
      "text/plain": [
       "'I enjoyed my stay overall.The room itself was very nice. On a high floor; spacious 1-bedroom unit with a great balcony view of the water.The resort is huge, so I did get lost trying to find my room, but the staff are very helpful and happy to point in the right direction.Food from the restaurants is good, albeit overpriced (not a surprise, though, really).Check-in was fine, though I was a little nonplussed to have the lady tell me my points redemption for the room I got was \"super high\". Oh swell, lol!I picked up a turkey wrap from the on-site store, and when I opened it in my room soon after (like not even 10 minutes), found it to be mushy and soft. Not at all appetizing or even edible, frankly. That was a disappointment.But, the grounds are amazing! Defo take the time to explore if you can!Express checkout was super handy, as I was out to my next adventure by 6am. I also really appreciated the onsite Starbucks that opened at 5:30.'"
      ]
     },
     "execution_count": 13,
     "metadata": {},
     "output_type": "execute_result"
    }
   ],
   "source": [
    "df_all_hotels['review_body'][0]"
   ]
  },
  {
   "cell_type": "code",
   "execution_count": 14,
   "metadata": {},
   "outputs": [
    {
     "data": {
      "text/plain": [
       "24139"
      ]
     },
     "execution_count": 14,
     "metadata": {},
     "output_type": "execute_result"
    }
   ],
   "source": [
    "len(df_all_hotels['review_body'].unique())"
   ]
  },
  {
   "cell_type": "code",
   "execution_count": 15,
   "metadata": {},
   "outputs": [
    {
     "data": {
      "text/plain": [
       "3"
      ]
     },
     "execution_count": 15,
     "metadata": {},
     "output_type": "execute_result"
    }
   ],
   "source": [
    "len(df_all_hotels['hotel_name'].unique())"
   ]
  },
  {
   "cell_type": "markdown",
   "metadata": {},
   "source": [
    "## Test getting ~3 reviews per hotel, 30 hotels per city - Tokyo, New York"
   ]
  },
  {
   "cell_type": "code",
   "execution_count": 16,
   "metadata": {},
   "outputs": [],
   "source": [
    "aws_test_data_dir = '../data/web_scraped/aws_test_more_cities/'"
   ]
  },
  {
   "cell_type": "code",
   "execution_count": 17,
   "metadata": {},
   "outputs": [
    {
     "data": {
      "text/plain": [
       "['newyork_pg1', 'tokyo_pg1']"
      ]
     },
     "execution_count": 17,
     "metadata": {},
     "output_type": "execute_result"
    }
   ],
   "source": [
    "# Get all folders - 1 per tripadvisor hotel result page\n",
    "folders = os.listdir(aws_test_data_dir)\n",
    "folders"
   ]
  },
  {
   "cell_type": "code",
   "execution_count": 18,
   "metadata": {},
   "outputs": [
    {
     "name": "stdout",
     "output_type": "stream",
     "text": [
      "['The_Ritz_Carlton_New_York_Central_Park-New_York_City_New_York__en.csv', 'Le_Meridien_New_York_Central_Park-New_York_City_New_York__en.csv', 'Hudson_River_Hotel-New_York_City_New_York__en.csv', 'Pod_51_Hotel-New_York_City_New_York__en.csv', 'Excelsior_Hotel-New_York_City_New_York__en.csv', 'Morningside_Inn-New_York_City_New_York__en.csv', 'Four_Points_by_Sheraton_New_York_Downtown-New_York_City_New_York__en.csv', 'Eurostars_Wall_Street-New_York_City_New_York__en.csv', 'W_New_York_Union_Square-New_York_City_New_York__en.csv', 'Crosby_Street_Hotel-New_York_City_New_York__en.csv', 'Heritage_Hotel_New_York_City-New_York_City_New_York__en.csv', 'Selina_Chelsea-New_York_City_New_York__en.csv', 'New_York_Marriott_East_Side-New_York_City_New_York__en.csv', 'W_New_York_Downtown-New_York_City_New_York__en.csv', 'Midtown_West_Hotel-New_York_City_New_York__en.csv', 'Four_Seasons_Hotel_New_York-New_York_City_New_York__en.csv', 'The_High_Line_Hotel-New_York_City_New_York__en.csv', 'Moxy_NYC_Downtown-New_York_City_New_York__en.csv', '6_Columbus_Central_Park_Hotel-New_York_City_New_York__en.csv', 'Hudson_New_York-New_York_City_New_York__en.csv', 'Hilton_New_York_Fashion_District-New_York_City_New_York__en.csv', 'LUXE_Life_Hotel-New_York_City_New_York__en.csv', 'Off_Soho_Suites-New_York_City_New_York__en.csv', 'The_Whitby_Hotel-New_York_City_New_York__en.csv', 'Sheraton_Tribeca_New_York_Hotel-New_York_City_New_York__en.csv', 'Hampton_Inn_Manhattan_Times_Square_South-New_York_City_New_York__en.csv', 'The_Peninsula_New_York-New_York_City_New_York__en.csv', 'Mandarin_Oriental_New_York-New_York_City_New_York__en.csv', 'Hyatt_Union_Square_New_York-New_York_City_New_York__en.csv', 'New_York_Hilton_Midtown-New_York_City_New_York__en.csv']\n",
      "['Aman_Tokyo-Otemachi_Chiyoda_Tokyo_Tokyo_Prefecture_Kanto__en.csv', 'Mandarin_Oriental_Tokyo-Chuo_Tokyo_Tokyo_Prefecture_Kanto__en.csv', 'The_Prince_Park_Tower_Tokyo-Shibakoen_Minato_Tokyo_Tokyo_Prefecture_Kanto__en.csv', 'Reyado_Hotel_Kudan-Chiyoda_Tokyo_Tokyo_Prefecture_Kanto__en.csv', 'Shibuya_Granbell_hotel-Shibuya_Tokyo_Tokyo_Prefecture_Kanto__en.csv', 'Hotel_Allamanda_Aoyama-Minato_Tokyo_Tokyo_Prefecture_Kanto__en.csv', 'Prostyle_Ryokan_Tokyo_Asakusa-Taito_Tokyo_Tokyo_Prefecture_Kanto__en.csv', 'Hotel_Keihan_Tokyo_Yotsuya-Yotsuya_Shinjuku_Tokyo_Tokyo_Prefecture_Kanto__en.csv', 'Shinjuku_Granbell_Hotel-Kabukicho_Shinjuku_Tokyo_Tokyo_Prefecture_Kanto__en.csv', 'ANA_InterContinental_Tokyo-Akasaka_Minato_Tokyo_Tokyo_Prefecture_Kanto__en.csv', 'Tokyo_Prince_Hotel-Shibakoen_Minato_Tokyo_Tokyo_Prefecture_Kanto__en.csv', 'Ascott_Marunouchi_Tokyo-Otemachi_Chiyoda_Tokyo_Tokyo_Prefecture_Kanto__en.csv', 'Conrad_Tokyo-Minato_Tokyo_Tokyo_Prefecture_Kanto__en.csv', 'Hotel_New_Otani_Garden_Tower-Chiyoda_Tokyo_Tokyo_Prefecture_Kanto__en.csv', 'The_Ritz_Carlton_Tokyo-Akasaka_Minato_Tokyo_Tokyo_Prefecture_Kanto__en.csv', 'The_Tokyo_Station_Hotel-Marunouchi_Chiyoda_Tokyo_Tokyo_Prefecture_Kanto__en.csv', 'Tokyo_Marriott_Hotel-Shinagawa_Tokyo_Tokyo_Prefecture_Kanto__en.csv', 'Four_Seasons_Hotel_Tokyo_at_Marunouchi-Marunouchi_Chiyoda_Tokyo_Tokyo_Prefecture_Kant__en.csv', 'The_Royal_Park_Hotel_Iconic_Tokyo_Shiodome-Minato_Tokyo_Tokyo_Prefecture_Kanto__en.csv', 'Shibuya_Stream_Excel_Hotel_Tokyu-Shibuya_Tokyo_Tokyo_Prefecture_Kanto__en.csv', 'Hotel_K5-Chuo_Tokyo_Tokyo_Prefecture_Kanto__en.csv', 'BnA_HOTEL_Koenji-Suginami_Tokyo_Tokyo_Prefecture_Kanto__en.csv', 'Mitsui_Garden_Hotel_Nihonbashi_Premier-Chuo_Tokyo_Tokyo_Prefecture_Kanto__en.csv', 'Andaz_Tokyo_Toranomon_Hills-Toranomon_Minato_Tokyo_Tokyo_Prefecture_Kanto__en.csv', 'First_Cabin_Haneda_Terminal_1-Ota_Tokyo_Tokyo_Prefecture_Kanto__en.csv', 'Grand_Prince_Hotel_New_Takanawa-Takanawa_Minato_Tokyo_Tokyo_Prefecture_Kanto__en.csv', 'The_Peninsula_Tokyo-Yurakucho_Chiyoda_Tokyo_Tokyo_Prefecture_Kanto__en.csv', 'Shibuya_Tokyu_REI_Hotel-Shibuya_Tokyo_Tokyo_Prefecture_Kanto__en.csv', 'The_Lively_Azabujuban_Tokyo-Azabujuban_Minato_Tokyo_Tokyo_Prefecture_Kanto__en.csv', 'Grand_Hyatt_Tokyo-Roppongi_Minato_Tokyo_Tokyo_Prefecture_Kanto__en.csv']\n"
     ]
    },
    {
     "data": {
      "text/plain": [
       "(176, 8)"
      ]
     },
     "execution_count": 18,
     "metadata": {},
     "output_type": "execute_result"
    }
   ],
   "source": [
    "# From each folder, read all CSV files - 1 per hotel\n",
    "dfs = []\n",
    "for folder in folders:\n",
    "#     print(folder)\n",
    "    data_dir = aws_test_data_dir + '/' + folder + '/'\n",
    "    csv_filenames = os.listdir(data_dir)\n",
    "    print(csv_filenames)\n",
    "    for name in csv_filenames:\n",
    "        dfs.append(pd.read_csv(data_dir + name))\n",
    "df_all_hotels = pd.concat(dfs, ignore_index=True)\n",
    "df_all_hotels.shape"
   ]
  },
  {
   "cell_type": "code",
   "execution_count": 19,
   "metadata": {},
   "outputs": [
    {
     "data": {
      "text/html": [
       "<div>\n",
       "<style scoped>\n",
       "    .dataframe tbody tr th:only-of-type {\n",
       "        vertical-align: middle;\n",
       "    }\n",
       "\n",
       "    .dataframe tbody tr th {\n",
       "        vertical-align: top;\n",
       "    }\n",
       "\n",
       "    .dataframe thead th {\n",
       "        text-align: right;\n",
       "    }\n",
       "</style>\n",
       "<table border=\"1\" class=\"dataframe\">\n",
       "  <thead>\n",
       "    <tr style=\"text-align: right;\">\n",
       "      <th></th>\n",
       "      <th>review_id</th>\n",
       "      <th>url</th>\n",
       "      <th>hotel_name</th>\n",
       "      <th>review_date</th>\n",
       "      <th>review_body</th>\n",
       "      <th>user_location</th>\n",
       "      <th>helpful_vote</th>\n",
       "      <th>rating</th>\n",
       "    </tr>\n",
       "  </thead>\n",
       "  <tbody>\n",
       "    <tr>\n",
       "      <td>0</td>\n",
       "      <td>752631261</td>\n",
       "      <td>https://www.tripadvisor.com/Hotel_Review-g6076...</td>\n",
       "      <td>The Ritz-Carlton New York, Central Park</td>\n",
       "      <td>April 14, 2020</td>\n",
       "      <td>The room is big enough, the location is on the...</td>\n",
       "      <td>St. Catharines, Canada</td>\n",
       "      <td>30</td>\n",
       "      <td>4.0</td>\n",
       "    </tr>\n",
       "    <tr>\n",
       "      <td>1</td>\n",
       "      <td>747136638</td>\n",
       "      <td>https://www.tripadvisor.com/Hotel_Review-g6076...</td>\n",
       "      <td>The Ritz-Carlton New York, Central Park</td>\n",
       "      <td>February 23, 2020</td>\n",
       "      <td>The bar and restaurant surrounding the courtya...</td>\n",
       "      <td>Mexico City, Mexico</td>\n",
       "      <td>20</td>\n",
       "      <td>5.0</td>\n",
       "    </tr>\n",
       "    <tr>\n",
       "      <td>2</td>\n",
       "      <td>746754082</td>\n",
       "      <td>https://www.tripadvisor.com/Hotel_Review-g6076...</td>\n",
       "      <td>The Ritz-Carlton New York, Central Park</td>\n",
       "      <td>February 22, 2020</td>\n",
       "      <td>The hotel was nice, the room was clean and spa...</td>\n",
       "      <td>NaN</td>\n",
       "      <td>0</td>\n",
       "      <td>3.0</td>\n",
       "    </tr>\n",
       "    <tr>\n",
       "      <td>3</td>\n",
       "      <td>751342159</td>\n",
       "      <td>https://www.tripadvisor.com/Hotel_Review-g6076...</td>\n",
       "      <td>Le Meridien New York, Central Park</td>\n",
       "      <td>March 18, 2020</td>\n",
       "      <td>We stayed a total of 4 nights after a terrible...</td>\n",
       "      <td>NaN</td>\n",
       "      <td>0</td>\n",
       "      <td>5.0</td>\n",
       "    </tr>\n",
       "    <tr>\n",
       "      <td>4</td>\n",
       "      <td>750721023</td>\n",
       "      <td>https://www.tripadvisor.com/Hotel_Review-g6076...</td>\n",
       "      <td>Le Meridien New York, Central Park</td>\n",
       "      <td>March 13, 2020</td>\n",
       "      <td>While the rooms are nice, cozy and in line wit...</td>\n",
       "      <td>NaN</td>\n",
       "      <td>0</td>\n",
       "      <td>5.0</td>\n",
       "    </tr>\n",
       "  </tbody>\n",
       "</table>\n",
       "</div>"
      ],
      "text/plain": [
       "   review_id                                                url  \\\n",
       "0  752631261  https://www.tripadvisor.com/Hotel_Review-g6076...   \n",
       "1  747136638  https://www.tripadvisor.com/Hotel_Review-g6076...   \n",
       "2  746754082  https://www.tripadvisor.com/Hotel_Review-g6076...   \n",
       "3  751342159  https://www.tripadvisor.com/Hotel_Review-g6076...   \n",
       "4  750721023  https://www.tripadvisor.com/Hotel_Review-g6076...   \n",
       "\n",
       "                                hotel_name        review_date  \\\n",
       "0  The Ritz-Carlton New York, Central Park     April 14, 2020   \n",
       "1  The Ritz-Carlton New York, Central Park  February 23, 2020   \n",
       "2  The Ritz-Carlton New York, Central Park  February 22, 2020   \n",
       "3       Le Meridien New York, Central Park     March 18, 2020   \n",
       "4       Le Meridien New York, Central Park     March 13, 2020   \n",
       "\n",
       "                                         review_body           user_location  \\\n",
       "0  The room is big enough, the location is on the...  St. Catharines, Canada   \n",
       "1  The bar and restaurant surrounding the courtya...     Mexico City, Mexico   \n",
       "2  The hotel was nice, the room was clean and spa...                     NaN   \n",
       "3  We stayed a total of 4 nights after a terrible...                     NaN   \n",
       "4  While the rooms are nice, cozy and in line wit...                     NaN   \n",
       "\n",
       "   helpful_vote  rating  \n",
       "0            30     4.0  \n",
       "1            20     5.0  \n",
       "2             0     3.0  \n",
       "3             0     5.0  \n",
       "4             0     5.0  "
      ]
     },
     "execution_count": 19,
     "metadata": {},
     "output_type": "execute_result"
    }
   ],
   "source": [
    "df_all_hotels.head()"
   ]
  },
  {
   "cell_type": "code",
   "execution_count": 20,
   "metadata": {},
   "outputs": [
    {
     "data": {
      "text/html": [
       "<div>\n",
       "<style scoped>\n",
       "    .dataframe tbody tr th:only-of-type {\n",
       "        vertical-align: middle;\n",
       "    }\n",
       "\n",
       "    .dataframe tbody tr th {\n",
       "        vertical-align: top;\n",
       "    }\n",
       "\n",
       "    .dataframe thead th {\n",
       "        text-align: right;\n",
       "    }\n",
       "</style>\n",
       "<table border=\"1\" class=\"dataframe\">\n",
       "  <thead>\n",
       "    <tr style=\"text-align: right;\">\n",
       "      <th></th>\n",
       "      <th>review_id</th>\n",
       "      <th>url</th>\n",
       "      <th>hotel_name</th>\n",
       "      <th>review_date</th>\n",
       "      <th>review_body</th>\n",
       "      <th>user_location</th>\n",
       "      <th>helpful_vote</th>\n",
       "      <th>rating</th>\n",
       "    </tr>\n",
       "  </thead>\n",
       "  <tbody>\n",
       "    <tr>\n",
       "      <td>171</td>\n",
       "      <td>751973851</td>\n",
       "      <td>https://www.tripadvisor.com/Hotel_Review-g1412...</td>\n",
       "      <td>The Lively Azabujuban Tokyo</td>\n",
       "      <td>March 28, 2020</td>\n",
       "      <td>Fancy a nice Western bar that is a great alter...</td>\n",
       "      <td>NaN</td>\n",
       "      <td>48</td>\n",
       "      <td>5.0</td>\n",
       "    </tr>\n",
       "    <tr>\n",
       "      <td>172</td>\n",
       "      <td>751468115</td>\n",
       "      <td>https://www.tripadvisor.com/Hotel_Review-g1412...</td>\n",
       "      <td>The Lively Azabujuban Tokyo</td>\n",
       "      <td>March 20, 2020</td>\n",
       "      <td>Well located and friendly hotel. Well position...</td>\n",
       "      <td>Khabarovsk, Russia</td>\n",
       "      <td>0</td>\n",
       "      <td>5.0</td>\n",
       "    </tr>\n",
       "    <tr>\n",
       "      <td>173</td>\n",
       "      <td>751326811</td>\n",
       "      <td>https://www.tripadvisor.com/Hotel_Review-g1412...</td>\n",
       "      <td>Grand Hyatt Tokyo</td>\n",
       "      <td>March 18, 2020</td>\n",
       "      <td>This is a great hotel for business or leisure....</td>\n",
       "      <td>Singapore, Singapore</td>\n",
       "      <td>7</td>\n",
       "      <td>5.0</td>\n",
       "    </tr>\n",
       "    <tr>\n",
       "      <td>174</td>\n",
       "      <td>749939076</td>\n",
       "      <td>https://www.tripadvisor.com/Hotel_Review-g1412...</td>\n",
       "      <td>Grand Hyatt Tokyo</td>\n",
       "      <td>March 8, 2020</td>\n",
       "      <td>Staff in this hotel went out of their way to b...</td>\n",
       "      <td>Whangaparaoa, New Zealand</td>\n",
       "      <td>9</td>\n",
       "      <td>5.0</td>\n",
       "    </tr>\n",
       "    <tr>\n",
       "      <td>175</td>\n",
       "      <td>747469546</td>\n",
       "      <td>https://www.tripadvisor.com/Hotel_Review-g1412...</td>\n",
       "      <td>Grand Hyatt Tokyo</td>\n",
       "      <td>February 24, 2020</td>\n",
       "      <td>The Grand Hyatt is located in Mori Building, d...</td>\n",
       "      <td>San Francisco, California, United States</td>\n",
       "      <td>2</td>\n",
       "      <td>5.0</td>\n",
       "    </tr>\n",
       "  </tbody>\n",
       "</table>\n",
       "</div>"
      ],
      "text/plain": [
       "     review_id                                                url  \\\n",
       "171  751973851  https://www.tripadvisor.com/Hotel_Review-g1412...   \n",
       "172  751468115  https://www.tripadvisor.com/Hotel_Review-g1412...   \n",
       "173  751326811  https://www.tripadvisor.com/Hotel_Review-g1412...   \n",
       "174  749939076  https://www.tripadvisor.com/Hotel_Review-g1412...   \n",
       "175  747469546  https://www.tripadvisor.com/Hotel_Review-g1412...   \n",
       "\n",
       "                      hotel_name        review_date  \\\n",
       "171  The Lively Azabujuban Tokyo     March 28, 2020   \n",
       "172  The Lively Azabujuban Tokyo     March 20, 2020   \n",
       "173            Grand Hyatt Tokyo     March 18, 2020   \n",
       "174            Grand Hyatt Tokyo      March 8, 2020   \n",
       "175            Grand Hyatt Tokyo  February 24, 2020   \n",
       "\n",
       "                                           review_body  \\\n",
       "171  Fancy a nice Western bar that is a great alter...   \n",
       "172  Well located and friendly hotel. Well position...   \n",
       "173  This is a great hotel for business or leisure....   \n",
       "174  Staff in this hotel went out of their way to b...   \n",
       "175  The Grand Hyatt is located in Mori Building, d...   \n",
       "\n",
       "                                user_location  helpful_vote  rating  \n",
       "171                                       NaN            48     5.0  \n",
       "172                        Khabarovsk, Russia             0     5.0  \n",
       "173                      Singapore, Singapore             7     5.0  \n",
       "174                 Whangaparaoa, New Zealand             9     5.0  \n",
       "175  San Francisco, California, United States             2     5.0  "
      ]
     },
     "execution_count": 20,
     "metadata": {},
     "output_type": "execute_result"
    }
   ],
   "source": [
    "df_all_hotels.tail()"
   ]
  },
  {
   "cell_type": "code",
   "execution_count": 21,
   "metadata": {},
   "outputs": [
    {
     "name": "stdout",
     "output_type": "stream",
     "text": [
      "<class 'pandas.core.frame.DataFrame'>\n",
      "RangeIndex: 176 entries, 0 to 175\n",
      "Data columns (total 8 columns):\n",
      "review_id        176 non-null int64\n",
      "url              176 non-null object\n",
      "hotel_name       176 non-null object\n",
      "review_date      176 non-null object\n",
      "review_body      176 non-null object\n",
      "user_location    130 non-null object\n",
      "helpful_vote     176 non-null int64\n",
      "rating           176 non-null float64\n",
      "dtypes: float64(1), int64(2), object(5)\n",
      "memory usage: 11.1+ KB\n"
     ]
    }
   ],
   "source": [
    "df_all_hotels.info()"
   ]
  },
  {
   "cell_type": "code",
   "execution_count": 22,
   "metadata": {},
   "outputs": [
    {
     "data": {
      "text/html": [
       "<div>\n",
       "<style scoped>\n",
       "    .dataframe tbody tr th:only-of-type {\n",
       "        vertical-align: middle;\n",
       "    }\n",
       "\n",
       "    .dataframe tbody tr th {\n",
       "        vertical-align: top;\n",
       "    }\n",
       "\n",
       "    .dataframe thead th {\n",
       "        text-align: right;\n",
       "    }\n",
       "</style>\n",
       "<table border=\"1\" class=\"dataframe\">\n",
       "  <thead>\n",
       "    <tr style=\"text-align: right;\">\n",
       "      <th></th>\n",
       "      <th>review_id</th>\n",
       "      <th>helpful_vote</th>\n",
       "      <th>rating</th>\n",
       "    </tr>\n",
       "  </thead>\n",
       "  <tbody>\n",
       "    <tr>\n",
       "      <td>count</td>\n",
       "      <td>1.760000e+02</td>\n",
       "      <td>176.000000</td>\n",
       "      <td>176.000000</td>\n",
       "    </tr>\n",
       "    <tr>\n",
       "      <td>mean</td>\n",
       "      <td>7.429586e+08</td>\n",
       "      <td>120.573864</td>\n",
       "      <td>3.937500</td>\n",
       "    </tr>\n",
       "    <tr>\n",
       "      <td>std</td>\n",
       "      <td>1.929785e+07</td>\n",
       "      <td>1276.530174</td>\n",
       "      <td>1.331621</td>\n",
       "    </tr>\n",
       "    <tr>\n",
       "      <td>min</td>\n",
       "      <td>5.808149e+08</td>\n",
       "      <td>0.000000</td>\n",
       "      <td>1.000000</td>\n",
       "    </tr>\n",
       "    <tr>\n",
       "      <td>25%</td>\n",
       "      <td>7.433545e+08</td>\n",
       "      <td>0.000000</td>\n",
       "      <td>3.000000</td>\n",
       "    </tr>\n",
       "    <tr>\n",
       "      <td>50%</td>\n",
       "      <td>7.488069e+08</td>\n",
       "      <td>6.000000</td>\n",
       "      <td>4.000000</td>\n",
       "    </tr>\n",
       "    <tr>\n",
       "      <td>75%</td>\n",
       "      <td>7.512533e+08</td>\n",
       "      <td>26.500000</td>\n",
       "      <td>5.000000</td>\n",
       "    </tr>\n",
       "    <tr>\n",
       "      <td>max</td>\n",
       "      <td>7.533618e+08</td>\n",
       "      <td>16943.000000</td>\n",
       "      <td>5.000000</td>\n",
       "    </tr>\n",
       "  </tbody>\n",
       "</table>\n",
       "</div>"
      ],
      "text/plain": [
       "          review_id  helpful_vote      rating\n",
       "count  1.760000e+02    176.000000  176.000000\n",
       "mean   7.429586e+08    120.573864    3.937500\n",
       "std    1.929785e+07   1276.530174    1.331621\n",
       "min    5.808149e+08      0.000000    1.000000\n",
       "25%    7.433545e+08      0.000000    3.000000\n",
       "50%    7.488069e+08      6.000000    4.000000\n",
       "75%    7.512533e+08     26.500000    5.000000\n",
       "max    7.533618e+08  16943.000000    5.000000"
      ]
     },
     "execution_count": 22,
     "metadata": {},
     "output_type": "execute_result"
    }
   ],
   "source": [
    "df_all_hotels.describe()"
   ]
  },
  {
   "cell_type": "code",
   "execution_count": 23,
   "metadata": {},
   "outputs": [
    {
     "data": {
      "text/plain": [
       "'The room is big enough, the location is on the edge of Central Park, very good scenery from the room. It’s also really pleasant for morning jogging. Very professional and friendly front desk. There are many restaurants around the hotel and there is a huge food supermarket. The hotel facilities are a bit old, but still doable. '"
      ]
     },
     "execution_count": 23,
     "metadata": {},
     "output_type": "execute_result"
    }
   ],
   "source": [
    "df_all_hotels['review_body'][0]"
   ]
  },
  {
   "cell_type": "code",
   "execution_count": 24,
   "metadata": {},
   "outputs": [
    {
     "name": "stdout",
     "output_type": "stream",
     "text": [
      "<class 'pandas.core.frame.DataFrame'>\n",
      "RangeIndex: 176 entries, 0 to 175\n",
      "Data columns (total 8 columns):\n",
      "review_id        176 non-null int64\n",
      "url              176 non-null object\n",
      "hotel_name       176 non-null object\n",
      "review_date      176 non-null object\n",
      "review_body      176 non-null object\n",
      "user_location    130 non-null object\n",
      "helpful_vote     176 non-null int64\n",
      "rating           176 non-null float64\n",
      "dtypes: float64(1), int64(2), object(5)\n",
      "memory usage: 11.1+ KB\n"
     ]
    }
   ],
   "source": [
    "df_all_hotels.info()"
   ]
  },
  {
   "cell_type": "code",
   "execution_count": 25,
   "metadata": {},
   "outputs": [
    {
     "data": {
      "text/html": [
       "<div>\n",
       "<style scoped>\n",
       "    .dataframe tbody tr th:only-of-type {\n",
       "        vertical-align: middle;\n",
       "    }\n",
       "\n",
       "    .dataframe tbody tr th {\n",
       "        vertical-align: top;\n",
       "    }\n",
       "\n",
       "    .dataframe thead th {\n",
       "        text-align: right;\n",
       "    }\n",
       "</style>\n",
       "<table border=\"1\" class=\"dataframe\">\n",
       "  <thead>\n",
       "    <tr style=\"text-align: right;\">\n",
       "      <th></th>\n",
       "      <th>review_id</th>\n",
       "      <th>helpful_vote</th>\n",
       "      <th>rating</th>\n",
       "    </tr>\n",
       "  </thead>\n",
       "  <tbody>\n",
       "    <tr>\n",
       "      <td>count</td>\n",
       "      <td>1.760000e+02</td>\n",
       "      <td>176.000000</td>\n",
       "      <td>176.000000</td>\n",
       "    </tr>\n",
       "    <tr>\n",
       "      <td>mean</td>\n",
       "      <td>7.429586e+08</td>\n",
       "      <td>120.573864</td>\n",
       "      <td>3.937500</td>\n",
       "    </tr>\n",
       "    <tr>\n",
       "      <td>std</td>\n",
       "      <td>1.929785e+07</td>\n",
       "      <td>1276.530174</td>\n",
       "      <td>1.331621</td>\n",
       "    </tr>\n",
       "    <tr>\n",
       "      <td>min</td>\n",
       "      <td>5.808149e+08</td>\n",
       "      <td>0.000000</td>\n",
       "      <td>1.000000</td>\n",
       "    </tr>\n",
       "    <tr>\n",
       "      <td>25%</td>\n",
       "      <td>7.433545e+08</td>\n",
       "      <td>0.000000</td>\n",
       "      <td>3.000000</td>\n",
       "    </tr>\n",
       "    <tr>\n",
       "      <td>50%</td>\n",
       "      <td>7.488069e+08</td>\n",
       "      <td>6.000000</td>\n",
       "      <td>4.000000</td>\n",
       "    </tr>\n",
       "    <tr>\n",
       "      <td>75%</td>\n",
       "      <td>7.512533e+08</td>\n",
       "      <td>26.500000</td>\n",
       "      <td>5.000000</td>\n",
       "    </tr>\n",
       "    <tr>\n",
       "      <td>max</td>\n",
       "      <td>7.533618e+08</td>\n",
       "      <td>16943.000000</td>\n",
       "      <td>5.000000</td>\n",
       "    </tr>\n",
       "  </tbody>\n",
       "</table>\n",
       "</div>"
      ],
      "text/plain": [
       "          review_id  helpful_vote      rating\n",
       "count  1.760000e+02    176.000000  176.000000\n",
       "mean   7.429586e+08    120.573864    3.937500\n",
       "std    1.929785e+07   1276.530174    1.331621\n",
       "min    5.808149e+08      0.000000    1.000000\n",
       "25%    7.433545e+08      0.000000    3.000000\n",
       "50%    7.488069e+08      6.000000    4.000000\n",
       "75%    7.512533e+08     26.500000    5.000000\n",
       "max    7.533618e+08  16943.000000    5.000000"
      ]
     },
     "execution_count": 25,
     "metadata": {},
     "output_type": "execute_result"
    }
   ],
   "source": [
    "df_all_hotels.describe()"
   ]
  },
  {
   "cell_type": "code",
   "execution_count": 26,
   "metadata": {},
   "outputs": [
    {
     "data": {
      "text/plain": [
       "'The room is big enough, the location is on the edge of Central Park, very good scenery from the room. It’s also really pleasant for morning jogging. Very professional and friendly front desk. There are many restaurants around the hotel and there is a huge food supermarket. The hotel facilities are a bit old, but still doable. '"
      ]
     },
     "execution_count": 26,
     "metadata": {},
     "output_type": "execute_result"
    }
   ],
   "source": [
    "df_all_hotels['review_body'][0]"
   ]
  },
  {
   "cell_type": "code",
   "execution_count": 27,
   "metadata": {},
   "outputs": [
    {
     "data": {
      "text/plain": [
       "176"
      ]
     },
     "execution_count": 27,
     "metadata": {},
     "output_type": "execute_result"
    }
   ],
   "source": [
    "len(df_all_hotels['review_body'].unique())"
   ]
  },
  {
   "cell_type": "code",
   "execution_count": 28,
   "metadata": {},
   "outputs": [
    {
     "data": {
      "text/plain": [
       "60"
      ]
     },
     "execution_count": 28,
     "metadata": {},
     "output_type": "execute_result"
    }
   ],
   "source": [
    "len(df_all_hotels['hotel_name'].unique())"
   ]
  },
  {
   "cell_type": "markdown",
   "metadata": {},
   "source": [
    "## Test getting ~3 reviews per hotel, all hotels - Honolulu"
   ]
  },
  {
   "cell_type": "code",
   "execution_count": 29,
   "metadata": {},
   "outputs": [],
   "source": [
    "aws_test_data_dir = '../data/web_scraped/aws_test/'"
   ]
  },
  {
   "cell_type": "code",
   "execution_count": 30,
   "metadata": {},
   "outputs": [
    {
     "data": {
      "text/plain": [
       "['pg1', 'pg4', 'pg3', 'pg2']"
      ]
     },
     "execution_count": 30,
     "metadata": {},
     "output_type": "execute_result"
    }
   ],
   "source": [
    "# Get all folders - 1 per tripadvisor hotel result page\n",
    "folders = os.listdir(aws_test_data_dir)\n",
    "folders"
   ]
  },
  {
   "cell_type": "code",
   "execution_count": 31,
   "metadata": {},
   "outputs": [
    {
     "data": {
      "text/plain": [
       "(266, 8)"
      ]
     },
     "execution_count": 31,
     "metadata": {},
     "output_type": "execute_result"
    }
   ],
   "source": [
    "# From each folder, read all CSV files - 1 per hotel\n",
    "dfs = []\n",
    "for folder in folders:\n",
    "#     print(folder)\n",
    "    data_dir = aws_test_data_dir + '/' + folder + '/'\n",
    "    csv_filenames = os.listdir(data_dir)    \n",
    "    for name in csv_filenames:\n",
    "        dfs.append(pd.read_csv(data_dir + name))\n",
    "df_all_hotels = pd.concat(dfs, ignore_index=True)\n",
    "df_all_hotels.shape"
   ]
  },
  {
   "cell_type": "code",
   "execution_count": 32,
   "metadata": {
    "scrolled": true
   },
   "outputs": [
    {
     "data": {
      "text/html": [
       "<div>\n",
       "<style scoped>\n",
       "    .dataframe tbody tr th:only-of-type {\n",
       "        vertical-align: middle;\n",
       "    }\n",
       "\n",
       "    .dataframe tbody tr th {\n",
       "        vertical-align: top;\n",
       "    }\n",
       "\n",
       "    .dataframe thead th {\n",
       "        text-align: right;\n",
       "    }\n",
       "</style>\n",
       "<table border=\"1\" class=\"dataframe\">\n",
       "  <thead>\n",
       "    <tr style=\"text-align: right;\">\n",
       "      <th></th>\n",
       "      <th>review_id</th>\n",
       "      <th>url</th>\n",
       "      <th>hotel_name</th>\n",
       "      <th>review_date</th>\n",
       "      <th>review_body</th>\n",
       "      <th>user_location</th>\n",
       "      <th>helpful_vote</th>\n",
       "      <th>rating</th>\n",
       "    </tr>\n",
       "  </thead>\n",
       "  <tbody>\n",
       "    <tr>\n",
       "      <td>0</td>\n",
       "      <td>750305270</td>\n",
       "      <td>https://www.tripadvisor.com/Hotel_Review-g6098...</td>\n",
       "      <td>OHANA Waikiki Malia by Outrigger</td>\n",
       "      <td>March 10, 2020</td>\n",
       "      <td>If you are visiting Honolulu on a budget this ...</td>\n",
       "      <td>Medicine Hat, Canada</td>\n",
       "      <td>0</td>\n",
       "      <td>3.0</td>\n",
       "    </tr>\n",
       "    <tr>\n",
       "      <td>1</td>\n",
       "      <td>750121846</td>\n",
       "      <td>https://www.tripadvisor.com/Hotel_Review-g6098...</td>\n",
       "      <td>OHANA Waikiki Malia by Outrigger</td>\n",
       "      <td>March 9, 2020</td>\n",
       "      <td>2 nights here. Bed was comfortable shower pres...</td>\n",
       "      <td>NaN</td>\n",
       "      <td>0</td>\n",
       "      <td>4.0</td>\n",
       "    </tr>\n",
       "    <tr>\n",
       "      <td>2</td>\n",
       "      <td>746226779</td>\n",
       "      <td>https://www.tripadvisor.com/Hotel_Review-g6098...</td>\n",
       "      <td>OHANA Waikiki Malia by Outrigger</td>\n",
       "      <td>February 19, 2020</td>\n",
       "      <td>The property is in a decent location with cour...</td>\n",
       "      <td>Las Vegas, Nevada</td>\n",
       "      <td>1</td>\n",
       "      <td>1.0</td>\n",
       "    </tr>\n",
       "    <tr>\n",
       "      <td>3</td>\n",
       "      <td>752651761</td>\n",
       "      <td>https://www.tripadvisor.ca/Hotel_Review-g60982...</td>\n",
       "      <td>Hilton Hawaiian Village Waikiki Beach Resort</td>\n",
       "      <td>April 15, 2020</td>\n",
       "      <td>I enjoyed my stay overall.The room itself was ...</td>\n",
       "      <td>Seattle, Washington</td>\n",
       "      <td>35</td>\n",
       "      <td>4.0</td>\n",
       "    </tr>\n",
       "    <tr>\n",
       "      <td>4</td>\n",
       "      <td>752585766</td>\n",
       "      <td>https://www.tripadvisor.ca/Hotel_Review-g60982...</td>\n",
       "      <td>Hilton Hawaiian Village Waikiki Beach Resort</td>\n",
       "      <td>April 13, 2020</td>\n",
       "      <td>Our family stayed here as a last second switch...</td>\n",
       "      <td>Pella, Iowa</td>\n",
       "      <td>3</td>\n",
       "      <td>5.0</td>\n",
       "    </tr>\n",
       "  </tbody>\n",
       "</table>\n",
       "</div>"
      ],
      "text/plain": [
       "   review_id                                                url  \\\n",
       "0  750305270  https://www.tripadvisor.com/Hotel_Review-g6098...   \n",
       "1  750121846  https://www.tripadvisor.com/Hotel_Review-g6098...   \n",
       "2  746226779  https://www.tripadvisor.com/Hotel_Review-g6098...   \n",
       "3  752651761  https://www.tripadvisor.ca/Hotel_Review-g60982...   \n",
       "4  752585766  https://www.tripadvisor.ca/Hotel_Review-g60982...   \n",
       "\n",
       "                                     hotel_name        review_date  \\\n",
       "0              OHANA Waikiki Malia by Outrigger     March 10, 2020   \n",
       "1              OHANA Waikiki Malia by Outrigger      March 9, 2020   \n",
       "2              OHANA Waikiki Malia by Outrigger  February 19, 2020   \n",
       "3  Hilton Hawaiian Village Waikiki Beach Resort     April 15, 2020   \n",
       "4  Hilton Hawaiian Village Waikiki Beach Resort     April 13, 2020   \n",
       "\n",
       "                                         review_body         user_location  \\\n",
       "0  If you are visiting Honolulu on a budget this ...  Medicine Hat, Canada   \n",
       "1  2 nights here. Bed was comfortable shower pres...                   NaN   \n",
       "2  The property is in a decent location with cour...     Las Vegas, Nevada   \n",
       "3  I enjoyed my stay overall.The room itself was ...   Seattle, Washington   \n",
       "4  Our family stayed here as a last second switch...           Pella, Iowa   \n",
       "\n",
       "   helpful_vote  rating  \n",
       "0             0     3.0  \n",
       "1             0     4.0  \n",
       "2             1     1.0  \n",
       "3            35     4.0  \n",
       "4             3     5.0  "
      ]
     },
     "execution_count": 32,
     "metadata": {},
     "output_type": "execute_result"
    }
   ],
   "source": [
    "df_all_hotels.head()"
   ]
  },
  {
   "cell_type": "code",
   "execution_count": 33,
   "metadata": {},
   "outputs": [
    {
     "data": {
      "text/html": [
       "<div>\n",
       "<style scoped>\n",
       "    .dataframe tbody tr th:only-of-type {\n",
       "        vertical-align: middle;\n",
       "    }\n",
       "\n",
       "    .dataframe tbody tr th {\n",
       "        vertical-align: top;\n",
       "    }\n",
       "\n",
       "    .dataframe thead th {\n",
       "        text-align: right;\n",
       "    }\n",
       "</style>\n",
       "<table border=\"1\" class=\"dataframe\">\n",
       "  <thead>\n",
       "    <tr style=\"text-align: right;\">\n",
       "      <th></th>\n",
       "      <th>review_id</th>\n",
       "      <th>url</th>\n",
       "      <th>hotel_name</th>\n",
       "      <th>review_date</th>\n",
       "      <th>review_body</th>\n",
       "      <th>user_location</th>\n",
       "      <th>helpful_vote</th>\n",
       "      <th>rating</th>\n",
       "    </tr>\n",
       "  </thead>\n",
       "  <tbody>\n",
       "    <tr>\n",
       "      <td>261</td>\n",
       "      <td>748360164</td>\n",
       "      <td>https://www.tripadvisor.com/Hotel_Review-g6098...</td>\n",
       "      <td>Aqua Aloha Surf Waikiki</td>\n",
       "      <td>February 29, 2020</td>\n",
       "      <td>Check in staff (and check-out) were very, very...</td>\n",
       "      <td>Island of Hawaii, Hawaii</td>\n",
       "      <td>34</td>\n",
       "      <td>2.0</td>\n",
       "    </tr>\n",
       "    <tr>\n",
       "      <td>262</td>\n",
       "      <td>737718477</td>\n",
       "      <td>https://www.tripadvisor.com/Hotel_Review-g6098...</td>\n",
       "      <td>Aqua Aloha Surf Waikiki</td>\n",
       "      <td>January 7, 2020</td>\n",
       "      <td>Located within walking distance from the beach...</td>\n",
       "      <td>NaN</td>\n",
       "      <td>3</td>\n",
       "      <td>3.0</td>\n",
       "    </tr>\n",
       "    <tr>\n",
       "      <td>263</td>\n",
       "      <td>752329491</td>\n",
       "      <td>https://www.tripadvisor.com/Hotel_Review-g6098...</td>\n",
       "      <td>Airport Honolulu Hotel</td>\n",
       "      <td>April 6, 2020</td>\n",
       "      <td>The hotel is nice and clean, even during the C...</td>\n",
       "      <td>NaN</td>\n",
       "      <td>0</td>\n",
       "      <td>5.0</td>\n",
       "    </tr>\n",
       "    <tr>\n",
       "      <td>264</td>\n",
       "      <td>751890692</td>\n",
       "      <td>https://www.tripadvisor.com/Hotel_Review-g6098...</td>\n",
       "      <td>Airport Honolulu Hotel</td>\n",
       "      <td>March 27, 2020</td>\n",
       "      <td>The hotel was great. Clean room and is dated a...</td>\n",
       "      <td>Mudgee, Australia</td>\n",
       "      <td>0</td>\n",
       "      <td>5.0</td>\n",
       "    </tr>\n",
       "    <tr>\n",
       "      <td>265</td>\n",
       "      <td>750263150</td>\n",
       "      <td>https://www.tripadvisor.com/Hotel_Review-g6098...</td>\n",
       "      <td>Airport Honolulu Hotel</td>\n",
       "      <td>March 10, 2020</td>\n",
       "      <td>We just needed an overnight place to sleep. Th...</td>\n",
       "      <td>Laguna Beach, California</td>\n",
       "      <td>4</td>\n",
       "      <td>2.0</td>\n",
       "    </tr>\n",
       "  </tbody>\n",
       "</table>\n",
       "</div>"
      ],
      "text/plain": [
       "     review_id                                                url  \\\n",
       "261  748360164  https://www.tripadvisor.com/Hotel_Review-g6098...   \n",
       "262  737718477  https://www.tripadvisor.com/Hotel_Review-g6098...   \n",
       "263  752329491  https://www.tripadvisor.com/Hotel_Review-g6098...   \n",
       "264  751890692  https://www.tripadvisor.com/Hotel_Review-g6098...   \n",
       "265  750263150  https://www.tripadvisor.com/Hotel_Review-g6098...   \n",
       "\n",
       "                  hotel_name        review_date  \\\n",
       "261  Aqua Aloha Surf Waikiki  February 29, 2020   \n",
       "262  Aqua Aloha Surf Waikiki    January 7, 2020   \n",
       "263   Airport Honolulu Hotel      April 6, 2020   \n",
       "264   Airport Honolulu Hotel     March 27, 2020   \n",
       "265   Airport Honolulu Hotel     March 10, 2020   \n",
       "\n",
       "                                           review_body  \\\n",
       "261  Check in staff (and check-out) were very, very...   \n",
       "262  Located within walking distance from the beach...   \n",
       "263  The hotel is nice and clean, even during the C...   \n",
       "264  The hotel was great. Clean room and is dated a...   \n",
       "265  We just needed an overnight place to sleep. Th...   \n",
       "\n",
       "                user_location  helpful_vote  rating  \n",
       "261  Island of Hawaii, Hawaii            34     2.0  \n",
       "262                       NaN             3     3.0  \n",
       "263                       NaN             0     5.0  \n",
       "264         Mudgee, Australia             0     5.0  \n",
       "265  Laguna Beach, California             4     2.0  "
      ]
     },
     "execution_count": 33,
     "metadata": {},
     "output_type": "execute_result"
    }
   ],
   "source": [
    "df_all_hotels.tail()"
   ]
  },
  {
   "cell_type": "code",
   "execution_count": 34,
   "metadata": {},
   "outputs": [
    {
     "name": "stdout",
     "output_type": "stream",
     "text": [
      "<class 'pandas.core.frame.DataFrame'>\n",
      "RangeIndex: 266 entries, 0 to 265\n",
      "Data columns (total 8 columns):\n",
      "review_id        266 non-null int64\n",
      "url              266 non-null object\n",
      "hotel_name       266 non-null object\n",
      "review_date      266 non-null object\n",
      "review_body      266 non-null object\n",
      "user_location    175 non-null object\n",
      "helpful_vote     266 non-null int64\n",
      "rating           266 non-null float64\n",
      "dtypes: float64(1), int64(2), object(5)\n",
      "memory usage: 16.8+ KB\n"
     ]
    }
   ],
   "source": [
    "df_all_hotels.info()"
   ]
  },
  {
   "cell_type": "code",
   "execution_count": 35,
   "metadata": {},
   "outputs": [
    {
     "data": {
      "text/html": [
       "<div>\n",
       "<style scoped>\n",
       "    .dataframe tbody tr th:only-of-type {\n",
       "        vertical-align: middle;\n",
       "    }\n",
       "\n",
       "    .dataframe tbody tr th {\n",
       "        vertical-align: top;\n",
       "    }\n",
       "\n",
       "    .dataframe thead th {\n",
       "        text-align: right;\n",
       "    }\n",
       "</style>\n",
       "<table border=\"1\" class=\"dataframe\">\n",
       "  <thead>\n",
       "    <tr style=\"text-align: right;\">\n",
       "      <th></th>\n",
       "      <th>review_id</th>\n",
       "      <th>helpful_vote</th>\n",
       "      <th>rating</th>\n",
       "    </tr>\n",
       "  </thead>\n",
       "  <tbody>\n",
       "    <tr>\n",
       "      <td>count</td>\n",
       "      <td>2.660000e+02</td>\n",
       "      <td>266.000000</td>\n",
       "      <td>266.000000</td>\n",
       "    </tr>\n",
       "    <tr>\n",
       "      <td>mean</td>\n",
       "      <td>7.474683e+08</td>\n",
       "      <td>18.706767</td>\n",
       "      <td>4.109023</td>\n",
       "    </tr>\n",
       "    <tr>\n",
       "      <td>std</td>\n",
       "      <td>1.283151e+07</td>\n",
       "      <td>47.475162</td>\n",
       "      <td>1.246638</td>\n",
       "    </tr>\n",
       "    <tr>\n",
       "      <td>min</td>\n",
       "      <td>6.453464e+08</td>\n",
       "      <td>0.000000</td>\n",
       "      <td>1.000000</td>\n",
       "    </tr>\n",
       "    <tr>\n",
       "      <td>25%</td>\n",
       "      <td>7.489957e+08</td>\n",
       "      <td>0.000000</td>\n",
       "      <td>4.000000</td>\n",
       "    </tr>\n",
       "    <tr>\n",
       "      <td>50%</td>\n",
       "      <td>7.513375e+08</td>\n",
       "      <td>1.000000</td>\n",
       "      <td>5.000000</td>\n",
       "    </tr>\n",
       "    <tr>\n",
       "      <td>75%</td>\n",
       "      <td>7.519708e+08</td>\n",
       "      <td>11.750000</td>\n",
       "      <td>5.000000</td>\n",
       "    </tr>\n",
       "    <tr>\n",
       "      <td>max</td>\n",
       "      <td>7.534573e+08</td>\n",
       "      <td>325.000000</td>\n",
       "      <td>5.000000</td>\n",
       "    </tr>\n",
       "  </tbody>\n",
       "</table>\n",
       "</div>"
      ],
      "text/plain": [
       "          review_id  helpful_vote      rating\n",
       "count  2.660000e+02    266.000000  266.000000\n",
       "mean   7.474683e+08     18.706767    4.109023\n",
       "std    1.283151e+07     47.475162    1.246638\n",
       "min    6.453464e+08      0.000000    1.000000\n",
       "25%    7.489957e+08      0.000000    4.000000\n",
       "50%    7.513375e+08      1.000000    5.000000\n",
       "75%    7.519708e+08     11.750000    5.000000\n",
       "max    7.534573e+08    325.000000    5.000000"
      ]
     },
     "execution_count": 35,
     "metadata": {},
     "output_type": "execute_result"
    }
   ],
   "source": [
    "df_all_hotels.describe()"
   ]
  },
  {
   "cell_type": "code",
   "execution_count": 36,
   "metadata": {},
   "outputs": [
    {
     "data": {
      "text/plain": [
       "'https://www.tripadvisor.com/Hotel_Review-g60982-d214685-Reviews-OHANA_Waikiki_Malia_by_Outrigger-Honolulu_Oahu_Hawaii-or0.html?filterLang=en'"
      ]
     },
     "execution_count": 36,
     "metadata": {},
     "output_type": "execute_result"
    }
   ],
   "source": [
    "df_all_hotels['url'][0]"
   ]
  },
  {
   "cell_type": "code",
   "execution_count": 37,
   "metadata": {},
   "outputs": [
    {
     "data": {
      "text/plain": [
       "'If you are visiting Honolulu on a budget this hotel is good... although not on Waikiki beach it is within a 10 minute walk. But this is a “budget” hotel. No bells and whistles... pool is not really much of anything... decor is dated (think 1980s Holiday Inn). The staff is friendly but the cleaning staff unfortunately tended to be smokers so after my room was cleaned I would come in to that smell and would have to open the patio doors to air it out so I just started putting the do not disturb on the door so they wouldn’t clean.'"
      ]
     },
     "execution_count": 37,
     "metadata": {},
     "output_type": "execute_result"
    }
   ],
   "source": [
    "df_all_hotels['review_body'][0]"
   ]
  },
  {
   "cell_type": "code",
   "execution_count": 38,
   "metadata": {},
   "outputs": [
    {
     "data": {
      "text/plain": [
       "266"
      ]
     },
     "execution_count": 38,
     "metadata": {},
     "output_type": "execute_result"
    }
   ],
   "source": [
    "len(df_all_hotels['review_body'].unique())"
   ]
  },
  {
   "cell_type": "code",
   "execution_count": 39,
   "metadata": {},
   "outputs": [
    {
     "data": {
      "text/plain": [
       "90"
      ]
     },
     "execution_count": 39,
     "metadata": {},
     "output_type": "execute_result"
    }
   ],
   "source": [
    "len(df_all_hotels['hotel_name'].unique())"
   ]
  },
  {
   "cell_type": "markdown",
   "metadata": {},
   "source": [
    "# FINAL DATA"
   ]
  },
  {
   "cell_type": "code",
   "execution_count": 40,
   "metadata": {},
   "outputs": [],
   "source": [
    "aws_test_data_dir = '../data/web_scraped/aws_final/'"
   ]
  },
  {
   "cell_type": "code",
   "execution_count": 41,
   "metadata": {},
   "outputs": [
    {
     "data": {
      "text/plain": [
       "['Tokyo-Kanto-pg1',\n",
       " 'Honolulu-Hawaii.pg1',\n",
       " 'Honolulu-Hawaii.pg4',\n",
       " 'Honolulu-Hawaii.pg3',\n",
       " 'Honolulu-Hawaii.pg2',\n",
       " 'New_York_City-New_York-pg1']"
      ]
     },
     "execution_count": 41,
     "metadata": {},
     "output_type": "execute_result"
    }
   ],
   "source": [
    "# Get all folders - 1 per tripadvisor hotel result page\n",
    "folders = os.listdir(aws_test_data_dir)\n",
    "folders"
   ]
  },
  {
   "cell_type": "code",
   "execution_count": 42,
   "metadata": {},
   "outputs": [
    {
     "data": {
      "text/plain": [
       "(212155, 8)"
      ]
     },
     "execution_count": 42,
     "metadata": {},
     "output_type": "execute_result"
    }
   ],
   "source": [
    "# From each folder, read all CSV files - 1 per hotel\n",
    "dfs = []\n",
    "for folder in folders:\n",
    "#     print(folder)\n",
    "    data_dir = aws_test_data_dir + '/' + folder + '/'\n",
    "    csv_filenames = os.listdir(data_dir)    \n",
    "    for name in csv_filenames:\n",
    "        dfs.append(pd.read_csv(data_dir + name))\n",
    "df_all_hotels = pd.concat(dfs, ignore_index=True)\n",
    "df_all_hotels.shape"
   ]
  },
  {
   "cell_type": "code",
   "execution_count": 43,
   "metadata": {},
   "outputs": [
    {
     "data": {
      "text/html": [
       "<div>\n",
       "<style scoped>\n",
       "    .dataframe tbody tr th:only-of-type {\n",
       "        vertical-align: middle;\n",
       "    }\n",
       "\n",
       "    .dataframe tbody tr th {\n",
       "        vertical-align: top;\n",
       "    }\n",
       "\n",
       "    .dataframe thead th {\n",
       "        text-align: right;\n",
       "    }\n",
       "</style>\n",
       "<table border=\"1\" class=\"dataframe\">\n",
       "  <thead>\n",
       "    <tr style=\"text-align: right;\">\n",
       "      <th></th>\n",
       "      <th>review_id</th>\n",
       "      <th>url</th>\n",
       "      <th>hotel_name</th>\n",
       "      <th>review_date</th>\n",
       "      <th>review_body</th>\n",
       "      <th>user_location</th>\n",
       "      <th>helpful_vote</th>\n",
       "      <th>rating</th>\n",
       "    </tr>\n",
       "  </thead>\n",
       "  <tbody>\n",
       "    <tr>\n",
       "      <td>0</td>\n",
       "      <td>749389994</td>\n",
       "      <td>https://www.tripadvisor.com/Hotel_Review-g1412...</td>\n",
       "      <td>Aman Tokyo</td>\n",
       "      <td>March 5, 2020</td>\n",
       "      <td>Consistent service with my past Aman hotel exp...</td>\n",
       "      <td>Sunnyvale, California</td>\n",
       "      <td>4</td>\n",
       "      <td>5.0</td>\n",
       "    </tr>\n",
       "    <tr>\n",
       "      <td>1</td>\n",
       "      <td>749264661</td>\n",
       "      <td>https://www.tripadvisor.com/Hotel_Review-g1412...</td>\n",
       "      <td>Aman Tokyo</td>\n",
       "      <td>March 5, 2020</td>\n",
       "      <td>Stayed for 3 days and everything at Aman is pe...</td>\n",
       "      <td>Vancouver, Canada</td>\n",
       "      <td>6</td>\n",
       "      <td>5.0</td>\n",
       "    </tr>\n",
       "    <tr>\n",
       "      <td>2</td>\n",
       "      <td>746956250</td>\n",
       "      <td>https://www.tripadvisor.com/Hotel_Review-g1412...</td>\n",
       "      <td>Aman Tokyo</td>\n",
       "      <td>February 23, 2020</td>\n",
       "      <td>Although I live in Tokyo but I decided to take...</td>\n",
       "      <td>Tokyo, Japan</td>\n",
       "      <td>53</td>\n",
       "      <td>4.0</td>\n",
       "    </tr>\n",
       "    <tr>\n",
       "      <td>3</td>\n",
       "      <td>745398599</td>\n",
       "      <td>https://www.tripadvisor.com/Hotel_Review-g1412...</td>\n",
       "      <td>Aman Tokyo</td>\n",
       "      <td>February 16, 2020</td>\n",
       "      <td>An outstanding stay in a beautiful Aman in dow...</td>\n",
       "      <td>Singapore, Singapore</td>\n",
       "      <td>5</td>\n",
       "      <td>5.0</td>\n",
       "    </tr>\n",
       "    <tr>\n",
       "      <td>4</td>\n",
       "      <td>743365715</td>\n",
       "      <td>https://www.tripadvisor.com/Hotel_Review-g1412...</td>\n",
       "      <td>Aman Tokyo</td>\n",
       "      <td>February 6, 2020</td>\n",
       "      <td>Stayed here for 2 nights (second time after 3 ...</td>\n",
       "      <td>Singapore, Singapore</td>\n",
       "      <td>38</td>\n",
       "      <td>5.0</td>\n",
       "    </tr>\n",
       "  </tbody>\n",
       "</table>\n",
       "</div>"
      ],
      "text/plain": [
       "   review_id                                                url  hotel_name  \\\n",
       "0  749389994  https://www.tripadvisor.com/Hotel_Review-g1412...  Aman Tokyo   \n",
       "1  749264661  https://www.tripadvisor.com/Hotel_Review-g1412...  Aman Tokyo   \n",
       "2  746956250  https://www.tripadvisor.com/Hotel_Review-g1412...  Aman Tokyo   \n",
       "3  745398599  https://www.tripadvisor.com/Hotel_Review-g1412...  Aman Tokyo   \n",
       "4  743365715  https://www.tripadvisor.com/Hotel_Review-g1412...  Aman Tokyo   \n",
       "\n",
       "         review_date                                        review_body  \\\n",
       "0      March 5, 2020  Consistent service with my past Aman hotel exp...   \n",
       "1      March 5, 2020  Stayed for 3 days and everything at Aman is pe...   \n",
       "2  February 23, 2020  Although I live in Tokyo but I decided to take...   \n",
       "3  February 16, 2020  An outstanding stay in a beautiful Aman in dow...   \n",
       "4   February 6, 2020  Stayed here for 2 nights (second time after 3 ...   \n",
       "\n",
       "           user_location  helpful_vote  rating  \n",
       "0  Sunnyvale, California             4     5.0  \n",
       "1      Vancouver, Canada             6     5.0  \n",
       "2           Tokyo, Japan            53     4.0  \n",
       "3   Singapore, Singapore             5     5.0  \n",
       "4   Singapore, Singapore            38     5.0  "
      ]
     },
     "execution_count": 43,
     "metadata": {},
     "output_type": "execute_result"
    }
   ],
   "source": [
    "df_all_hotels.head()"
   ]
  },
  {
   "cell_type": "code",
   "execution_count": 44,
   "metadata": {},
   "outputs": [
    {
     "data": {
      "text/html": [
       "<div>\n",
       "<style scoped>\n",
       "    .dataframe tbody tr th:only-of-type {\n",
       "        vertical-align: middle;\n",
       "    }\n",
       "\n",
       "    .dataframe tbody tr th {\n",
       "        vertical-align: top;\n",
       "    }\n",
       "\n",
       "    .dataframe thead th {\n",
       "        text-align: right;\n",
       "    }\n",
       "</style>\n",
       "<table border=\"1\" class=\"dataframe\">\n",
       "  <thead>\n",
       "    <tr style=\"text-align: right;\">\n",
       "      <th></th>\n",
       "      <th>review_id</th>\n",
       "      <th>url</th>\n",
       "      <th>hotel_name</th>\n",
       "      <th>review_date</th>\n",
       "      <th>review_body</th>\n",
       "      <th>user_location</th>\n",
       "      <th>helpful_vote</th>\n",
       "      <th>rating</th>\n",
       "    </tr>\n",
       "  </thead>\n",
       "  <tbody>\n",
       "    <tr>\n",
       "      <td>212150</td>\n",
       "      <td>984487</td>\n",
       "      <td>https://www.tripadvisor.com/Hotel_Review-g6076...</td>\n",
       "      <td>New York Hilton Midtown</td>\n",
       "      <td>April 27, 2003</td>\n",
       "      <td>We go to NYC at least 2-3 times a year. We've ...</td>\n",
       "      <td>Boston, MA</td>\n",
       "      <td>10</td>\n",
       "      <td>5.0</td>\n",
       "    </tr>\n",
       "    <tr>\n",
       "      <td>212151</td>\n",
       "      <td>914278</td>\n",
       "      <td>https://www.tripadvisor.com/Hotel_Review-g6076...</td>\n",
       "      <td>New York Hilton Midtown</td>\n",
       "      <td>March 12, 2003</td>\n",
       "      <td>I was skeptical about staying at the Hilton. W...</td>\n",
       "      <td>Washington, DC</td>\n",
       "      <td>14</td>\n",
       "      <td>4.0</td>\n",
       "    </tr>\n",
       "    <tr>\n",
       "      <td>212152</td>\n",
       "      <td>859170</td>\n",
       "      <td>https://www.tripadvisor.com/Hotel_Review-g6076...</td>\n",
       "      <td>New York Hilton Midtown</td>\n",
       "      <td>February 18, 2003</td>\n",
       "      <td>Starting off with the strong points are the lo...</td>\n",
       "      <td>Rocky Hill, Connecticut</td>\n",
       "      <td>71</td>\n",
       "      <td>4.0</td>\n",
       "    </tr>\n",
       "    <tr>\n",
       "      <td>212153</td>\n",
       "      <td>850920</td>\n",
       "      <td>https://www.tripadvisor.com/Hotel_Review-g6076...</td>\n",
       "      <td>New York Hilton Midtown</td>\n",
       "      <td>January 31, 2003</td>\n",
       "      <td>Just stayed at the Hilton New York (Ave of the...</td>\n",
       "      <td>Darlington, Maryland</td>\n",
       "      <td>314</td>\n",
       "      <td>4.0</td>\n",
       "    </tr>\n",
       "    <tr>\n",
       "      <td>212154</td>\n",
       "      <td>460999</td>\n",
       "      <td>https://www.tripadvisor.com/Hotel_Review-g6076...</td>\n",
       "      <td>New York Hilton Midtown</td>\n",
       "      <td>March 17, 2002</td>\n",
       "      <td>We enjoyed our weekend stay at the Hilton. The...</td>\n",
       "      <td>NaN</td>\n",
       "      <td>0</td>\n",
       "      <td>5.0</td>\n",
       "    </tr>\n",
       "  </tbody>\n",
       "</table>\n",
       "</div>"
      ],
      "text/plain": [
       "        review_id                                                url  \\\n",
       "212150     984487  https://www.tripadvisor.com/Hotel_Review-g6076...   \n",
       "212151     914278  https://www.tripadvisor.com/Hotel_Review-g6076...   \n",
       "212152     859170  https://www.tripadvisor.com/Hotel_Review-g6076...   \n",
       "212153     850920  https://www.tripadvisor.com/Hotel_Review-g6076...   \n",
       "212154     460999  https://www.tripadvisor.com/Hotel_Review-g6076...   \n",
       "\n",
       "                     hotel_name        review_date  \\\n",
       "212150  New York Hilton Midtown     April 27, 2003   \n",
       "212151  New York Hilton Midtown     March 12, 2003   \n",
       "212152  New York Hilton Midtown  February 18, 2003   \n",
       "212153  New York Hilton Midtown   January 31, 2003   \n",
       "212154  New York Hilton Midtown     March 17, 2002   \n",
       "\n",
       "                                              review_body  \\\n",
       "212150  We go to NYC at least 2-3 times a year. We've ...   \n",
       "212151  I was skeptical about staying at the Hilton. W...   \n",
       "212152  Starting off with the strong points are the lo...   \n",
       "212153  Just stayed at the Hilton New York (Ave of the...   \n",
       "212154  We enjoyed our weekend stay at the Hilton. The...   \n",
       "\n",
       "                  user_location  helpful_vote  rating  \n",
       "212150               Boston, MA            10     5.0  \n",
       "212151           Washington, DC            14     4.0  \n",
       "212152  Rocky Hill, Connecticut            71     4.0  \n",
       "212153     Darlington, Maryland           314     4.0  \n",
       "212154                      NaN             0     5.0  "
      ]
     },
     "execution_count": 44,
     "metadata": {},
     "output_type": "execute_result"
    }
   ],
   "source": [
    "df_all_hotels.tail()"
   ]
  },
  {
   "cell_type": "code",
   "execution_count": 45,
   "metadata": {},
   "outputs": [
    {
     "name": "stdout",
     "output_type": "stream",
     "text": [
      "<class 'pandas.core.frame.DataFrame'>\n",
      "RangeIndex: 212155 entries, 0 to 212154\n",
      "Data columns (total 8 columns):\n",
      "review_id        212155 non-null int64\n",
      "url              212155 non-null object\n",
      "hotel_name       212155 non-null object\n",
      "review_date      212155 non-null object\n",
      "review_body      212155 non-null object\n",
      "user_location    184157 non-null object\n",
      "helpful_vote     212155 non-null int64\n",
      "rating           212155 non-null float64\n",
      "dtypes: float64(1), int64(2), object(5)\n",
      "memory usage: 12.9+ MB\n"
     ]
    }
   ],
   "source": [
    "df_all_hotels.info()"
   ]
  },
  {
   "cell_type": "code",
   "execution_count": 46,
   "metadata": {},
   "outputs": [
    {
     "data": {
      "text/html": [
       "<div>\n",
       "<style scoped>\n",
       "    .dataframe tbody tr th:only-of-type {\n",
       "        vertical-align: middle;\n",
       "    }\n",
       "\n",
       "    .dataframe tbody tr th {\n",
       "        vertical-align: top;\n",
       "    }\n",
       "\n",
       "    .dataframe thead th {\n",
       "        text-align: right;\n",
       "    }\n",
       "</style>\n",
       "<table border=\"1\" class=\"dataframe\">\n",
       "  <thead>\n",
       "    <tr style=\"text-align: right;\">\n",
       "      <th></th>\n",
       "      <th>Total</th>\n",
       "      <th>Percent</th>\n",
       "      <th>Type</th>\n",
       "    </tr>\n",
       "  </thead>\n",
       "  <tbody>\n",
       "    <tr>\n",
       "      <td>user_location</td>\n",
       "      <td>27998</td>\n",
       "      <td>0.13197</td>\n",
       "      <td>object</td>\n",
       "    </tr>\n",
       "    <tr>\n",
       "      <td>rating</td>\n",
       "      <td>0</td>\n",
       "      <td>0.00000</td>\n",
       "      <td>float64</td>\n",
       "    </tr>\n",
       "    <tr>\n",
       "      <td>helpful_vote</td>\n",
       "      <td>0</td>\n",
       "      <td>0.00000</td>\n",
       "      <td>int64</td>\n",
       "    </tr>\n",
       "    <tr>\n",
       "      <td>review_body</td>\n",
       "      <td>0</td>\n",
       "      <td>0.00000</td>\n",
       "      <td>object</td>\n",
       "    </tr>\n",
       "    <tr>\n",
       "      <td>review_date</td>\n",
       "      <td>0</td>\n",
       "      <td>0.00000</td>\n",
       "      <td>object</td>\n",
       "    </tr>\n",
       "    <tr>\n",
       "      <td>hotel_name</td>\n",
       "      <td>0</td>\n",
       "      <td>0.00000</td>\n",
       "      <td>object</td>\n",
       "    </tr>\n",
       "    <tr>\n",
       "      <td>url</td>\n",
       "      <td>0</td>\n",
       "      <td>0.00000</td>\n",
       "      <td>object</td>\n",
       "    </tr>\n",
       "    <tr>\n",
       "      <td>review_id</td>\n",
       "      <td>0</td>\n",
       "      <td>0.00000</td>\n",
       "      <td>int64</td>\n",
       "    </tr>\n",
       "  </tbody>\n",
       "</table>\n",
       "</div>"
      ],
      "text/plain": [
       "               Total  Percent     Type\n",
       "user_location  27998  0.13197   object\n",
       "rating             0  0.00000  float64\n",
       "helpful_vote       0  0.00000    int64\n",
       "review_body        0  0.00000   object\n",
       "review_date        0  0.00000   object\n",
       "hotel_name         0  0.00000   object\n",
       "url                0  0.00000   object\n",
       "review_id          0  0.00000    int64"
      ]
     },
     "execution_count": 46,
     "metadata": {},
     "output_type": "execute_result"
    }
   ],
   "source": [
    "hlp.get_nulls(df_all_hotels)"
   ]
  },
  {
   "cell_type": "code",
   "execution_count": 47,
   "metadata": {},
   "outputs": [
    {
     "data": {
      "text/html": [
       "<div>\n",
       "<style scoped>\n",
       "    .dataframe tbody tr th:only-of-type {\n",
       "        vertical-align: middle;\n",
       "    }\n",
       "\n",
       "    .dataframe tbody tr th {\n",
       "        vertical-align: top;\n",
       "    }\n",
       "\n",
       "    .dataframe thead th {\n",
       "        text-align: right;\n",
       "    }\n",
       "</style>\n",
       "<table border=\"1\" class=\"dataframe\">\n",
       "  <thead>\n",
       "    <tr style=\"text-align: right;\">\n",
       "      <th></th>\n",
       "      <th>review_id</th>\n",
       "      <th>helpful_vote</th>\n",
       "      <th>rating</th>\n",
       "    </tr>\n",
       "  </thead>\n",
       "  <tbody>\n",
       "    <tr>\n",
       "      <td>count</td>\n",
       "      <td>2.121550e+05</td>\n",
       "      <td>212155.000000</td>\n",
       "      <td>212155.000000</td>\n",
       "    </tr>\n",
       "    <tr>\n",
       "      <td>mean</td>\n",
       "      <td>3.485569e+08</td>\n",
       "      <td>30.036360</td>\n",
       "      <td>4.104650</td>\n",
       "    </tr>\n",
       "    <tr>\n",
       "      <td>std</td>\n",
       "      <td>2.108024e+08</td>\n",
       "      <td>192.647358</td>\n",
       "      <td>1.094571</td>\n",
       "    </tr>\n",
       "    <tr>\n",
       "      <td>min</td>\n",
       "      <td>2.824200e+05</td>\n",
       "      <td>0.000000</td>\n",
       "      <td>1.000000</td>\n",
       "    </tr>\n",
       "    <tr>\n",
       "      <td>25%</td>\n",
       "      <td>1.655966e+08</td>\n",
       "      <td>2.000000</td>\n",
       "      <td>4.000000</td>\n",
       "    </tr>\n",
       "    <tr>\n",
       "      <td>50%</td>\n",
       "      <td>3.260000e+08</td>\n",
       "      <td>9.000000</td>\n",
       "      <td>4.000000</td>\n",
       "    </tr>\n",
       "    <tr>\n",
       "      <td>75%</td>\n",
       "      <td>5.286325e+08</td>\n",
       "      <td>29.000000</td>\n",
       "      <td>5.000000</td>\n",
       "    </tr>\n",
       "    <tr>\n",
       "      <td>max</td>\n",
       "      <td>7.534573e+08</td>\n",
       "      <td>34443.000000</td>\n",
       "      <td>5.000000</td>\n",
       "    </tr>\n",
       "  </tbody>\n",
       "</table>\n",
       "</div>"
      ],
      "text/plain": [
       "          review_id   helpful_vote         rating\n",
       "count  2.121550e+05  212155.000000  212155.000000\n",
       "mean   3.485569e+08      30.036360       4.104650\n",
       "std    2.108024e+08     192.647358       1.094571\n",
       "min    2.824200e+05       0.000000       1.000000\n",
       "25%    1.655966e+08       2.000000       4.000000\n",
       "50%    3.260000e+08       9.000000       4.000000\n",
       "75%    5.286325e+08      29.000000       5.000000\n",
       "max    7.534573e+08   34443.000000       5.000000"
      ]
     },
     "execution_count": 47,
     "metadata": {},
     "output_type": "execute_result"
    }
   ],
   "source": [
    "df_all_hotels.describe()"
   ]
  },
  {
   "cell_type": "code",
   "execution_count": 48,
   "metadata": {},
   "outputs": [
    {
     "data": {
      "text/plain": [
       "'Consistent service with my past Aman hotel experiences. Loved the amazing city views from our room and the convenient location. The hotel is beautifully designed inside and out. Can’t wait to come back again to try the sushi restaurant and go for another dip in the pool.'"
      ]
     },
     "execution_count": 48,
     "metadata": {},
     "output_type": "execute_result"
    }
   ],
   "source": [
    "df_all_hotels['review_body'][0]"
   ]
  },
  {
   "cell_type": "code",
   "execution_count": 49,
   "metadata": {},
   "outputs": [
    {
     "name": "stdout",
     "output_type": "stream",
     "text": [
      "<class 'pandas.core.frame.DataFrame'>\n",
      "RangeIndex: 212155 entries, 0 to 212154\n",
      "Data columns (total 8 columns):\n",
      "review_id        212155 non-null int64\n",
      "url              212155 non-null object\n",
      "hotel_name       212155 non-null object\n",
      "review_date      212155 non-null object\n",
      "review_body      212155 non-null object\n",
      "user_location    184157 non-null object\n",
      "helpful_vote     212155 non-null int64\n",
      "rating           212155 non-null float64\n",
      "dtypes: float64(1), int64(2), object(5)\n",
      "memory usage: 12.9+ MB\n"
     ]
    }
   ],
   "source": [
    "df_all_hotels.info()"
   ]
  },
  {
   "cell_type": "code",
   "execution_count": 50,
   "metadata": {},
   "outputs": [
    {
     "data": {
      "text/html": [
       "<div>\n",
       "<style scoped>\n",
       "    .dataframe tbody tr th:only-of-type {\n",
       "        vertical-align: middle;\n",
       "    }\n",
       "\n",
       "    .dataframe tbody tr th {\n",
       "        vertical-align: top;\n",
       "    }\n",
       "\n",
       "    .dataframe thead th {\n",
       "        text-align: right;\n",
       "    }\n",
       "</style>\n",
       "<table border=\"1\" class=\"dataframe\">\n",
       "  <thead>\n",
       "    <tr style=\"text-align: right;\">\n",
       "      <th></th>\n",
       "      <th>review_id</th>\n",
       "      <th>helpful_vote</th>\n",
       "      <th>rating</th>\n",
       "    </tr>\n",
       "  </thead>\n",
       "  <tbody>\n",
       "    <tr>\n",
       "      <td>count</td>\n",
       "      <td>2.121550e+05</td>\n",
       "      <td>212155.000000</td>\n",
       "      <td>212155.000000</td>\n",
       "    </tr>\n",
       "    <tr>\n",
       "      <td>mean</td>\n",
       "      <td>3.485569e+08</td>\n",
       "      <td>30.036360</td>\n",
       "      <td>4.104650</td>\n",
       "    </tr>\n",
       "    <tr>\n",
       "      <td>std</td>\n",
       "      <td>2.108024e+08</td>\n",
       "      <td>192.647358</td>\n",
       "      <td>1.094571</td>\n",
       "    </tr>\n",
       "    <tr>\n",
       "      <td>min</td>\n",
       "      <td>2.824200e+05</td>\n",
       "      <td>0.000000</td>\n",
       "      <td>1.000000</td>\n",
       "    </tr>\n",
       "    <tr>\n",
       "      <td>25%</td>\n",
       "      <td>1.655966e+08</td>\n",
       "      <td>2.000000</td>\n",
       "      <td>4.000000</td>\n",
       "    </tr>\n",
       "    <tr>\n",
       "      <td>50%</td>\n",
       "      <td>3.260000e+08</td>\n",
       "      <td>9.000000</td>\n",
       "      <td>4.000000</td>\n",
       "    </tr>\n",
       "    <tr>\n",
       "      <td>75%</td>\n",
       "      <td>5.286325e+08</td>\n",
       "      <td>29.000000</td>\n",
       "      <td>5.000000</td>\n",
       "    </tr>\n",
       "    <tr>\n",
       "      <td>max</td>\n",
       "      <td>7.534573e+08</td>\n",
       "      <td>34443.000000</td>\n",
       "      <td>5.000000</td>\n",
       "    </tr>\n",
       "  </tbody>\n",
       "</table>\n",
       "</div>"
      ],
      "text/plain": [
       "          review_id   helpful_vote         rating\n",
       "count  2.121550e+05  212155.000000  212155.000000\n",
       "mean   3.485569e+08      30.036360       4.104650\n",
       "std    2.108024e+08     192.647358       1.094571\n",
       "min    2.824200e+05       0.000000       1.000000\n",
       "25%    1.655966e+08       2.000000       4.000000\n",
       "50%    3.260000e+08       9.000000       4.000000\n",
       "75%    5.286325e+08      29.000000       5.000000\n",
       "max    7.534573e+08   34443.000000       5.000000"
      ]
     },
     "execution_count": 50,
     "metadata": {},
     "output_type": "execute_result"
    }
   ],
   "source": [
    "df_all_hotels.describe()"
   ]
  },
  {
   "cell_type": "code",
   "execution_count": 51,
   "metadata": {},
   "outputs": [
    {
     "data": {
      "text/plain": [
       "'Consistent service with my past Aman hotel experiences. Loved the amazing city views from our room and the convenient location. The hotel is beautifully designed inside and out. Can’t wait to come back again to try the sushi restaurant and go for another dip in the pool.'"
      ]
     },
     "execution_count": 51,
     "metadata": {},
     "output_type": "execute_result"
    }
   ],
   "source": [
    "df_all_hotels['review_body'][0]"
   ]
  },
  {
   "cell_type": "code",
   "execution_count": 52,
   "metadata": {},
   "outputs": [
    {
     "data": {
      "text/plain": [
       "212124"
      ]
     },
     "execution_count": 52,
     "metadata": {},
     "output_type": "execute_result"
    }
   ],
   "source": [
    "len(df_all_hotels['review_body'].unique())"
   ]
  },
  {
   "cell_type": "code",
   "execution_count": 53,
   "metadata": {},
   "outputs": [
    {
     "data": {
      "text/plain": [
       "149"
      ]
     },
     "execution_count": 53,
     "metadata": {},
     "output_type": "execute_result"
    }
   ],
   "source": [
    "len(df_all_hotels['hotel_name'].unique())"
   ]
  },
  {
   "cell_type": "markdown",
   "metadata": {},
   "source": [
    "# Appendix"
   ]
  },
  {
   "cell_type": "markdown",
   "metadata": {},
   "source": [
    "# AWS S3 Bucket"
   ]
  },
  {
   "cell_type": "code",
   "execution_count": 54,
   "metadata": {},
   "outputs": [],
   "source": [
    "import boto3\n",
    "\n",
    "s3 = boto3.client('s3')"
   ]
  },
  {
   "cell_type": "code",
   "execution_count": 55,
   "metadata": {},
   "outputs": [
    {
     "name": "stdout",
     "output_type": "stream",
     "text": [
      "chels-first-bucket-2020\n",
      "chels-second-bucket-2020\n",
      "pair-bucket-2020-chels-helnaz\n",
      "pair-bucket-2020-chels-helnaz-2nd\n",
      "spark-rdds-ind\n",
      "tripadvisor-hotel-reviews\n"
     ]
    }
   ],
   "source": [
    "for b in s3.list_buckets()['Buckets']:\n",
    "    print(b['Name'])"
   ]
  },
  {
   "cell_type": "code",
   "execution_count": 56,
   "metadata": {},
   "outputs": [
    {
     "name": "stdout",
     "output_type": "stream",
     "text": [
      "test.txt\n"
     ]
    }
   ],
   "source": [
    "response = s3.list_objects_v2(Bucket='tripadvisor-hotel-reviews')\n",
    "for obj in response['Contents']:\n",
    "    print(obj['Key'])"
   ]
  },
  {
   "cell_type": "code",
   "execution_count": 57,
   "metadata": {},
   "outputs": [],
   "source": [
    "# Download file\n",
    "\n",
    "# s3.download_file(Bucket=bucket_name,\n",
    "#                  Key=remote_file_name,\n",
    "#                  Filename=\"downloaded-\" + local_file_name)"
   ]
  }
 ],
 "metadata": {
  "kernelspec": {
   "display_name": "Python 3",
   "language": "python",
   "name": "python3"
  },
  "language_info": {
   "codemirror_mode": {
    "name": "ipython",
    "version": 3
   },
   "file_extension": ".py",
   "mimetype": "text/x-python",
   "name": "python",
   "nbconvert_exporter": "python",
   "pygments_lexer": "ipython3",
   "version": "3.7.4"
  }
 },
 "nbformat": 4,
 "nbformat_minor": 2
}
