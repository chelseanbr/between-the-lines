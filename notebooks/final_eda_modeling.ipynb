{
 "cells": [
  {
   "cell_type": "code",
   "execution_count": 1,
   "metadata": {},
   "outputs": [],
   "source": [
    "%load_ext autoreload\n",
    "%autoreload 2\n",
    "import sys\n",
    "import os\n",
    "module_path = os.path.abspath(os.path.join('..'))\n",
    "if module_path not in sys.path:\n",
    "    sys.path.append(module_path+\"/src\")\n",
    "import helpers as hlp"
   ]
  },
  {
   "cell_type": "code",
   "execution_count": 2,
   "metadata": {},
   "outputs": [],
   "source": [
    "import numpy as np\n",
    "import pandas as pd\n",
    "import matplotlib.pyplot as plt\n",
    "import seaborn as sns\n",
    "from sklearn.model_selection import train_test_split"
   ]
  },
  {
   "cell_type": "code",
   "execution_count": 3,
   "metadata": {},
   "outputs": [],
   "source": [
    "# Set plot sizes\n",
    "SMALL_SIZE = 22\n",
    "MEDIUM_SIZE = 24\n",
    "BIGGER_SIZE = 26\n",
    "BIGGEST_SIZE = 28\n",
    "\n",
    "plt.rc('font', size=SMALL_SIZE)          # controls default text sizes\n",
    "plt.rc('axes', titlesize=SMALL_SIZE)     # fontsize of the axes title\n",
    "plt.rc('axes', labelsize=MEDIUM_SIZE)    # fontsize of the x and y labels\n",
    "plt.rc('xtick', labelsize=SMALL_SIZE)    # fontsize of the tick labels\n",
    "plt.rc('ytick', labelsize=SMALL_SIZE)    # fontsize of the tick labels\n",
    "plt.rc('legend', fontsize=SMALL_SIZE)    # legend fontsize\n",
    "plt.rc('figure', titlesize=BIGGEST_SIZE)  # fontsize of the figure title"
   ]
  },
  {
   "cell_type": "markdown",
   "metadata": {},
   "source": [
    "# Load & Merge CSV Data"
   ]
  },
  {
   "cell_type": "code",
   "execution_count": 4,
   "metadata": {},
   "outputs": [
    {
     "name": "stdout",
     "output_type": "stream",
     "text": [
      "Folders: ['Tokyo-Kanto-pg1', 'Honolulu-Hawaii.pg1', 'Honolulu-Hawaii.pg4', 'Honolulu-Hawaii.pg3', 'Honolulu-Hawaii.pg2', 'New_York_City-New_York-pg1']\n"
     ]
    }
   ],
   "source": [
    "aws_data_dir = '../data/web_scraped/aws_final/'\n",
    "\n",
    "# Use helper function to load and merge CSVs from folders in above dir\n",
    "df_all_hotels = hlp.merge_csv_mult_dir(aws_data_dir)"
   ]
  },
  {
   "cell_type": "code",
   "execution_count": 5,
   "metadata": {},
   "outputs": [
    {
     "data": {
      "text/plain": [
       "(212155, 10)"
      ]
     },
     "execution_count": 5,
     "metadata": {},
     "output_type": "execute_result"
    }
   ],
   "source": [
    "df_all_hotels.shape"
   ]
  },
  {
   "cell_type": "code",
   "execution_count": 6,
   "metadata": {},
   "outputs": [
    {
     "data": {
      "text/html": [
       "<div>\n",
       "<style scoped>\n",
       "    .dataframe tbody tr th:only-of-type {\n",
       "        vertical-align: middle;\n",
       "    }\n",
       "\n",
       "    .dataframe tbody tr th {\n",
       "        vertical-align: top;\n",
       "    }\n",
       "\n",
       "    .dataframe thead th {\n",
       "        text-align: right;\n",
       "    }\n",
       "</style>\n",
       "<table border=\"1\" class=\"dataframe\">\n",
       "  <thead>\n",
       "    <tr style=\"text-align: right;\">\n",
       "      <th></th>\n",
       "      <th>review_id</th>\n",
       "      <th>url</th>\n",
       "      <th>hotel_name</th>\n",
       "      <th>review_date</th>\n",
       "      <th>review_body</th>\n",
       "      <th>user_location</th>\n",
       "      <th>helpful_vote</th>\n",
       "      <th>rating</th>\n",
       "      <th>csv</th>\n",
       "      <th>folder</th>\n",
       "    </tr>\n",
       "  </thead>\n",
       "  <tbody>\n",
       "    <tr>\n",
       "      <td>0</td>\n",
       "      <td>749389994</td>\n",
       "      <td>https://www.tripadvisor.com/Hotel_Review-g1412...</td>\n",
       "      <td>Aman Tokyo</td>\n",
       "      <td>March 5, 2020</td>\n",
       "      <td>Consistent service with my past Aman hotel exp...</td>\n",
       "      <td>Sunnyvale, California</td>\n",
       "      <td>4</td>\n",
       "      <td>5.0</td>\n",
       "      <td>Aman_Tokyo-Otemachi_Chiyoda_Tokyo_Tokyo_Prefec...</td>\n",
       "      <td>Tokyo-Kanto-pg1</td>\n",
       "    </tr>\n",
       "    <tr>\n",
       "      <td>1</td>\n",
       "      <td>749264661</td>\n",
       "      <td>https://www.tripadvisor.com/Hotel_Review-g1412...</td>\n",
       "      <td>Aman Tokyo</td>\n",
       "      <td>March 5, 2020</td>\n",
       "      <td>Stayed for 3 days and everything at Aman is pe...</td>\n",
       "      <td>Vancouver, Canada</td>\n",
       "      <td>6</td>\n",
       "      <td>5.0</td>\n",
       "      <td>Aman_Tokyo-Otemachi_Chiyoda_Tokyo_Tokyo_Prefec...</td>\n",
       "      <td>Tokyo-Kanto-pg1</td>\n",
       "    </tr>\n",
       "    <tr>\n",
       "      <td>2</td>\n",
       "      <td>746956250</td>\n",
       "      <td>https://www.tripadvisor.com/Hotel_Review-g1412...</td>\n",
       "      <td>Aman Tokyo</td>\n",
       "      <td>February 23, 2020</td>\n",
       "      <td>Although I live in Tokyo but I decided to take...</td>\n",
       "      <td>Tokyo, Japan</td>\n",
       "      <td>53</td>\n",
       "      <td>4.0</td>\n",
       "      <td>Aman_Tokyo-Otemachi_Chiyoda_Tokyo_Tokyo_Prefec...</td>\n",
       "      <td>Tokyo-Kanto-pg1</td>\n",
       "    </tr>\n",
       "    <tr>\n",
       "      <td>3</td>\n",
       "      <td>745398599</td>\n",
       "      <td>https://www.tripadvisor.com/Hotel_Review-g1412...</td>\n",
       "      <td>Aman Tokyo</td>\n",
       "      <td>February 16, 2020</td>\n",
       "      <td>An outstanding stay in a beautiful Aman in dow...</td>\n",
       "      <td>Singapore, Singapore</td>\n",
       "      <td>5</td>\n",
       "      <td>5.0</td>\n",
       "      <td>Aman_Tokyo-Otemachi_Chiyoda_Tokyo_Tokyo_Prefec...</td>\n",
       "      <td>Tokyo-Kanto-pg1</td>\n",
       "    </tr>\n",
       "    <tr>\n",
       "      <td>4</td>\n",
       "      <td>743365715</td>\n",
       "      <td>https://www.tripadvisor.com/Hotel_Review-g1412...</td>\n",
       "      <td>Aman Tokyo</td>\n",
       "      <td>February 6, 2020</td>\n",
       "      <td>Stayed here for 2 nights (second time after 3 ...</td>\n",
       "      <td>Singapore, Singapore</td>\n",
       "      <td>38</td>\n",
       "      <td>5.0</td>\n",
       "      <td>Aman_Tokyo-Otemachi_Chiyoda_Tokyo_Tokyo_Prefec...</td>\n",
       "      <td>Tokyo-Kanto-pg1</td>\n",
       "    </tr>\n",
       "  </tbody>\n",
       "</table>\n",
       "</div>"
      ],
      "text/plain": [
       "   review_id                                                url  hotel_name  \\\n",
       "0  749389994  https://www.tripadvisor.com/Hotel_Review-g1412...  Aman Tokyo   \n",
       "1  749264661  https://www.tripadvisor.com/Hotel_Review-g1412...  Aman Tokyo   \n",
       "2  746956250  https://www.tripadvisor.com/Hotel_Review-g1412...  Aman Tokyo   \n",
       "3  745398599  https://www.tripadvisor.com/Hotel_Review-g1412...  Aman Tokyo   \n",
       "4  743365715  https://www.tripadvisor.com/Hotel_Review-g1412...  Aman Tokyo   \n",
       "\n",
       "         review_date                                        review_body  \\\n",
       "0      March 5, 2020  Consistent service with my past Aman hotel exp...   \n",
       "1      March 5, 2020  Stayed for 3 days and everything at Aman is pe...   \n",
       "2  February 23, 2020  Although I live in Tokyo but I decided to take...   \n",
       "3  February 16, 2020  An outstanding stay in a beautiful Aman in dow...   \n",
       "4   February 6, 2020  Stayed here for 2 nights (second time after 3 ...   \n",
       "\n",
       "           user_location  helpful_vote  rating  \\\n",
       "0  Sunnyvale, California             4     5.0   \n",
       "1      Vancouver, Canada             6     5.0   \n",
       "2           Tokyo, Japan            53     4.0   \n",
       "3   Singapore, Singapore             5     5.0   \n",
       "4   Singapore, Singapore            38     5.0   \n",
       "\n",
       "                                                 csv           folder  \n",
       "0  Aman_Tokyo-Otemachi_Chiyoda_Tokyo_Tokyo_Prefec...  Tokyo-Kanto-pg1  \n",
       "1  Aman_Tokyo-Otemachi_Chiyoda_Tokyo_Tokyo_Prefec...  Tokyo-Kanto-pg1  \n",
       "2  Aman_Tokyo-Otemachi_Chiyoda_Tokyo_Tokyo_Prefec...  Tokyo-Kanto-pg1  \n",
       "3  Aman_Tokyo-Otemachi_Chiyoda_Tokyo_Tokyo_Prefec...  Tokyo-Kanto-pg1  \n",
       "4  Aman_Tokyo-Otemachi_Chiyoda_Tokyo_Tokyo_Prefec...  Tokyo-Kanto-pg1  "
      ]
     },
     "execution_count": 6,
     "metadata": {},
     "output_type": "execute_result"
    }
   ],
   "source": [
    "df_all_hotels.head()"
   ]
  },
  {
   "cell_type": "code",
   "execution_count": 7,
   "metadata": {},
   "outputs": [
    {
     "name": "stdout",
     "output_type": "stream",
     "text": [
      "<class 'pandas.core.frame.DataFrame'>\n",
      "RangeIndex: 212155 entries, 0 to 212154\n",
      "Data columns (total 10 columns):\n",
      "review_id        212155 non-null int64\n",
      "url              212155 non-null object\n",
      "hotel_name       212155 non-null object\n",
      "review_date      212155 non-null object\n",
      "review_body      212155 non-null object\n",
      "user_location    184157 non-null object\n",
      "helpful_vote     212155 non-null int64\n",
      "rating           212155 non-null float64\n",
      "csv              212155 non-null object\n",
      "folder           212155 non-null object\n",
      "dtypes: float64(1), int64(2), object(7)\n",
      "memory usage: 16.2+ MB\n"
     ]
    }
   ],
   "source": [
    "df_all_hotels.info()"
   ]
  },
  {
   "cell_type": "code",
   "execution_count": 8,
   "metadata": {},
   "outputs": [
    {
     "name": "stdout",
     "output_type": "stream",
     "text": [
      "Number of duplicate rows:\n",
      "\n",
      "review_id        0\n",
      "url              0\n",
      "hotel_name       0\n",
      "review_date      0\n",
      "review_body      0\n",
      "user_location    0\n",
      "helpful_vote     0\n",
      "rating           0\n",
      "csv              0\n",
      "folder           0\n",
      "dtype: int64\n"
     ]
    }
   ],
   "source": [
    "# Check for duplicate rows\n",
    "dup_rows = df_all_hotels[df_all_hotels.duplicated()].count()\n",
    "print('Number of duplicate rows:\\n\\n{}'.format(dup_rows))"
   ]
  },
  {
   "cell_type": "code",
   "execution_count": 9,
   "metadata": {},
   "outputs": [
    {
     "data": {
      "text/html": [
       "<div>\n",
       "<style scoped>\n",
       "    .dataframe tbody tr th:only-of-type {\n",
       "        vertical-align: middle;\n",
       "    }\n",
       "\n",
       "    .dataframe tbody tr th {\n",
       "        vertical-align: top;\n",
       "    }\n",
       "\n",
       "    .dataframe thead th {\n",
       "        text-align: right;\n",
       "    }\n",
       "</style>\n",
       "<table border=\"1\" class=\"dataframe\">\n",
       "  <thead>\n",
       "    <tr style=\"text-align: right;\">\n",
       "      <th></th>\n",
       "      <th>Total</th>\n",
       "      <th>Percent</th>\n",
       "      <th>Type</th>\n",
       "    </tr>\n",
       "  </thead>\n",
       "  <tbody>\n",
       "    <tr>\n",
       "      <td>user_location</td>\n",
       "      <td>27998</td>\n",
       "      <td>0.13197</td>\n",
       "      <td>object</td>\n",
       "    </tr>\n",
       "    <tr>\n",
       "      <td>folder</td>\n",
       "      <td>0</td>\n",
       "      <td>0.00000</td>\n",
       "      <td>object</td>\n",
       "    </tr>\n",
       "    <tr>\n",
       "      <td>csv</td>\n",
       "      <td>0</td>\n",
       "      <td>0.00000</td>\n",
       "      <td>object</td>\n",
       "    </tr>\n",
       "    <tr>\n",
       "      <td>rating</td>\n",
       "      <td>0</td>\n",
       "      <td>0.00000</td>\n",
       "      <td>float64</td>\n",
       "    </tr>\n",
       "    <tr>\n",
       "      <td>helpful_vote</td>\n",
       "      <td>0</td>\n",
       "      <td>0.00000</td>\n",
       "      <td>int64</td>\n",
       "    </tr>\n",
       "    <tr>\n",
       "      <td>review_body</td>\n",
       "      <td>0</td>\n",
       "      <td>0.00000</td>\n",
       "      <td>object</td>\n",
       "    </tr>\n",
       "    <tr>\n",
       "      <td>review_date</td>\n",
       "      <td>0</td>\n",
       "      <td>0.00000</td>\n",
       "      <td>object</td>\n",
       "    </tr>\n",
       "    <tr>\n",
       "      <td>hotel_name</td>\n",
       "      <td>0</td>\n",
       "      <td>0.00000</td>\n",
       "      <td>object</td>\n",
       "    </tr>\n",
       "    <tr>\n",
       "      <td>url</td>\n",
       "      <td>0</td>\n",
       "      <td>0.00000</td>\n",
       "      <td>object</td>\n",
       "    </tr>\n",
       "    <tr>\n",
       "      <td>review_id</td>\n",
       "      <td>0</td>\n",
       "      <td>0.00000</td>\n",
       "      <td>int64</td>\n",
       "    </tr>\n",
       "  </tbody>\n",
       "</table>\n",
       "</div>"
      ],
      "text/plain": [
       "               Total  Percent     Type\n",
       "user_location  27998  0.13197   object\n",
       "folder             0  0.00000   object\n",
       "csv                0  0.00000   object\n",
       "rating             0  0.00000  float64\n",
       "helpful_vote       0  0.00000    int64\n",
       "review_body        0  0.00000   object\n",
       "review_date        0  0.00000   object\n",
       "hotel_name         0  0.00000   object\n",
       "url                0  0.00000   object\n",
       "review_id          0  0.00000    int64"
      ]
     },
     "execution_count": 9,
     "metadata": {},
     "output_type": "execute_result"
    }
   ],
   "source": [
    "# Get count, pct, and type of missing data (per column)\n",
    "hlp.get_nulls(df_all_hotels)"
   ]
  },
  {
   "cell_type": "markdown",
   "metadata": {},
   "source": [
    "# Clean & Prep Data"
   ]
  },
  {
   "cell_type": "code",
   "execution_count": 10,
   "metadata": {},
   "outputs": [
    {
     "name": "stdout",
     "output_type": "stream",
     "text": [
      "<class 'pandas.core.frame.DataFrame'>\n",
      "Int64Index: 212155 entries, 0 to 212154\n",
      "Data columns (total 14 columns):\n",
      "review_id        212155 non-null int64\n",
      "url              212155 non-null object\n",
      "hotel_name       212155 non-null object\n",
      "review_date      212155 non-null object\n",
      "review_body      212155 non-null object\n",
      "user_location    212155 non-null object\n",
      "helpful_vote     212155 non-null int64\n",
      "rating           212155 non-null float64\n",
      "csv              212155 non-null object\n",
      "folder           212155 non-null object\n",
      "City             212155 non-null object\n",
      "polarity         212155 non-null float64\n",
      "sentiment_int    212155 non-null int64\n",
      "sentiment        212155 non-null object\n",
      "dtypes: float64(2), int64(3), object(9)\n",
      "memory usage: 24.3+ MB\n"
     ]
    }
   ],
   "source": [
    "df_all_hotels_cleaned = df_all_hotels.copy()\n",
    "\n",
    "# Use helper function to do clean & prep\n",
    "df_all_hotels_cleaned = hlp.clean_and_prep(df_all_hotels_cleaned)\n",
    "\n",
    "df_all_hotels_cleaned.info()"
   ]
  },
  {
   "cell_type": "markdown",
   "metadata": {},
   "source": [
    "# EDA"
   ]
  },
  {
   "cell_type": "code",
   "execution_count": 11,
   "metadata": {},
   "outputs": [
    {
     "data": {
      "text/html": [
       "<div>\n",
       "<style scoped>\n",
       "    .dataframe tbody tr th:only-of-type {\n",
       "        vertical-align: middle;\n",
       "    }\n",
       "\n",
       "    .dataframe tbody tr th {\n",
       "        vertical-align: top;\n",
       "    }\n",
       "\n",
       "    .dataframe thead th {\n",
       "        text-align: right;\n",
       "    }\n",
       "</style>\n",
       "<table border=\"1\" class=\"dataframe\">\n",
       "  <thead>\n",
       "    <tr style=\"text-align: right;\">\n",
       "      <th></th>\n",
       "      <th>review_id</th>\n",
       "      <th>url</th>\n",
       "      <th>hotel_name</th>\n",
       "      <th>review_date</th>\n",
       "      <th>review_body</th>\n",
       "      <th>user_location</th>\n",
       "      <th>helpful_vote</th>\n",
       "      <th>rating</th>\n",
       "      <th>csv</th>\n",
       "      <th>folder</th>\n",
       "      <th>City</th>\n",
       "      <th>polarity</th>\n",
       "      <th>sentiment_int</th>\n",
       "      <th>sentiment</th>\n",
       "    </tr>\n",
       "  </thead>\n",
       "  <tbody>\n",
       "    <tr>\n",
       "      <td>74070</td>\n",
       "      <td>41132378</td>\n",
       "      <td>https://www.tripadvisor.com/Hotel_Review-g6098...</td>\n",
       "      <td>Aston at the Waikiki Banyan</td>\n",
       "      <td>September 12, 2009</td>\n",
       "      <td>We originally had this hotel booked for 5 nigh...</td>\n",
       "      <td>Vancouver, Canada</td>\n",
       "      <td>1</td>\n",
       "      <td>2.0</td>\n",
       "      <td>Aston_at_the_Waikiki_Banyan-Honolulu_Oahu_Hawa...</td>\n",
       "      <td>Honolulu-Hawaii.pg1</td>\n",
       "      <td>Honolulu</td>\n",
       "      <td>0.0</td>\n",
       "      <td>0</td>\n",
       "      <td>negative</td>\n",
       "    </tr>\n",
       "    <tr>\n",
       "      <td>87958</td>\n",
       "      <td>127888958</td>\n",
       "      <td>https://www.tripadvisor.com/Hotel_Review-g6098...</td>\n",
       "      <td>Moana Surfrider, A Westin Resort &amp; Spa, Waikik...</td>\n",
       "      <td>April 14, 2012</td>\n",
       "      <td>The hotel itself is nice and the staff general...</td>\n",
       "      <td>Brisbane, Australia</td>\n",
       "      <td>15</td>\n",
       "      <td>3.0</td>\n",
       "      <td>Moana_Surfrider_A_Westin_Resort_Spa_Waikiki_Be...</td>\n",
       "      <td>Honolulu-Hawaii.pg3</td>\n",
       "      <td>Honolulu</td>\n",
       "      <td>0.5</td>\n",
       "      <td>1</td>\n",
       "      <td>neutral</td>\n",
       "    </tr>\n",
       "    <tr>\n",
       "      <td>69821</td>\n",
       "      <td>385727665</td>\n",
       "      <td>https://www.tripadvisor.com/Hotel_Review-g6098...</td>\n",
       "      <td>Hilton Grand Vacations at Hilton Hawaiian Village</td>\n",
       "      <td>June 24, 2016</td>\n",
       "      <td>Took our kids to celebrate college graduation....</td>\n",
       "      <td>Carlsbad, United States</td>\n",
       "      <td>1</td>\n",
       "      <td>3.0</td>\n",
       "      <td>Hilton_Grand_Vacations_at_Hilton_Hawaiian_Vill...</td>\n",
       "      <td>Honolulu-Hawaii.pg1</td>\n",
       "      <td>Honolulu</td>\n",
       "      <td>0.5</td>\n",
       "      <td>1</td>\n",
       "      <td>neutral</td>\n",
       "    </tr>\n",
       "    <tr>\n",
       "      <td>18227</td>\n",
       "      <td>180312061</td>\n",
       "      <td>https://www.tripadvisor.com/Hotel_Review-g1413...</td>\n",
       "      <td>Grand Prince Hotel New Takanawa</td>\n",
       "      <td>October 9, 2013</td>\n",
       "      <td>Arrived approx 11 pm after flying from LAX. St...</td>\n",
       "      <td>Cairns, Australia</td>\n",
       "      <td>49</td>\n",
       "      <td>4.0</td>\n",
       "      <td>Grand_Prince_Hotel_New_Takanawa-Takanawa_Minat...</td>\n",
       "      <td>Tokyo-Kanto-pg1</td>\n",
       "      <td>Tokyo</td>\n",
       "      <td>1.0</td>\n",
       "      <td>2</td>\n",
       "      <td>positive</td>\n",
       "    </tr>\n",
       "    <tr>\n",
       "      <td>60767</td>\n",
       "      <td>3667498</td>\n",
       "      <td>https://www.tripadvisor.com/Hotel_Review-g6098...</td>\n",
       "      <td>Hilton Waikiki Beach</td>\n",
       "      <td>July 13, 2005</td>\n",
       "      <td>We had a wonderful time and LOVED this hotel! ...</td>\n",
       "      <td>Washington State</td>\n",
       "      <td>13</td>\n",
       "      <td>5.0</td>\n",
       "      <td>Hilton_Waikiki_Beach-Honolulu_Oahu_Hawaii__en.csv</td>\n",
       "      <td>Honolulu-Hawaii.pg1</td>\n",
       "      <td>Honolulu</td>\n",
       "      <td>1.0</td>\n",
       "      <td>2</td>\n",
       "      <td>positive</td>\n",
       "    </tr>\n",
       "    <tr>\n",
       "      <td>31785</td>\n",
       "      <td>177809656</td>\n",
       "      <td>https://www.tripadvisor.ca/Hotel_Review-g60982...</td>\n",
       "      <td>Hilton Hawaiian Village Waikiki Beach Resort</td>\n",
       "      <td>September 19, 2013</td>\n",
       "      <td>Just want to share my opinion of this resort, ...</td>\n",
       "      <td>Maple Ridge, Canada</td>\n",
       "      <td>20</td>\n",
       "      <td>4.0</td>\n",
       "      <td>Hilton_Hawaiian_Village_Waikiki_Beach_Resort-H...</td>\n",
       "      <td>Honolulu-Hawaii.pg1</td>\n",
       "      <td>Honolulu</td>\n",
       "      <td>1.0</td>\n",
       "      <td>2</td>\n",
       "      <td>positive</td>\n",
       "    </tr>\n",
       "    <tr>\n",
       "      <td>36438</td>\n",
       "      <td>1419766</td>\n",
       "      <td>https://www.tripadvisor.ca/Hotel_Review-g60982...</td>\n",
       "      <td>Hilton Hawaiian Village Waikiki Beach Resort</td>\n",
       "      <td>October 22, 2003</td>\n",
       "      <td>I stayed at the Hilton Hawaiian Village on our...</td>\n",
       "      <td>n/a</td>\n",
       "      <td>20</td>\n",
       "      <td>4.0</td>\n",
       "      <td>Hilton_Hawaiian_Village_Waikiki_Beach_Resort-H...</td>\n",
       "      <td>Honolulu-Hawaii.pg1</td>\n",
       "      <td>Honolulu</td>\n",
       "      <td>1.0</td>\n",
       "      <td>2</td>\n",
       "      <td>positive</td>\n",
       "    </tr>\n",
       "    <tr>\n",
       "      <td>140301</td>\n",
       "      <td>619978991</td>\n",
       "      <td>https://www.tripadvisor.com/Hotel_Review-g6098...</td>\n",
       "      <td>Hyatt Place Waikiki Beach</td>\n",
       "      <td>September 27, 2018</td>\n",
       "      <td>and the breakfast buffet should be moved insid...</td>\n",
       "      <td>Pomona, California</td>\n",
       "      <td>0</td>\n",
       "      <td>4.0</td>\n",
       "      <td>Hyatt_Place_Waikiki_Beach-Honolulu_Oahu_Hawaii...</td>\n",
       "      <td>Honolulu-Hawaii.pg2</td>\n",
       "      <td>Honolulu</td>\n",
       "      <td>1.0</td>\n",
       "      <td>2</td>\n",
       "      <td>positive</td>\n",
       "    </tr>\n",
       "    <tr>\n",
       "      <td>145884</td>\n",
       "      <td>185590153</td>\n",
       "      <td>https://www.tripadvisor.com/Hotel_Review-g6098...</td>\n",
       "      <td>Ilikai Hotel &amp; Luxury Suites</td>\n",
       "      <td>November 23, 2013</td>\n",
       "      <td>The nice thing about the Illikai is the staff....</td>\n",
       "      <td>Parksville, Canada</td>\n",
       "      <td>20</td>\n",
       "      <td>4.0</td>\n",
       "      <td>Ilikai_Hotel_Luxury_Suites-Honolulu_Oahu_Hawai...</td>\n",
       "      <td>Honolulu-Hawaii.pg2</td>\n",
       "      <td>Honolulu</td>\n",
       "      <td>1.0</td>\n",
       "      <td>2</td>\n",
       "      <td>positive</td>\n",
       "    </tr>\n",
       "    <tr>\n",
       "      <td>187308</td>\n",
       "      <td>154555913</td>\n",
       "      <td>https://www.tripadvisor.com/Hotel_Review-g6076...</td>\n",
       "      <td>Hudson New York</td>\n",
       "      <td>March 14, 2013</td>\n",
       "      <td>Pro:- Free Wifi that's decent enough to watch ...</td>\n",
       "      <td>Waterloo, Canada</td>\n",
       "      <td>1</td>\n",
       "      <td>2.0</td>\n",
       "      <td>Hudson_New_York-New_York_City_New_York__en.csv</td>\n",
       "      <td>New_York_City-New_York-pg1</td>\n",
       "      <td>New_York_City</td>\n",
       "      <td>0.0</td>\n",
       "      <td>0</td>\n",
       "      <td>negative</td>\n",
       "    </tr>\n",
       "    <tr>\n",
       "      <td>49597</td>\n",
       "      <td>568117582</td>\n",
       "      <td>https://www.tripadvisor.com/Hotel_Review-g6098...</td>\n",
       "      <td>DoubleTree by Hilton Alana - Waikiki Beach</td>\n",
       "      <td>March 22, 2018</td>\n",
       "      <td>We stayed at the Double tree Hilton in Waikiki...</td>\n",
       "      <td>El Dorado Hills, California</td>\n",
       "      <td>142</td>\n",
       "      <td>4.0</td>\n",
       "      <td>DoubleTree_by_Hilton_Alana_Waikiki_Beach-Honol...</td>\n",
       "      <td>Honolulu-Hawaii.pg1</td>\n",
       "      <td>Honolulu</td>\n",
       "      <td>1.0</td>\n",
       "      <td>2</td>\n",
       "      <td>positive</td>\n",
       "    </tr>\n",
       "    <tr>\n",
       "      <td>50708</td>\n",
       "      <td>182380558</td>\n",
       "      <td>https://www.tripadvisor.com/Hotel_Review-g6098...</td>\n",
       "      <td>DoubleTree by Hilton Alana - Waikiki Beach</td>\n",
       "      <td>October 25, 2013</td>\n",
       "      <td>Just returned from a weekend at the Hilton Ala...</td>\n",
       "      <td>Lahaina, Hawaii</td>\n",
       "      <td>8</td>\n",
       "      <td>5.0</td>\n",
       "      <td>DoubleTree_by_Hilton_Alana_Waikiki_Beach-Honol...</td>\n",
       "      <td>Honolulu-Hawaii.pg1</td>\n",
       "      <td>Honolulu</td>\n",
       "      <td>1.0</td>\n",
       "      <td>2</td>\n",
       "      <td>positive</td>\n",
       "    </tr>\n",
       "    <tr>\n",
       "      <td>111479</td>\n",
       "      <td>374299899</td>\n",
       "      <td>https://www.tripadvisor.com/Hotel_Review-g6098...</td>\n",
       "      <td>Embassy Suites By Hilton - Waikiki Beach Walk</td>\n",
       "      <td>May 18, 2016</td>\n",
       "      <td>We were here between 5/12-5/16 and got a Ocean...</td>\n",
       "      <td>Sunnyvale</td>\n",
       "      <td>9</td>\n",
       "      <td>5.0</td>\n",
       "      <td>Embassy_Suites_By_Hilton_Waikiki_Beach_Walk-Ho...</td>\n",
       "      <td>Honolulu-Hawaii.pg3</td>\n",
       "      <td>Honolulu</td>\n",
       "      <td>1.0</td>\n",
       "      <td>2</td>\n",
       "      <td>positive</td>\n",
       "    </tr>\n",
       "    <tr>\n",
       "      <td>156274</td>\n",
       "      <td>648957318</td>\n",
       "      <td>https://www.tripadvisor.com/Hotel_Review-g6098...</td>\n",
       "      <td>Outrigger Reef Waikiki Beach Resort</td>\n",
       "      <td>January 29, 2019</td>\n",
       "      <td>I didn’t mind this hotel, given our reservatio...</td>\n",
       "      <td>Calgary, Canada</td>\n",
       "      <td>16</td>\n",
       "      <td>4.0</td>\n",
       "      <td>Outrigger_Reef_Waikiki_Beach_Resort-Honolulu_O...</td>\n",
       "      <td>Honolulu-Hawaii.pg2</td>\n",
       "      <td>Honolulu</td>\n",
       "      <td>1.0</td>\n",
       "      <td>2</td>\n",
       "      <td>positive</td>\n",
       "    </tr>\n",
       "    <tr>\n",
       "      <td>39325</td>\n",
       "      <td>243787434</td>\n",
       "      <td>https://www.tripadvisor.com/Hotel_Review-g6098...</td>\n",
       "      <td>Ambassador Hotel Waikiki</td>\n",
       "      <td>December 9, 2014</td>\n",
       "      <td>Great hotel -- outstanding staffArrived at hot...</td>\n",
       "      <td>Richmond, Virginia</td>\n",
       "      <td>0</td>\n",
       "      <td>4.0</td>\n",
       "      <td>Ambassador_Hotel_Waikiki-Honolulu_Oahu_Hawaii_...</td>\n",
       "      <td>Honolulu-Hawaii.pg1</td>\n",
       "      <td>Honolulu</td>\n",
       "      <td>1.0</td>\n",
       "      <td>2</td>\n",
       "      <td>positive</td>\n",
       "    </tr>\n",
       "  </tbody>\n",
       "</table>\n",
       "</div>"
      ],
      "text/plain": [
       "        review_id                                                url  \\\n",
       "74070    41132378  https://www.tripadvisor.com/Hotel_Review-g6098...   \n",
       "87958   127888958  https://www.tripadvisor.com/Hotel_Review-g6098...   \n",
       "69821   385727665  https://www.tripadvisor.com/Hotel_Review-g6098...   \n",
       "18227   180312061  https://www.tripadvisor.com/Hotel_Review-g1413...   \n",
       "60767     3667498  https://www.tripadvisor.com/Hotel_Review-g6098...   \n",
       "31785   177809656  https://www.tripadvisor.ca/Hotel_Review-g60982...   \n",
       "36438     1419766  https://www.tripadvisor.ca/Hotel_Review-g60982...   \n",
       "140301  619978991  https://www.tripadvisor.com/Hotel_Review-g6098...   \n",
       "145884  185590153  https://www.tripadvisor.com/Hotel_Review-g6098...   \n",
       "187308  154555913  https://www.tripadvisor.com/Hotel_Review-g6076...   \n",
       "49597   568117582  https://www.tripadvisor.com/Hotel_Review-g6098...   \n",
       "50708   182380558  https://www.tripadvisor.com/Hotel_Review-g6098...   \n",
       "111479  374299899  https://www.tripadvisor.com/Hotel_Review-g6098...   \n",
       "156274  648957318  https://www.tripadvisor.com/Hotel_Review-g6098...   \n",
       "39325   243787434  https://www.tripadvisor.com/Hotel_Review-g6098...   \n",
       "\n",
       "                                               hotel_name         review_date  \\\n",
       "74070                         Aston at the Waikiki Banyan  September 12, 2009   \n",
       "87958   Moana Surfrider, A Westin Resort & Spa, Waikik...      April 14, 2012   \n",
       "69821   Hilton Grand Vacations at Hilton Hawaiian Village       June 24, 2016   \n",
       "18227                     Grand Prince Hotel New Takanawa     October 9, 2013   \n",
       "60767                                Hilton Waikiki Beach       July 13, 2005   \n",
       "31785        Hilton Hawaiian Village Waikiki Beach Resort  September 19, 2013   \n",
       "36438        Hilton Hawaiian Village Waikiki Beach Resort    October 22, 2003   \n",
       "140301                          Hyatt Place Waikiki Beach  September 27, 2018   \n",
       "145884                       Ilikai Hotel & Luxury Suites   November 23, 2013   \n",
       "187308                                    Hudson New York      March 14, 2013   \n",
       "49597          DoubleTree by Hilton Alana - Waikiki Beach      March 22, 2018   \n",
       "50708          DoubleTree by Hilton Alana - Waikiki Beach    October 25, 2013   \n",
       "111479      Embassy Suites By Hilton - Waikiki Beach Walk        May 18, 2016   \n",
       "156274                Outrigger Reef Waikiki Beach Resort    January 29, 2019   \n",
       "39325                            Ambassador Hotel Waikiki    December 9, 2014   \n",
       "\n",
       "                                              review_body  \\\n",
       "74070   We originally had this hotel booked for 5 nigh...   \n",
       "87958   The hotel itself is nice and the staff general...   \n",
       "69821   Took our kids to celebrate college graduation....   \n",
       "18227   Arrived approx 11 pm after flying from LAX. St...   \n",
       "60767   We had a wonderful time and LOVED this hotel! ...   \n",
       "31785   Just want to share my opinion of this resort, ...   \n",
       "36438   I stayed at the Hilton Hawaiian Village on our...   \n",
       "140301  and the breakfast buffet should be moved insid...   \n",
       "145884  The nice thing about the Illikai is the staff....   \n",
       "187308  Pro:- Free Wifi that's decent enough to watch ...   \n",
       "49597   We stayed at the Double tree Hilton in Waikiki...   \n",
       "50708   Just returned from a weekend at the Hilton Ala...   \n",
       "111479  We were here between 5/12-5/16 and got a Ocean...   \n",
       "156274  I didn’t mind this hotel, given our reservatio...   \n",
       "39325   Great hotel -- outstanding staffArrived at hot...   \n",
       "\n",
       "                      user_location  helpful_vote  rating  \\\n",
       "74070             Vancouver, Canada             1     2.0   \n",
       "87958           Brisbane, Australia            15     3.0   \n",
       "69821       Carlsbad, United States             1     3.0   \n",
       "18227             Cairns, Australia            49     4.0   \n",
       "60767              Washington State            13     5.0   \n",
       "31785           Maple Ridge, Canada            20     4.0   \n",
       "36438                           n/a            20     4.0   \n",
       "140301           Pomona, California             0     4.0   \n",
       "145884           Parksville, Canada            20     4.0   \n",
       "187308             Waterloo, Canada             1     2.0   \n",
       "49597   El Dorado Hills, California           142     4.0   \n",
       "50708               Lahaina, Hawaii             8     5.0   \n",
       "111479                    Sunnyvale             9     5.0   \n",
       "156274              Calgary, Canada            16     4.0   \n",
       "39325            Richmond, Virginia             0     4.0   \n",
       "\n",
       "                                                      csv  \\\n",
       "74070   Aston_at_the_Waikiki_Banyan-Honolulu_Oahu_Hawa...   \n",
       "87958   Moana_Surfrider_A_Westin_Resort_Spa_Waikiki_Be...   \n",
       "69821   Hilton_Grand_Vacations_at_Hilton_Hawaiian_Vill...   \n",
       "18227   Grand_Prince_Hotel_New_Takanawa-Takanawa_Minat...   \n",
       "60767   Hilton_Waikiki_Beach-Honolulu_Oahu_Hawaii__en.csv   \n",
       "31785   Hilton_Hawaiian_Village_Waikiki_Beach_Resort-H...   \n",
       "36438   Hilton_Hawaiian_Village_Waikiki_Beach_Resort-H...   \n",
       "140301  Hyatt_Place_Waikiki_Beach-Honolulu_Oahu_Hawaii...   \n",
       "145884  Ilikai_Hotel_Luxury_Suites-Honolulu_Oahu_Hawai...   \n",
       "187308     Hudson_New_York-New_York_City_New_York__en.csv   \n",
       "49597   DoubleTree_by_Hilton_Alana_Waikiki_Beach-Honol...   \n",
       "50708   DoubleTree_by_Hilton_Alana_Waikiki_Beach-Honol...   \n",
       "111479  Embassy_Suites_By_Hilton_Waikiki_Beach_Walk-Ho...   \n",
       "156274  Outrigger_Reef_Waikiki_Beach_Resort-Honolulu_O...   \n",
       "39325   Ambassador_Hotel_Waikiki-Honolulu_Oahu_Hawaii_...   \n",
       "\n",
       "                            folder           City  polarity  sentiment_int  \\\n",
       "74070          Honolulu-Hawaii.pg1       Honolulu       0.0              0   \n",
       "87958          Honolulu-Hawaii.pg3       Honolulu       0.5              1   \n",
       "69821          Honolulu-Hawaii.pg1       Honolulu       0.5              1   \n",
       "18227              Tokyo-Kanto-pg1          Tokyo       1.0              2   \n",
       "60767          Honolulu-Hawaii.pg1       Honolulu       1.0              2   \n",
       "31785          Honolulu-Hawaii.pg1       Honolulu       1.0              2   \n",
       "36438          Honolulu-Hawaii.pg1       Honolulu       1.0              2   \n",
       "140301         Honolulu-Hawaii.pg2       Honolulu       1.0              2   \n",
       "145884         Honolulu-Hawaii.pg2       Honolulu       1.0              2   \n",
       "187308  New_York_City-New_York-pg1  New_York_City       0.0              0   \n",
       "49597          Honolulu-Hawaii.pg1       Honolulu       1.0              2   \n",
       "50708          Honolulu-Hawaii.pg1       Honolulu       1.0              2   \n",
       "111479         Honolulu-Hawaii.pg3       Honolulu       1.0              2   \n",
       "156274         Honolulu-Hawaii.pg2       Honolulu       1.0              2   \n",
       "39325          Honolulu-Hawaii.pg1       Honolulu       1.0              2   \n",
       "\n",
       "       sentiment  \n",
       "74070   negative  \n",
       "87958    neutral  \n",
       "69821    neutral  \n",
       "18227   positive  \n",
       "60767   positive  \n",
       "31785   positive  \n",
       "36438   positive  \n",
       "140301  positive  \n",
       "145884  positive  \n",
       "187308  negative  \n",
       "49597   positive  \n",
       "50708   positive  \n",
       "111479  positive  \n",
       "156274  positive  \n",
       "39325   positive  "
      ]
     },
     "execution_count": 11,
     "metadata": {},
     "output_type": "execute_result"
    }
   ],
   "source": [
    "df_all_hotels_cleaned.sample(15)"
   ]
  },
  {
   "cell_type": "code",
   "execution_count": 12,
   "metadata": {
    "scrolled": false
   },
   "outputs": [
    {
     "name": "stdout",
     "output_type": "stream",
     "text": [
      "Count of Unique Values per Column:\n",
      "\n",
      "review_id: 212155\n",
      "url: 42484\n",
      "hotel_name: 149\n",
      "review_date: 6248\n",
      "review_body: 212124\n",
      "user_location: 27830\n",
      "helpful_vote: 799\n",
      "rating: 5\n",
      "csv: 149\n",
      "folder: 6\n",
      "City: 3\n",
      "polarity: 3\n",
      "sentiment_int: 3\n",
      "sentiment: 3\n"
     ]
    }
   ],
   "source": [
    "# Print how many unique values each column has\n",
    "hlp.print_unique_ct(df_all_hotels_cleaned)"
   ]
  },
  {
   "cell_type": "code",
   "execution_count": 13,
   "metadata": {
    "scrolled": false
   },
   "outputs": [
    {
     "data": {
      "text/html": [
       "<div>\n",
       "<style scoped>\n",
       "    .dataframe tbody tr th:only-of-type {\n",
       "        vertical-align: middle;\n",
       "    }\n",
       "\n",
       "    .dataframe tbody tr th {\n",
       "        vertical-align: top;\n",
       "    }\n",
       "\n",
       "    .dataframe thead th {\n",
       "        text-align: right;\n",
       "    }\n",
       "</style>\n",
       "<table border=\"1\" class=\"dataframe\">\n",
       "  <thead>\n",
       "    <tr style=\"text-align: right;\">\n",
       "      <th></th>\n",
       "      <th>review_id</th>\n",
       "      <th>helpful_vote</th>\n",
       "      <th>rating</th>\n",
       "      <th>polarity</th>\n",
       "      <th>sentiment_int</th>\n",
       "    </tr>\n",
       "  </thead>\n",
       "  <tbody>\n",
       "    <tr>\n",
       "      <td>count</td>\n",
       "      <td>2.121550e+05</td>\n",
       "      <td>212155.000000</td>\n",
       "      <td>212155.000000</td>\n",
       "      <td>212155.000000</td>\n",
       "      <td>212155.000000</td>\n",
       "    </tr>\n",
       "    <tr>\n",
       "      <td>mean</td>\n",
       "      <td>3.485569e+08</td>\n",
       "      <td>30.036360</td>\n",
       "      <td>4.104650</td>\n",
       "      <td>0.837633</td>\n",
       "      <td>1.675266</td>\n",
       "    </tr>\n",
       "    <tr>\n",
       "      <td>std</td>\n",
       "      <td>2.108024e+08</td>\n",
       "      <td>192.647358</td>\n",
       "      <td>1.094571</td>\n",
       "      <td>0.321905</td>\n",
       "      <td>0.643809</td>\n",
       "    </tr>\n",
       "    <tr>\n",
       "      <td>min</td>\n",
       "      <td>2.824200e+05</td>\n",
       "      <td>0.000000</td>\n",
       "      <td>1.000000</td>\n",
       "      <td>0.000000</td>\n",
       "      <td>0.000000</td>\n",
       "    </tr>\n",
       "    <tr>\n",
       "      <td>25%</td>\n",
       "      <td>1.655966e+08</td>\n",
       "      <td>2.000000</td>\n",
       "      <td>4.000000</td>\n",
       "      <td>1.000000</td>\n",
       "      <td>2.000000</td>\n",
       "    </tr>\n",
       "    <tr>\n",
       "      <td>50%</td>\n",
       "      <td>3.260000e+08</td>\n",
       "      <td>9.000000</td>\n",
       "      <td>4.000000</td>\n",
       "      <td>1.000000</td>\n",
       "      <td>2.000000</td>\n",
       "    </tr>\n",
       "    <tr>\n",
       "      <td>75%</td>\n",
       "      <td>5.286325e+08</td>\n",
       "      <td>29.000000</td>\n",
       "      <td>5.000000</td>\n",
       "      <td>1.000000</td>\n",
       "      <td>2.000000</td>\n",
       "    </tr>\n",
       "    <tr>\n",
       "      <td>max</td>\n",
       "      <td>7.534573e+08</td>\n",
       "      <td>34443.000000</td>\n",
       "      <td>5.000000</td>\n",
       "      <td>1.000000</td>\n",
       "      <td>2.000000</td>\n",
       "    </tr>\n",
       "  </tbody>\n",
       "</table>\n",
       "</div>"
      ],
      "text/plain": [
       "          review_id   helpful_vote         rating       polarity  \\\n",
       "count  2.121550e+05  212155.000000  212155.000000  212155.000000   \n",
       "mean   3.485569e+08      30.036360       4.104650       0.837633   \n",
       "std    2.108024e+08     192.647358       1.094571       0.321905   \n",
       "min    2.824200e+05       0.000000       1.000000       0.000000   \n",
       "25%    1.655966e+08       2.000000       4.000000       1.000000   \n",
       "50%    3.260000e+08       9.000000       4.000000       1.000000   \n",
       "75%    5.286325e+08      29.000000       5.000000       1.000000   \n",
       "max    7.534573e+08   34443.000000       5.000000       1.000000   \n",
       "\n",
       "       sentiment_int  \n",
       "count  212155.000000  \n",
       "mean        1.675266  \n",
       "std         0.643809  \n",
       "min         0.000000  \n",
       "25%         2.000000  \n",
       "50%         2.000000  \n",
       "75%         2.000000  \n",
       "max         2.000000  "
      ]
     },
     "execution_count": 13,
     "metadata": {},
     "output_type": "execute_result"
    }
   ],
   "source": [
    "df_all_hotels_cleaned.describe()"
   ]
  },
  {
   "cell_type": "code",
   "execution_count": 14,
   "metadata": {},
   "outputs": [
    {
     "name": "stdout",
     "output_type": "stream",
     "text": [
      "Total Number of Reviews: 212155\n"
     ]
    },
    {
     "data": {
      "text/plain": [
       "Text(0.5, 1.0, 'Count of Hotel Reviews per City')"
      ]
     },
     "execution_count": 14,
     "metadata": {},
     "output_type": "execute_result"
    },
    {
     "data": {
      "text/plain": [
       "Text(0.5, 0, 'City')"
      ]
     },
     "execution_count": 14,
     "metadata": {},
     "output_type": "execute_result"
    },
    {
     "data": {
      "image/png": "[encoded data removed]",
      "text/plain": [
       "<Figure size 864x720 with 1 Axes>"
      ]
     },
     "metadata": {
      "needs_background": "light"
     },
     "output_type": "display_data"
    }
   ],
   "source": [
    "# Plot counts - Reviews per city\n",
    "df = df_all_hotels_cleaned\n",
    "print('Total Number of Reviews:', df.shape[0])\n",
    "\n",
    "fig, ax = plt.subplots(figsize=(12,10))\n",
    "plot = sns.countplot(data=df, x='City', ax=ax, order = df['City'].value_counts().index)\n",
    "ax.set_title('Count of Hotel Reviews per City', size=BIGGEST_SIZE)\n",
    "ax.set_xlabel('City')\n",
    "fig.tight_layout()\n",
    "fig.savefig('../images/countplot_reviews_byCity_full')"
   ]
  },
  {
   "cell_type": "code",
   "execution_count": 15,
   "metadata": {},
   "outputs": [
    {
     "data": {
      "text/plain": [
       "Text(0.5, 1.0, 'Distribution of Ratings per City')"
      ]
     },
     "execution_count": 15,
     "metadata": {},
     "output_type": "execute_result"
    },
    {
     "data": {
      "text/plain": [
       "Text(0, 0.5, 'Hotel Rating')"
      ]
     },
     "execution_count": 15,
     "metadata": {},
     "output_type": "execute_result"
    },
    {
     "data": {
      "text/plain": [
       "Text(0.5, 0, 'City')"
      ]
     },
     "execution_count": 15,
     "metadata": {},
     "output_type": "execute_result"
    },
    {
     "data": {
      "image/png": "[encoded data removed]",
      "text/plain": [
       "<Figure size 864x720 with 1 Axes>"
      ]
     },
     "metadata": {
      "needs_background": "light"
     },
     "output_type": "display_data"
    }
   ],
   "source": [
    "# Plot boxplot - Ratings per city\n",
    "figsize=(12, 10)\n",
    "fig, ax = plt.subplots(figsize=figsize)\n",
    "plot = sns.boxplot(x='City', y='rating', data=df, ax=ax, order = df['City'].value_counts().index)\n",
    "ax.set_title('Distribution of Ratings per City', size=BIGGEST_SIZE)\n",
    "ax.set_ylabel('Hotel Rating')\n",
    "ax.set_xlabel('City')\n",
    "fig.tight_layout()\n",
    "fig.savefig('../images/boxplt_ratings_byCity_full')"
   ]
  },
  {
   "cell_type": "code",
   "execution_count": 16,
   "metadata": {
    "scrolled": false
   },
   "outputs": [
    {
     "name": "stdout",
     "output_type": "stream",
     "text": [
      "Total Number of Ratings:  212155\n"
     ]
    },
    {
     "data": {
      "text/plain": [
       "Text(0.5, 1.0, 'Counts of Hotel Ratings')"
      ]
     },
     "execution_count": 16,
     "metadata": {},
     "output_type": "execute_result"
    },
    {
     "data": {
      "text/plain": [
       "Text(0.5, 0, 'Hotel Rating')"
      ]
     },
     "execution_count": 16,
     "metadata": {},
     "output_type": "execute_result"
    },
    {
     "data": {
      "image/png": "[encoded data removed]",
      "text/plain": [
       "<Figure size 864x576 with 1 Axes>"
      ]
     },
     "metadata": {
      "needs_background": "light"
     },
     "output_type": "display_data"
    }
   ],
   "source": [
    "# Plot counts - Ratings\n",
    "df = df_all_hotels_cleaned\n",
    "print('Total Number of Ratings: ', df.shape[0])\n",
    "\n",
    "fig, ax = plt.subplots(figsize=(12,8))\n",
    "plot = sns.countplot(data=df, x='rating', ax=ax)\n",
    "ax.set_title('Counts of Hotel Ratings', size=BIGGEST_SIZE)\n",
    "ax.set_xlabel('Hotel Rating')\n",
    "fig.savefig('../images/countplot_ratings_full')"
   ]
  },
  {
   "cell_type": "code",
   "execution_count": 17,
   "metadata": {},
   "outputs": [
    {
     "name": "stdout",
     "output_type": "stream",
     "text": [
      "Total Number of Ratings:  212155\n"
     ]
    },
    {
     "data": {
      "text/plain": [
       "(<Figure size 576x576 with 1 Axes>,\n",
       " <matplotlib.axes._subplots.AxesSubplot at 0x1a2ab3c310>)"
      ]
     },
     "execution_count": 17,
     "metadata": {},
     "output_type": "execute_result"
    },
    {
     "data": {
      "text/plain": [
       "Text(0.5, 1, 'Balance of Review Sentiments')"
      ]
     },
     "execution_count": 17,
     "metadata": {},
     "output_type": "execute_result"
    },
    {
     "data": {
      "text/plain": [
       "Text(73.76, 0.5, '')"
      ]
     },
     "execution_count": 17,
     "metadata": {},
     "output_type": "execute_result"
    },
    {
     "data": {
      "image/png": "[encoded data removed]",
      "text/plain": [
       "<Figure size 576x576 with 1 Axes>"
      ]
     },
     "metadata": {},
     "output_type": "display_data"
    }
   ],
   "source": [
    "# Plot pie - Sentiments\n",
    "df = df_all_hotels_cleaned\n",
    "print('Total Number of Ratings: ', df.shape[0])\n",
    "\n",
    "fig, ax = plt.subplots(figsize=(8,8))\n",
    "hlp.plot_pie(df['sentiment'], fig, ax)\n",
    "ax.set_title('Balance of Review Sentiments', size=BIGGEST_SIZE)\n",
    "ax.set_ylabel('')\n",
    "fig.savefig('../images/pie_sentiments_full')"
   ]
  },
  {
   "cell_type": "markdown",
   "metadata": {},
   "source": [
    "# Train-Test Split"
   ]
  },
  {
   "cell_type": "code",
   "execution_count": 18,
   "metadata": {},
   "outputs": [],
   "source": [
    "# Specify df & target, X & y\n",
    "df = df_all_hotels_cleaned.copy()\n",
    "target = 'sentiment'\n",
    "\n",
    "X = df['review_body']\n",
    "y = df[target].to_numpy()"
   ]
  },
  {
   "cell_type": "code",
   "execution_count": 19,
   "metadata": {},
   "outputs": [
    {
     "data": {
      "text/plain": [
       "((169724,), (42431,), (169724,), (42431,))"
      ]
     },
     "execution_count": 19,
     "metadata": {},
     "output_type": "execute_result"
    }
   ],
   "source": [
    "X_train, X_test, y_train, y_test = train_test_split(X, y, test_size=0.2, shuffle=True, stratify=y)\n",
    "X_train.shape, X_test.shape, y_train.shape, y_test.shape"
   ]
  },
  {
   "cell_type": "markdown",
   "metadata": {},
   "source": [
    "## Handling class imbalance by under-sampling train data"
   ]
  },
  {
   "cell_type": "code",
   "execution_count": null,
   "metadata": {},
   "outputs": [],
   "source": []
  },
  {
   "cell_type": "markdown",
   "metadata": {},
   "source": [
    "# NLP"
   ]
  },
  {
   "cell_type": "code",
   "execution_count": 20,
   "metadata": {},
   "outputs": [],
   "source": [
    "from nltk.corpus import stopwords\n",
    "from nltk.tokenize import RegexpTokenizer\n",
    "from nltk.stem.porter import PorterStemmer\n",
    "from nltk.stem.snowball import SnowballStemmer\n",
    "from nltk.stem.wordnet import WordNetLemmatizer\n",
    "from sklearn.feature_extraction.text import TfidfVectorizer, CountVectorizer"
   ]
  },
  {
   "cell_type": "code",
   "execution_count": 21,
   "metadata": {},
   "outputs": [],
   "source": [
    "df = df_all_hotels_cleaned"
   ]
  },
  {
   "cell_type": "code",
   "execution_count": 22,
   "metadata": {},
   "outputs": [],
   "source": [
    "def build_text_vectorizer(contents, use_tfidf=True, use_stemmer=False, max_features=None):\n",
    "    '''\n",
    "    Build and return a **callable** for transforming text documents to vectors,\n",
    "    as well as a vocabulary to map document-vector indices to words from the\n",
    "    corpus. The vectorizer will be trained from the text documents in the\n",
    "    `contents` argument. If `use_tfidf` is True, then the vectorizer will use\n",
    "    the Tf-Idf algorithm, otherwise a Bag-of-Words vectorizer will be used.\n",
    "    The text will be tokenized by words, and each word will be stemmed iff\n",
    "    `use_stemmer` is True. If `max_features` is not None, then the vocabulary\n",
    "    will be limited to the `max_features` most common words in the corpus.\n",
    "    '''\n",
    "    Vectorizer = TfidfVectorizer if use_tfidf else CountVectorizer\n",
    "#     tokenizer = RegexpTokenizer(r\"[\\w']+\")\n",
    "    tokenizer = RegexpTokenizer(r\"[a-zA-Z]+\")\n",
    "#     stem = PorterStemmer().stem if use_stemmer else (lambda x: x)\n",
    "    if use_stemmer=='porter':  \n",
    "        stem = PorterStemmer().stem\n",
    "        print('Using PorterStemmer')\n",
    "    elif use_stemmer=='snowball':    \n",
    "        stem = SnowballStemmer('english').stem\n",
    "        print('Using SnowballStemmer')\n",
    "    elif use_stemmer=='lem':    \n",
    "        stem = WordNetLemmatizer().lemmatize\n",
    "        print('Using WordNetLemmatizer')\n",
    "    else: \n",
    "        stem = (lambda x: x)\n",
    "        print('No Stemmer')\n",
    "\n",
    "    stop_set = set(stopwords.words('english'))\n",
    "\n",
    "    # Closure over the tokenizer et al.\n",
    "    def tokenize(text):\n",
    "        tokens = tokenizer.tokenize(text)\n",
    "        stems = [stem(token) for token in tokens if token not in stop_set]\n",
    "        return stems\n",
    "\n",
    "    vectorizer_model = Vectorizer(strip_accents='unicode', lowercase=True, \n",
    "                                  tokenizer=tokenize, max_features=max_features)\n",
    "    vectorizer_model.fit(contents)\n",
    "    vocabulary = np.array(vectorizer_model.get_feature_names())\n",
    "\n",
    "    # Closure over the vectorizer_model's transform method.\n",
    "    def vectorizer(X):\n",
    "        return vectorizer_model.transform(X).toarray()\n",
    "\n",
    "    return vectorizer, vocabulary"
   ]
  },
  {
   "cell_type": "markdown",
   "metadata": {},
   "source": [
    "### Tf-idf, no stemmer, 200 max_features (filter English stopwords)"
   ]
  },
  {
   "cell_type": "code",
   "execution_count": 23,
   "metadata": {},
   "outputs": [
    {
     "name": "stdout",
     "output_type": "stream",
     "text": [
      "No Stemmer\n"
     ]
    }
   ],
   "source": [
    "tfidf=True\n",
    "stemmer=None\n",
    "max_features=200\n",
    "\n",
    "vect_tfidf_nostem_200, vocab_tfidf_nostem_200 = build_text_vectorizer(X_train,\n",
    "                             use_tfidf=tfidf,\n",
    "                             use_stemmer=stemmer,\n",
    "                             max_features=max_features)"
   ]
  },
  {
   "cell_type": "code",
   "execution_count": 24,
   "metadata": {},
   "outputs": [],
   "source": [
    "Xtr_tfidf_nostem_200 = vect_tfidf_nostem_200(X_train)"
   ]
  },
  {
   "cell_type": "code",
   "execution_count": 25,
   "metadata": {},
   "outputs": [
    {
     "data": {
      "text/plain": [
       "array(['access', 'across', 'also', 'although', 'always', 'amazing',\n",
       "       'another', 'area', 'around', 'arrived', 'asked', 'available',\n",
       "       'away', 'back', 'balcony', 'bar', 'bathroom', 'beach', 'beautiful',\n",
       "       'bed', 'beds', 'best', 'better', 'big', 'bit', 'booked',\n",
       "       'breakfast', 'business', 'busy', 'car', 'central', 'chairs',\n",
       "       'check', 'city', 'clean', 'close', 'coffee', 'come', 'comfortable',\n",
       "       'concierge', 'could', 'day', 'days', 'definitely', 'desk',\n",
       "       'diamond', 'distance', 'door', 'early', 'easy', 'end', 'enjoyed',\n",
       "       'enough', 'especially', 'etc', 'even', 'every', 'everything',\n",
       "       'excellent', 'expensive', 'experience', 'family', 'fantastic',\n",
       "       'feel', 'find', 'first', 'floor', 'food', 'found', 'free',\n",
       "       'friendly', 'front', 'full', 'get', 'go', 'going', 'good', 'got',\n",
       "       'great', 'guests', 'happy', 'hawaii', 'hawaiian', 'head',\n",
       "       'helpful', 'high', 'hilton', 'honolulu', 'hotel', 'hotels',\n",
       "       'however', 'kids', 'large', 'last', 'like', 'little', 'lobby',\n",
       "       'located', 'location', 'long', 'looking', 'lot', 'lots', 'lounge',\n",
       "       'loved', 'lovely', 'made', 'main', 'make', 'many', 'minutes',\n",
       "       'modern', 'morning', 'much', 'need', 'never', 'new', 'next',\n",
       "       'nice', 'night', 'nights', 'noise', 'ocean', 'old', 'one',\n",
       "       'overall', 'park', 'parking', 'pay', 'people', 'perfect', 'place',\n",
       "       'pool', 'pretty', 'price', 'property', 'quiet', 'quite', 'really',\n",
       "       'recommend', 'resort', 'restaurant', 'restaurants', 'right',\n",
       "       'room', 'rooms', 'said', 'say', 'see', 'service', 'shopping',\n",
       "       'shops', 'short', 'shower', 'side', 'since', 'size', 'small',\n",
       "       'spacious', 'staff', 'stay', 'stayed', 'staying', 'still',\n",
       "       'street', 'suite', 'sure', 'take', 'th', 'thing', 'things',\n",
       "       'think', 'though', 'time', 'times', 'tokyo', 'told', 'took', 'top',\n",
       "       'towels', 'tower', 'trip', 'two', 'us', 'use', 'view', 'views',\n",
       "       'visit', 'waikiki', 'walk', 'walking', 'want', 'water', 'way',\n",
       "       'week', 'well', 'went', 'within', 'wonderful', 'would'],\n",
       "      dtype='<U11')"
      ]
     },
     "execution_count": 25,
     "metadata": {},
     "output_type": "execute_result"
    }
   ],
   "source": [
    "vocab_tfidf_nostem_200"
   ]
  },
  {
   "cell_type": "markdown",
   "metadata": {},
   "source": [
    "# Predictive Modeling"
   ]
  },
  {
   "cell_type": "code",
   "execution_count": 26,
   "metadata": {},
   "outputs": [],
   "source": [
    "# from sklearn.linear_model import LogisticRegression\n",
    "# from sklearn.neighbors import KNeighborsClassifier\n",
    "# from sklearn.tree import DecisionTreeClassifier\n",
    "# from sklearn.ensemble import RandomForestClassifier\n",
    "# from sklearn.ensemble import GradientBoostingClassifier\n",
    "# from sklearn.naive_bayes import GaussianNB\n",
    "from sklearn.naive_bayes import MultinomialNB\n",
    "# from sklearn.linear_model import RidgeClassifier\n",
    "\n",
    "from sklearn.model_selection import cross_val_score"
   ]
  },
  {
   "cell_type": "code",
   "execution_count": 27,
   "metadata": {},
   "outputs": [
    {
     "data": {
      "text/plain": [
       "(169724, 200)"
      ]
     },
     "execution_count": 27,
     "metadata": {},
     "output_type": "execute_result"
    }
   ],
   "source": [
    "Xtr_tfidf_nostem_200.shape"
   ]
  },
  {
   "cell_type": "code",
   "execution_count": 28,
   "metadata": {},
   "outputs": [],
   "source": [
    "def fit_pred_score_Nfold(model, X_train, y_train, N=10, model_name=None, scoring='accuracy'):\n",
    "    # Fit model\n",
    "    model.fit(X_train, y_train)\n",
    "    # Get N-fold Cross-Validation score\n",
    "    if model_name is None:\n",
    "        model_name=model.__class__.__name__\n",
    "    score = np.mean(cross_val_score(model, X_train, y_train, scoring=scoring, cv=N))\n",
    "    print(model_name + ' {}, {}-fold CV on Train Data: {:0.3f}'.format(scoring, N, score))"
   ]
  },
  {
   "cell_type": "code",
   "execution_count": 29,
   "metadata": {},
   "outputs": [],
   "source": [
    "nb_def = MultinomialNB()"
   ]
  },
  {
   "cell_type": "code",
   "execution_count": 30,
   "metadata": {},
   "outputs": [
    {
     "name": "stdout",
     "output_type": "stream",
     "text": [
      "MultinomialNB accuracy, 10-fold CV on Train Data: 0.782\n"
     ]
    }
   ],
   "source": [
    "fit_pred_score_Nfold(nb_def, Xtr_tfidf_nostem_200, y_train, N=10)"
   ]
  },
  {
   "cell_type": "markdown",
   "metadata": {},
   "source": [
    "# Appendix"
   ]
  },
  {
   "cell_type": "code",
   "execution_count": 31,
   "metadata": {},
   "outputs": [
    {
     "ename": "AssertionError",
     "evalue": "",
     "output_type": "error",
     "traceback": [
      "\u001b[0;31m---------------------------------------------------------------------------\u001b[0m",
      "\u001b[0;31mAssertionError\u001b[0m                            Traceback (most recent call last)",
      "\u001b[0;32m<ipython-input-31-2f502d8ff0c4>\u001b[0m in \u001b[0;36m<module>\u001b[0;34m\u001b[0m\n\u001b[1;32m      1\u001b[0m \u001b[0;31m# don't go beyond here with Run All\u001b[0m\u001b[0;34m\u001b[0m\u001b[0;34m\u001b[0m\u001b[0;34m\u001b[0m\u001b[0m\n\u001b[0;32m----> 2\u001b[0;31m \u001b[0;32massert\u001b[0m \u001b[0;32mFalse\u001b[0m\u001b[0;34m\u001b[0m\u001b[0;34m\u001b[0m\u001b[0m\n\u001b[0m",
      "\u001b[0;31mAssertionError\u001b[0m: "
     ]
    }
   ],
   "source": [
    "# don't go beyond here with Run All\n",
    "assert False"
   ]
  },
  {
   "cell_type": "code",
   "execution_count": null,
   "metadata": {},
   "outputs": [],
   "source": [
    "# Plot distributions - Review length per sentiment\n",
    "df = df_all_hotels_cleaned\n",
    "\n",
    "fig, ax = plt.subplots(figsize=(8,8))\n",
    "# Plot per sentiment\n",
    "for sentiment in df['sentiment'].unique():\n",
    "    sns.distplot(df.groupby('sentiment').get_group(sentiment)['review_length'], ax=ax, label=sentiment)\n",
    "ax.legend()"
   ]
  },
  {
   "cell_type": "code",
   "execution_count": null,
   "metadata": {},
   "outputs": [],
   "source": [
    "# Plot distributions - Review length per city\n",
    "df = df_all_hotels_cleaned\n",
    "\n",
    "fig, ax = plt.subplots(figsize=(8,8))\n",
    "# Plot per city\n",
    "for city in df['City'].unique():\n",
    "    sns.distplot(df.groupby('City').get_group(city)['review_length'], ax=ax, label=city)\n",
    "ax.legend()"
   ]
  }
 ],
 "metadata": {
  "kernelspec": {
   "display_name": "Python 3",
   "language": "python",
   "name": "python3"
  },
  "language_info": {
   "codemirror_mode": {
    "name": "ipython",
    "version": 3
   },
   "file_extension": ".py",
   "mimetype": "text/x-python",
   "name": "python",
   "nbconvert_exporter": "python",
   "pygments_lexer": "ipython3",
   "version": "3.7.4"
  }
 },
 "nbformat": 4,
 "nbformat_minor": 2
}
