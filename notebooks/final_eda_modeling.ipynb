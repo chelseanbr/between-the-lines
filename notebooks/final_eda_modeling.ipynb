{
 "cells": [
  {
   "cell_type": "code",
   "execution_count": 1,
   "metadata": {},
   "outputs": [],
   "source": [
    "%load_ext autoreload\n",
    "%autoreload 2\n",
    "import sys\n",
    "import os\n",
    "module_path = os.path.abspath(os.path.join('..'))\n",
    "if module_path not in sys.path:\n",
    "    sys.path.append(module_path+\"/src\")\n",
    "import helpers as hlp"
   ]
  },
  {
   "cell_type": "code",
   "execution_count": 2,
   "metadata": {},
   "outputs": [],
   "source": [
    "import numpy as np\n",
    "import pandas as pd\n",
    "import matplotlib.pyplot as plt\n",
    "import seaborn as sns\n",
    "from sklearn.model_selection import train_test_split"
   ]
  },
  {
   "cell_type": "code",
   "execution_count": 3,
   "metadata": {},
   "outputs": [],
   "source": [
    "# Set plot sizes\n",
    "SMALL_SIZE = 22\n",
    "MEDIUM_SIZE = 24\n",
    "BIGGER_SIZE = 26\n",
    "BIGGEST_SIZE = 28\n",
    "\n",
    "plt.rc('font', size=SMALL_SIZE)          # controls default text sizes\n",
    "plt.rc('axes', titlesize=SMALL_SIZE)     # fontsize of the axes title\n",
    "plt.rc('axes', labelsize=MEDIUM_SIZE)    # fontsize of the x and y labels\n",
    "plt.rc('xtick', labelsize=SMALL_SIZE)    # fontsize of the tick labels\n",
    "plt.rc('ytick', labelsize=SMALL_SIZE)    # fontsize of the tick labels\n",
    "plt.rc('legend', fontsize=SMALL_SIZE)    # legend fontsize\n",
    "plt.rc('figure', titlesize=BIGGEST_SIZE)  # fontsize of the figure title"
   ]
  },
  {
   "cell_type": "markdown",
   "metadata": {},
   "source": [
    "# Load & Merge CSV Data"
   ]
  },
  {
   "cell_type": "code",
   "execution_count": 4,
   "metadata": {},
   "outputs": [
    {
     "name": "stdout",
     "output_type": "stream",
     "text": [
      "Folders: ['Tokyo-Kanto-pg1', 'Honolulu-Hawaii.pg1', 'Honolulu-Hawaii.pg4', 'Honolulu-Hawaii.pg3', 'Honolulu-Hawaii.pg2', 'New_York_City-New_York-pg1']\n"
     ]
    }
   ],
   "source": [
    "aws_data_dir = '../data/web_scraped/aws_final/'\n",
    "\n",
    "# Use helper function to load and merge CSVs from folders in above dir\n",
    "df_all_hotels = hlp.merge_csv_mult_dir(aws_data_dir)"
   ]
  },
  {
   "cell_type": "code",
   "execution_count": 5,
   "metadata": {},
   "outputs": [
    {
     "data": {
      "text/plain": [
       "(212155, 10)"
      ]
     },
     "execution_count": 5,
     "metadata": {},
     "output_type": "execute_result"
    }
   ],
   "source": [
    "df_all_hotels.shape"
   ]
  },
  {
   "cell_type": "code",
   "execution_count": 6,
   "metadata": {},
   "outputs": [
    {
     "data": {
      "text/html": [
       "<div>\n",
       "<style scoped>\n",
       "    .dataframe tbody tr th:only-of-type {\n",
       "        vertical-align: middle;\n",
       "    }\n",
       "\n",
       "    .dataframe tbody tr th {\n",
       "        vertical-align: top;\n",
       "    }\n",
       "\n",
       "    .dataframe thead th {\n",
       "        text-align: right;\n",
       "    }\n",
       "</style>\n",
       "<table border=\"1\" class=\"dataframe\">\n",
       "  <thead>\n",
       "    <tr style=\"text-align: right;\">\n",
       "      <th></th>\n",
       "      <th>review_id</th>\n",
       "      <th>url</th>\n",
       "      <th>hotel_name</th>\n",
       "      <th>review_date</th>\n",
       "      <th>review_body</th>\n",
       "      <th>user_location</th>\n",
       "      <th>helpful_vote</th>\n",
       "      <th>rating</th>\n",
       "      <th>csv</th>\n",
       "      <th>folder</th>\n",
       "    </tr>\n",
       "  </thead>\n",
       "  <tbody>\n",
       "    <tr>\n",
       "      <td>0</td>\n",
       "      <td>749389994</td>\n",
       "      <td>https://www.tripadvisor.com/Hotel_Review-g1412...</td>\n",
       "      <td>Aman Tokyo</td>\n",
       "      <td>March 5, 2020</td>\n",
       "      <td>Consistent service with my past Aman hotel exp...</td>\n",
       "      <td>Sunnyvale, California</td>\n",
       "      <td>4</td>\n",
       "      <td>5.0</td>\n",
       "      <td>Aman_Tokyo-Otemachi_Chiyoda_Tokyo_Tokyo_Prefec...</td>\n",
       "      <td>Tokyo-Kanto-pg1</td>\n",
       "    </tr>\n",
       "    <tr>\n",
       "      <td>1</td>\n",
       "      <td>749264661</td>\n",
       "      <td>https://www.tripadvisor.com/Hotel_Review-g1412...</td>\n",
       "      <td>Aman Tokyo</td>\n",
       "      <td>March 5, 2020</td>\n",
       "      <td>Stayed for 3 days and everything at Aman is pe...</td>\n",
       "      <td>Vancouver, Canada</td>\n",
       "      <td>6</td>\n",
       "      <td>5.0</td>\n",
       "      <td>Aman_Tokyo-Otemachi_Chiyoda_Tokyo_Tokyo_Prefec...</td>\n",
       "      <td>Tokyo-Kanto-pg1</td>\n",
       "    </tr>\n",
       "    <tr>\n",
       "      <td>2</td>\n",
       "      <td>746956250</td>\n",
       "      <td>https://www.tripadvisor.com/Hotel_Review-g1412...</td>\n",
       "      <td>Aman Tokyo</td>\n",
       "      <td>February 23, 2020</td>\n",
       "      <td>Although I live in Tokyo but I decided to take...</td>\n",
       "      <td>Tokyo, Japan</td>\n",
       "      <td>53</td>\n",
       "      <td>4.0</td>\n",
       "      <td>Aman_Tokyo-Otemachi_Chiyoda_Tokyo_Tokyo_Prefec...</td>\n",
       "      <td>Tokyo-Kanto-pg1</td>\n",
       "    </tr>\n",
       "    <tr>\n",
       "      <td>3</td>\n",
       "      <td>745398599</td>\n",
       "      <td>https://www.tripadvisor.com/Hotel_Review-g1412...</td>\n",
       "      <td>Aman Tokyo</td>\n",
       "      <td>February 16, 2020</td>\n",
       "      <td>An outstanding stay in a beautiful Aman in dow...</td>\n",
       "      <td>Singapore, Singapore</td>\n",
       "      <td>5</td>\n",
       "      <td>5.0</td>\n",
       "      <td>Aman_Tokyo-Otemachi_Chiyoda_Tokyo_Tokyo_Prefec...</td>\n",
       "      <td>Tokyo-Kanto-pg1</td>\n",
       "    </tr>\n",
       "    <tr>\n",
       "      <td>4</td>\n",
       "      <td>743365715</td>\n",
       "      <td>https://www.tripadvisor.com/Hotel_Review-g1412...</td>\n",
       "      <td>Aman Tokyo</td>\n",
       "      <td>February 6, 2020</td>\n",
       "      <td>Stayed here for 2 nights (second time after 3 ...</td>\n",
       "      <td>Singapore, Singapore</td>\n",
       "      <td>38</td>\n",
       "      <td>5.0</td>\n",
       "      <td>Aman_Tokyo-Otemachi_Chiyoda_Tokyo_Tokyo_Prefec...</td>\n",
       "      <td>Tokyo-Kanto-pg1</td>\n",
       "    </tr>\n",
       "  </tbody>\n",
       "</table>\n",
       "</div>"
      ],
      "text/plain": [
       "   review_id                                                url  hotel_name  \\\n",
       "0  749389994  https://www.tripadvisor.com/Hotel_Review-g1412...  Aman Tokyo   \n",
       "1  749264661  https://www.tripadvisor.com/Hotel_Review-g1412...  Aman Tokyo   \n",
       "2  746956250  https://www.tripadvisor.com/Hotel_Review-g1412...  Aman Tokyo   \n",
       "3  745398599  https://www.tripadvisor.com/Hotel_Review-g1412...  Aman Tokyo   \n",
       "4  743365715  https://www.tripadvisor.com/Hotel_Review-g1412...  Aman Tokyo   \n",
       "\n",
       "         review_date                                        review_body  \\\n",
       "0      March 5, 2020  Consistent service with my past Aman hotel exp...   \n",
       "1      March 5, 2020  Stayed for 3 days and everything at Aman is pe...   \n",
       "2  February 23, 2020  Although I live in Tokyo but I decided to take...   \n",
       "3  February 16, 2020  An outstanding stay in a beautiful Aman in dow...   \n",
       "4   February 6, 2020  Stayed here for 2 nights (second time after 3 ...   \n",
       "\n",
       "           user_location  helpful_vote  rating  \\\n",
       "0  Sunnyvale, California             4     5.0   \n",
       "1      Vancouver, Canada             6     5.0   \n",
       "2           Tokyo, Japan            53     4.0   \n",
       "3   Singapore, Singapore             5     5.0   \n",
       "4   Singapore, Singapore            38     5.0   \n",
       "\n",
       "                                                 csv           folder  \n",
       "0  Aman_Tokyo-Otemachi_Chiyoda_Tokyo_Tokyo_Prefec...  Tokyo-Kanto-pg1  \n",
       "1  Aman_Tokyo-Otemachi_Chiyoda_Tokyo_Tokyo_Prefec...  Tokyo-Kanto-pg1  \n",
       "2  Aman_Tokyo-Otemachi_Chiyoda_Tokyo_Tokyo_Prefec...  Tokyo-Kanto-pg1  \n",
       "3  Aman_Tokyo-Otemachi_Chiyoda_Tokyo_Tokyo_Prefec...  Tokyo-Kanto-pg1  \n",
       "4  Aman_Tokyo-Otemachi_Chiyoda_Tokyo_Tokyo_Prefec...  Tokyo-Kanto-pg1  "
      ]
     },
     "execution_count": 6,
     "metadata": {},
     "output_type": "execute_result"
    }
   ],
   "source": [
    "df_all_hotels.head()"
   ]
  },
  {
   "cell_type": "code",
   "execution_count": 7,
   "metadata": {},
   "outputs": [
    {
     "name": "stdout",
     "output_type": "stream",
     "text": [
      "<class 'pandas.core.frame.DataFrame'>\n",
      "RangeIndex: 212155 entries, 0 to 212154\n",
      "Data columns (total 10 columns):\n",
      "review_id        212155 non-null int64\n",
      "url              212155 non-null object\n",
      "hotel_name       212155 non-null object\n",
      "review_date      212155 non-null object\n",
      "review_body      212155 non-null object\n",
      "user_location    184157 non-null object\n",
      "helpful_vote     212155 non-null int64\n",
      "rating           212155 non-null float64\n",
      "csv              212155 non-null object\n",
      "folder           212155 non-null object\n",
      "dtypes: float64(1), int64(2), object(7)\n",
      "memory usage: 16.2+ MB\n"
     ]
    }
   ],
   "source": [
    "df_all_hotels.info()"
   ]
  },
  {
   "cell_type": "code",
   "execution_count": 8,
   "metadata": {},
   "outputs": [
    {
     "name": "stdout",
     "output_type": "stream",
     "text": [
      "Number of duplicate rows:\n",
      "\n",
      "review_id        0\n",
      "url              0\n",
      "hotel_name       0\n",
      "review_date      0\n",
      "review_body      0\n",
      "user_location    0\n",
      "helpful_vote     0\n",
      "rating           0\n",
      "csv              0\n",
      "folder           0\n",
      "dtype: int64\n"
     ]
    }
   ],
   "source": [
    "# Check for duplicate rows\n",
    "dup_rows = df_all_hotels[df_all_hotels.duplicated()].count()\n",
    "print('Number of duplicate rows:\\n\\n{}'.format(dup_rows))"
   ]
  },
  {
   "cell_type": "code",
   "execution_count": 9,
   "metadata": {},
   "outputs": [
    {
     "data": {
      "text/html": [
       "<div>\n",
       "<style scoped>\n",
       "    .dataframe tbody tr th:only-of-type {\n",
       "        vertical-align: middle;\n",
       "    }\n",
       "\n",
       "    .dataframe tbody tr th {\n",
       "        vertical-align: top;\n",
       "    }\n",
       "\n",
       "    .dataframe thead th {\n",
       "        text-align: right;\n",
       "    }\n",
       "</style>\n",
       "<table border=\"1\" class=\"dataframe\">\n",
       "  <thead>\n",
       "    <tr style=\"text-align: right;\">\n",
       "      <th></th>\n",
       "      <th>Total</th>\n",
       "      <th>Percent</th>\n",
       "      <th>Type</th>\n",
       "    </tr>\n",
       "  </thead>\n",
       "  <tbody>\n",
       "    <tr>\n",
       "      <td>user_location</td>\n",
       "      <td>27998</td>\n",
       "      <td>0.13197</td>\n",
       "      <td>object</td>\n",
       "    </tr>\n",
       "    <tr>\n",
       "      <td>folder</td>\n",
       "      <td>0</td>\n",
       "      <td>0.00000</td>\n",
       "      <td>object</td>\n",
       "    </tr>\n",
       "    <tr>\n",
       "      <td>csv</td>\n",
       "      <td>0</td>\n",
       "      <td>0.00000</td>\n",
       "      <td>object</td>\n",
       "    </tr>\n",
       "    <tr>\n",
       "      <td>rating</td>\n",
       "      <td>0</td>\n",
       "      <td>0.00000</td>\n",
       "      <td>float64</td>\n",
       "    </tr>\n",
       "    <tr>\n",
       "      <td>helpful_vote</td>\n",
       "      <td>0</td>\n",
       "      <td>0.00000</td>\n",
       "      <td>int64</td>\n",
       "    </tr>\n",
       "    <tr>\n",
       "      <td>review_body</td>\n",
       "      <td>0</td>\n",
       "      <td>0.00000</td>\n",
       "      <td>object</td>\n",
       "    </tr>\n",
       "    <tr>\n",
       "      <td>review_date</td>\n",
       "      <td>0</td>\n",
       "      <td>0.00000</td>\n",
       "      <td>object</td>\n",
       "    </tr>\n",
       "    <tr>\n",
       "      <td>hotel_name</td>\n",
       "      <td>0</td>\n",
       "      <td>0.00000</td>\n",
       "      <td>object</td>\n",
       "    </tr>\n",
       "    <tr>\n",
       "      <td>url</td>\n",
       "      <td>0</td>\n",
       "      <td>0.00000</td>\n",
       "      <td>object</td>\n",
       "    </tr>\n",
       "    <tr>\n",
       "      <td>review_id</td>\n",
       "      <td>0</td>\n",
       "      <td>0.00000</td>\n",
       "      <td>int64</td>\n",
       "    </tr>\n",
       "  </tbody>\n",
       "</table>\n",
       "</div>"
      ],
      "text/plain": [
       "               Total  Percent     Type\n",
       "user_location  27998  0.13197   object\n",
       "folder             0  0.00000   object\n",
       "csv                0  0.00000   object\n",
       "rating             0  0.00000  float64\n",
       "helpful_vote       0  0.00000    int64\n",
       "review_body        0  0.00000   object\n",
       "review_date        0  0.00000   object\n",
       "hotel_name         0  0.00000   object\n",
       "url                0  0.00000   object\n",
       "review_id          0  0.00000    int64"
      ]
     },
     "execution_count": 9,
     "metadata": {},
     "output_type": "execute_result"
    }
   ],
   "source": [
    "# Get count, pct, and type of missing data (per column)\n",
    "hlp.get_nulls(df_all_hotels)"
   ]
  },
  {
   "cell_type": "markdown",
   "metadata": {},
   "source": [
    "# Clean & Prep Data"
   ]
  },
  {
   "cell_type": "code",
   "execution_count": 10,
   "metadata": {},
   "outputs": [
    {
     "name": "stdout",
     "output_type": "stream",
     "text": [
      "<class 'pandas.core.frame.DataFrame'>\n",
      "Int64Index: 212155 entries, 0 to 212154\n",
      "Data columns (total 14 columns):\n",
      "review_id        212155 non-null int64\n",
      "url              212155 non-null object\n",
      "hotel_name       212155 non-null object\n",
      "review_date      212155 non-null object\n",
      "review_body      212155 non-null object\n",
      "user_location    212155 non-null object\n",
      "helpful_vote     212155 non-null int64\n",
      "rating           212155 non-null float64\n",
      "csv              212155 non-null object\n",
      "folder           212155 non-null object\n",
      "City             212155 non-null object\n",
      "polarity         212155 non-null float64\n",
      "sentiment_int    212155 non-null int64\n",
      "sentiment        212155 non-null object\n",
      "dtypes: float64(2), int64(3), object(9)\n",
      "memory usage: 24.3+ MB\n"
     ]
    }
   ],
   "source": [
    "df_all_hotels_cleaned = df_all_hotels.copy()\n",
    "\n",
    "# Use helper function to do clean & prep\n",
    "df_all_hotels_cleaned = hlp.clean_and_prep(df_all_hotels_cleaned)\n",
    "\n",
    "df_all_hotels_cleaned.info()"
   ]
  },
  {
   "cell_type": "markdown",
   "metadata": {},
   "source": [
    "# EDA"
   ]
  },
  {
   "cell_type": "code",
   "execution_count": 11,
   "metadata": {},
   "outputs": [
    {
     "data": {
      "text/html": [
       "<div>\n",
       "<style scoped>\n",
       "    .dataframe tbody tr th:only-of-type {\n",
       "        vertical-align: middle;\n",
       "    }\n",
       "\n",
       "    .dataframe tbody tr th {\n",
       "        vertical-align: top;\n",
       "    }\n",
       "\n",
       "    .dataframe thead th {\n",
       "        text-align: right;\n",
       "    }\n",
       "</style>\n",
       "<table border=\"1\" class=\"dataframe\">\n",
       "  <thead>\n",
       "    <tr style=\"text-align: right;\">\n",
       "      <th></th>\n",
       "      <th>review_id</th>\n",
       "      <th>url</th>\n",
       "      <th>hotel_name</th>\n",
       "      <th>review_date</th>\n",
       "      <th>review_body</th>\n",
       "      <th>user_location</th>\n",
       "      <th>helpful_vote</th>\n",
       "      <th>rating</th>\n",
       "      <th>csv</th>\n",
       "      <th>folder</th>\n",
       "      <th>City</th>\n",
       "      <th>polarity</th>\n",
       "      <th>sentiment_int</th>\n",
       "      <th>sentiment</th>\n",
       "    </tr>\n",
       "  </thead>\n",
       "  <tbody>\n",
       "    <tr>\n",
       "      <td>139284</td>\n",
       "      <td>128440257</td>\n",
       "      <td>https://www.tripadvisor.com/Hotel_Review-g6098...</td>\n",
       "      <td>Lotus Honolulu at Diamond Head</td>\n",
       "      <td>April 23, 2012</td>\n",
       "      <td>I love this hotel! It's tucked away in a quiet...</td>\n",
       "      <td>Haiku, Hawaii</td>\n",
       "      <td>2</td>\n",
       "      <td>5.0</td>\n",
       "      <td>Lotus_Honolulu_at_Diamond_Head-Honolulu_Oahu_H...</td>\n",
       "      <td>Honolulu-Hawaii.pg2</td>\n",
       "      <td>Honolulu</td>\n",
       "      <td>1.0</td>\n",
       "      <td>2</td>\n",
       "      <td>positive</td>\n",
       "    </tr>\n",
       "    <tr>\n",
       "      <td>138304</td>\n",
       "      <td>596225223</td>\n",
       "      <td>https://www.tripadvisor.com/Hotel_Review-g6098...</td>\n",
       "      <td>Lotus Honolulu at Diamond Head</td>\n",
       "      <td>July 14, 2018</td>\n",
       "      <td>We decided to stay at this hotel after a horri...</td>\n",
       "      <td>n/a</td>\n",
       "      <td>7</td>\n",
       "      <td>5.0</td>\n",
       "      <td>Lotus_Honolulu_at_Diamond_Head-Honolulu_Oahu_H...</td>\n",
       "      <td>Honolulu-Hawaii.pg2</td>\n",
       "      <td>Honolulu</td>\n",
       "      <td>1.0</td>\n",
       "      <td>2</td>\n",
       "      <td>positive</td>\n",
       "    </tr>\n",
       "    <tr>\n",
       "      <td>180422</td>\n",
       "      <td>645801847</td>\n",
       "      <td>https://www.tripadvisor.com/Hotel_Review-g6076...</td>\n",
       "      <td>Moxy NYC Downtown</td>\n",
       "      <td>January 14, 2019</td>\n",
       "      <td>The appeal of this hotel is outside the rooms....</td>\n",
       "      <td>Atlanta, Georgia</td>\n",
       "      <td>6</td>\n",
       "      <td>4.0</td>\n",
       "      <td>Moxy_NYC_Downtown-New_York_City_New_York__en.csv</td>\n",
       "      <td>New_York_City-New_York-pg1</td>\n",
       "      <td>New_York_City</td>\n",
       "      <td>1.0</td>\n",
       "      <td>2</td>\n",
       "      <td>positive</td>\n",
       "    </tr>\n",
       "    <tr>\n",
       "      <td>164651</td>\n",
       "      <td>382657702</td>\n",
       "      <td>https://www.tripadvisor.com/Hotel_Review-g6098...</td>\n",
       "      <td>Airport Honolulu Hotel</td>\n",
       "      <td>June 14, 2016</td>\n",
       "      <td>We stayed here on the first and last night in ...</td>\n",
       "      <td>Brisbane, Australia</td>\n",
       "      <td>163</td>\n",
       "      <td>3.0</td>\n",
       "      <td>Airport_Honolulu_Hotel-Honolulu_Oahu_Hawaii__e...</td>\n",
       "      <td>Honolulu-Hawaii.pg2</td>\n",
       "      <td>Honolulu</td>\n",
       "      <td>0.5</td>\n",
       "      <td>1</td>\n",
       "      <td>neutral</td>\n",
       "    </tr>\n",
       "    <tr>\n",
       "      <td>179789</td>\n",
       "      <td>603339841</td>\n",
       "      <td>https://www.tripadvisor.com/Hotel_Review-g6076...</td>\n",
       "      <td>Four Seasons Hotel New York</td>\n",
       "      <td>August 6, 2018</td>\n",
       "      <td>Everything about the Four Seasons is fantastic...</td>\n",
       "      <td>Huntington, New York</td>\n",
       "      <td>0</td>\n",
       "      <td>5.0</td>\n",
       "      <td>Four_Seasons_Hotel_New_York-New_York_City_New_...</td>\n",
       "      <td>New_York_City-New_York-pg1</td>\n",
       "      <td>New_York_City</td>\n",
       "      <td>1.0</td>\n",
       "      <td>2</td>\n",
       "      <td>positive</td>\n",
       "    </tr>\n",
       "    <tr>\n",
       "      <td>60306</td>\n",
       "      <td>84074751</td>\n",
       "      <td>https://www.tripadvisor.com/Hotel_Review-g6098...</td>\n",
       "      <td>Hilton Waikiki Beach</td>\n",
       "      <td>October 19, 2010</td>\n",
       "      <td>just spent a week at the hotel and i would mos...</td>\n",
       "      <td>Beverly Hills, California</td>\n",
       "      <td>0</td>\n",
       "      <td>5.0</td>\n",
       "      <td>Hilton_Waikiki_Beach-Honolulu_Oahu_Hawaii__en.csv</td>\n",
       "      <td>Honolulu-Hawaii.pg1</td>\n",
       "      <td>Honolulu</td>\n",
       "      <td>1.0</td>\n",
       "      <td>2</td>\n",
       "      <td>positive</td>\n",
       "    </tr>\n",
       "    <tr>\n",
       "      <td>14330</td>\n",
       "      <td>696379259</td>\n",
       "      <td>https://www.tripadvisor.com/Hotel_Review-g1066...</td>\n",
       "      <td>The Royal Park Hotel Iconic Tokyo Shiodome</td>\n",
       "      <td>August 6, 2019</td>\n",
       "      <td>Good location and excellent accommodations. Th...</td>\n",
       "      <td>Castro Valley, California</td>\n",
       "      <td>18</td>\n",
       "      <td>5.0</td>\n",
       "      <td>The_Royal_Park_Hotel_Iconic_Tokyo_Shiodome-Min...</td>\n",
       "      <td>Tokyo-Kanto-pg1</td>\n",
       "      <td>Tokyo</td>\n",
       "      <td>1.0</td>\n",
       "      <td>2</td>\n",
       "      <td>positive</td>\n",
       "    </tr>\n",
       "    <tr>\n",
       "      <td>12654</td>\n",
       "      <td>616808332</td>\n",
       "      <td>https://www.tripadvisor.com/Hotel_Review-g1066...</td>\n",
       "      <td>Tokyo Marriott Hotel</td>\n",
       "      <td>September 15, 2018</td>\n",
       "      <td>The location: not too far away from the city a...</td>\n",
       "      <td>Nice, France</td>\n",
       "      <td>39</td>\n",
       "      <td>4.0</td>\n",
       "      <td>Tokyo_Marriott_Hotel-Shinagawa_Tokyo_Tokyo_Pre...</td>\n",
       "      <td>Tokyo-Kanto-pg1</td>\n",
       "      <td>Tokyo</td>\n",
       "      <td>1.0</td>\n",
       "      <td>2</td>\n",
       "      <td>positive</td>\n",
       "    </tr>\n",
       "    <tr>\n",
       "      <td>210904</td>\n",
       "      <td>116729261</td>\n",
       "      <td>https://www.tripadvisor.com/Hotel_Review-g6076...</td>\n",
       "      <td>New York Hilton Midtown</td>\n",
       "      <td>August 14, 2011</td>\n",
       "      <td>This was my second stay at this hotel. The fir...</td>\n",
       "      <td>Altanta, GA</td>\n",
       "      <td>15</td>\n",
       "      <td>3.0</td>\n",
       "      <td>New_York_Hilton_Midtown-New_York_City_New_York...</td>\n",
       "      <td>New_York_City-New_York-pg1</td>\n",
       "      <td>New_York_City</td>\n",
       "      <td>0.5</td>\n",
       "      <td>1</td>\n",
       "      <td>neutral</td>\n",
       "    </tr>\n",
       "    <tr>\n",
       "      <td>169350</td>\n",
       "      <td>221437649</td>\n",
       "      <td>https://www.tripadvisor.com/Hotel_Review-g6076...</td>\n",
       "      <td>Pod 51 Hotel</td>\n",
       "      <td>August 12, 2014</td>\n",
       "      <td>Centric and near metro stations, little rooms ...</td>\n",
       "      <td>Barcelona, Spain</td>\n",
       "      <td>5</td>\n",
       "      <td>5.0</td>\n",
       "      <td>Pod_51_Hotel-New_York_City_New_York__en.csv</td>\n",
       "      <td>New_York_City-New_York-pg1</td>\n",
       "      <td>New_York_City</td>\n",
       "      <td>1.0</td>\n",
       "      <td>2</td>\n",
       "      <td>positive</td>\n",
       "    </tr>\n",
       "    <tr>\n",
       "      <td>122754</td>\n",
       "      <td>181326041</td>\n",
       "      <td>https://www.tripadvisor.com/Hotel_Review-g6098...</td>\n",
       "      <td>The Modern Honolulu</td>\n",
       "      <td>October 16, 2013</td>\n",
       "      <td>This was my family's first trip to Oahu. We en...</td>\n",
       "      <td>Glassboro, New Jersey</td>\n",
       "      <td>0</td>\n",
       "      <td>5.0</td>\n",
       "      <td>The_Modern_Honolulu-Honolulu_Oahu_Hawaii__en.csv</td>\n",
       "      <td>Honolulu-Hawaii.pg2</td>\n",
       "      <td>Honolulu</td>\n",
       "      <td>1.0</td>\n",
       "      <td>2</td>\n",
       "      <td>positive</td>\n",
       "    </tr>\n",
       "    <tr>\n",
       "      <td>40212</td>\n",
       "      <td>461836579</td>\n",
       "      <td>https://www.tripadvisor.com/Hotel_Review-g6098...</td>\n",
       "      <td>Aston Waikiki Beach Hotel</td>\n",
       "      <td>February 21, 2017</td>\n",
       "      <td>Hotel is well staffed with excellent people, a...</td>\n",
       "      <td>n/a</td>\n",
       "      <td>8</td>\n",
       "      <td>5.0</td>\n",
       "      <td>Aston_Waikiki_Beach_Hotel-Honolulu_Oahu_Hawaii...</td>\n",
       "      <td>Honolulu-Hawaii.pg1</td>\n",
       "      <td>Honolulu</td>\n",
       "      <td>1.0</td>\n",
       "      <td>2</td>\n",
       "      <td>positive</td>\n",
       "    </tr>\n",
       "    <tr>\n",
       "      <td>2189</td>\n",
       "      <td>279433480</td>\n",
       "      <td>https://www.tripadvisor.com/Hotel_Review-g1412...</td>\n",
       "      <td>The Prince Park Tower Tokyo</td>\n",
       "      <td>June 10, 2015</td>\n",
       "      <td>I have stayed this hotel to attend conferences...</td>\n",
       "      <td>Tsukuba, Japan</td>\n",
       "      <td>249</td>\n",
       "      <td>4.0</td>\n",
       "      <td>The_Prince_Park_Tower_Tokyo-Shibakoen_Minato_T...</td>\n",
       "      <td>Tokyo-Kanto-pg1</td>\n",
       "      <td>Tokyo</td>\n",
       "      <td>1.0</td>\n",
       "      <td>2</td>\n",
       "      <td>positive</td>\n",
       "    </tr>\n",
       "    <tr>\n",
       "      <td>69799</td>\n",
       "      <td>394178012</td>\n",
       "      <td>https://www.tripadvisor.com/Hotel_Review-g6098...</td>\n",
       "      <td>Hilton Grand Vacations at Hilton Hawaiian Village</td>\n",
       "      <td>July 18, 2016</td>\n",
       "      <td>Whether your the adventurous traveler that enj...</td>\n",
       "      <td>n/a</td>\n",
       "      <td>2</td>\n",
       "      <td>5.0</td>\n",
       "      <td>Hilton_Grand_Vacations_at_Hilton_Hawaiian_Vill...</td>\n",
       "      <td>Honolulu-Hawaii.pg1</td>\n",
       "      <td>Honolulu</td>\n",
       "      <td>1.0</td>\n",
       "      <td>2</td>\n",
       "      <td>positive</td>\n",
       "    </tr>\n",
       "    <tr>\n",
       "      <td>154580</td>\n",
       "      <td>150294604</td>\n",
       "      <td>https://www.tripadvisor.com/Hotel_Review-g6098...</td>\n",
       "      <td>White Sands Hotel</td>\n",
       "      <td>January 22, 2013</td>\n",
       "      <td>Here is the scoop; Clean - Yes. Cheap - Yes. S...</td>\n",
       "      <td>Vancouver</td>\n",
       "      <td>5</td>\n",
       "      <td>4.0</td>\n",
       "      <td>White_Sands_Hotel-Honolulu_Oahu_Hawaii__en.csv</td>\n",
       "      <td>Honolulu-Hawaii.pg2</td>\n",
       "      <td>Honolulu</td>\n",
       "      <td>1.0</td>\n",
       "      <td>2</td>\n",
       "      <td>positive</td>\n",
       "    </tr>\n",
       "  </tbody>\n",
       "</table>\n",
       "</div>"
      ],
      "text/plain": [
       "        review_id                                                url  \\\n",
       "139284  128440257  https://www.tripadvisor.com/Hotel_Review-g6098...   \n",
       "138304  596225223  https://www.tripadvisor.com/Hotel_Review-g6098...   \n",
       "180422  645801847  https://www.tripadvisor.com/Hotel_Review-g6076...   \n",
       "164651  382657702  https://www.tripadvisor.com/Hotel_Review-g6098...   \n",
       "179789  603339841  https://www.tripadvisor.com/Hotel_Review-g6076...   \n",
       "60306    84074751  https://www.tripadvisor.com/Hotel_Review-g6098...   \n",
       "14330   696379259  https://www.tripadvisor.com/Hotel_Review-g1066...   \n",
       "12654   616808332  https://www.tripadvisor.com/Hotel_Review-g1066...   \n",
       "210904  116729261  https://www.tripadvisor.com/Hotel_Review-g6076...   \n",
       "169350  221437649  https://www.tripadvisor.com/Hotel_Review-g6076...   \n",
       "122754  181326041  https://www.tripadvisor.com/Hotel_Review-g6098...   \n",
       "40212   461836579  https://www.tripadvisor.com/Hotel_Review-g6098...   \n",
       "2189    279433480  https://www.tripadvisor.com/Hotel_Review-g1412...   \n",
       "69799   394178012  https://www.tripadvisor.com/Hotel_Review-g6098...   \n",
       "154580  150294604  https://www.tripadvisor.com/Hotel_Review-g6098...   \n",
       "\n",
       "                                               hotel_name         review_date  \\\n",
       "139284                     Lotus Honolulu at Diamond Head      April 23, 2012   \n",
       "138304                     Lotus Honolulu at Diamond Head       July 14, 2018   \n",
       "180422                                  Moxy NYC Downtown    January 14, 2019   \n",
       "164651                             Airport Honolulu Hotel       June 14, 2016   \n",
       "179789                        Four Seasons Hotel New York      August 6, 2018   \n",
       "60306                                Hilton Waikiki Beach    October 19, 2010   \n",
       "14330          The Royal Park Hotel Iconic Tokyo Shiodome      August 6, 2019   \n",
       "12654                                Tokyo Marriott Hotel  September 15, 2018   \n",
       "210904                            New York Hilton Midtown     August 14, 2011   \n",
       "169350                                       Pod 51 Hotel     August 12, 2014   \n",
       "122754                                The Modern Honolulu    October 16, 2013   \n",
       "40212                           Aston Waikiki Beach Hotel   February 21, 2017   \n",
       "2189                          The Prince Park Tower Tokyo       June 10, 2015   \n",
       "69799   Hilton Grand Vacations at Hilton Hawaiian Village       July 18, 2016   \n",
       "154580                                  White Sands Hotel    January 22, 2013   \n",
       "\n",
       "                                              review_body  \\\n",
       "139284  I love this hotel! It's tucked away in a quiet...   \n",
       "138304  We decided to stay at this hotel after a horri...   \n",
       "180422  The appeal of this hotel is outside the rooms....   \n",
       "164651  We stayed here on the first and last night in ...   \n",
       "179789  Everything about the Four Seasons is fantastic...   \n",
       "60306   just spent a week at the hotel and i would mos...   \n",
       "14330   Good location and excellent accommodations. Th...   \n",
       "12654   The location: not too far away from the city a...   \n",
       "210904  This was my second stay at this hotel. The fir...   \n",
       "169350  Centric and near metro stations, little rooms ...   \n",
       "122754  This was my family's first trip to Oahu. We en...   \n",
       "40212   Hotel is well staffed with excellent people, a...   \n",
       "2189    I have stayed this hotel to attend conferences...   \n",
       "69799   Whether your the adventurous traveler that enj...   \n",
       "154580  Here is the scoop; Clean - Yes. Cheap - Yes. S...   \n",
       "\n",
       "                    user_location  helpful_vote  rating  \\\n",
       "139284              Haiku, Hawaii             2     5.0   \n",
       "138304                        n/a             7     5.0   \n",
       "180422           Atlanta, Georgia             6     4.0   \n",
       "164651        Brisbane, Australia           163     3.0   \n",
       "179789       Huntington, New York             0     5.0   \n",
       "60306   Beverly Hills, California             0     5.0   \n",
       "14330   Castro Valley, California            18     5.0   \n",
       "12654                Nice, France            39     4.0   \n",
       "210904                Altanta, GA            15     3.0   \n",
       "169350           Barcelona, Spain             5     5.0   \n",
       "122754      Glassboro, New Jersey             0     5.0   \n",
       "40212                         n/a             8     5.0   \n",
       "2189               Tsukuba, Japan           249     4.0   \n",
       "69799                         n/a             2     5.0   \n",
       "154580                  Vancouver             5     4.0   \n",
       "\n",
       "                                                      csv  \\\n",
       "139284  Lotus_Honolulu_at_Diamond_Head-Honolulu_Oahu_H...   \n",
       "138304  Lotus_Honolulu_at_Diamond_Head-Honolulu_Oahu_H...   \n",
       "180422   Moxy_NYC_Downtown-New_York_City_New_York__en.csv   \n",
       "164651  Airport_Honolulu_Hotel-Honolulu_Oahu_Hawaii__e...   \n",
       "179789  Four_Seasons_Hotel_New_York-New_York_City_New_...   \n",
       "60306   Hilton_Waikiki_Beach-Honolulu_Oahu_Hawaii__en.csv   \n",
       "14330   The_Royal_Park_Hotel_Iconic_Tokyo_Shiodome-Min...   \n",
       "12654   Tokyo_Marriott_Hotel-Shinagawa_Tokyo_Tokyo_Pre...   \n",
       "210904  New_York_Hilton_Midtown-New_York_City_New_York...   \n",
       "169350        Pod_51_Hotel-New_York_City_New_York__en.csv   \n",
       "122754   The_Modern_Honolulu-Honolulu_Oahu_Hawaii__en.csv   \n",
       "40212   Aston_Waikiki_Beach_Hotel-Honolulu_Oahu_Hawaii...   \n",
       "2189    The_Prince_Park_Tower_Tokyo-Shibakoen_Minato_T...   \n",
       "69799   Hilton_Grand_Vacations_at_Hilton_Hawaiian_Vill...   \n",
       "154580     White_Sands_Hotel-Honolulu_Oahu_Hawaii__en.csv   \n",
       "\n",
       "                            folder           City  polarity  sentiment_int  \\\n",
       "139284         Honolulu-Hawaii.pg2       Honolulu       1.0              2   \n",
       "138304         Honolulu-Hawaii.pg2       Honolulu       1.0              2   \n",
       "180422  New_York_City-New_York-pg1  New_York_City       1.0              2   \n",
       "164651         Honolulu-Hawaii.pg2       Honolulu       0.5              1   \n",
       "179789  New_York_City-New_York-pg1  New_York_City       1.0              2   \n",
       "60306          Honolulu-Hawaii.pg1       Honolulu       1.0              2   \n",
       "14330              Tokyo-Kanto-pg1          Tokyo       1.0              2   \n",
       "12654              Tokyo-Kanto-pg1          Tokyo       1.0              2   \n",
       "210904  New_York_City-New_York-pg1  New_York_City       0.5              1   \n",
       "169350  New_York_City-New_York-pg1  New_York_City       1.0              2   \n",
       "122754         Honolulu-Hawaii.pg2       Honolulu       1.0              2   \n",
       "40212          Honolulu-Hawaii.pg1       Honolulu       1.0              2   \n",
       "2189               Tokyo-Kanto-pg1          Tokyo       1.0              2   \n",
       "69799          Honolulu-Hawaii.pg1       Honolulu       1.0              2   \n",
       "154580         Honolulu-Hawaii.pg2       Honolulu       1.0              2   \n",
       "\n",
       "       sentiment  \n",
       "139284  positive  \n",
       "138304  positive  \n",
       "180422  positive  \n",
       "164651   neutral  \n",
       "179789  positive  \n",
       "60306   positive  \n",
       "14330   positive  \n",
       "12654   positive  \n",
       "210904   neutral  \n",
       "169350  positive  \n",
       "122754  positive  \n",
       "40212   positive  \n",
       "2189    positive  \n",
       "69799   positive  \n",
       "154580  positive  "
      ]
     },
     "execution_count": 11,
     "metadata": {},
     "output_type": "execute_result"
    }
   ],
   "source": [
    "df_all_hotels_cleaned.sample(15)"
   ]
  },
  {
   "cell_type": "code",
   "execution_count": 12,
   "metadata": {
    "scrolled": false
   },
   "outputs": [
    {
     "name": "stdout",
     "output_type": "stream",
     "text": [
      "Count of Unique Values per Column:\n",
      "\n",
      "review_id: 212155\n",
      "url: 42484\n",
      "hotel_name: 149\n",
      "review_date: 6248\n",
      "review_body: 212124\n",
      "user_location: 27830\n",
      "helpful_vote: 799\n",
      "rating: 5\n",
      "csv: 149\n",
      "folder: 6\n",
      "City: 3\n",
      "polarity: 3\n",
      "sentiment_int: 3\n",
      "sentiment: 3\n"
     ]
    }
   ],
   "source": [
    "# Print how many unique values each column has\n",
    "hlp.print_unique_ct(df_all_hotels_cleaned)"
   ]
  },
  {
   "cell_type": "code",
   "execution_count": 13,
   "metadata": {
    "scrolled": false
   },
   "outputs": [
    {
     "data": {
      "text/html": [
       "<div>\n",
       "<style scoped>\n",
       "    .dataframe tbody tr th:only-of-type {\n",
       "        vertical-align: middle;\n",
       "    }\n",
       "\n",
       "    .dataframe tbody tr th {\n",
       "        vertical-align: top;\n",
       "    }\n",
       "\n",
       "    .dataframe thead th {\n",
       "        text-align: right;\n",
       "    }\n",
       "</style>\n",
       "<table border=\"1\" class=\"dataframe\">\n",
       "  <thead>\n",
       "    <tr style=\"text-align: right;\">\n",
       "      <th></th>\n",
       "      <th>review_id</th>\n",
       "      <th>helpful_vote</th>\n",
       "      <th>rating</th>\n",
       "      <th>polarity</th>\n",
       "      <th>sentiment_int</th>\n",
       "    </tr>\n",
       "  </thead>\n",
       "  <tbody>\n",
       "    <tr>\n",
       "      <td>count</td>\n",
       "      <td>2.121550e+05</td>\n",
       "      <td>212155.000000</td>\n",
       "      <td>212155.000000</td>\n",
       "      <td>212155.000000</td>\n",
       "      <td>212155.000000</td>\n",
       "    </tr>\n",
       "    <tr>\n",
       "      <td>mean</td>\n",
       "      <td>3.485569e+08</td>\n",
       "      <td>30.036360</td>\n",
       "      <td>4.104650</td>\n",
       "      <td>0.837633</td>\n",
       "      <td>1.675266</td>\n",
       "    </tr>\n",
       "    <tr>\n",
       "      <td>std</td>\n",
       "      <td>2.108024e+08</td>\n",
       "      <td>192.647358</td>\n",
       "      <td>1.094571</td>\n",
       "      <td>0.321905</td>\n",
       "      <td>0.643809</td>\n",
       "    </tr>\n",
       "    <tr>\n",
       "      <td>min</td>\n",
       "      <td>2.824200e+05</td>\n",
       "      <td>0.000000</td>\n",
       "      <td>1.000000</td>\n",
       "      <td>0.000000</td>\n",
       "      <td>0.000000</td>\n",
       "    </tr>\n",
       "    <tr>\n",
       "      <td>25%</td>\n",
       "      <td>1.655966e+08</td>\n",
       "      <td>2.000000</td>\n",
       "      <td>4.000000</td>\n",
       "      <td>1.000000</td>\n",
       "      <td>2.000000</td>\n",
       "    </tr>\n",
       "    <tr>\n",
       "      <td>50%</td>\n",
       "      <td>3.260000e+08</td>\n",
       "      <td>9.000000</td>\n",
       "      <td>4.000000</td>\n",
       "      <td>1.000000</td>\n",
       "      <td>2.000000</td>\n",
       "    </tr>\n",
       "    <tr>\n",
       "      <td>75%</td>\n",
       "      <td>5.286325e+08</td>\n",
       "      <td>29.000000</td>\n",
       "      <td>5.000000</td>\n",
       "      <td>1.000000</td>\n",
       "      <td>2.000000</td>\n",
       "    </tr>\n",
       "    <tr>\n",
       "      <td>max</td>\n",
       "      <td>7.534573e+08</td>\n",
       "      <td>34443.000000</td>\n",
       "      <td>5.000000</td>\n",
       "      <td>1.000000</td>\n",
       "      <td>2.000000</td>\n",
       "    </tr>\n",
       "  </tbody>\n",
       "</table>\n",
       "</div>"
      ],
      "text/plain": [
       "          review_id   helpful_vote         rating       polarity  \\\n",
       "count  2.121550e+05  212155.000000  212155.000000  212155.000000   \n",
       "mean   3.485569e+08      30.036360       4.104650       0.837633   \n",
       "std    2.108024e+08     192.647358       1.094571       0.321905   \n",
       "min    2.824200e+05       0.000000       1.000000       0.000000   \n",
       "25%    1.655966e+08       2.000000       4.000000       1.000000   \n",
       "50%    3.260000e+08       9.000000       4.000000       1.000000   \n",
       "75%    5.286325e+08      29.000000       5.000000       1.000000   \n",
       "max    7.534573e+08   34443.000000       5.000000       1.000000   \n",
       "\n",
       "       sentiment_int  \n",
       "count  212155.000000  \n",
       "mean        1.675266  \n",
       "std         0.643809  \n",
       "min         0.000000  \n",
       "25%         2.000000  \n",
       "50%         2.000000  \n",
       "75%         2.000000  \n",
       "max         2.000000  "
      ]
     },
     "execution_count": 13,
     "metadata": {},
     "output_type": "execute_result"
    }
   ],
   "source": [
    "df_all_hotels_cleaned.describe()"
   ]
  },
  {
   "cell_type": "code",
   "execution_count": 14,
   "metadata": {},
   "outputs": [
    {
     "name": "stdout",
     "output_type": "stream",
     "text": [
      "Total Number of Reviews: 212155\n"
     ]
    },
    {
     "data": {
      "text/plain": [
       "Text(0.5, 1.0, 'Count of Hotel Reviews per City')"
      ]
     },
     "execution_count": 14,
     "metadata": {},
     "output_type": "execute_result"
    },
    {
     "data": {
      "text/plain": [
       "Text(0.5, 0, 'City')"
      ]
     },
     "execution_count": 14,
     "metadata": {},
     "output_type": "execute_result"
    },
    {
     "data": {
      "image/png": "[encoded data removed]",
      "text/plain": [
       "<Figure size 864x720 with 1 Axes>"
      ]
     },
     "metadata": {
      "needs_background": "light"
     },
     "output_type": "display_data"
    }
   ],
   "source": [
    "# Plot counts - Reviews per city\n",
    "df = df_all_hotels_cleaned\n",
    "print('Total Number of Reviews:', df.shape[0])\n",
    "\n",
    "fig, ax = plt.subplots(figsize=(12,10))\n",
    "plot = sns.countplot(data=df, x='City', ax=ax, order = df['City'].value_counts().index)\n",
    "ax.set_title('Count of Hotel Reviews per City', size=BIGGEST_SIZE)\n",
    "ax.set_xlabel('City')\n",
    "fig.tight_layout()\n",
    "fig.savefig('../images/countplot_reviews_byCity_full')"
   ]
  },
  {
   "cell_type": "code",
   "execution_count": 15,
   "metadata": {},
   "outputs": [
    {
     "data": {
      "text/plain": [
       "Text(0.5, 1.0, 'Distribution of Ratings per City')"
      ]
     },
     "execution_count": 15,
     "metadata": {},
     "output_type": "execute_result"
    },
    {
     "data": {
      "text/plain": [
       "Text(0, 0.5, 'Hotel Rating')"
      ]
     },
     "execution_count": 15,
     "metadata": {},
     "output_type": "execute_result"
    },
    {
     "data": {
      "text/plain": [
       "Text(0.5, 0, 'City')"
      ]
     },
     "execution_count": 15,
     "metadata": {},
     "output_type": "execute_result"
    },
    {
     "data": {
      "image/png": "[encoded data removed]",
      "text/plain": [
       "<Figure size 864x720 with 1 Axes>"
      ]
     },
     "metadata": {
      "needs_background": "light"
     },
     "output_type": "display_data"
    }
   ],
   "source": [
    "# Plot boxplot - Ratings per city\n",
    "figsize=(12, 10)\n",
    "fig, ax = plt.subplots(figsize=figsize)\n",
    "plot = sns.boxplot(x='City', y='rating', data=df, ax=ax, order = df['City'].value_counts().index)\n",
    "ax.set_title('Distribution of Ratings per City', size=BIGGEST_SIZE)\n",
    "ax.set_ylabel('Hotel Rating')\n",
    "ax.set_xlabel('City')\n",
    "fig.tight_layout()\n",
    "fig.savefig('../images/boxplt_ratings_byCity_full')"
   ]
  },
  {
   "cell_type": "code",
   "execution_count": 16,
   "metadata": {
    "scrolled": false
   },
   "outputs": [
    {
     "name": "stdout",
     "output_type": "stream",
     "text": [
      "Total Number of Ratings:  212155\n"
     ]
    },
    {
     "data": {
      "text/plain": [
       "Text(0.5, 1.0, 'Counts of Hotel Ratings')"
      ]
     },
     "execution_count": 16,
     "metadata": {},
     "output_type": "execute_result"
    },
    {
     "data": {
      "text/plain": [
       "Text(0.5, 0, 'Hotel Rating')"
      ]
     },
     "execution_count": 16,
     "metadata": {},
     "output_type": "execute_result"
    },
    {
     "data": {
      "image/png": "[encoded data removed]",
      "text/plain": [
       "<Figure size 864x576 with 1 Axes>"
      ]
     },
     "metadata": {
      "needs_background": "light"
     },
     "output_type": "display_data"
    }
   ],
   "source": [
    "# Plot counts - Ratings\n",
    "df = df_all_hotels_cleaned\n",
    "print('Total Number of Ratings: ', df.shape[0])\n",
    "\n",
    "fig, ax = plt.subplots(figsize=(12,8))\n",
    "plot = sns.countplot(data=df, x='rating', ax=ax)\n",
    "ax.set_title('Counts of Hotel Ratings', size=BIGGEST_SIZE)\n",
    "ax.set_xlabel('Hotel Rating')\n",
    "fig.savefig('../images/countplot_ratings_full')"
   ]
  },
  {
   "cell_type": "code",
   "execution_count": 17,
   "metadata": {},
   "outputs": [
    {
     "name": "stdout",
     "output_type": "stream",
     "text": [
      "Total Number of Ratings:  212155\n"
     ]
    },
    {
     "data": {
      "text/plain": [
       "(<Figure size 576x576 with 1 Axes>,\n",
       " <matplotlib.axes._subplots.AxesSubplot at 0x1a2a2d12d0>)"
      ]
     },
     "execution_count": 17,
     "metadata": {},
     "output_type": "execute_result"
    },
    {
     "data": {
      "text/plain": [
       "Text(0.5, 1, 'Initial Balance of Review Sentiments')"
      ]
     },
     "execution_count": 17,
     "metadata": {},
     "output_type": "execute_result"
    },
    {
     "data": {
      "text/plain": [
       "Text(73.76, 0.5, '')"
      ]
     },
     "execution_count": 17,
     "metadata": {},
     "output_type": "execute_result"
    },
    {
     "data": {
      "image/png": "[encoded data removed]",
      "text/plain": [
       "<Figure size 576x576 with 1 Axes>"
      ]
     },
     "metadata": {},
     "output_type": "display_data"
    }
   ],
   "source": [
    "# Plot pie - Sentiments\n",
    "df = df_all_hotels_cleaned\n",
    "print('Total Number of Ratings: ', df.shape[0])\n",
    "\n",
    "fig, ax = plt.subplots(figsize=(8,8))\n",
    "hlp.plot_pie(df['sentiment'], fig, ax)\n",
    "ax.set_title('Initial Balance of Review Sentiments', size=BIGGEST_SIZE)\n",
    "ax.set_ylabel('')\n",
    "fig.savefig('../images/pie_sentiments_full')"
   ]
  },
  {
   "cell_type": "markdown",
   "metadata": {},
   "source": [
    "# Train-Test Split"
   ]
  },
  {
   "cell_type": "code",
   "execution_count": 18,
   "metadata": {},
   "outputs": [],
   "source": [
    "# Specify df, target, indices, X & y\n",
    "df = df_all_hotels_cleaned.copy()\n",
    "target = 'sentiment'\n",
    "indices = df.index\n",
    "\n",
    "X = df['review_body']\n",
    "y = df[target].to_numpy()"
   ]
  },
  {
   "cell_type": "code",
   "execution_count": 19,
   "metadata": {},
   "outputs": [
    {
     "data": {
      "text/plain": [
       "((169724,), (42431,))"
      ]
     },
     "execution_count": 19,
     "metadata": {},
     "output_type": "execute_result"
    }
   ],
   "source": [
    "_, X_test, y_train, y_test, indices_train, indices_test = train_test_split(X, y, indices, test_size=0.2, shuffle=True, stratify=y)\n",
    "indices_train.shape, indices_test.shape"
   ]
  },
  {
   "cell_type": "markdown",
   "metadata": {},
   "source": [
    "## Handling class imbalance by under-sampling train data"
   ]
  },
  {
   "cell_type": "code",
   "execution_count": 20,
   "metadata": {},
   "outputs": [
    {
     "data": {
      "text/plain": [
       "(169724, 14)"
      ]
     },
     "execution_count": 20,
     "metadata": {},
     "output_type": "execute_result"
    }
   ],
   "source": [
    "# Get train df with train indices\n",
    "train_df = df.iloc[indices_train,:]\n",
    "train_df.shape"
   ]
  },
  {
   "cell_type": "code",
   "execution_count": 21,
   "metadata": {},
   "outputs": [
    {
     "data": {
      "text/plain": [
       "(array(['negative', 'neutral', 'positive'], dtype=object),\n",
       " array([ 16566,  21984, 131174]))"
      ]
     },
     "execution_count": 21,
     "metadata": {},
     "output_type": "execute_result"
    }
   ],
   "source": [
    "# Get classes and counts\n",
    "unique, counts = np.unique(y_train, return_counts=True)\n",
    "unique, counts"
   ]
  },
  {
   "cell_type": "code",
   "execution_count": 22,
   "metadata": {},
   "outputs": [
    {
     "name": "stdout",
     "output_type": "stream",
     "text": [
      "Majority: positive, Middle: neutral, Minority: negative\n"
     ]
    }
   ],
   "source": [
    "# Determine majority, middle, and minority classes\n",
    "majority_class = unique[np.argmax(counts)]\n",
    "minority_class = unique[np.argmin(counts)]\n",
    "mid_class = np.unique(y_train[(y_train!=majority_class) & (y_train!=minority_class)])[0]\n",
    "print('Majority: {}, Middle: {}, Minority: {}'.format(majority_class, mid_class, minority_class))"
   ]
  },
  {
   "cell_type": "code",
   "execution_count": 23,
   "metadata": {},
   "outputs": [
    {
     "data": {
      "text/plain": [
       "16566"
      ]
     },
     "execution_count": 23,
     "metadata": {},
     "output_type": "execute_result"
    }
   ],
   "source": [
    "# Get minority class indices\n",
    "minority_class_indices = train_df[train_df[target]==minority_class].index\n",
    "minority_class_len = minority_class_indices.shape[0]\n",
    "minority_class_len"
   ]
  },
  {
   "cell_type": "code",
   "execution_count": 24,
   "metadata": {},
   "outputs": [
    {
     "data": {
      "text/plain": [
       "Int64Index([ 51446, 158308,   3400, 113935, 143538, 149739, 129618,  56914,\n",
       "             28384, 134588,\n",
       "            ...\n",
       "            151021,  50482, 163890, 101688,   2338,  46209,  89208, 129860,\n",
       "              2004, 187576],\n",
       "           dtype='int64', length=131174)"
      ]
     },
     "execution_count": 24,
     "metadata": {},
     "output_type": "execute_result"
    }
   ],
   "source": [
    "# Get majority class indices\n",
    "majority_class_indices = train_df[train_df[target]==majority_class].index\n",
    "majority_class_indices"
   ]
  },
  {
   "cell_type": "code",
   "execution_count": 25,
   "metadata": {},
   "outputs": [
    {
     "data": {
      "text/plain": [
       "Int64Index([ 78053, 185392,  78277,  23530,  72933, 209923, 107863, 156454,\n",
       "             67979,  71663,\n",
       "            ...\n",
       "             73812,  45758,  34111,  68988,   5452,  85188, 171738, 186460,\n",
       "            163682,  34869],\n",
       "           dtype='int64', length=21984)"
      ]
     },
     "execution_count": 25,
     "metadata": {},
     "output_type": "execute_result"
    }
   ],
   "source": [
    "# Get middle class indices\n",
    "middle_class_indices = train_df[train_df[target]==mid_class].index\n",
    "middle_class_indices"
   ]
  },
  {
   "cell_type": "code",
   "execution_count": 26,
   "metadata": {},
   "outputs": [
    {
     "data": {
      "text/plain": [
       "(49698, 14)"
      ]
     },
     "execution_count": 26,
     "metadata": {},
     "output_type": "execute_result"
    }
   ],
   "source": [
    "# Randomly under-sample majority and middle class indices to get new under-sampled train df\n",
    "rand_maj_indices = np.random.choice(majority_class_indices, minority_class_len, replace=False)\n",
    "rand_mid_indices = np.random.choice(middle_class_indices, minority_class_len, replace=False)\n",
    "undersample_indices = np.concatenate([minority_class_indices, rand_mid_indices, rand_maj_indices])\n",
    "\n",
    "train_df_us = df.iloc[undersample_indices,:]\n",
    "train_df_us.shape"
   ]
  },
  {
   "cell_type": "code",
   "execution_count": 27,
   "metadata": {},
   "outputs": [
    {
     "name": "stdout",
     "output_type": "stream",
     "text": [
      "Total Number of Ratings:  49698\n"
     ]
    },
    {
     "data": {
      "text/plain": [
       "(<Figure size 576x576 with 1 Axes>,\n",
       " <matplotlib.axes._subplots.AxesSubplot at 0x1a2a2fb8d0>)"
      ]
     },
     "execution_count": 27,
     "metadata": {},
     "output_type": "execute_result"
    },
    {
     "data": {
      "text/plain": [
       "Text(0.5, 1, 'Balance of Review Sentiments,\\nAfter Under-Sampling Train')"
      ]
     },
     "execution_count": 27,
     "metadata": {},
     "output_type": "execute_result"
    },
    {
     "data": {
      "text/plain": [
       "Text(73.76, 0.5, '')"
      ]
     },
     "execution_count": 27,
     "metadata": {},
     "output_type": "execute_result"
    },
    {
     "data": {
      "image/png": "[encoded data removed]",
      "text/plain": [
       "<Figure size 576x576 with 1 Axes>"
      ]
     },
     "metadata": {},
     "output_type": "display_data"
    }
   ],
   "source": [
    "# Plot pie - Classes after undersampling\n",
    "print('Total Number of Ratings: ', train_df_us.shape[0])\n",
    "\n",
    "fig, ax = plt.subplots(figsize=(8,8))\n",
    "hlp.plot_pie(train_df_us[target], fig, ax)\n",
    "ax.set_title('Balance of Review Sentiments,\\nAfter Under-Sampling Train', size=BIGGEST_SIZE)\n",
    "ax.set_ylabel('')\n",
    "fig.savefig('../images/pie_sentiments_train_undersample')"
   ]
  },
  {
   "cell_type": "code",
   "execution_count": 28,
   "metadata": {},
   "outputs": [],
   "source": [
    "X_train_us = train_df_us['review_body']\n",
    "y_train_us = train_df_us[target].to_numpy()"
   ]
  },
  {
   "cell_type": "markdown",
   "metadata": {},
   "source": [
    "# NLP & Predictive Modeling"
   ]
  },
  {
   "cell_type": "code",
   "execution_count": 47,
   "metadata": {},
   "outputs": [],
   "source": [
    "from nltk.corpus import stopwords\n",
    "from nltk.tokenize import RegexpTokenizer\n",
    "from nltk.stem.porter import PorterStemmer\n",
    "from nltk.stem.snowball import SnowballStemmer\n",
    "from nltk.stem.wordnet import WordNetLemmatizer\n",
    "from sklearn.feature_extraction.text import TfidfVectorizer, CountVectorizer\n",
    "\n",
    "from sklearn.naive_bayes import MultinomialNB\n",
    "from sklearn.model_selection import cross_val_score"
   ]
  },
  {
   "cell_type": "code",
   "execution_count": 48,
   "metadata": {},
   "outputs": [],
   "source": [
    "nb_def = MultinomialNB()"
   ]
  },
  {
   "cell_type": "markdown",
   "metadata": {},
   "source": [
    "### Tf-idf, no stemmer, 200 max_features (filter English stopwords)"
   ]
  },
  {
   "cell_type": "code",
   "execution_count": 49,
   "metadata": {},
   "outputs": [
    {
     "name": "stdout",
     "output_type": "stream",
     "text": [
      "Vectorizer: TfidfVectorizer\n",
      "No Stemmer\n",
      "Max features: 200\n"
     ]
    }
   ],
   "source": [
    "tfidf=True\n",
    "stemmer=None\n",
    "max_features=200\n",
    "\n",
    "vect_tfidf_nostem_200, vocab_tfidf_nostem_200 = hlp.build_text_vectorizer(X_train_us,\n",
    "                             use_tfidf=tfidf,\n",
    "                             use_stemmer=stemmer,\n",
    "                             max_features=max_features)"
   ]
  },
  {
   "cell_type": "code",
   "execution_count": 50,
   "metadata": {},
   "outputs": [],
   "source": [
    "Xtr_tfidf_nostem_200 = vect_tfidf_nostem_200(X_train_us)"
   ]
  },
  {
   "cell_type": "code",
   "execution_count": 51,
   "metadata": {},
   "outputs": [
    {
     "data": {
      "text/plain": [
       "array(['across', 'air', 'also', 'although', 'always', 'amazing',\n",
       "       'another', 'area', 'around', 'arrived', 'asked', 'available',\n",
       "       'away', 'back', 'bad', 'balcony', 'bar', 'bathroom', 'beach',\n",
       "       'beautiful', 'bed', 'beds', 'best', 'better', 'big', 'bit',\n",
       "       'booked', 'breakfast', 'business', 'called', 'came', 'car',\n",
       "       'charge', 'check', 'checked', 'city', 'clean', 'close', 'coffee',\n",
       "       'come', 'comfortable', 'could', 'day', 'days', 'definitely',\n",
       "       'desk', 'door', 'early', 'elevator', 'end', 'enough', 'etc',\n",
       "       'even', 'ever', 'every', 'everything', 'excellent', 'expect',\n",
       "       'expensive', 'experience', 'extra', 'family', 'fee', 'feel',\n",
       "       'find', 'first', 'floor', 'food', 'found', 'free', 'friendly',\n",
       "       'front', 'full', 'get', 'given', 'go', 'going', 'good', 'got',\n",
       "       'great', 'guests', 'hawaii', 'hawaiian', 'helpful', 'high',\n",
       "       'hilton', 'hotel', 'hotels', 'hours', 'however', 'know', 'large',\n",
       "       'last', 'left', 'like', 'little', 'lobby', 'located', 'location',\n",
       "       'long', 'look', 'looking', 'lot', 'lounge', 'made', 'make',\n",
       "       'manager', 'many', 'minutes', 'money', 'morning', 'much', 'need',\n",
       "       'never', 'new', 'next', 'nice', 'night', 'nights', 'noise',\n",
       "       'noisy', 'nothing', 'ocean', 'ok', 'old', 'one', 'open', 'outside',\n",
       "       'overall', 'paid', 'park', 'parking', 'pay', 'people', 'per',\n",
       "       'place', 'pm', 'pool', 'pretty', 'price', 'property', 'put',\n",
       "       'quite', 'really', 'reception', 'recommend', 'resort',\n",
       "       'restaurant', 'restaurants', 'right', 'room', 'rooms', 'said',\n",
       "       'say', 'see', 'service', 'shopping', 'shower', 'side', 'since',\n",
       "       'size', 'sleep', 'small', 'staff', 'stay', 'stayed', 'staying',\n",
       "       'still', 'street', 'sure', 'take', 'th', 'thing', 'things',\n",
       "       'think', 'though', 'time', 'times', 'told', 'took', 'towels',\n",
       "       'tower', 'trip', 'two', 'us', 'use', 'used', 'view', 'waikiki',\n",
       "       'wait', 'walk', 'walking', 'want', 'wanted', 'water', 'way',\n",
       "       'well', 'went', 'work', 'would'], dtype='<U11')"
      ]
     },
     "execution_count": 51,
     "metadata": {},
     "output_type": "execute_result"
    }
   ],
   "source": [
    "vocab_tfidf_nostem_200"
   ]
  },
  {
   "cell_type": "code",
   "execution_count": 52,
   "metadata": {},
   "outputs": [
    {
     "name": "stdout",
     "output_type": "stream",
     "text": [
      "MultinomialNB accuracy, 10-fold CV on Train Data: 0.645\n"
     ]
    }
   ],
   "source": [
    "hlp.fit_pred_score_Nfold(nb_def, Xtr_tfidf_nostem_200, y_train_us, N=10)"
   ]
  },
  {
   "cell_type": "markdown",
   "metadata": {},
   "source": [
    "### Tf-idf, snowball stemmer, 200 max_features (filter English stopwords)"
   ]
  },
  {
   "cell_type": "code",
   "execution_count": 53,
   "metadata": {},
   "outputs": [
    {
     "name": "stdout",
     "output_type": "stream",
     "text": [
      "Vectorizer: TfidfVectorizer\n",
      "Using SnowballStemmer\n",
      "Max features: 200\n"
     ]
    }
   ],
   "source": [
    "tfidf=True\n",
    "stemmer='snowball'\n",
    "max_features=200\n",
    "\n",
    "vect_tfidf_snow_200, vocab_tfidf_snow_200 = hlp.build_text_vectorizer(X_train_us,\n",
    "                             use_tfidf=tfidf,\n",
    "                             use_stemmer=stemmer,\n",
    "                             max_features=max_features)"
   ]
  },
  {
   "cell_type": "code",
   "execution_count": 54,
   "metadata": {},
   "outputs": [],
   "source": [
    "Xtr_tfidf_snow_200 = vect_tfidf_snow_200(X_train_us)"
   ]
  },
  {
   "cell_type": "code",
   "execution_count": 55,
   "metadata": {},
   "outputs": [
    {
     "data": {
      "text/plain": [
       "array(['across', 'also', 'alway', 'anoth', 'area', 'around', 'arriv',\n",
       "       'ask', 'avail', 'away', 'back', 'bad', 'balconi', 'bar',\n",
       "       'bathroom', 'beach', 'beauti', 'bed', 'best', 'better', 'big',\n",
       "       'bit', 'block', 'book', 'breakfast', 'build', 'busi', 'call',\n",
       "       'car', 'chair', 'charg', 'check', 'citi', 'clean', 'close',\n",
       "       'coffe', 'come', 'comfort', 'could', 'day', 'definit', 'desk',\n",
       "       'disappoint', 'door', 'drink', 'earli', 'elev', 'end', 'enjoy',\n",
       "       'enough', 'etc', 'even', 'everi', 'everyth', 'excel', 'expect',\n",
       "       'expens', 'experi', 'extra', 'famili', 'fee', 'feel', 'find',\n",
       "       'first', 'floor', 'food', 'found', 'free', 'friend', 'front',\n",
       "       'get', 'give', 'go', 'good', 'got', 'great', 'guest', 'hawaii',\n",
       "       'head', 'help', 'high', 'hilton', 'hotel', 'hour', 'howev',\n",
       "       'includ', 'issu', 'know', 'larg', 'last', 'left', 'like', 'line',\n",
       "       'littl', 'lobbi', 'locat', 'long', 'look', 'lot', 'loung', 'love',\n",
       "       'made', 'make', 'manag', 'mani', 'minut', 'money', 'morn', 'move',\n",
       "       'much', 'need', 'never', 'new', 'next', 'nice', 'night', 'nois',\n",
       "       'noth', 'ocean', 'offer', 'old', 'one', 'open', 'overal', 'paid',\n",
       "       'park', 'pay', 'peopl', 'per', 'person', 'place', 'pm', 'pool',\n",
       "       'pretti', 'price', 'problem', 'properti', 'provid', 'quit', 'rate',\n",
       "       'realli', 'recommend', 'reserv', 'resort', 'restaur', 'return',\n",
       "       'review', 'right', 'room', 'said', 'say', 'see', 'seem', 'servic',\n",
       "       'shop', 'shower', 'side', 'sinc', 'size', 'sleep', 'small',\n",
       "       'staff', 'star', 'stay', 'still', 'street', 'suit', 'sure', 'take',\n",
       "       'th', 'thing', 'think', 'though', 'time', 'told', 'took', 'towel',\n",
       "       'tower', 'travel', 'tri', 'trip', 'two', 'upgrad', 'us', 'use',\n",
       "       'view', 'visit', 'waikiki', 'wait', 'walk', 'wall', 'want',\n",
       "       'water', 'way', 'week', 'well', 'went', 'work', 'would', 'year'],\n",
       "      dtype='<U10')"
      ]
     },
     "execution_count": 55,
     "metadata": {},
     "output_type": "execute_result"
    }
   ],
   "source": [
    "vocab_tfidf_snow_200"
   ]
  },
  {
   "cell_type": "code",
   "execution_count": 56,
   "metadata": {},
   "outputs": [
    {
     "name": "stdout",
     "output_type": "stream",
     "text": [
      "MultinomialNB accuracy, 10-fold CV on Train Data: 0.651\n"
     ]
    }
   ],
   "source": [
    "hlp.fit_pred_score_Nfold(nb_def, Xtr_tfidf_snow_200, y_train_us, N=10)"
   ]
  },
  {
   "cell_type": "markdown",
   "metadata": {},
   "source": [
    "# Appendix"
   ]
  },
  {
   "cell_type": "code",
   "execution_count": null,
   "metadata": {},
   "outputs": [],
   "source": [
    "# don't go beyond here with Run All\n",
    "assert False"
   ]
  },
  {
   "cell_type": "code",
   "execution_count": null,
   "metadata": {},
   "outputs": [],
   "source": [
    "# Plot distributions - Review length per sentiment\n",
    "df = df_all_hotels_cleaned\n",
    "\n",
    "fig, ax = plt.subplots(figsize=(8,8))\n",
    "# Plot per sentiment\n",
    "for sentiment in df['sentiment'].unique():\n",
    "    sns.distplot(df.groupby('sentiment').get_group(sentiment)['review_length'], ax=ax, label=sentiment)\n",
    "ax.legend()"
   ]
  },
  {
   "cell_type": "code",
   "execution_count": null,
   "metadata": {},
   "outputs": [],
   "source": [
    "# Plot distributions - Review length per city\n",
    "df = df_all_hotels_cleaned\n",
    "\n",
    "fig, ax = plt.subplots(figsize=(8,8))\n",
    "# Plot per city\n",
    "for city in df['City'].unique():\n",
    "    sns.distplot(df.groupby('City').get_group(city)['review_length'], ax=ax, label=city)\n",
    "ax.legend()"
   ]
  }
 ],
 "metadata": {
  "kernelspec": {
   "display_name": "Python 3",
   "language": "python",
   "name": "python3"
  },
  "language_info": {
   "codemirror_mode": {
    "name": "ipython",
    "version": 3
   },
   "file_extension": ".py",
   "mimetype": "text/x-python",
   "name": "python",
   "nbconvert_exporter": "python",
   "pygments_lexer": "ipython3",
   "version": "3.7.4"
  }
 },
 "nbformat": 4,
 "nbformat_minor": 2
}
