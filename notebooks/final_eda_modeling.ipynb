{
 "cells": [
  {
   "cell_type": "code",
   "execution_count": 1,
   "metadata": {},
   "outputs": [],
   "source": [
    "%load_ext autoreload\n",
    "%autoreload 2\n",
    "import sys\n",
    "import os\n",
    "module_path = os.path.abspath(os.path.join('..'))\n",
    "if module_path not in sys.path:\n",
    "    sys.path.append(module_path+\"/src\")\n",
    "import helpers as hlp"
   ]
  },
  {
   "cell_type": "code",
   "execution_count": 2,
   "metadata": {},
   "outputs": [],
   "source": [
    "import numpy as np\n",
    "import pandas as pd\n",
    "import matplotlib.pyplot as plt\n",
    "import seaborn as sns\n",
    "from sklearn.model_selection import train_test_split"
   ]
  },
  {
   "cell_type": "code",
   "execution_count": 3,
   "metadata": {},
   "outputs": [],
   "source": [
    "# Set plot sizes\n",
    "SMALL_SIZE = 22\n",
    "MEDIUM_SIZE = 24\n",
    "BIGGER_SIZE = 26\n",
    "BIGGEST_SIZE = 28\n",
    "\n",
    "plt.rc('font', size=SMALL_SIZE)          # controls default text sizes\n",
    "plt.rc('axes', titlesize=SMALL_SIZE)     # fontsize of the axes title\n",
    "plt.rc('axes', labelsize=MEDIUM_SIZE)    # fontsize of the x and y labels\n",
    "plt.rc('xtick', labelsize=SMALL_SIZE)    # fontsize of the tick labels\n",
    "plt.rc('ytick', labelsize=SMALL_SIZE)    # fontsize of the tick labels\n",
    "plt.rc('legend', fontsize=SMALL_SIZE)    # legend fontsize\n",
    "plt.rc('figure', titlesize=BIGGEST_SIZE)  # fontsize of the figure title"
   ]
  },
  {
   "cell_type": "markdown",
   "metadata": {},
   "source": [
    "# Load & Merge CSV Data"
   ]
  },
  {
   "cell_type": "code",
   "execution_count": 4,
   "metadata": {},
   "outputs": [
    {
     "name": "stdout",
     "output_type": "stream",
     "text": [
      "Folders: ['New_York_City-New_York.pg6', 'Tokyo-Kanto-pg1', 'Honolulu-Hawaii.pg1', 'New_York_City-New_York-pg4', 'Tokyo-Kanto.pg5', 'Tokyo-Kanto-pg2', 'Honolulu-Hawaii.pg4', 'Honolulu-Hawaii.pg3', 'Honolulu-Hawaii.pg2', 'New_York_City-New_York-pg1']\n"
     ]
    }
   ],
   "source": [
    "aws_data_dir = '../data/web_scraped/aws_final/'\n",
    "\n",
    "# Use helper function to load and merge CSVs from folders in above dir\n",
    "df_all_hotels = hlp.merge_csv_mult_dir(aws_data_dir)"
   ]
  },
  {
   "cell_type": "code",
   "execution_count": 5,
   "metadata": {},
   "outputs": [
    {
     "data": {
      "text/plain": [
       "(481169, 10)"
      ]
     },
     "execution_count": 5,
     "metadata": {},
     "output_type": "execute_result"
    }
   ],
   "source": [
    "df_all_hotels.shape"
   ]
  },
  {
   "cell_type": "code",
   "execution_count": 6,
   "metadata": {},
   "outputs": [
    {
     "data": {
      "text/html": [
       "<div>\n",
       "<style scoped>\n",
       "    .dataframe tbody tr th:only-of-type {\n",
       "        vertical-align: middle;\n",
       "    }\n",
       "\n",
       "    .dataframe tbody tr th {\n",
       "        vertical-align: top;\n",
       "    }\n",
       "\n",
       "    .dataframe thead th {\n",
       "        text-align: right;\n",
       "    }\n",
       "</style>\n",
       "<table border=\"1\" class=\"dataframe\">\n",
       "  <thead>\n",
       "    <tr style=\"text-align: right;\">\n",
       "      <th></th>\n",
       "      <th>review_id</th>\n",
       "      <th>url</th>\n",
       "      <th>hotel_name</th>\n",
       "      <th>review_date</th>\n",
       "      <th>review_body</th>\n",
       "      <th>user_location</th>\n",
       "      <th>helpful_vote</th>\n",
       "      <th>rating</th>\n",
       "      <th>csv</th>\n",
       "      <th>folder</th>\n",
       "    </tr>\n",
       "  </thead>\n",
       "  <tbody>\n",
       "    <tr>\n",
       "      <td>0</td>\n",
       "      <td>749679249</td>\n",
       "      <td>https://www.tripadvisor.com/Hotel_Review-g6076...</td>\n",
       "      <td>Fairfield Inn &amp; Suites New York Manhattan/Chelsea</td>\n",
       "      <td>March 7, 2020</td>\n",
       "      <td>This is a perfect location, close to Penn Stat...</td>\n",
       "      <td>Freeland, Maryland</td>\n",
       "      <td>10</td>\n",
       "      <td>5.0</td>\n",
       "      <td>Fairfield_Inn_Suites_New_York_Manhattan_Chelse...</td>\n",
       "      <td>New_York_City-New_York.pg6</td>\n",
       "    </tr>\n",
       "    <tr>\n",
       "      <td>1</td>\n",
       "      <td>747528873</td>\n",
       "      <td>https://www.tripadvisor.com/Hotel_Review-g6076...</td>\n",
       "      <td>Fairfield Inn &amp; Suites New York Manhattan/Chelsea</td>\n",
       "      <td>February 25, 2020</td>\n",
       "      <td>I stayed here January into February for busine...</td>\n",
       "      <td>NaN</td>\n",
       "      <td>0</td>\n",
       "      <td>5.0</td>\n",
       "      <td>Fairfield_Inn_Suites_New_York_Manhattan_Chelse...</td>\n",
       "      <td>New_York_City-New_York.pg6</td>\n",
       "    </tr>\n",
       "    <tr>\n",
       "      <td>2</td>\n",
       "      <td>747526408</td>\n",
       "      <td>https://www.tripadvisor.com/Hotel_Review-g6076...</td>\n",
       "      <td>Fairfield Inn &amp; Suites New York Manhattan/Chelsea</td>\n",
       "      <td>February 25, 2020</td>\n",
       "      <td>We had a last minute trip to the city booked a...</td>\n",
       "      <td>Elizabeth</td>\n",
       "      <td>0</td>\n",
       "      <td>5.0</td>\n",
       "      <td>Fairfield_Inn_Suites_New_York_Manhattan_Chelse...</td>\n",
       "      <td>New_York_City-New_York.pg6</td>\n",
       "    </tr>\n",
       "    <tr>\n",
       "      <td>3</td>\n",
       "      <td>747518104</td>\n",
       "      <td>https://www.tripadvisor.com/Hotel_Review-g6076...</td>\n",
       "      <td>Fairfield Inn &amp; Suites New York Manhattan/Chelsea</td>\n",
       "      <td>February 25, 2020</td>\n",
       "      <td>As others have stated, the location has two ma...</td>\n",
       "      <td>marlboro, New Jersey, USA</td>\n",
       "      <td>33</td>\n",
       "      <td>5.0</td>\n",
       "      <td>Fairfield_Inn_Suites_New_York_Manhattan_Chelse...</td>\n",
       "      <td>New_York_City-New_York.pg6</td>\n",
       "    </tr>\n",
       "    <tr>\n",
       "      <td>4</td>\n",
       "      <td>743753418</td>\n",
       "      <td>https://www.tripadvisor.com/Hotel_Review-g6076...</td>\n",
       "      <td>Fairfield Inn &amp; Suites New York Manhattan/Chelsea</td>\n",
       "      <td>February 8, 2020</td>\n",
       "      <td>As others have remarked, a very convenient loc...</td>\n",
       "      <td>Arlington, Virginia</td>\n",
       "      <td>30</td>\n",
       "      <td>5.0</td>\n",
       "      <td>Fairfield_Inn_Suites_New_York_Manhattan_Chelse...</td>\n",
       "      <td>New_York_City-New_York.pg6</td>\n",
       "    </tr>\n",
       "  </tbody>\n",
       "</table>\n",
       "</div>"
      ],
      "text/plain": [
       "   review_id                                                url  \\\n",
       "0  749679249  https://www.tripadvisor.com/Hotel_Review-g6076...   \n",
       "1  747528873  https://www.tripadvisor.com/Hotel_Review-g6076...   \n",
       "2  747526408  https://www.tripadvisor.com/Hotel_Review-g6076...   \n",
       "3  747518104  https://www.tripadvisor.com/Hotel_Review-g6076...   \n",
       "4  743753418  https://www.tripadvisor.com/Hotel_Review-g6076...   \n",
       "\n",
       "                                          hotel_name        review_date  \\\n",
       "0  Fairfield Inn & Suites New York Manhattan/Chelsea      March 7, 2020   \n",
       "1  Fairfield Inn & Suites New York Manhattan/Chelsea  February 25, 2020   \n",
       "2  Fairfield Inn & Suites New York Manhattan/Chelsea  February 25, 2020   \n",
       "3  Fairfield Inn & Suites New York Manhattan/Chelsea  February 25, 2020   \n",
       "4  Fairfield Inn & Suites New York Manhattan/Chelsea   February 8, 2020   \n",
       "\n",
       "                                         review_body  \\\n",
       "0  This is a perfect location, close to Penn Stat...   \n",
       "1  I stayed here January into February for busine...   \n",
       "2  We had a last minute trip to the city booked a...   \n",
       "3  As others have stated, the location has two ma...   \n",
       "4  As others have remarked, a very convenient loc...   \n",
       "\n",
       "               user_location  helpful_vote  rating  \\\n",
       "0         Freeland, Maryland            10     5.0   \n",
       "1                        NaN             0     5.0   \n",
       "2                  Elizabeth             0     5.0   \n",
       "3  marlboro, New Jersey, USA            33     5.0   \n",
       "4        Arlington, Virginia            30     5.0   \n",
       "\n",
       "                                                 csv  \\\n",
       "0  Fairfield_Inn_Suites_New_York_Manhattan_Chelse...   \n",
       "1  Fairfield_Inn_Suites_New_York_Manhattan_Chelse...   \n",
       "2  Fairfield_Inn_Suites_New_York_Manhattan_Chelse...   \n",
       "3  Fairfield_Inn_Suites_New_York_Manhattan_Chelse...   \n",
       "4  Fairfield_Inn_Suites_New_York_Manhattan_Chelse...   \n",
       "\n",
       "                       folder  \n",
       "0  New_York_City-New_York.pg6  \n",
       "1  New_York_City-New_York.pg6  \n",
       "2  New_York_City-New_York.pg6  \n",
       "3  New_York_City-New_York.pg6  \n",
       "4  New_York_City-New_York.pg6  "
      ]
     },
     "execution_count": 6,
     "metadata": {},
     "output_type": "execute_result"
    }
   ],
   "source": [
    "df_all_hotels.head()"
   ]
  },
  {
   "cell_type": "code",
   "execution_count": 7,
   "metadata": {},
   "outputs": [
    {
     "name": "stdout",
     "output_type": "stream",
     "text": [
      "<class 'pandas.core.frame.DataFrame'>\n",
      "RangeIndex: 481169 entries, 0 to 481168\n",
      "Data columns (total 10 columns):\n",
      "review_id        481169 non-null int64\n",
      "url              481169 non-null object\n",
      "hotel_name       481169 non-null object\n",
      "review_date      481169 non-null object\n",
      "review_body      481169 non-null object\n",
      "user_location    411463 non-null object\n",
      "helpful_vote     481169 non-null int64\n",
      "rating           481169 non-null float64\n",
      "csv              481169 non-null object\n",
      "folder           481169 non-null object\n",
      "dtypes: float64(1), int64(2), object(7)\n",
      "memory usage: 36.7+ MB\n"
     ]
    }
   ],
   "source": [
    "df_all_hotels.info()"
   ]
  },
  {
   "cell_type": "code",
   "execution_count": 8,
   "metadata": {},
   "outputs": [
    {
     "name": "stdout",
     "output_type": "stream",
     "text": [
      "Number of duplicate rows:\n",
      "\n",
      "review_id        0\n",
      "url              0\n",
      "hotel_name       0\n",
      "review_date      0\n",
      "review_body      0\n",
      "user_location    0\n",
      "helpful_vote     0\n",
      "rating           0\n",
      "csv              0\n",
      "folder           0\n",
      "dtype: int64\n"
     ]
    }
   ],
   "source": [
    "# Check for duplicate rows\n",
    "dup_rows = df_all_hotels[df_all_hotels.duplicated()].count()\n",
    "print('Number of duplicate rows:\\n\\n{}'.format(dup_rows))"
   ]
  },
  {
   "cell_type": "code",
   "execution_count": 9,
   "metadata": {},
   "outputs": [
    {
     "data": {
      "text/html": [
       "<div>\n",
       "<style scoped>\n",
       "    .dataframe tbody tr th:only-of-type {\n",
       "        vertical-align: middle;\n",
       "    }\n",
       "\n",
       "    .dataframe tbody tr th {\n",
       "        vertical-align: top;\n",
       "    }\n",
       "\n",
       "    .dataframe thead th {\n",
       "        text-align: right;\n",
       "    }\n",
       "</style>\n",
       "<table border=\"1\" class=\"dataframe\">\n",
       "  <thead>\n",
       "    <tr style=\"text-align: right;\">\n",
       "      <th></th>\n",
       "      <th>Total</th>\n",
       "      <th>Percent</th>\n",
       "      <th>Type</th>\n",
       "    </tr>\n",
       "  </thead>\n",
       "  <tbody>\n",
       "    <tr>\n",
       "      <td>user_location</td>\n",
       "      <td>69706</td>\n",
       "      <td>0.144868</td>\n",
       "      <td>object</td>\n",
       "    </tr>\n",
       "    <tr>\n",
       "      <td>folder</td>\n",
       "      <td>0</td>\n",
       "      <td>0.000000</td>\n",
       "      <td>object</td>\n",
       "    </tr>\n",
       "    <tr>\n",
       "      <td>csv</td>\n",
       "      <td>0</td>\n",
       "      <td>0.000000</td>\n",
       "      <td>object</td>\n",
       "    </tr>\n",
       "    <tr>\n",
       "      <td>rating</td>\n",
       "      <td>0</td>\n",
       "      <td>0.000000</td>\n",
       "      <td>float64</td>\n",
       "    </tr>\n",
       "    <tr>\n",
       "      <td>helpful_vote</td>\n",
       "      <td>0</td>\n",
       "      <td>0.000000</td>\n",
       "      <td>int64</td>\n",
       "    </tr>\n",
       "    <tr>\n",
       "      <td>review_body</td>\n",
       "      <td>0</td>\n",
       "      <td>0.000000</td>\n",
       "      <td>object</td>\n",
       "    </tr>\n",
       "    <tr>\n",
       "      <td>review_date</td>\n",
       "      <td>0</td>\n",
       "      <td>0.000000</td>\n",
       "      <td>object</td>\n",
       "    </tr>\n",
       "    <tr>\n",
       "      <td>hotel_name</td>\n",
       "      <td>0</td>\n",
       "      <td>0.000000</td>\n",
       "      <td>object</td>\n",
       "    </tr>\n",
       "    <tr>\n",
       "      <td>url</td>\n",
       "      <td>0</td>\n",
       "      <td>0.000000</td>\n",
       "      <td>object</td>\n",
       "    </tr>\n",
       "    <tr>\n",
       "      <td>review_id</td>\n",
       "      <td>0</td>\n",
       "      <td>0.000000</td>\n",
       "      <td>int64</td>\n",
       "    </tr>\n",
       "  </tbody>\n",
       "</table>\n",
       "</div>"
      ],
      "text/plain": [
       "               Total   Percent     Type\n",
       "user_location  69706  0.144868   object\n",
       "folder             0  0.000000   object\n",
       "csv                0  0.000000   object\n",
       "rating             0  0.000000  float64\n",
       "helpful_vote       0  0.000000    int64\n",
       "review_body        0  0.000000   object\n",
       "review_date        0  0.000000   object\n",
       "hotel_name         0  0.000000   object\n",
       "url                0  0.000000   object\n",
       "review_id          0  0.000000    int64"
      ]
     },
     "execution_count": 9,
     "metadata": {},
     "output_type": "execute_result"
    }
   ],
   "source": [
    "# Get count, pct, and type of missing data (per column)\n",
    "hlp.get_nulls(df_all_hotels)"
   ]
  },
  {
   "cell_type": "markdown",
   "metadata": {},
   "source": [
    "# Clean & Prep Data"
   ]
  },
  {
   "cell_type": "code",
   "execution_count": 10,
   "metadata": {},
   "outputs": [
    {
     "name": "stdout",
     "output_type": "stream",
     "text": [
      "<class 'pandas.core.frame.DataFrame'>\n",
      "Int64Index: 481169 entries, 0 to 481168\n",
      "Data columns (total 14 columns):\n",
      "review_id        481169 non-null int64\n",
      "url              481169 non-null object\n",
      "hotel_name       481169 non-null object\n",
      "review_date      481169 non-null object\n",
      "review_body      481169 non-null object\n",
      "user_location    481169 non-null object\n",
      "helpful_vote     481169 non-null int64\n",
      "rating           481169 non-null float64\n",
      "csv              481169 non-null object\n",
      "folder           481169 non-null object\n",
      "City             481169 non-null object\n",
      "polarity         481169 non-null float64\n",
      "sentiment_int    481169 non-null int64\n",
      "sentiment        481169 non-null object\n",
      "dtypes: float64(2), int64(3), object(9)\n",
      "memory usage: 55.1+ MB\n"
     ]
    }
   ],
   "source": [
    "df_all_hotels_cleaned = df_all_hotels.copy()\n",
    "\n",
    "# Use helper function to do clean & prep\n",
    "df_all_hotels_cleaned = hlp.clean_and_prep(df_all_hotels_cleaned)\n",
    "\n",
    "df_all_hotels_cleaned.info()"
   ]
  },
  {
   "cell_type": "markdown",
   "metadata": {},
   "source": [
    "# EDA"
   ]
  },
  {
   "cell_type": "code",
   "execution_count": 11,
   "metadata": {},
   "outputs": [
    {
     "data": {
      "text/html": [
       "<div>\n",
       "<style scoped>\n",
       "    .dataframe tbody tr th:only-of-type {\n",
       "        vertical-align: middle;\n",
       "    }\n",
       "\n",
       "    .dataframe tbody tr th {\n",
       "        vertical-align: top;\n",
       "    }\n",
       "\n",
       "    .dataframe thead th {\n",
       "        text-align: right;\n",
       "    }\n",
       "</style>\n",
       "<table border=\"1\" class=\"dataframe\">\n",
       "  <thead>\n",
       "    <tr style=\"text-align: right;\">\n",
       "      <th></th>\n",
       "      <th>review_id</th>\n",
       "      <th>url</th>\n",
       "      <th>hotel_name</th>\n",
       "      <th>review_date</th>\n",
       "      <th>review_body</th>\n",
       "      <th>user_location</th>\n",
       "      <th>helpful_vote</th>\n",
       "      <th>rating</th>\n",
       "      <th>csv</th>\n",
       "      <th>folder</th>\n",
       "      <th>City</th>\n",
       "      <th>polarity</th>\n",
       "      <th>sentiment_int</th>\n",
       "      <th>sentiment</th>\n",
       "    </tr>\n",
       "  </thead>\n",
       "  <tbody>\n",
       "    <tr>\n",
       "      <td>148954</td>\n",
       "      <td>274887447</td>\n",
       "      <td>https://www.tripadvisor.com/Hotel_Review-g6076...</td>\n",
       "      <td>Best Western Premier Herald Square</td>\n",
       "      <td>May 26, 2015</td>\n",
       "      <td>Very nice hotel. Staff is friendly. Our concie...</td>\n",
       "      <td>n/a</td>\n",
       "      <td>0</td>\n",
       "      <td>5.0</td>\n",
       "      <td>Best_Western_Premier_Herald_Square-New_York_Ci...</td>\n",
       "      <td>New_York_City-New_York-pg4</td>\n",
       "      <td>New_York_City</td>\n",
       "      <td>1.0</td>\n",
       "      <td>2</td>\n",
       "      <td>positive</td>\n",
       "    </tr>\n",
       "    <tr>\n",
       "      <td>317104</td>\n",
       "      <td>339826367</td>\n",
       "      <td>https://www.tripadvisor.com/Hotel_Review-g1413...</td>\n",
       "      <td>Hilton Tokyo</td>\n",
       "      <td>January 13, 2016</td>\n",
       "      <td>My family and I had a very pleasant and comfor...</td>\n",
       "      <td>Manila</td>\n",
       "      <td>23</td>\n",
       "      <td>4.0</td>\n",
       "      <td>Hilton_Tokyo-Nishishinjuku_Shinjuku_Tokyo_Toky...</td>\n",
       "      <td>Tokyo-Kanto.pg5</td>\n",
       "      <td>Tokyo</td>\n",
       "      <td>1.0</td>\n",
       "      <td>2</td>\n",
       "      <td>positive</td>\n",
       "    </tr>\n",
       "    <tr>\n",
       "      <td>254729</td>\n",
       "      <td>265394487</td>\n",
       "      <td>https://www.tripadvisor.com/Hotel_Review-g6076...</td>\n",
       "      <td>Homewood Suites by Hilton New York/Midtown Man...</td>\n",
       "      <td>April 12, 2015</td>\n",
       "      <td>Very good hotel : the personel is pleasent and...</td>\n",
       "      <td>NANCY, France</td>\n",
       "      <td>0</td>\n",
       "      <td>4.0</td>\n",
       "      <td>Homewood_Suites_by_Hilton_New_York_Midtown_Man...</td>\n",
       "      <td>New_York_City-New_York-pg4</td>\n",
       "      <td>New_York_City</td>\n",
       "      <td>1.0</td>\n",
       "      <td>2</td>\n",
       "      <td>positive</td>\n",
       "    </tr>\n",
       "    <tr>\n",
       "      <td>423585</td>\n",
       "      <td>151961928</td>\n",
       "      <td>https://www.tripadvisor.com/Hotel_Review-g6098...</td>\n",
       "      <td>White Sands Hotel</td>\n",
       "      <td>February 12, 2013</td>\n",
       "      <td>We had stayed at a much more expensive hotel i...</td>\n",
       "      <td>Santa Cruz, California</td>\n",
       "      <td>1</td>\n",
       "      <td>5.0</td>\n",
       "      <td>White_Sands_Hotel-Honolulu_Oahu_Hawaii__en.csv</td>\n",
       "      <td>Honolulu-Hawaii.pg2</td>\n",
       "      <td>Honolulu</td>\n",
       "      <td>1.0</td>\n",
       "      <td>2</td>\n",
       "      <td>positive</td>\n",
       "    </tr>\n",
       "    <tr>\n",
       "      <td>334371</td>\n",
       "      <td>413744857</td>\n",
       "      <td>https://www.tripadvisor.com/Hotel_Review-g1066...</td>\n",
       "      <td>Royal Park Hotel</td>\n",
       "      <td>September 1, 2016</td>\n",
       "      <td>The Royal Park hotel in Nihonbashi was very ni...</td>\n",
       "      <td>n/a</td>\n",
       "      <td>16</td>\n",
       "      <td>4.0</td>\n",
       "      <td>Royal_Park_Hotel-Chuo_Tokyo_Tokyo_Prefecture_K...</td>\n",
       "      <td>Tokyo-Kanto.pg5</td>\n",
       "      <td>Tokyo</td>\n",
       "      <td>1.0</td>\n",
       "      <td>2</td>\n",
       "      <td>positive</td>\n",
       "    </tr>\n",
       "    <tr>\n",
       "      <td>162580</td>\n",
       "      <td>225199885</td>\n",
       "      <td>https://www.tripadvisor.com/Hotel_Review-g6076...</td>\n",
       "      <td>Park Central Hotel New York</td>\n",
       "      <td>August 29, 2014</td>\n",
       "      <td>got a great deal to stay here on priceline say...</td>\n",
       "      <td>Washington DC, District of Columbia</td>\n",
       "      <td>6</td>\n",
       "      <td>3.0</td>\n",
       "      <td>Park_Central_Hotel_New_York-New_York_City_New_...</td>\n",
       "      <td>New_York_City-New_York-pg4</td>\n",
       "      <td>New_York_City</td>\n",
       "      <td>0.5</td>\n",
       "      <td>1</td>\n",
       "      <td>neutral</td>\n",
       "    </tr>\n",
       "    <tr>\n",
       "      <td>155826</td>\n",
       "      <td>226136144</td>\n",
       "      <td>https://www.tripadvisor.com/Hotel_Review-g6076...</td>\n",
       "      <td>InterContinental New York Times Square</td>\n",
       "      <td>September 1, 2014</td>\n",
       "      <td>Access is good for Times Square. A famous hamb...</td>\n",
       "      <td>n/a</td>\n",
       "      <td>1</td>\n",
       "      <td>5.0</td>\n",
       "      <td>InterContinental_New_York_Times_Square-New_Yor...</td>\n",
       "      <td>New_York_City-New_York-pg4</td>\n",
       "      <td>New_York_City</td>\n",
       "      <td>1.0</td>\n",
       "      <td>2</td>\n",
       "      <td>positive</td>\n",
       "    </tr>\n",
       "    <tr>\n",
       "      <td>89108</td>\n",
       "      <td>203258033</td>\n",
       "      <td>https://www.tripadvisor.com/Hotel_Review-g1412...</td>\n",
       "      <td>The Peninsula Tokyo</td>\n",
       "      <td>April 28, 2014</td>\n",
       "      <td>I actually don't remember the last time I stay...</td>\n",
       "      <td>talisto</td>\n",
       "      <td>10</td>\n",
       "      <td>5.0</td>\n",
       "      <td>The_Peninsula_Tokyo-Yurakucho_Chiyoda_Tokyo_To...</td>\n",
       "      <td>Tokyo-Kanto-pg1</td>\n",
       "      <td>Tokyo</td>\n",
       "      <td>1.0</td>\n",
       "      <td>2</td>\n",
       "      <td>positive</td>\n",
       "    </tr>\n",
       "    <tr>\n",
       "      <td>367042</td>\n",
       "      <td>492903053</td>\n",
       "      <td>https://www.tripadvisor.com/Hotel_Review-g6098...</td>\n",
       "      <td>Outrigger Waikiki Beach Resort</td>\n",
       "      <td>June 13, 2017</td>\n",
       "      <td>From check in to check out this hotel is wonde...</td>\n",
       "      <td>Pittsburgh, Pennsylvania</td>\n",
       "      <td>17</td>\n",
       "      <td>5.0</td>\n",
       "      <td>Outrigger_Waikiki_Beach_Resort-Honolulu_Oahu_H...</td>\n",
       "      <td>Honolulu-Hawaii.pg3</td>\n",
       "      <td>Honolulu</td>\n",
       "      <td>1.0</td>\n",
       "      <td>2</td>\n",
       "      <td>positive</td>\n",
       "    </tr>\n",
       "    <tr>\n",
       "      <td>54921</td>\n",
       "      <td>475406868</td>\n",
       "      <td>https://www.tripadvisor.com/Hotel_Review-g6076...</td>\n",
       "      <td>Millennium Hilton New York One UN Plaza</td>\n",
       "      <td>April 13, 2017</td>\n",
       "      <td>This is a nice hotel. Rooms have great beds, r...</td>\n",
       "      <td>Palm Springs, California</td>\n",
       "      <td>3</td>\n",
       "      <td>4.0</td>\n",
       "      <td>Millennium_Hilton_New_York_One_UN_Plaza-New_Yo...</td>\n",
       "      <td>New_York_City-New_York.pg6</td>\n",
       "      <td>New_York_City</td>\n",
       "      <td>1.0</td>\n",
       "      <td>2</td>\n",
       "      <td>positive</td>\n",
       "    </tr>\n",
       "    <tr>\n",
       "      <td>8217</td>\n",
       "      <td>283055205</td>\n",
       "      <td>https://www.tripadvisor.com/Hotel_Review-g6076...</td>\n",
       "      <td>Grand Hyatt New York</td>\n",
       "      <td>June 24, 2015</td>\n",
       "      <td>Spend a night in the Grand Hyatt in New York w...</td>\n",
       "      <td>Centreville, United States</td>\n",
       "      <td>0</td>\n",
       "      <td>4.0</td>\n",
       "      <td>Grand_Hyatt_New_York-New_York_City_New_York__e...</td>\n",
       "      <td>New_York_City-New_York.pg6</td>\n",
       "      <td>New_York_City</td>\n",
       "      <td>1.0</td>\n",
       "      <td>2</td>\n",
       "      <td>positive</td>\n",
       "    </tr>\n",
       "    <tr>\n",
       "      <td>385179</td>\n",
       "      <td>32548657</td>\n",
       "      <td>https://www.tripadvisor.com/Hotel_Review-g6098...</td>\n",
       "      <td>The Kahala Hotel &amp; Resort</td>\n",
       "      <td>June 17, 2009</td>\n",
       "      <td>We stayed here for the 2nd leg of our honeymoo...</td>\n",
       "      <td>Scunthorpe</td>\n",
       "      <td>5</td>\n",
       "      <td>5.0</td>\n",
       "      <td>The_Kahala_Hotel_Resort-Honolulu_Oahu_Hawaii__...</td>\n",
       "      <td>Honolulu-Hawaii.pg3</td>\n",
       "      <td>Honolulu</td>\n",
       "      <td>1.0</td>\n",
       "      <td>2</td>\n",
       "      <td>positive</td>\n",
       "    </tr>\n",
       "    <tr>\n",
       "      <td>349688</td>\n",
       "      <td>724533541</td>\n",
       "      <td>https://www.tripadvisor.com/Hotel_Review-g6098...</td>\n",
       "      <td>Aqua Skyline at Island Colony</td>\n",
       "      <td>November 6, 2019</td>\n",
       "      <td>Fantastic views of Ala Wai Canal, the sea and ...</td>\n",
       "      <td>n/a</td>\n",
       "      <td>7</td>\n",
       "      <td>4.0</td>\n",
       "      <td>Aqua_Skyline_at_Island_Colony-Honolulu_Oahu_Ha...</td>\n",
       "      <td>Honolulu-Hawaii.pg3</td>\n",
       "      <td>Honolulu</td>\n",
       "      <td>1.0</td>\n",
       "      <td>2</td>\n",
       "      <td>positive</td>\n",
       "    </tr>\n",
       "    <tr>\n",
       "      <td>231738</td>\n",
       "      <td>667845668</td>\n",
       "      <td>https://www.tripadvisor.com/Hotel_Review-g6076...</td>\n",
       "      <td>Hotel Riu Plaza New York Times Square</td>\n",
       "      <td>April 20, 2019</td>\n",
       "      <td>Well situated about 5 mins from Times Square, ...</td>\n",
       "      <td>Suffolk, United Kingdom</td>\n",
       "      <td>2</td>\n",
       "      <td>5.0</td>\n",
       "      <td>Hotel_Riu_Plaza_New_York_Times_Square-New_York...</td>\n",
       "      <td>New_York_City-New_York-pg4</td>\n",
       "      <td>New_York_City</td>\n",
       "      <td>1.0</td>\n",
       "      <td>2</td>\n",
       "      <td>positive</td>\n",
       "    </tr>\n",
       "    <tr>\n",
       "      <td>17377</td>\n",
       "      <td>344132201</td>\n",
       "      <td>https://www.tripadvisor.com/Hotel_Review-g6076...</td>\n",
       "      <td>Double Tree by Hilton Hotel Metropolitan New Y...</td>\n",
       "      <td>January 31, 2016</td>\n",
       "      <td>Booked this on a \"name your own price\" website...</td>\n",
       "      <td>New York</td>\n",
       "      <td>3</td>\n",
       "      <td>2.0</td>\n",
       "      <td>Double_Tree_by_Hilton_Hotel_Metropolitan_New_Y...</td>\n",
       "      <td>New_York_City-New_York.pg6</td>\n",
       "      <td>New_York_City</td>\n",
       "      <td>0.0</td>\n",
       "      <td>0</td>\n",
       "      <td>negative</td>\n",
       "    </tr>\n",
       "  </tbody>\n",
       "</table>\n",
       "</div>"
      ],
      "text/plain": [
       "        review_id                                                url  \\\n",
       "148954  274887447  https://www.tripadvisor.com/Hotel_Review-g6076...   \n",
       "317104  339826367  https://www.tripadvisor.com/Hotel_Review-g1413...   \n",
       "254729  265394487  https://www.tripadvisor.com/Hotel_Review-g6076...   \n",
       "423585  151961928  https://www.tripadvisor.com/Hotel_Review-g6098...   \n",
       "334371  413744857  https://www.tripadvisor.com/Hotel_Review-g1066...   \n",
       "162580  225199885  https://www.tripadvisor.com/Hotel_Review-g6076...   \n",
       "155826  226136144  https://www.tripadvisor.com/Hotel_Review-g6076...   \n",
       "89108   203258033  https://www.tripadvisor.com/Hotel_Review-g1412...   \n",
       "367042  492903053  https://www.tripadvisor.com/Hotel_Review-g6098...   \n",
       "54921   475406868  https://www.tripadvisor.com/Hotel_Review-g6076...   \n",
       "8217    283055205  https://www.tripadvisor.com/Hotel_Review-g6076...   \n",
       "385179   32548657  https://www.tripadvisor.com/Hotel_Review-g6098...   \n",
       "349688  724533541  https://www.tripadvisor.com/Hotel_Review-g6098...   \n",
       "231738  667845668  https://www.tripadvisor.com/Hotel_Review-g6076...   \n",
       "17377   344132201  https://www.tripadvisor.com/Hotel_Review-g6076...   \n",
       "\n",
       "                                               hotel_name        review_date  \\\n",
       "148954                 Best Western Premier Herald Square       May 26, 2015   \n",
       "317104                                       Hilton Tokyo   January 13, 2016   \n",
       "254729  Homewood Suites by Hilton New York/Midtown Man...     April 12, 2015   \n",
       "423585                                  White Sands Hotel  February 12, 2013   \n",
       "334371                                   Royal Park Hotel  September 1, 2016   \n",
       "162580                        Park Central Hotel New York    August 29, 2014   \n",
       "155826             InterContinental New York Times Square  September 1, 2014   \n",
       "89108                                 The Peninsula Tokyo     April 28, 2014   \n",
       "367042                     Outrigger Waikiki Beach Resort      June 13, 2017   \n",
       "54921             Millennium Hilton New York One UN Plaza     April 13, 2017   \n",
       "8217                                 Grand Hyatt New York      June 24, 2015   \n",
       "385179                          The Kahala Hotel & Resort      June 17, 2009   \n",
       "349688                      Aqua Skyline at Island Colony   November 6, 2019   \n",
       "231738              Hotel Riu Plaza New York Times Square     April 20, 2019   \n",
       "17377   Double Tree by Hilton Hotel Metropolitan New Y...   January 31, 2016   \n",
       "\n",
       "                                              review_body  \\\n",
       "148954  Very nice hotel. Staff is friendly. Our concie...   \n",
       "317104  My family and I had a very pleasant and comfor...   \n",
       "254729  Very good hotel : the personel is pleasent and...   \n",
       "423585  We had stayed at a much more expensive hotel i...   \n",
       "334371  The Royal Park hotel in Nihonbashi was very ni...   \n",
       "162580  got a great deal to stay here on priceline say...   \n",
       "155826  Access is good for Times Square. A famous hamb...   \n",
       "89108   I actually don't remember the last time I stay...   \n",
       "367042  From check in to check out this hotel is wonde...   \n",
       "54921   This is a nice hotel. Rooms have great beds, r...   \n",
       "8217    Spend a night in the Grand Hyatt in New York w...   \n",
       "385179  We stayed here for the 2nd leg of our honeymoo...   \n",
       "349688  Fantastic views of Ala Wai Canal, the sea and ...   \n",
       "231738  Well situated about 5 mins from Times Square, ...   \n",
       "17377   Booked this on a \"name your own price\" website...   \n",
       "\n",
       "                              user_location  helpful_vote  rating  \\\n",
       "148954                                  n/a             0     5.0   \n",
       "317104                               Manila            23     4.0   \n",
       "254729                        NANCY, France             0     4.0   \n",
       "423585               Santa Cruz, California             1     5.0   \n",
       "334371                                  n/a            16     4.0   \n",
       "162580  Washington DC, District of Columbia             6     3.0   \n",
       "155826                                  n/a             1     5.0   \n",
       "89108                               talisto            10     5.0   \n",
       "367042             Pittsburgh, Pennsylvania            17     5.0   \n",
       "54921              Palm Springs, California             3     4.0   \n",
       "8217             Centreville, United States             0     4.0   \n",
       "385179                           Scunthorpe             5     5.0   \n",
       "349688                                  n/a             7     4.0   \n",
       "231738              Suffolk, United Kingdom             2     5.0   \n",
       "17377                              New York             3     2.0   \n",
       "\n",
       "                                                      csv  \\\n",
       "148954  Best_Western_Premier_Herald_Square-New_York_Ci...   \n",
       "317104  Hilton_Tokyo-Nishishinjuku_Shinjuku_Tokyo_Toky...   \n",
       "254729  Homewood_Suites_by_Hilton_New_York_Midtown_Man...   \n",
       "423585     White_Sands_Hotel-Honolulu_Oahu_Hawaii__en.csv   \n",
       "334371  Royal_Park_Hotel-Chuo_Tokyo_Tokyo_Prefecture_K...   \n",
       "162580  Park_Central_Hotel_New_York-New_York_City_New_...   \n",
       "155826  InterContinental_New_York_Times_Square-New_Yor...   \n",
       "89108   The_Peninsula_Tokyo-Yurakucho_Chiyoda_Tokyo_To...   \n",
       "367042  Outrigger_Waikiki_Beach_Resort-Honolulu_Oahu_H...   \n",
       "54921   Millennium_Hilton_New_York_One_UN_Plaza-New_Yo...   \n",
       "8217    Grand_Hyatt_New_York-New_York_City_New_York__e...   \n",
       "385179  The_Kahala_Hotel_Resort-Honolulu_Oahu_Hawaii__...   \n",
       "349688  Aqua_Skyline_at_Island_Colony-Honolulu_Oahu_Ha...   \n",
       "231738  Hotel_Riu_Plaza_New_York_Times_Square-New_York...   \n",
       "17377   Double_Tree_by_Hilton_Hotel_Metropolitan_New_Y...   \n",
       "\n",
       "                            folder           City  polarity  sentiment_int  \\\n",
       "148954  New_York_City-New_York-pg4  New_York_City       1.0              2   \n",
       "317104             Tokyo-Kanto.pg5          Tokyo       1.0              2   \n",
       "254729  New_York_City-New_York-pg4  New_York_City       1.0              2   \n",
       "423585         Honolulu-Hawaii.pg2       Honolulu       1.0              2   \n",
       "334371             Tokyo-Kanto.pg5          Tokyo       1.0              2   \n",
       "162580  New_York_City-New_York-pg4  New_York_City       0.5              1   \n",
       "155826  New_York_City-New_York-pg4  New_York_City       1.0              2   \n",
       "89108              Tokyo-Kanto-pg1          Tokyo       1.0              2   \n",
       "367042         Honolulu-Hawaii.pg3       Honolulu       1.0              2   \n",
       "54921   New_York_City-New_York.pg6  New_York_City       1.0              2   \n",
       "8217    New_York_City-New_York.pg6  New_York_City       1.0              2   \n",
       "385179         Honolulu-Hawaii.pg3       Honolulu       1.0              2   \n",
       "349688         Honolulu-Hawaii.pg3       Honolulu       1.0              2   \n",
       "231738  New_York_City-New_York-pg4  New_York_City       1.0              2   \n",
       "17377   New_York_City-New_York.pg6  New_York_City       0.0              0   \n",
       "\n",
       "       sentiment  \n",
       "148954  positive  \n",
       "317104  positive  \n",
       "254729  positive  \n",
       "423585  positive  \n",
       "334371  positive  \n",
       "162580   neutral  \n",
       "155826  positive  \n",
       "89108   positive  \n",
       "367042  positive  \n",
       "54921   positive  \n",
       "8217    positive  \n",
       "385179  positive  \n",
       "349688  positive  \n",
       "231738  positive  \n",
       "17377   negative  "
      ]
     },
     "execution_count": 11,
     "metadata": {},
     "output_type": "execute_result"
    }
   ],
   "source": [
    "df_all_hotels_cleaned.sample(15)"
   ]
  },
  {
   "cell_type": "code",
   "execution_count": 12,
   "metadata": {},
   "outputs": [
    {
     "name": "stdout",
     "output_type": "stream",
     "text": [
      "Count of Unique Values per Column:\n",
      "\n",
      "review_id: 455262\n",
      "url: 91148\n",
      "hotel_name: 264\n",
      "review_date: 6320\n",
      "review_body: 455194\n",
      "user_location: 45266\n",
      "helpful_vote: 953\n",
      "rating: 5\n",
      "csv: 264\n",
      "folder: 10\n",
      "City: 3\n",
      "polarity: 3\n",
      "sentiment_int: 3\n",
      "sentiment: 3\n"
     ]
    }
   ],
   "source": [
    "# Print how many unique values each column has\n",
    "hlp.print_unique_ct(df_all_hotels_cleaned)"
   ]
  },
  {
   "cell_type": "code",
   "execution_count": 13,
   "metadata": {},
   "outputs": [
    {
     "data": {
      "text/html": [
       "<div>\n",
       "<style scoped>\n",
       "    .dataframe tbody tr th:only-of-type {\n",
       "        vertical-align: middle;\n",
       "    }\n",
       "\n",
       "    .dataframe tbody tr th {\n",
       "        vertical-align: top;\n",
       "    }\n",
       "\n",
       "    .dataframe thead th {\n",
       "        text-align: right;\n",
       "    }\n",
       "</style>\n",
       "<table border=\"1\" class=\"dataframe\">\n",
       "  <thead>\n",
       "    <tr style=\"text-align: right;\">\n",
       "      <th></th>\n",
       "      <th>review_id</th>\n",
       "      <th>helpful_vote</th>\n",
       "      <th>rating</th>\n",
       "      <th>polarity</th>\n",
       "      <th>sentiment_int</th>\n",
       "    </tr>\n",
       "  </thead>\n",
       "  <tbody>\n",
       "    <tr>\n",
       "      <td>count</td>\n",
       "      <td>4.811690e+05</td>\n",
       "      <td>481169.000000</td>\n",
       "      <td>481169.000000</td>\n",
       "      <td>481169.000000</td>\n",
       "      <td>481169.000000</td>\n",
       "    </tr>\n",
       "    <tr>\n",
       "      <td>mean</td>\n",
       "      <td>3.703273e+08</td>\n",
       "      <td>27.994183</td>\n",
       "      <td>4.090983</td>\n",
       "      <td>0.834505</td>\n",
       "      <td>1.669010</td>\n",
       "    </tr>\n",
       "    <tr>\n",
       "      <td>std</td>\n",
       "      <td>2.089674e+08</td>\n",
       "      <td>233.408030</td>\n",
       "      <td>1.106502</td>\n",
       "      <td>0.326039</td>\n",
       "      <td>0.652079</td>\n",
       "    </tr>\n",
       "    <tr>\n",
       "      <td>min</td>\n",
       "      <td>2.824200e+05</td>\n",
       "      <td>0.000000</td>\n",
       "      <td>1.000000</td>\n",
       "      <td>0.000000</td>\n",
       "      <td>0.000000</td>\n",
       "    </tr>\n",
       "    <tr>\n",
       "      <td>25%</td>\n",
       "      <td>1.889582e+08</td>\n",
       "      <td>1.000000</td>\n",
       "      <td>4.000000</td>\n",
       "      <td>1.000000</td>\n",
       "      <td>2.000000</td>\n",
       "    </tr>\n",
       "    <tr>\n",
       "      <td>50%</td>\n",
       "      <td>3.544817e+08</td>\n",
       "      <td>8.000000</td>\n",
       "      <td>4.000000</td>\n",
       "      <td>1.000000</td>\n",
       "      <td>2.000000</td>\n",
       "    </tr>\n",
       "    <tr>\n",
       "      <td>75%</td>\n",
       "      <td>5.496229e+08</td>\n",
       "      <td>27.000000</td>\n",
       "      <td>5.000000</td>\n",
       "      <td>1.000000</td>\n",
       "      <td>2.000000</td>\n",
       "    </tr>\n",
       "    <tr>\n",
       "      <td>max</td>\n",
       "      <td>7.534967e+08</td>\n",
       "      <td>112061.000000</td>\n",
       "      <td>5.000000</td>\n",
       "      <td>1.000000</td>\n",
       "      <td>2.000000</td>\n",
       "    </tr>\n",
       "  </tbody>\n",
       "</table>\n",
       "</div>"
      ],
      "text/plain": [
       "          review_id   helpful_vote         rating       polarity  \\\n",
       "count  4.811690e+05  481169.000000  481169.000000  481169.000000   \n",
       "mean   3.703273e+08      27.994183       4.090983       0.834505   \n",
       "std    2.089674e+08     233.408030       1.106502       0.326039   \n",
       "min    2.824200e+05       0.000000       1.000000       0.000000   \n",
       "25%    1.889582e+08       1.000000       4.000000       1.000000   \n",
       "50%    3.544817e+08       8.000000       4.000000       1.000000   \n",
       "75%    5.496229e+08      27.000000       5.000000       1.000000   \n",
       "max    7.534967e+08  112061.000000       5.000000       1.000000   \n",
       "\n",
       "       sentiment_int  \n",
       "count  481169.000000  \n",
       "mean        1.669010  \n",
       "std         0.652079  \n",
       "min         0.000000  \n",
       "25%         2.000000  \n",
       "50%         2.000000  \n",
       "75%         2.000000  \n",
       "max         2.000000  "
      ]
     },
     "execution_count": 13,
     "metadata": {},
     "output_type": "execute_result"
    }
   ],
   "source": [
    "df_all_hotels_cleaned.describe()"
   ]
  },
  {
   "cell_type": "code",
   "execution_count": 14,
   "metadata": {},
   "outputs": [
    {
     "name": "stdout",
     "output_type": "stream",
     "text": [
      "Total Number of Reviews: 481169\n"
     ]
    },
    {
     "data": {
      "text/plain": [
       "Text(0.5, 1.0, 'Count of Hotel Reviews per City')"
      ]
     },
     "execution_count": 14,
     "metadata": {},
     "output_type": "execute_result"
    },
    {
     "data": {
      "text/plain": [
       "Text(0.5, 0, 'City')"
      ]
     },
     "execution_count": 14,
     "metadata": {},
     "output_type": "execute_result"
    },
    {
     "data": {
      "image/png": "[encoded data removed]",
      "text/plain": [
       "<Figure size 864x720 with 1 Axes>"
      ]
     },
     "metadata": {
      "needs_background": "light"
     },
     "output_type": "display_data"
    }
   ],
   "source": [
    "# Plot counts - Reviews per city\n",
    "df = df_all_hotels_cleaned\n",
    "print('Total Number of Reviews:', df.shape[0])\n",
    "\n",
    "fig, ax = plt.subplots(figsize=(12,10))\n",
    "plot = sns.countplot(data=df, x='City', ax=ax, order = df['City'].value_counts().index)\n",
    "ax.set_title('Count of Hotel Reviews per City', size=BIGGEST_SIZE)\n",
    "ax.set_xlabel('City')\n",
    "fig.tight_layout()\n",
    "fig.savefig('../images/countplot_reviews_byCity_full')"
   ]
  },
  {
   "cell_type": "code",
   "execution_count": 15,
   "metadata": {},
   "outputs": [
    {
     "data": {
      "text/plain": [
       "Text(0.5, 1.0, 'Distribution of Ratings per City')"
      ]
     },
     "execution_count": 15,
     "metadata": {},
     "output_type": "execute_result"
    },
    {
     "data": {
      "text/plain": [
       "Text(0, 0.5, 'Hotel Rating')"
      ]
     },
     "execution_count": 15,
     "metadata": {},
     "output_type": "execute_result"
    },
    {
     "data": {
      "text/plain": [
       "Text(0.5, 0, 'City')"
      ]
     },
     "execution_count": 15,
     "metadata": {},
     "output_type": "execute_result"
    },
    {
     "data": {
      "image/png": "[encoded data removed]",
      "text/plain": [
       "<Figure size 864x720 with 1 Axes>"
      ]
     },
     "metadata": {
      "needs_background": "light"
     },
     "output_type": "display_data"
    }
   ],
   "source": [
    "# Plot boxplot - Ratings per city\n",
    "figsize=(12, 10)\n",
    "fig, ax = plt.subplots(figsize=figsize)\n",
    "plot = sns.boxplot(x='City', y='rating', data=df, ax=ax, order = df['City'].value_counts().index)\n",
    "ax.set_title('Distribution of Ratings per City', size=BIGGEST_SIZE)\n",
    "ax.set_ylabel('Hotel Rating')\n",
    "ax.set_xlabel('City')\n",
    "fig.tight_layout()\n",
    "fig.savefig('../images/boxplt_ratings_byCity_full')"
   ]
  },
  {
   "cell_type": "code",
   "execution_count": 16,
   "metadata": {},
   "outputs": [
    {
     "name": "stdout",
     "output_type": "stream",
     "text": [
      "Total Number of Ratings:  481169\n"
     ]
    },
    {
     "data": {
      "text/plain": [
       "Text(0.5, 1.0, 'Counts of Hotel Ratings')"
      ]
     },
     "execution_count": 16,
     "metadata": {},
     "output_type": "execute_result"
    },
    {
     "data": {
      "text/plain": [
       "Text(0.5, 0, 'Hotel Rating')"
      ]
     },
     "execution_count": 16,
     "metadata": {},
     "output_type": "execute_result"
    },
    {
     "data": {
      "image/png": "[encoded data removed]",
      "text/plain": [
       "<Figure size 864x576 with 1 Axes>"
      ]
     },
     "metadata": {
      "needs_background": "light"
     },
     "output_type": "display_data"
    }
   ],
   "source": [
    "# Plot counts - Ratings\n",
    "df = df_all_hotels_cleaned\n",
    "print('Total Number of Ratings: ', df.shape[0])\n",
    "\n",
    "fig, ax = plt.subplots(figsize=(12,8))\n",
    "plot = sns.countplot(data=df, x='rating', ax=ax)\n",
    "ax.set_title('Counts of Hotel Ratings', size=BIGGEST_SIZE)\n",
    "ax.set_xlabel('Hotel Rating')\n",
    "fig.savefig('../images/countplot_ratings_full')"
   ]
  },
  {
   "cell_type": "code",
   "execution_count": 18,
   "metadata": {},
   "outputs": [
    {
     "name": "stdout",
     "output_type": "stream",
     "text": [
      "Total Number of Ratings:  481169\n"
     ]
    },
    {
     "data": {
      "text/plain": [
       "(<Figure size 576x576 with 1 Axes>,\n",
       " <matplotlib.axes._subplots.AxesSubplot at 0x1a4188d750>)"
      ]
     },
     "execution_count": 18,
     "metadata": {},
     "output_type": "execute_result"
    },
    {
     "data": {
      "text/plain": [
       "Text(0.5, 1, 'Initial Balance of Review Sentiments')"
      ]
     },
     "execution_count": 18,
     "metadata": {},
     "output_type": "execute_result"
    },
    {
     "data": {
      "text/plain": [
       "Text(73.76, 0.5, '')"
      ]
     },
     "execution_count": 18,
     "metadata": {},
     "output_type": "execute_result"
    },
    {
     "data": {
      "image/png": "[encoded data removed]",
      "text/plain": [
       "<Figure size 576x576 with 1 Axes>"
      ]
     },
     "metadata": {},
     "output_type": "display_data"
    }
   ],
   "source": [
    "# Plot pie - Sentiments\n",
    "df = df_all_hotels_cleaned\n",
    "print('Total Number of Ratings: ', df.shape[0])\n",
    "\n",
    "fig, ax = plt.subplots(figsize=(8,8))\n",
    "hlp.plot_pie(df['sentiment'], fig, ax)\n",
    "ax.set_title('Initial Balance of Review Sentiments', size=BIGGEST_SIZE)\n",
    "ax.set_ylabel('')\n",
    "fig.savefig('../images/pie_sentiments_full')"
   ]
  },
  {
   "cell_type": "markdown",
   "metadata": {},
   "source": [
    "# Train-Test Split"
   ]
  },
  {
   "cell_type": "code",
   "execution_count": 19,
   "metadata": {},
   "outputs": [],
   "source": [
    "# Specify df, target, indices, X & y\n",
    "df = df_all_hotels_cleaned.copy()\n",
    "target = 'sentiment'\n",
    "indices = df.index\n",
    "\n",
    "X = df['review_body']\n",
    "y = df[target].to_numpy()"
   ]
  },
  {
   "cell_type": "code",
   "execution_count": 20,
   "metadata": {},
   "outputs": [
    {
     "data": {
      "text/plain": [
       "((384935,), (96234,))"
      ]
     },
     "execution_count": 20,
     "metadata": {},
     "output_type": "execute_result"
    }
   ],
   "source": [
    "_, X_test, y_train, y_test, indices_train, indices_test = train_test_split(X, y, indices, test_size=0.2, shuffle=True, stratify=y)\n",
    "indices_train.shape, indices_test.shape"
   ]
  },
  {
   "cell_type": "markdown",
   "metadata": {},
   "source": [
    "## Handling class imbalance by under-sampling train data"
   ]
  },
  {
   "cell_type": "code",
   "execution_count": 21,
   "metadata": {},
   "outputs": [
    {
     "data": {
      "text/plain": [
       "(384935, 14)"
      ]
     },
     "execution_count": 21,
     "metadata": {},
     "output_type": "execute_result"
    }
   ],
   "source": [
    "# Get train df with train indices\n",
    "train_df = df.iloc[indices_train,:]\n",
    "train_df.shape"
   ]
  },
  {
   "cell_type": "code",
   "execution_count": 22,
   "metadata": {},
   "outputs": [
    {
     "data": {
      "text/plain": [
       "(array(['negative', 'neutral', 'positive'], dtype=object),\n",
       " array([ 39219,  48971, 296745]))"
      ]
     },
     "execution_count": 22,
     "metadata": {},
     "output_type": "execute_result"
    }
   ],
   "source": [
    "# Get classes and counts\n",
    "unique, counts = np.unique(y_train, return_counts=True)\n",
    "unique, counts"
   ]
  },
  {
   "cell_type": "code",
   "execution_count": 23,
   "metadata": {},
   "outputs": [
    {
     "name": "stdout",
     "output_type": "stream",
     "text": [
      "Majority: positive, Middle: neutral, Minority: negative\n"
     ]
    }
   ],
   "source": [
    "# Determine majority, middle, and minority classes\n",
    "majority_class = unique[np.argmax(counts)]\n",
    "minority_class = unique[np.argmin(counts)]\n",
    "mid_class = np.unique(y_train[(y_train!=majority_class) & (y_train!=minority_class)])[0]\n",
    "print('Majority: {}, Middle: {}, Minority: {}'.format(majority_class, mid_class, minority_class))"
   ]
  },
  {
   "cell_type": "code",
   "execution_count": 24,
   "metadata": {},
   "outputs": [
    {
     "data": {
      "text/plain": [
       "39219"
      ]
     },
     "execution_count": 24,
     "metadata": {},
     "output_type": "execute_result"
    }
   ],
   "source": [
    "# Get minority class indices\n",
    "minority_class_indices = train_df[train_df[target]==minority_class].index\n",
    "minority_class_len = minority_class_indices.shape[0]\n",
    "minority_class_len"
   ]
  },
  {
   "cell_type": "code",
   "execution_count": 25,
   "metadata": {},
   "outputs": [
    {
     "data": {
      "text/plain": [
       "Int64Index([172937, 251780, 226735,  74961, 392724, 229487, 399106, 325209,\n",
       "            231585, 396740,\n",
       "            ...\n",
       "              3236, 303412, 433286,  58049, 123735,  83905,  45540,  67383,\n",
       "            371800,  13528],\n",
       "           dtype='int64', length=296745)"
      ]
     },
     "execution_count": 25,
     "metadata": {},
     "output_type": "execute_result"
    }
   ],
   "source": [
    "# Get majority class indices\n",
    "majority_class_indices = train_df[train_df[target]==majority_class].index\n",
    "majority_class_indices"
   ]
  },
  {
   "cell_type": "code",
   "execution_count": 26,
   "metadata": {},
   "outputs": [
    {
     "data": {
      "text/plain": [
       "Int64Index([103536, 255061, 184810, 436427, 174091,  69842, 301425, 299660,\n",
       "              4133,  99859,\n",
       "            ...\n",
       "            460170,   7096, 479401, 375975, 462927, 377764, 467436, 300440,\n",
       "            249563, 269372],\n",
       "           dtype='int64', length=48971)"
      ]
     },
     "execution_count": 26,
     "metadata": {},
     "output_type": "execute_result"
    }
   ],
   "source": [
    "# Get middle class indices\n",
    "middle_class_indices = train_df[train_df[target]==mid_class].index\n",
    "middle_class_indices"
   ]
  },
  {
   "cell_type": "code",
   "execution_count": 27,
   "metadata": {},
   "outputs": [
    {
     "data": {
      "text/plain": [
       "(117657, 14)"
      ]
     },
     "execution_count": 27,
     "metadata": {},
     "output_type": "execute_result"
    }
   ],
   "source": [
    "# Randomly under-sample majority and middle class indices to get new under-sampled train df\n",
    "rand_maj_indices = np.random.choice(majority_class_indices, minority_class_len, replace=False)\n",
    "rand_mid_indices = np.random.choice(middle_class_indices, minority_class_len, replace=False)\n",
    "undersample_indices = np.concatenate([minority_class_indices, rand_mid_indices, rand_maj_indices])\n",
    "\n",
    "train_df_us = df.iloc[undersample_indices,:]\n",
    "train_df_us.shape"
   ]
  },
  {
   "cell_type": "code",
   "execution_count": 29,
   "metadata": {},
   "outputs": [
    {
     "name": "stdout",
     "output_type": "stream",
     "text": [
      "Total Number of Ratings:  117657\n"
     ]
    },
    {
     "data": {
      "text/plain": [
       "(<Figure size 720x576 with 1 Axes>,\n",
       " <matplotlib.axes._subplots.AxesSubplot at 0x1a4184f350>)"
      ]
     },
     "execution_count": 29,
     "metadata": {},
     "output_type": "execute_result"
    },
    {
     "data": {
      "text/plain": [
       "Text(0.5, 1, 'Balance of Review Sentiments,\\nAfter Under-Sampling Train')"
      ]
     },
     "execution_count": 29,
     "metadata": {},
     "output_type": "execute_result"
    },
    {
     "data": {
      "text/plain": [
       "Text(147.55999999999997, 0.5, '')"
      ]
     },
     "execution_count": 29,
     "metadata": {},
     "output_type": "execute_result"
    },
    {
     "data": {
      "image/png": "[encoded data removed]",
      "text/plain": [
       "<Figure size 720x576 with 1 Axes>"
      ]
     },
     "metadata": {},
     "output_type": "display_data"
    }
   ],
   "source": [
    "# Plot pie - Classes after undersampling\n",
    "print('Total Number of Ratings: ', train_df_us.shape[0])\n",
    "\n",
    "fig, ax = plt.subplots(figsize=(10,8))\n",
    "hlp.plot_pie(train_df_us[target], fig, ax)\n",
    "ax.set_title('Balance of Review Sentiments,\\nAfter Under-Sampling Train', size=BIGGEST_SIZE)\n",
    "ax.set_ylabel('')\n",
    "fig.tight_layout()\n",
    "fig.savefig('../images/pie_sentiments_train_undersample')"
   ]
  },
  {
   "cell_type": "code",
   "execution_count": 30,
   "metadata": {},
   "outputs": [],
   "source": [
    "X_train_us = train_df_us['review_body']\n",
    "y_train_us = train_df_us[target].to_numpy()"
   ]
  },
  {
   "cell_type": "markdown",
   "metadata": {},
   "source": [
    "# NLP & Predictive Modeling"
   ]
  },
  {
   "cell_type": "code",
   "execution_count": 40,
   "metadata": {},
   "outputs": [],
   "source": [
    "from nltk.corpus import stopwords\n",
    "from nltk.tokenize import RegexpTokenizer\n",
    "from nltk.stem.porter import PorterStemmer\n",
    "from nltk.stem.snowball import SnowballStemmer\n",
    "from nltk.stem.wordnet import WordNetLemmatizer\n",
    "from sklearn.feature_extraction.text import TfidfVectorizer, CountVectorizer\n",
    "import nltk\n",
    "# nltk.download('stopwords')\n",
    "import nltk\n",
    "# nltk.download('wordnet')\n",
    "\n",
    "from sklearn.naive_bayes import MultinomialNB\n",
    "from sklearn.linear_model import LogisticRegression\n",
    "from sklearn.ensemble import RandomForestClassifier\n",
    "\n",
    "from sklearn.model_selection import cross_val_score\n",
    "from sklearn.model_selection import GridSearchCV"
   ]
  },
  {
   "cell_type": "code",
   "execution_count": 44,
   "metadata": {},
   "outputs": [],
   "source": [
    "nb_def = MultinomialNB()\n",
    "lr_newton = LogisticRegression(multi_class='multinomial', solver=\"newton-cg\")\n",
    "rf_10est = RandomForestClassifier(n_estimators=10)"
   ]
  },
  {
   "cell_type": "markdown",
   "metadata": {},
   "source": [
    "## Increased max_features (max_features=None)"
   ]
  },
  {
   "cell_type": "markdown",
   "metadata": {},
   "source": [
    "### Tf-idf, snowball stemmer, None max_features (filter English stopwords)"
   ]
  },
  {
   "cell_type": "code",
   "execution_count": 24,
   "metadata": {},
   "outputs": [
    {
     "name": "stdout",
     "output_type": "stream",
     "text": [
      "Vectorizer: TfidfVectorizer\n",
      "Using SnowballStemmer\n",
      "Max features: None\n"
     ]
    },
    {
     "name": "stderr",
     "output_type": "stream",
     "text": [
      "/opt/conda/lib/python3.7/site-packages/sklearn/feature_extraction/text.py:507: UserWarning: The parameter 'token_pattern' will not be used since 'tokenizer' is not None'\n",
      "  warnings.warn(\"The parameter 'token_pattern' will not be used\"\n"
     ]
    }
   ],
   "source": [
    "tfidf=True\n",
    "stemmer='snowball'\n",
    "max_features=None\n",
    "\n",
    "vect_tfidf_snow_none, vocab_tfidf_snow_none = hlp.build_text_vectorizer(X_train_us,\n",
    "                             use_tfidf=tfidf,\n",
    "                             use_stemmer=stemmer,\n",
    "                             max_features=max_features)"
   ]
  },
  {
   "cell_type": "code",
   "execution_count": 25,
   "metadata": {},
   "outputs": [],
   "source": [
    "Xtr_tfidf_snow_none = vect_tfidf_snow_none(X_train_us)"
   ]
  },
  {
   "cell_type": "code",
   "execution_count": 26,
   "metadata": {},
   "outputs": [
    {
     "data": {
      "text/plain": [
       "array(['a', 'aa', 'aaa', ..., 'zyxel', 'zzz', 'zzzz'], dtype='<U80')"
      ]
     },
     "execution_count": 26,
     "metadata": {},
     "output_type": "execute_result"
    }
   ],
   "source": [
    "vocab_tfidf_snow_none"
   ]
  },
  {
   "cell_type": "code",
   "execution_count": 33,
   "metadata": {},
   "outputs": [
    {
     "name": "stdout",
     "output_type": "stream",
     "text": [
      "MultinomialNB accuracy, 2-fold CV on Train Data: 0.724\n"
     ]
    }
   ],
   "source": [
    "hlp.fit_pred_score_Nfold(nb_def, Xtr_tfidf_snow_none, y_train_us, N=2)"
   ]
  },
  {
   "cell_type": "code",
   "execution_count": 34,
   "metadata": {},
   "outputs": [
    {
     "name": "stdout",
     "output_type": "stream",
     "text": [
      "LogisticRegression accuracy, 2-fold CV on Train Data: 0.748\n"
     ]
    }
   ],
   "source": [
    "hlp.fit_pred_score_Nfold(lr_newton, Xtr_tfidf_snow_none, y_train_us, N=2)"
   ]
  },
  {
   "cell_type": "markdown",
   "metadata": {},
   "source": [
    "### Tf-idf, wordnet lemmatizer, None max_features (filter English stopwords)"
   ]
  },
  {
   "cell_type": "code",
   "execution_count": 30,
   "metadata": {},
   "outputs": [
    {
     "name": "stdout",
     "output_type": "stream",
     "text": [
      "Vectorizer: TfidfVectorizer\n",
      "Using WordNetLemmatizer\n",
      "Max features: None\n"
     ]
    },
    {
     "name": "stderr",
     "output_type": "stream",
     "text": [
      "/opt/conda/lib/python3.7/site-packages/sklearn/feature_extraction/text.py:507: UserWarning: The parameter 'token_pattern' will not be used since 'tokenizer' is not None'\n",
      "  warnings.warn(\"The parameter 'token_pattern' will not be used\"\n"
     ]
    }
   ],
   "source": [
    "tfidf=True\n",
    "stemmer='lem'\n",
    "max_features=None\n",
    "\n",
    "vect_tfidf_lem_none, vocab_tfidf_lem_none = hlp.build_text_vectorizer(X_train_us,\n",
    "                             use_tfidf=tfidf,\n",
    "                             use_stemmer=stemmer,\n",
    "                             max_features=max_features)"
   ]
  },
  {
   "cell_type": "code",
   "execution_count": 31,
   "metadata": {},
   "outputs": [],
   "source": [
    "Xtr_tfidf_lem_none = vect_tfidf_lem_none(X_train_us)"
   ]
  },
  {
   "cell_type": "code",
   "execution_count": 32,
   "metadata": {},
   "outputs": [
    {
     "data": {
      "text/plain": [
       "array(['aa', 'aaa', 'aaaa', ..., 'zyxel', 'zzz', 'zzzz'], dtype='<U81')"
      ]
     },
     "execution_count": 32,
     "metadata": {},
     "output_type": "execute_result"
    }
   ],
   "source": [
    "vocab_tfidf_lem_none"
   ]
  },
  {
   "cell_type": "code",
   "execution_count": 35,
   "metadata": {},
   "outputs": [
    {
     "name": "stdout",
     "output_type": "stream",
     "text": [
      "MultinomialNB accuracy, 2-fold CV on Train Data: 0.727\n"
     ]
    }
   ],
   "source": [
    "hlp.fit_pred_score_Nfold(nb_def, Xtr_tfidf_lem_none, y_train_us, N=2)"
   ]
  },
  {
   "cell_type": "code",
   "execution_count": 36,
   "metadata": {},
   "outputs": [
    {
     "name": "stdout",
     "output_type": "stream",
     "text": [
      "LogisticRegression accuracy, 2-fold CV on Train Data: 0.751\n"
     ]
    }
   ],
   "source": [
    "hlp.fit_pred_score_Nfold(lr_newton, Xtr_tfidf_lem_none, y_train_us, N=2)"
   ]
  },
  {
   "cell_type": "code",
   "execution_count": 45,
   "metadata": {},
   "outputs": [
    {
     "name": "stdout",
     "output_type": "stream",
     "text": [
      "RandomForestClassifier accuracy, 2-fold CV on Train Data: 0.616\n"
     ]
    }
   ],
   "source": [
    "hlp.fit_pred_score_Nfold(rf_10est, Xtr_tfidf_lem_none, y_train_us, N=2)"
   ]
  },
  {
   "cell_type": "code",
   "execution_count": 81,
   "metadata": {},
   "outputs": [
    {
     "data": {
      "image/png": "[encoded data removed]",
      "text/plain": [
       "<Figure size 1440x576 with 1 Axes>"
      ]
     },
     "metadata": {
      "needs_background": "light"
     },
     "output_type": "display_data"
    }
   ],
   "source": [
    "feature_list = vocab_tfidf_lem_none\n",
    "fig, ax = plt.subplots(figsize=(20,8))\n",
    "fig, ax, rev_sort_feature_cols = hlp.plot_topN_features(rf_10est.fit(Xtr_tfidf_lem_none, y_train_us).feature_importances_, feature_list, 25, fig, ax)\n",
    "fig.tight_layout()\n",
    "fig.savefig('../images/feat_importances_rf_top25_lem')"
   ]
  },
  {
   "cell_type": "code",
   "execution_count": 46,
   "metadata": {},
   "outputs": [
    {
     "name": "stdout",
     "output_type": "stream",
     "text": [
      "RandomForestClassifier accuracy, 2-fold CV on Train Data: 0.615\n"
     ]
    }
   ],
   "source": [
    "hlp.fit_pred_score_Nfold(rf_10est, Xtr_tfidf_snow_none, y_train_us, N=2)"
   ]
  },
  {
   "cell_type": "code",
   "execution_count": 82,
   "metadata": {},
   "outputs": [
    {
     "data": {
      "image/png": "[encoded data removed]",
      "text/plain": [
       "<Figure size 1440x576 with 1 Axes>"
      ]
     },
     "metadata": {
      "needs_background": "light"
     },
     "output_type": "display_data"
    }
   ],
   "source": [
    "feature_list = vocab_tfidf_snow_none\n",
    "fig, ax = plt.subplots(figsize=(20,8))\n",
    "fig, ax, rev_sort_feature_cols = hlp.plot_topN_features(rf_10est.fit(Xtr_tfidf_snow_none, y_train_us).feature_importances_, feature_list, 25, fig, ax)\n",
    "fig.tight_layout()\n",
    "fig.savefig('../images/feat_importances_rf_top25_snow')"
   ]
  },
  {
   "cell_type": "markdown",
   "metadata": {},
   "source": [
    "### Hyperparameter Tuning with GridSearchCV"
   ]
  },
  {
   "cell_type": "code",
   "execution_count": 89,
   "metadata": {},
   "outputs": [],
   "source": [
    "logistic_regression_grid = {'C': [0.001, 0.01, 0.1],\n",
    "#                       'penalty': [\"l1\",\"l2\"],\n",
    "#                       'solver': [\"newton-cg\", \"sag\", \"saga\"],\n",
    "                      'max_iter': [80, 120]}\n",
    "\n",
    "lr_gridsearch = GridSearchCV(LogisticRegression(multi_class='multinomial', solver=\"newton-cg\"),\n",
    "                             logistic_regression_grid,\n",
    "#                              n_jobs=-1,\n",
    "                             verbose=True,\n",
    "                             scoring='accuracy')"
   ]
  },
  {
   "cell_type": "code",
   "execution_count": 90,
   "metadata": {},
   "outputs": [
    {
     "name": "stdout",
     "output_type": "stream",
     "text": [
      "Fitting 5 folds for each of 6 candidates, totalling 30 fits\n"
     ]
    },
    {
     "name": "stderr",
     "output_type": "stream",
     "text": [
      "[Parallel(n_jobs=1)]: Using backend SequentialBackend with 1 concurrent workers.\n"
     ]
    },
    {
     "ename": "KeyboardInterrupt",
     "evalue": "",
     "output_type": "error",
     "traceback": [
      "\u001b[0;31m---------------------------------------------------------------------------\u001b[0m",
      "\u001b[0;31mKeyboardInterrupt\u001b[0m                         Traceback (most recent call last)",
      "\u001b[0;32m<ipython-input-90-83d10465a591>\u001b[0m in \u001b[0;36m<module>\u001b[0;34m\u001b[0m\n\u001b[0;32m----> 1\u001b[0;31m \u001b[0mlr_gridsearch\u001b[0m\u001b[0;34m.\u001b[0m\u001b[0mfit\u001b[0m\u001b[0;34m(\u001b[0m\u001b[0mXtr_tfidf_lem_none\u001b[0m\u001b[0;34m,\u001b[0m \u001b[0my_train_us\u001b[0m\u001b[0;34m)\u001b[0m\u001b[0;34m\u001b[0m\u001b[0;34m\u001b[0m\u001b[0m\n\u001b[0m\u001b[1;32m      2\u001b[0m \u001b[0;34m\u001b[0m\u001b[0m\n\u001b[1;32m      3\u001b[0m \u001b[0mprint\u001b[0m\u001b[0;34m(\u001b[0m\u001b[0;34m\"best score:\"\u001b[0m\u001b[0;34m,\u001b[0m \u001b[0mlr_gridsearch\u001b[0m\u001b[0;34m.\u001b[0m\u001b[0mbest_score_\u001b[0m\u001b[0;34m)\u001b[0m\u001b[0;34m\u001b[0m\u001b[0;34m\u001b[0m\u001b[0m\n\u001b[1;32m      4\u001b[0m \u001b[0mprint\u001b[0m\u001b[0;34m(\u001b[0m\u001b[0;34m\"best parameters:\"\u001b[0m\u001b[0;34m,\u001b[0m \u001b[0mlr_gridsearch\u001b[0m\u001b[0;34m.\u001b[0m\u001b[0mbest_params_\u001b[0m\u001b[0;34m)\u001b[0m\u001b[0;34m\u001b[0m\u001b[0;34m\u001b[0m\u001b[0m\n\u001b[1;32m      5\u001b[0m \u001b[0;34m\u001b[0m\u001b[0m\n",
      "\u001b[0;32m/opt/conda/lib/python3.7/site-packages/sklearn/model_selection/_search.py\u001b[0m in \u001b[0;36mfit\u001b[0;34m(self, X, y, groups, **fit_params)\u001b[0m\n\u001b[1;32m    708\u001b[0m                 \u001b[0;32mreturn\u001b[0m \u001b[0mresults\u001b[0m\u001b[0;34m\u001b[0m\u001b[0;34m\u001b[0m\u001b[0m\n\u001b[1;32m    709\u001b[0m \u001b[0;34m\u001b[0m\u001b[0m\n\u001b[0;32m--> 710\u001b[0;31m             \u001b[0mself\u001b[0m\u001b[0;34m.\u001b[0m\u001b[0m_run_search\u001b[0m\u001b[0;34m(\u001b[0m\u001b[0mevaluate_candidates\u001b[0m\u001b[0;34m)\u001b[0m\u001b[0;34m\u001b[0m\u001b[0;34m\u001b[0m\u001b[0m\n\u001b[0m\u001b[1;32m    711\u001b[0m \u001b[0;34m\u001b[0m\u001b[0m\n\u001b[1;32m    712\u001b[0m         \u001b[0;31m# For multi-metric evaluation, store the best_index_, best_params_ and\u001b[0m\u001b[0;34m\u001b[0m\u001b[0;34m\u001b[0m\u001b[0;34m\u001b[0m\u001b[0m\n",
      "\u001b[0;32m/opt/conda/lib/python3.7/site-packages/sklearn/model_selection/_search.py\u001b[0m in \u001b[0;36m_run_search\u001b[0;34m(self, evaluate_candidates)\u001b[0m\n\u001b[1;32m   1149\u001b[0m     \u001b[0;32mdef\u001b[0m \u001b[0m_run_search\u001b[0m\u001b[0;34m(\u001b[0m\u001b[0mself\u001b[0m\u001b[0;34m,\u001b[0m \u001b[0mevaluate_candidates\u001b[0m\u001b[0;34m)\u001b[0m\u001b[0;34m:\u001b[0m\u001b[0;34m\u001b[0m\u001b[0;34m\u001b[0m\u001b[0m\n\u001b[1;32m   1150\u001b[0m         \u001b[0;34m\"\"\"Search all candidates in param_grid\"\"\"\u001b[0m\u001b[0;34m\u001b[0m\u001b[0;34m\u001b[0m\u001b[0m\n\u001b[0;32m-> 1151\u001b[0;31m         \u001b[0mevaluate_candidates\u001b[0m\u001b[0;34m(\u001b[0m\u001b[0mParameterGrid\u001b[0m\u001b[0;34m(\u001b[0m\u001b[0mself\u001b[0m\u001b[0;34m.\u001b[0m\u001b[0mparam_grid\u001b[0m\u001b[0;34m)\u001b[0m\u001b[0;34m)\u001b[0m\u001b[0;34m\u001b[0m\u001b[0;34m\u001b[0m\u001b[0m\n\u001b[0m\u001b[1;32m   1152\u001b[0m \u001b[0;34m\u001b[0m\u001b[0m\n\u001b[1;32m   1153\u001b[0m \u001b[0;34m\u001b[0m\u001b[0m\n",
      "\u001b[0;32m/opt/conda/lib/python3.7/site-packages/sklearn/model_selection/_search.py\u001b[0m in \u001b[0;36mevaluate_candidates\u001b[0;34m(candidate_params)\u001b[0m\n\u001b[1;32m    687\u001b[0m                                \u001b[0;32mfor\u001b[0m \u001b[0mparameters\u001b[0m\u001b[0;34m,\u001b[0m \u001b[0;34m(\u001b[0m\u001b[0mtrain\u001b[0m\u001b[0;34m,\u001b[0m \u001b[0mtest\u001b[0m\u001b[0;34m)\u001b[0m\u001b[0;34m\u001b[0m\u001b[0;34m\u001b[0m\u001b[0m\n\u001b[1;32m    688\u001b[0m                                in product(candidate_params,\n\u001b[0;32m--> 689\u001b[0;31m                                           cv.split(X, y, groups)))\n\u001b[0m\u001b[1;32m    690\u001b[0m \u001b[0;34m\u001b[0m\u001b[0m\n\u001b[1;32m    691\u001b[0m                 \u001b[0;32mif\u001b[0m \u001b[0mlen\u001b[0m\u001b[0;34m(\u001b[0m\u001b[0mout\u001b[0m\u001b[0;34m)\u001b[0m \u001b[0;34m<\u001b[0m \u001b[0;36m1\u001b[0m\u001b[0;34m:\u001b[0m\u001b[0;34m\u001b[0m\u001b[0;34m\u001b[0m\u001b[0m\n",
      "\u001b[0;32m/opt/conda/lib/python3.7/site-packages/joblib/parallel.py\u001b[0m in \u001b[0;36m__call__\u001b[0;34m(self, iterable)\u001b[0m\n\u001b[1;32m   1005\u001b[0m                 \u001b[0mself\u001b[0m\u001b[0;34m.\u001b[0m\u001b[0m_iterating\u001b[0m \u001b[0;34m=\u001b[0m \u001b[0mself\u001b[0m\u001b[0;34m.\u001b[0m\u001b[0m_original_iterator\u001b[0m \u001b[0;32mis\u001b[0m \u001b[0;32mnot\u001b[0m \u001b[0;32mNone\u001b[0m\u001b[0;34m\u001b[0m\u001b[0;34m\u001b[0m\u001b[0m\n\u001b[1;32m   1006\u001b[0m \u001b[0;34m\u001b[0m\u001b[0m\n\u001b[0;32m-> 1007\u001b[0;31m             \u001b[0;32mwhile\u001b[0m \u001b[0mself\u001b[0m\u001b[0;34m.\u001b[0m\u001b[0mdispatch_one_batch\u001b[0m\u001b[0;34m(\u001b[0m\u001b[0miterator\u001b[0m\u001b[0;34m)\u001b[0m\u001b[0;34m:\u001b[0m\u001b[0;34m\u001b[0m\u001b[0;34m\u001b[0m\u001b[0m\n\u001b[0m\u001b[1;32m   1008\u001b[0m                 \u001b[0;32mpass\u001b[0m\u001b[0;34m\u001b[0m\u001b[0;34m\u001b[0m\u001b[0m\n\u001b[1;32m   1009\u001b[0m \u001b[0;34m\u001b[0m\u001b[0m\n",
      "\u001b[0;32m/opt/conda/lib/python3.7/site-packages/joblib/parallel.py\u001b[0m in \u001b[0;36mdispatch_one_batch\u001b[0;34m(self, iterator)\u001b[0m\n\u001b[1;32m    833\u001b[0m                 \u001b[0;32mreturn\u001b[0m \u001b[0;32mFalse\u001b[0m\u001b[0;34m\u001b[0m\u001b[0;34m\u001b[0m\u001b[0m\n\u001b[1;32m    834\u001b[0m             \u001b[0;32melse\u001b[0m\u001b[0;34m:\u001b[0m\u001b[0;34m\u001b[0m\u001b[0;34m\u001b[0m\u001b[0m\n\u001b[0;32m--> 835\u001b[0;31m                 \u001b[0mself\u001b[0m\u001b[0;34m.\u001b[0m\u001b[0m_dispatch\u001b[0m\u001b[0;34m(\u001b[0m\u001b[0mtasks\u001b[0m\u001b[0;34m)\u001b[0m\u001b[0;34m\u001b[0m\u001b[0;34m\u001b[0m\u001b[0m\n\u001b[0m\u001b[1;32m    836\u001b[0m                 \u001b[0;32mreturn\u001b[0m \u001b[0;32mTrue\u001b[0m\u001b[0;34m\u001b[0m\u001b[0;34m\u001b[0m\u001b[0m\n\u001b[1;32m    837\u001b[0m \u001b[0;34m\u001b[0m\u001b[0m\n",
      "\u001b[0;32m/opt/conda/lib/python3.7/site-packages/joblib/parallel.py\u001b[0m in \u001b[0;36m_dispatch\u001b[0;34m(self, batch)\u001b[0m\n\u001b[1;32m    752\u001b[0m         \u001b[0;32mwith\u001b[0m \u001b[0mself\u001b[0m\u001b[0;34m.\u001b[0m\u001b[0m_lock\u001b[0m\u001b[0;34m:\u001b[0m\u001b[0;34m\u001b[0m\u001b[0;34m\u001b[0m\u001b[0m\n\u001b[1;32m    753\u001b[0m             \u001b[0mjob_idx\u001b[0m \u001b[0;34m=\u001b[0m \u001b[0mlen\u001b[0m\u001b[0;34m(\u001b[0m\u001b[0mself\u001b[0m\u001b[0;34m.\u001b[0m\u001b[0m_jobs\u001b[0m\u001b[0;34m)\u001b[0m\u001b[0;34m\u001b[0m\u001b[0;34m\u001b[0m\u001b[0m\n\u001b[0;32m--> 754\u001b[0;31m             \u001b[0mjob\u001b[0m \u001b[0;34m=\u001b[0m \u001b[0mself\u001b[0m\u001b[0;34m.\u001b[0m\u001b[0m_backend\u001b[0m\u001b[0;34m.\u001b[0m\u001b[0mapply_async\u001b[0m\u001b[0;34m(\u001b[0m\u001b[0mbatch\u001b[0m\u001b[0;34m,\u001b[0m \u001b[0mcallback\u001b[0m\u001b[0;34m=\u001b[0m\u001b[0mcb\u001b[0m\u001b[0;34m)\u001b[0m\u001b[0;34m\u001b[0m\u001b[0;34m\u001b[0m\u001b[0m\n\u001b[0m\u001b[1;32m    755\u001b[0m             \u001b[0;31m# A job can complete so quickly than its callback is\u001b[0m\u001b[0;34m\u001b[0m\u001b[0;34m\u001b[0m\u001b[0;34m\u001b[0m\u001b[0m\n\u001b[1;32m    756\u001b[0m             \u001b[0;31m# called before we get here, causing self._jobs to\u001b[0m\u001b[0;34m\u001b[0m\u001b[0;34m\u001b[0m\u001b[0;34m\u001b[0m\u001b[0m\n",
      "\u001b[0;32m/opt/conda/lib/python3.7/site-packages/joblib/_parallel_backends.py\u001b[0m in \u001b[0;36mapply_async\u001b[0;34m(self, func, callback)\u001b[0m\n\u001b[1;32m    207\u001b[0m     \u001b[0;32mdef\u001b[0m \u001b[0mapply_async\u001b[0m\u001b[0;34m(\u001b[0m\u001b[0mself\u001b[0m\u001b[0;34m,\u001b[0m \u001b[0mfunc\u001b[0m\u001b[0;34m,\u001b[0m \u001b[0mcallback\u001b[0m\u001b[0;34m=\u001b[0m\u001b[0;32mNone\u001b[0m\u001b[0;34m)\u001b[0m\u001b[0;34m:\u001b[0m\u001b[0;34m\u001b[0m\u001b[0;34m\u001b[0m\u001b[0m\n\u001b[1;32m    208\u001b[0m         \u001b[0;34m\"\"\"Schedule a func to be run\"\"\"\u001b[0m\u001b[0;34m\u001b[0m\u001b[0;34m\u001b[0m\u001b[0m\n\u001b[0;32m--> 209\u001b[0;31m         \u001b[0mresult\u001b[0m \u001b[0;34m=\u001b[0m \u001b[0mImmediateResult\u001b[0m\u001b[0;34m(\u001b[0m\u001b[0mfunc\u001b[0m\u001b[0;34m)\u001b[0m\u001b[0;34m\u001b[0m\u001b[0;34m\u001b[0m\u001b[0m\n\u001b[0m\u001b[1;32m    210\u001b[0m         \u001b[0;32mif\u001b[0m \u001b[0mcallback\u001b[0m\u001b[0;34m:\u001b[0m\u001b[0;34m\u001b[0m\u001b[0;34m\u001b[0m\u001b[0m\n\u001b[1;32m    211\u001b[0m             \u001b[0mcallback\u001b[0m\u001b[0;34m(\u001b[0m\u001b[0mresult\u001b[0m\u001b[0;34m)\u001b[0m\u001b[0;34m\u001b[0m\u001b[0;34m\u001b[0m\u001b[0m\n",
      "\u001b[0;32m/opt/conda/lib/python3.7/site-packages/joblib/_parallel_backends.py\u001b[0m in \u001b[0;36m__init__\u001b[0;34m(self, batch)\u001b[0m\n\u001b[1;32m    588\u001b[0m         \u001b[0;31m# Don't delay the application, to avoid keeping the input\u001b[0m\u001b[0;34m\u001b[0m\u001b[0;34m\u001b[0m\u001b[0;34m\u001b[0m\u001b[0m\n\u001b[1;32m    589\u001b[0m         \u001b[0;31m# arguments in memory\u001b[0m\u001b[0;34m\u001b[0m\u001b[0;34m\u001b[0m\u001b[0;34m\u001b[0m\u001b[0m\n\u001b[0;32m--> 590\u001b[0;31m         \u001b[0mself\u001b[0m\u001b[0;34m.\u001b[0m\u001b[0mresults\u001b[0m \u001b[0;34m=\u001b[0m \u001b[0mbatch\u001b[0m\u001b[0;34m(\u001b[0m\u001b[0;34m)\u001b[0m\u001b[0;34m\u001b[0m\u001b[0;34m\u001b[0m\u001b[0m\n\u001b[0m\u001b[1;32m    591\u001b[0m \u001b[0;34m\u001b[0m\u001b[0m\n\u001b[1;32m    592\u001b[0m     \u001b[0;32mdef\u001b[0m \u001b[0mget\u001b[0m\u001b[0;34m(\u001b[0m\u001b[0mself\u001b[0m\u001b[0;34m)\u001b[0m\u001b[0;34m:\u001b[0m\u001b[0;34m\u001b[0m\u001b[0;34m\u001b[0m\u001b[0m\n",
      "\u001b[0;32m/opt/conda/lib/python3.7/site-packages/joblib/parallel.py\u001b[0m in \u001b[0;36m__call__\u001b[0;34m(self)\u001b[0m\n\u001b[1;32m    254\u001b[0m         \u001b[0;32mwith\u001b[0m \u001b[0mparallel_backend\u001b[0m\u001b[0;34m(\u001b[0m\u001b[0mself\u001b[0m\u001b[0;34m.\u001b[0m\u001b[0m_backend\u001b[0m\u001b[0;34m,\u001b[0m \u001b[0mn_jobs\u001b[0m\u001b[0;34m=\u001b[0m\u001b[0mself\u001b[0m\u001b[0;34m.\u001b[0m\u001b[0m_n_jobs\u001b[0m\u001b[0;34m)\u001b[0m\u001b[0;34m:\u001b[0m\u001b[0;34m\u001b[0m\u001b[0;34m\u001b[0m\u001b[0m\n\u001b[1;32m    255\u001b[0m             return [func(*args, **kwargs)\n\u001b[0;32m--> 256\u001b[0;31m                     for func, args, kwargs in self.items]\n\u001b[0m\u001b[1;32m    257\u001b[0m \u001b[0;34m\u001b[0m\u001b[0m\n\u001b[1;32m    258\u001b[0m     \u001b[0;32mdef\u001b[0m \u001b[0m__len__\u001b[0m\u001b[0;34m(\u001b[0m\u001b[0mself\u001b[0m\u001b[0;34m)\u001b[0m\u001b[0;34m:\u001b[0m\u001b[0;34m\u001b[0m\u001b[0;34m\u001b[0m\u001b[0m\n",
      "\u001b[0;32m/opt/conda/lib/python3.7/site-packages/joblib/parallel.py\u001b[0m in \u001b[0;36m<listcomp>\u001b[0;34m(.0)\u001b[0m\n\u001b[1;32m    254\u001b[0m         \u001b[0;32mwith\u001b[0m \u001b[0mparallel_backend\u001b[0m\u001b[0;34m(\u001b[0m\u001b[0mself\u001b[0m\u001b[0;34m.\u001b[0m\u001b[0m_backend\u001b[0m\u001b[0;34m,\u001b[0m \u001b[0mn_jobs\u001b[0m\u001b[0;34m=\u001b[0m\u001b[0mself\u001b[0m\u001b[0;34m.\u001b[0m\u001b[0m_n_jobs\u001b[0m\u001b[0;34m)\u001b[0m\u001b[0;34m:\u001b[0m\u001b[0;34m\u001b[0m\u001b[0;34m\u001b[0m\u001b[0m\n\u001b[1;32m    255\u001b[0m             return [func(*args, **kwargs)\n\u001b[0;32m--> 256\u001b[0;31m                     for func, args, kwargs in self.items]\n\u001b[0m\u001b[1;32m    257\u001b[0m \u001b[0;34m\u001b[0m\u001b[0m\n\u001b[1;32m    258\u001b[0m     \u001b[0;32mdef\u001b[0m \u001b[0m__len__\u001b[0m\u001b[0;34m(\u001b[0m\u001b[0mself\u001b[0m\u001b[0;34m)\u001b[0m\u001b[0;34m:\u001b[0m\u001b[0;34m\u001b[0m\u001b[0;34m\u001b[0m\u001b[0m\n",
      "\u001b[0;32m/opt/conda/lib/python3.7/site-packages/sklearn/model_selection/_validation.py\u001b[0m in \u001b[0;36m_fit_and_score\u001b[0;34m(estimator, X, y, scorer, train, test, verbose, parameters, fit_params, return_train_score, return_parameters, return_n_test_samples, return_times, return_estimator, error_score)\u001b[0m\n\u001b[1;32m    506\u001b[0m     \u001b[0mstart_time\u001b[0m \u001b[0;34m=\u001b[0m \u001b[0mtime\u001b[0m\u001b[0;34m.\u001b[0m\u001b[0mtime\u001b[0m\u001b[0;34m(\u001b[0m\u001b[0;34m)\u001b[0m\u001b[0;34m\u001b[0m\u001b[0;34m\u001b[0m\u001b[0m\n\u001b[1;32m    507\u001b[0m \u001b[0;34m\u001b[0m\u001b[0m\n\u001b[0;32m--> 508\u001b[0;31m     \u001b[0mX_train\u001b[0m\u001b[0;34m,\u001b[0m \u001b[0my_train\u001b[0m \u001b[0;34m=\u001b[0m \u001b[0m_safe_split\u001b[0m\u001b[0;34m(\u001b[0m\u001b[0mestimator\u001b[0m\u001b[0;34m,\u001b[0m \u001b[0mX\u001b[0m\u001b[0;34m,\u001b[0m \u001b[0my\u001b[0m\u001b[0;34m,\u001b[0m \u001b[0mtrain\u001b[0m\u001b[0;34m)\u001b[0m\u001b[0;34m\u001b[0m\u001b[0;34m\u001b[0m\u001b[0m\n\u001b[0m\u001b[1;32m    509\u001b[0m     \u001b[0mX_test\u001b[0m\u001b[0;34m,\u001b[0m \u001b[0my_test\u001b[0m \u001b[0;34m=\u001b[0m \u001b[0m_safe_split\u001b[0m\u001b[0;34m(\u001b[0m\u001b[0mestimator\u001b[0m\u001b[0;34m,\u001b[0m \u001b[0mX\u001b[0m\u001b[0;34m,\u001b[0m \u001b[0my\u001b[0m\u001b[0;34m,\u001b[0m \u001b[0mtest\u001b[0m\u001b[0;34m,\u001b[0m \u001b[0mtrain\u001b[0m\u001b[0;34m)\u001b[0m\u001b[0;34m\u001b[0m\u001b[0;34m\u001b[0m\u001b[0m\n\u001b[1;32m    510\u001b[0m \u001b[0;34m\u001b[0m\u001b[0m\n",
      "\u001b[0;32m/opt/conda/lib/python3.7/site-packages/sklearn/utils/metaestimators.py\u001b[0m in \u001b[0;36m_safe_split\u001b[0;34m(estimator, X, y, indices, train_indices)\u001b[0m\n\u001b[1;32m    199\u001b[0m             \u001b[0mX_subset\u001b[0m \u001b[0;34m=\u001b[0m \u001b[0mX\u001b[0m\u001b[0;34m[\u001b[0m\u001b[0mnp\u001b[0m\u001b[0;34m.\u001b[0m\u001b[0mix_\u001b[0m\u001b[0;34m(\u001b[0m\u001b[0mindices\u001b[0m\u001b[0;34m,\u001b[0m \u001b[0mtrain_indices\u001b[0m\u001b[0;34m)\u001b[0m\u001b[0;34m]\u001b[0m\u001b[0;34m\u001b[0m\u001b[0;34m\u001b[0m\u001b[0m\n\u001b[1;32m    200\u001b[0m     \u001b[0;32melse\u001b[0m\u001b[0;34m:\u001b[0m\u001b[0;34m\u001b[0m\u001b[0;34m\u001b[0m\u001b[0m\n\u001b[0;32m--> 201\u001b[0;31m         \u001b[0mX_subset\u001b[0m \u001b[0;34m=\u001b[0m \u001b[0m_safe_indexing\u001b[0m\u001b[0;34m(\u001b[0m\u001b[0mX\u001b[0m\u001b[0;34m,\u001b[0m \u001b[0mindices\u001b[0m\u001b[0;34m)\u001b[0m\u001b[0;34m\u001b[0m\u001b[0;34m\u001b[0m\u001b[0m\n\u001b[0m\u001b[1;32m    202\u001b[0m \u001b[0;34m\u001b[0m\u001b[0m\n\u001b[1;32m    203\u001b[0m     \u001b[0;32mif\u001b[0m \u001b[0my\u001b[0m \u001b[0;32mis\u001b[0m \u001b[0;32mnot\u001b[0m \u001b[0;32mNone\u001b[0m\u001b[0;34m:\u001b[0m\u001b[0;34m\u001b[0m\u001b[0;34m\u001b[0m\u001b[0m\n",
      "\u001b[0;32m/opt/conda/lib/python3.7/site-packages/sklearn/utils/__init__.py\u001b[0m in \u001b[0;36m_safe_indexing\u001b[0;34m(X, indices, axis)\u001b[0m\n\u001b[1;32m    411\u001b[0m         \u001b[0;32mreturn\u001b[0m \u001b[0m_pandas_indexing\u001b[0m\u001b[0;34m(\u001b[0m\u001b[0mX\u001b[0m\u001b[0;34m,\u001b[0m \u001b[0mindices\u001b[0m\u001b[0;34m,\u001b[0m \u001b[0mindices_dtype\u001b[0m\u001b[0;34m,\u001b[0m \u001b[0maxis\u001b[0m\u001b[0;34m=\u001b[0m\u001b[0maxis\u001b[0m\u001b[0;34m)\u001b[0m\u001b[0;34m\u001b[0m\u001b[0;34m\u001b[0m\u001b[0m\n\u001b[1;32m    412\u001b[0m     \u001b[0;32melif\u001b[0m \u001b[0mhasattr\u001b[0m\u001b[0;34m(\u001b[0m\u001b[0mX\u001b[0m\u001b[0;34m,\u001b[0m \u001b[0;34m\"shape\"\u001b[0m\u001b[0;34m)\u001b[0m\u001b[0;34m:\u001b[0m\u001b[0;34m\u001b[0m\u001b[0;34m\u001b[0m\u001b[0m\n\u001b[0;32m--> 413\u001b[0;31m         \u001b[0;32mreturn\u001b[0m \u001b[0m_array_indexing\u001b[0m\u001b[0;34m(\u001b[0m\u001b[0mX\u001b[0m\u001b[0;34m,\u001b[0m \u001b[0mindices\u001b[0m\u001b[0;34m,\u001b[0m \u001b[0mindices_dtype\u001b[0m\u001b[0;34m,\u001b[0m \u001b[0maxis\u001b[0m\u001b[0;34m=\u001b[0m\u001b[0maxis\u001b[0m\u001b[0;34m)\u001b[0m\u001b[0;34m\u001b[0m\u001b[0;34m\u001b[0m\u001b[0m\n\u001b[0m\u001b[1;32m    414\u001b[0m     \u001b[0;32melse\u001b[0m\u001b[0;34m:\u001b[0m\u001b[0;34m\u001b[0m\u001b[0;34m\u001b[0m\u001b[0m\n\u001b[1;32m    415\u001b[0m         \u001b[0;32mreturn\u001b[0m \u001b[0m_list_indexing\u001b[0m\u001b[0;34m(\u001b[0m\u001b[0mX\u001b[0m\u001b[0;34m,\u001b[0m \u001b[0mindices\u001b[0m\u001b[0;34m,\u001b[0m \u001b[0mindices_dtype\u001b[0m\u001b[0;34m)\u001b[0m\u001b[0;34m\u001b[0m\u001b[0;34m\u001b[0m\u001b[0m\n",
      "\u001b[0;32m/opt/conda/lib/python3.7/site-packages/sklearn/utils/__init__.py\u001b[0m in \u001b[0;36m_array_indexing\u001b[0;34m(array, key, key_dtype, axis)\u001b[0m\n\u001b[1;32m    197\u001b[0m     \u001b[0;32mif\u001b[0m \u001b[0misinstance\u001b[0m\u001b[0;34m(\u001b[0m\u001b[0mkey\u001b[0m\u001b[0;34m,\u001b[0m \u001b[0mtuple\u001b[0m\u001b[0;34m)\u001b[0m\u001b[0;34m:\u001b[0m\u001b[0;34m\u001b[0m\u001b[0;34m\u001b[0m\u001b[0m\n\u001b[1;32m    198\u001b[0m         \u001b[0mkey\u001b[0m \u001b[0;34m=\u001b[0m \u001b[0mlist\u001b[0m\u001b[0;34m(\u001b[0m\u001b[0mkey\u001b[0m\u001b[0;34m)\u001b[0m\u001b[0;34m\u001b[0m\u001b[0;34m\u001b[0m\u001b[0m\n\u001b[0;32m--> 199\u001b[0;31m     \u001b[0;32mreturn\u001b[0m \u001b[0marray\u001b[0m\u001b[0;34m[\u001b[0m\u001b[0mkey\u001b[0m\u001b[0;34m]\u001b[0m \u001b[0;32mif\u001b[0m \u001b[0maxis\u001b[0m \u001b[0;34m==\u001b[0m \u001b[0;36m0\u001b[0m \u001b[0;32melse\u001b[0m \u001b[0marray\u001b[0m\u001b[0;34m[\u001b[0m\u001b[0;34m:\u001b[0m\u001b[0;34m,\u001b[0m \u001b[0mkey\u001b[0m\u001b[0;34m]\u001b[0m\u001b[0;34m\u001b[0m\u001b[0;34m\u001b[0m\u001b[0m\n\u001b[0m\u001b[1;32m    200\u001b[0m \u001b[0;34m\u001b[0m\u001b[0m\n\u001b[1;32m    201\u001b[0m \u001b[0;34m\u001b[0m\u001b[0m\n",
      "\u001b[0;31mKeyboardInterrupt\u001b[0m: "
     ]
    }
   ],
   "source": [
    "lr_gridsearch.fit(Xtr_tfidf_lem_none, y_train_us)\n",
    "\n",
    "print(\"best score:\", lr_gridsearch.best_score_)\n",
    "print(\"best parameters:\", lr_gridsearch.best_params_)\n",
    "\n",
    "best_lr_model = lr_gridsearch.best_estimator_"
   ]
  },
  {
   "cell_type": "code",
   "execution_count": null,
   "metadata": {},
   "outputs": [],
   "source": [
    "random_forest_grid = {'max_depth': [3, None],\n",
    "                      'max_features': ['sqrt', 'log2', None],\n",
    "                      'min_samples_split': [2, 4],\n",
    "                      'min_samples_leaf': [1, 2, 4],\n",
    "                      'bootstrap': [True, False],\n",
    "                      'n_estimators': [10, 20, 40, 80]}\n",
    "\n",
    "rf_gridsearch = GridSearchCV(RandomForestClassifier(),\n",
    "                             random_forest_grid,\n",
    "                             n_jobs=-1,\n",
    "                             verbose=True,\n",
    "                             scoring='accuracy')"
   ]
  },
  {
   "cell_type": "code",
   "execution_count": null,
   "metadata": {},
   "outputs": [],
   "source": [
    "rf_gridsearch.fit(Xtr_tfidf_lem_none, y_train_us)\n",
    "\n",
    "print(\"best score:\", rf_gridsearch.best_score_)\n",
    "print(\"best parameters:\", rf_gridsearch.best_params_)\n",
    "\n",
    "best_rf_model = rf_gridsearch.best_estimator_"
   ]
  },
  {
   "cell_type": "markdown",
   "metadata": {},
   "source": [
    "# Appendix"
   ]
  },
  {
   "cell_type": "code",
   "execution_count": 64,
   "metadata": {},
   "outputs": [
    {
     "ename": "AssertionError",
     "evalue": "",
     "output_type": "error",
     "traceback": [
      "\u001b[0;31m---------------------------------------------------------------------------\u001b[0m",
      "\u001b[0;31mAssertionError\u001b[0m                            Traceback (most recent call last)",
      "\u001b[0;32m<ipython-input-64-2f502d8ff0c4>\u001b[0m in \u001b[0;36m<module>\u001b[0;34m\u001b[0m\n\u001b[1;32m      1\u001b[0m \u001b[0;31m# don't go beyond here with Run All\u001b[0m\u001b[0;34m\u001b[0m\u001b[0;34m\u001b[0m\u001b[0;34m\u001b[0m\u001b[0m\n\u001b[0;32m----> 2\u001b[0;31m \u001b[0;32massert\u001b[0m \u001b[0;32mFalse\u001b[0m\u001b[0;34m\u001b[0m\u001b[0;34m\u001b[0m\u001b[0m\n\u001b[0m",
      "\u001b[0;31mAssertionError\u001b[0m: "
     ]
    }
   ],
   "source": [
    "# don't go beyond here with Run All\n",
    "assert False"
   ]
  },
  {
   "cell_type": "code",
   "execution_count": null,
   "metadata": {},
   "outputs": [],
   "source": [
    "# Plot distributions - Review length per sentiment\n",
    "df = df_all_hotels_cleaned\n",
    "\n",
    "fig, ax = plt.subplots(figsize=(8,8))\n",
    "# Plot per sentiment\n",
    "for sentiment in df['sentiment'].unique():\n",
    "    sns.distplot(df.groupby('sentiment').get_group(sentiment)['review_length'], ax=ax, label=sentiment)\n",
    "ax.legend()"
   ]
  },
  {
   "cell_type": "code",
   "execution_count": null,
   "metadata": {},
   "outputs": [],
   "source": [
    "# Plot distributions - Review length per city\n",
    "df = df_all_hotels_cleaned\n",
    "\n",
    "fig, ax = plt.subplots(figsize=(8,8))\n",
    "# Plot per city\n",
    "for city in df['City'].unique():\n",
    "    sns.distplot(df.groupby('City').get_group(city)['review_length'], ax=ax, label=city)\n",
    "ax.legend()"
   ]
  }
 ],
 "metadata": {
  "instance_type": "ml.m5.4xlarge",
  "kernelspec": {
   "display_name": "Python 3",
   "language": "python",
   "name": "python3"
  },
  "language_info": {
   "codemirror_mode": {
    "name": "ipython",
    "version": 3
   },
   "file_extension": ".py",
   "mimetype": "text/x-python",
   "name": "python",
   "nbconvert_exporter": "python",
   "pygments_lexer": "ipython3",
   "version": "3.7.4"
  }
 },
 "nbformat": 4,
 "nbformat_minor": 4
}
