{
 "cells": [
  {
   "cell_type": "code",
   "execution_count": 1,
   "metadata": {},
   "outputs": [],
   "source": [
    "%load_ext autoreload\n",
    "%autoreload 2\n",
    "import sys\n",
    "import os\n",
    "module_path = os.path.abspath(os.path.join('..'))\n",
    "if module_path not in sys.path:\n",
    "    sys.path.append(module_path+\"/src\")\n",
    "    \n",
    "import helpers as hlp"
   ]
  },
  {
   "cell_type": "code",
   "execution_count": 2,
   "metadata": {},
   "outputs": [],
   "source": [
    "import numpy as np\n",
    "import pandas as pd\n",
    "import matplotlib.pyplot as plt\n",
    "import seaborn as sns\n",
    "\n",
    "from sklearn.model_selection import train_test_split"
   ]
  },
  {
   "cell_type": "code",
   "execution_count": 3,
   "metadata": {},
   "outputs": [],
   "source": [
    "# Set plot sizes\n",
    "SMALL_SIZE = 22\n",
    "MEDIUM_SIZE = 24\n",
    "BIGGER_SIZE = 26\n",
    "BIGGEST_SIZE = 28\n",
    "\n",
    "plt.rc('font', size=SMALL_SIZE)          # controls default text sizes\n",
    "plt.rc('axes', titlesize=SMALL_SIZE)     # fontsize of the axes title\n",
    "plt.rc('axes', labelsize=MEDIUM_SIZE)    # fontsize of the x and y labels\n",
    "plt.rc('xtick', labelsize=SMALL_SIZE)    # fontsize of the tick labels\n",
    "plt.rc('ytick', labelsize=SMALL_SIZE)    # fontsize of the tick labels\n",
    "plt.rc('legend', fontsize=SMALL_SIZE)    # legend fontsize\n",
    "plt.rc('figure', titlesize=BIGGEST_SIZE)  # fontsize of the figure title"
   ]
  },
  {
   "cell_type": "markdown",
   "metadata": {},
   "source": [
    "# Load & Merge CSV Data"
   ]
  },
  {
   "cell_type": "code",
   "execution_count": 4,
   "metadata": {},
   "outputs": [
    {
     "name": "stdout",
     "output_type": "stream",
     "text": [
      "Folders: ['Tokyo-Kanto-pg1', 'Honolulu-Hawaii.pg1', 'Honolulu-Hawaii.pg4', 'Honolulu-Hawaii.pg3', 'Honolulu-Hawaii.pg2', 'New_York_City-New_York-pg1']\n"
     ]
    }
   ],
   "source": [
    "aws_data_dir = '../data/web_scraped/aws_final/'\n",
    "\n",
    "# Use helper function to load and merge CSVs from folders in above dir\n",
    "df_all_hotels = hlp.merge_csv_mult_dir(aws_data_dir)"
   ]
  },
  {
   "cell_type": "code",
   "execution_count": 5,
   "metadata": {},
   "outputs": [
    {
     "data": {
      "text/plain": [
       "(212155, 10)"
      ]
     },
     "execution_count": 5,
     "metadata": {},
     "output_type": "execute_result"
    }
   ],
   "source": [
    "df_all_hotels.shape"
   ]
  },
  {
   "cell_type": "code",
   "execution_count": 6,
   "metadata": {},
   "outputs": [
    {
     "data": {
      "text/html": [
       "<div>\n",
       "<style scoped>\n",
       "    .dataframe tbody tr th:only-of-type {\n",
       "        vertical-align: middle;\n",
       "    }\n",
       "\n",
       "    .dataframe tbody tr th {\n",
       "        vertical-align: top;\n",
       "    }\n",
       "\n",
       "    .dataframe thead th {\n",
       "        text-align: right;\n",
       "    }\n",
       "</style>\n",
       "<table border=\"1\" class=\"dataframe\">\n",
       "  <thead>\n",
       "    <tr style=\"text-align: right;\">\n",
       "      <th></th>\n",
       "      <th>review_id</th>\n",
       "      <th>url</th>\n",
       "      <th>hotel_name</th>\n",
       "      <th>review_date</th>\n",
       "      <th>review_body</th>\n",
       "      <th>user_location</th>\n",
       "      <th>helpful_vote</th>\n",
       "      <th>rating</th>\n",
       "      <th>csv</th>\n",
       "      <th>folder</th>\n",
       "    </tr>\n",
       "  </thead>\n",
       "  <tbody>\n",
       "    <tr>\n",
       "      <td>0</td>\n",
       "      <td>749389994</td>\n",
       "      <td>https://www.tripadvisor.com/Hotel_Review-g1412...</td>\n",
       "      <td>Aman Tokyo</td>\n",
       "      <td>March 5, 2020</td>\n",
       "      <td>Consistent service with my past Aman hotel exp...</td>\n",
       "      <td>Sunnyvale, California</td>\n",
       "      <td>4</td>\n",
       "      <td>5.0</td>\n",
       "      <td>Aman_Tokyo-Otemachi_Chiyoda_Tokyo_Tokyo_Prefec...</td>\n",
       "      <td>Tokyo-Kanto-pg1</td>\n",
       "    </tr>\n",
       "    <tr>\n",
       "      <td>1</td>\n",
       "      <td>749264661</td>\n",
       "      <td>https://www.tripadvisor.com/Hotel_Review-g1412...</td>\n",
       "      <td>Aman Tokyo</td>\n",
       "      <td>March 5, 2020</td>\n",
       "      <td>Stayed for 3 days and everything at Aman is pe...</td>\n",
       "      <td>Vancouver, Canada</td>\n",
       "      <td>6</td>\n",
       "      <td>5.0</td>\n",
       "      <td>Aman_Tokyo-Otemachi_Chiyoda_Tokyo_Tokyo_Prefec...</td>\n",
       "      <td>Tokyo-Kanto-pg1</td>\n",
       "    </tr>\n",
       "    <tr>\n",
       "      <td>2</td>\n",
       "      <td>746956250</td>\n",
       "      <td>https://www.tripadvisor.com/Hotel_Review-g1412...</td>\n",
       "      <td>Aman Tokyo</td>\n",
       "      <td>February 23, 2020</td>\n",
       "      <td>Although I live in Tokyo but I decided to take...</td>\n",
       "      <td>Tokyo, Japan</td>\n",
       "      <td>53</td>\n",
       "      <td>4.0</td>\n",
       "      <td>Aman_Tokyo-Otemachi_Chiyoda_Tokyo_Tokyo_Prefec...</td>\n",
       "      <td>Tokyo-Kanto-pg1</td>\n",
       "    </tr>\n",
       "    <tr>\n",
       "      <td>3</td>\n",
       "      <td>745398599</td>\n",
       "      <td>https://www.tripadvisor.com/Hotel_Review-g1412...</td>\n",
       "      <td>Aman Tokyo</td>\n",
       "      <td>February 16, 2020</td>\n",
       "      <td>An outstanding stay in a beautiful Aman in dow...</td>\n",
       "      <td>Singapore, Singapore</td>\n",
       "      <td>5</td>\n",
       "      <td>5.0</td>\n",
       "      <td>Aman_Tokyo-Otemachi_Chiyoda_Tokyo_Tokyo_Prefec...</td>\n",
       "      <td>Tokyo-Kanto-pg1</td>\n",
       "    </tr>\n",
       "    <tr>\n",
       "      <td>4</td>\n",
       "      <td>743365715</td>\n",
       "      <td>https://www.tripadvisor.com/Hotel_Review-g1412...</td>\n",
       "      <td>Aman Tokyo</td>\n",
       "      <td>February 6, 2020</td>\n",
       "      <td>Stayed here for 2 nights (second time after 3 ...</td>\n",
       "      <td>Singapore, Singapore</td>\n",
       "      <td>38</td>\n",
       "      <td>5.0</td>\n",
       "      <td>Aman_Tokyo-Otemachi_Chiyoda_Tokyo_Tokyo_Prefec...</td>\n",
       "      <td>Tokyo-Kanto-pg1</td>\n",
       "    </tr>\n",
       "  </tbody>\n",
       "</table>\n",
       "</div>"
      ],
      "text/plain": [
       "   review_id                                                url  hotel_name  \\\n",
       "0  749389994  https://www.tripadvisor.com/Hotel_Review-g1412...  Aman Tokyo   \n",
       "1  749264661  https://www.tripadvisor.com/Hotel_Review-g1412...  Aman Tokyo   \n",
       "2  746956250  https://www.tripadvisor.com/Hotel_Review-g1412...  Aman Tokyo   \n",
       "3  745398599  https://www.tripadvisor.com/Hotel_Review-g1412...  Aman Tokyo   \n",
       "4  743365715  https://www.tripadvisor.com/Hotel_Review-g1412...  Aman Tokyo   \n",
       "\n",
       "         review_date                                        review_body  \\\n",
       "0      March 5, 2020  Consistent service with my past Aman hotel exp...   \n",
       "1      March 5, 2020  Stayed for 3 days and everything at Aman is pe...   \n",
       "2  February 23, 2020  Although I live in Tokyo but I decided to take...   \n",
       "3  February 16, 2020  An outstanding stay in a beautiful Aman in dow...   \n",
       "4   February 6, 2020  Stayed here for 2 nights (second time after 3 ...   \n",
       "\n",
       "           user_location  helpful_vote  rating  \\\n",
       "0  Sunnyvale, California             4     5.0   \n",
       "1      Vancouver, Canada             6     5.0   \n",
       "2           Tokyo, Japan            53     4.0   \n",
       "3   Singapore, Singapore             5     5.0   \n",
       "4   Singapore, Singapore            38     5.0   \n",
       "\n",
       "                                                 csv           folder  \n",
       "0  Aman_Tokyo-Otemachi_Chiyoda_Tokyo_Tokyo_Prefec...  Tokyo-Kanto-pg1  \n",
       "1  Aman_Tokyo-Otemachi_Chiyoda_Tokyo_Tokyo_Prefec...  Tokyo-Kanto-pg1  \n",
       "2  Aman_Tokyo-Otemachi_Chiyoda_Tokyo_Tokyo_Prefec...  Tokyo-Kanto-pg1  \n",
       "3  Aman_Tokyo-Otemachi_Chiyoda_Tokyo_Tokyo_Prefec...  Tokyo-Kanto-pg1  \n",
       "4  Aman_Tokyo-Otemachi_Chiyoda_Tokyo_Tokyo_Prefec...  Tokyo-Kanto-pg1  "
      ]
     },
     "execution_count": 6,
     "metadata": {},
     "output_type": "execute_result"
    }
   ],
   "source": [
    "df_all_hotels.head()"
   ]
  },
  {
   "cell_type": "code",
   "execution_count": 7,
   "metadata": {},
   "outputs": [
    {
     "name": "stdout",
     "output_type": "stream",
     "text": [
      "<class 'pandas.core.frame.DataFrame'>\n",
      "RangeIndex: 212155 entries, 0 to 212154\n",
      "Data columns (total 10 columns):\n",
      "review_id        212155 non-null int64\n",
      "url              212155 non-null object\n",
      "hotel_name       212155 non-null object\n",
      "review_date      212155 non-null object\n",
      "review_body      212155 non-null object\n",
      "user_location    184157 non-null object\n",
      "helpful_vote     212155 non-null int64\n",
      "rating           212155 non-null float64\n",
      "csv              212155 non-null object\n",
      "folder           212155 non-null object\n",
      "dtypes: float64(1), int64(2), object(7)\n",
      "memory usage: 16.2+ MB\n"
     ]
    }
   ],
   "source": [
    "df_all_hotels.info()"
   ]
  },
  {
   "cell_type": "code",
   "execution_count": 8,
   "metadata": {},
   "outputs": [
    {
     "data": {
      "text/html": [
       "<div>\n",
       "<style scoped>\n",
       "    .dataframe tbody tr th:only-of-type {\n",
       "        vertical-align: middle;\n",
       "    }\n",
       "\n",
       "    .dataframe tbody tr th {\n",
       "        vertical-align: top;\n",
       "    }\n",
       "\n",
       "    .dataframe thead th {\n",
       "        text-align: right;\n",
       "    }\n",
       "</style>\n",
       "<table border=\"1\" class=\"dataframe\">\n",
       "  <thead>\n",
       "    <tr style=\"text-align: right;\">\n",
       "      <th></th>\n",
       "      <th>Total</th>\n",
       "      <th>Percent</th>\n",
       "      <th>Type</th>\n",
       "    </tr>\n",
       "  </thead>\n",
       "  <tbody>\n",
       "    <tr>\n",
       "      <td>user_location</td>\n",
       "      <td>27998</td>\n",
       "      <td>0.13197</td>\n",
       "      <td>object</td>\n",
       "    </tr>\n",
       "    <tr>\n",
       "      <td>folder</td>\n",
       "      <td>0</td>\n",
       "      <td>0.00000</td>\n",
       "      <td>object</td>\n",
       "    </tr>\n",
       "    <tr>\n",
       "      <td>csv</td>\n",
       "      <td>0</td>\n",
       "      <td>0.00000</td>\n",
       "      <td>object</td>\n",
       "    </tr>\n",
       "    <tr>\n",
       "      <td>rating</td>\n",
       "      <td>0</td>\n",
       "      <td>0.00000</td>\n",
       "      <td>float64</td>\n",
       "    </tr>\n",
       "    <tr>\n",
       "      <td>helpful_vote</td>\n",
       "      <td>0</td>\n",
       "      <td>0.00000</td>\n",
       "      <td>int64</td>\n",
       "    </tr>\n",
       "    <tr>\n",
       "      <td>review_body</td>\n",
       "      <td>0</td>\n",
       "      <td>0.00000</td>\n",
       "      <td>object</td>\n",
       "    </tr>\n",
       "    <tr>\n",
       "      <td>review_date</td>\n",
       "      <td>0</td>\n",
       "      <td>0.00000</td>\n",
       "      <td>object</td>\n",
       "    </tr>\n",
       "    <tr>\n",
       "      <td>hotel_name</td>\n",
       "      <td>0</td>\n",
       "      <td>0.00000</td>\n",
       "      <td>object</td>\n",
       "    </tr>\n",
       "    <tr>\n",
       "      <td>url</td>\n",
       "      <td>0</td>\n",
       "      <td>0.00000</td>\n",
       "      <td>object</td>\n",
       "    </tr>\n",
       "    <tr>\n",
       "      <td>review_id</td>\n",
       "      <td>0</td>\n",
       "      <td>0.00000</td>\n",
       "      <td>int64</td>\n",
       "    </tr>\n",
       "  </tbody>\n",
       "</table>\n",
       "</div>"
      ],
      "text/plain": [
       "               Total  Percent     Type\n",
       "user_location  27998  0.13197   object\n",
       "folder             0  0.00000   object\n",
       "csv                0  0.00000   object\n",
       "rating             0  0.00000  float64\n",
       "helpful_vote       0  0.00000    int64\n",
       "review_body        0  0.00000   object\n",
       "review_date        0  0.00000   object\n",
       "hotel_name         0  0.00000   object\n",
       "url                0  0.00000   object\n",
       "review_id          0  0.00000    int64"
      ]
     },
     "execution_count": 8,
     "metadata": {},
     "output_type": "execute_result"
    }
   ],
   "source": [
    "# Get count, pct, and type of missing data (per column)\n",
    "hlp.get_nulls(df_all_hotels)"
   ]
  },
  {
   "cell_type": "markdown",
   "metadata": {},
   "source": [
    "# Clean & Prep Data"
   ]
  },
  {
   "cell_type": "code",
   "execution_count": 9,
   "metadata": {},
   "outputs": [
    {
     "name": "stdout",
     "output_type": "stream",
     "text": [
      "<class 'pandas.core.frame.DataFrame'>\n",
      "RangeIndex: 212155 entries, 0 to 212154\n",
      "Data columns (total 14 columns):\n",
      "review_id        212155 non-null int64\n",
      "url              212155 non-null object\n",
      "hotel_name       212155 non-null object\n",
      "review_date      212155 non-null object\n",
      "review_body      212155 non-null object\n",
      "user_location    212155 non-null object\n",
      "helpful_vote     212155 non-null int64\n",
      "rating           212155 non-null float64\n",
      "csv              212155 non-null object\n",
      "folder           212155 non-null object\n",
      "City             212155 non-null object\n",
      "polarity         212155 non-null float64\n",
      "sentiment_int    212155 non-null int64\n",
      "sentiment        212155 non-null object\n",
      "dtypes: float64(2), int64(3), object(9)\n",
      "memory usage: 22.7+ MB\n"
     ]
    }
   ],
   "source": [
    "df_all_hotels_cleaned = df_all_hotels.copy()\n",
    "\n",
    "# Use helper function to do clean & prep\n",
    "df_all_hotels_cleaned = hlp.clean_and_prep(df_all_hotels_cleaned)\n",
    "\n",
    "df_all_hotels_cleaned.info()"
   ]
  },
  {
   "cell_type": "markdown",
   "metadata": {},
   "source": [
    "# EDA"
   ]
  },
  {
   "cell_type": "code",
   "execution_count": 10,
   "metadata": {},
   "outputs": [
    {
     "data": {
      "text/html": [
       "<div>\n",
       "<style scoped>\n",
       "    .dataframe tbody tr th:only-of-type {\n",
       "        vertical-align: middle;\n",
       "    }\n",
       "\n",
       "    .dataframe tbody tr th {\n",
       "        vertical-align: top;\n",
       "    }\n",
       "\n",
       "    .dataframe thead th {\n",
       "        text-align: right;\n",
       "    }\n",
       "</style>\n",
       "<table border=\"1\" class=\"dataframe\">\n",
       "  <thead>\n",
       "    <tr style=\"text-align: right;\">\n",
       "      <th></th>\n",
       "      <th>review_id</th>\n",
       "      <th>url</th>\n",
       "      <th>hotel_name</th>\n",
       "      <th>review_date</th>\n",
       "      <th>review_body</th>\n",
       "      <th>user_location</th>\n",
       "      <th>helpful_vote</th>\n",
       "      <th>rating</th>\n",
       "      <th>csv</th>\n",
       "      <th>folder</th>\n",
       "      <th>City</th>\n",
       "      <th>polarity</th>\n",
       "      <th>sentiment_int</th>\n",
       "      <th>sentiment</th>\n",
       "    </tr>\n",
       "  </thead>\n",
       "  <tbody>\n",
       "    <tr>\n",
       "      <td>107433</td>\n",
       "      <td>224697248</td>\n",
       "      <td>https://www.tripadvisor.com/Hotel_Review-g6098...</td>\n",
       "      <td>Hyatt Regency Waikiki Beach Resort &amp; Spa</td>\n",
       "      <td>August 26, 2014</td>\n",
       "      <td>I had requested an upgrade a few days prior to...</td>\n",
       "      <td>Phoenix, Arizona</td>\n",
       "      <td>0</td>\n",
       "      <td>3.0</td>\n",
       "      <td>Hyatt_Regency_Waikiki_Beach_Resort_Spa-Honolul...</td>\n",
       "      <td>Honolulu-Hawaii.pg3</td>\n",
       "      <td>Honolulu</td>\n",
       "      <td>0.5</td>\n",
       "      <td>1</td>\n",
       "      <td>neutral</td>\n",
       "    </tr>\n",
       "    <tr>\n",
       "      <td>144648</td>\n",
       "      <td>47492067</td>\n",
       "      <td>https://www.tripadvisor.com/Hotel_Review-g6098...</td>\n",
       "      <td>Pearl Hotel Waikiki</td>\n",
       "      <td>October 22, 2009</td>\n",
       "      <td>Aqua Pearl is located in a central location in...</td>\n",
       "      <td>Richmond Hill, Canada</td>\n",
       "      <td>53</td>\n",
       "      <td>3.0</td>\n",
       "      <td>Pearl_Hotel_Waikiki-Honolulu_Oahu_Hawaii__en.csv</td>\n",
       "      <td>Honolulu-Hawaii.pg2</td>\n",
       "      <td>Honolulu</td>\n",
       "      <td>0.5</td>\n",
       "      <td>1</td>\n",
       "      <td>neutral</td>\n",
       "    </tr>\n",
       "    <tr>\n",
       "      <td>143305</td>\n",
       "      <td>135563089</td>\n",
       "      <td>https://www.tripadvisor.com/Hotel_Review-g6098...</td>\n",
       "      <td>Hyatt Place Waikiki Beach</td>\n",
       "      <td>July 27, 2012</td>\n",
       "      <td>Our behalf of my family I am writing this revi...</td>\n",
       "      <td>Honolulu</td>\n",
       "      <td>20</td>\n",
       "      <td>5.0</td>\n",
       "      <td>Hyatt_Place_Waikiki_Beach-Honolulu_Oahu_Hawaii...</td>\n",
       "      <td>Honolulu-Hawaii.pg2</td>\n",
       "      <td>Honolulu</td>\n",
       "      <td>1.0</td>\n",
       "      <td>2</td>\n",
       "      <td>positive</td>\n",
       "    </tr>\n",
       "    <tr>\n",
       "      <td>35993</td>\n",
       "      <td>5481407</td>\n",
       "      <td>https://www.tripadvisor.ca/Hotel_Review-g60982...</td>\n",
       "      <td>Hilton Hawaiian Village Waikiki Beach Resort</td>\n",
       "      <td>July 17, 2006</td>\n",
       "      <td>We've loved Hawaii since my husband and I hone...</td>\n",
       "      <td>New York</td>\n",
       "      <td>8</td>\n",
       "      <td>2.0</td>\n",
       "      <td>Hilton_Hawaiian_Village_Waikiki_Beach_Resort-H...</td>\n",
       "      <td>Honolulu-Hawaii.pg1</td>\n",
       "      <td>Honolulu</td>\n",
       "      <td>0.0</td>\n",
       "      <td>0</td>\n",
       "      <td>negative</td>\n",
       "    </tr>\n",
       "    <tr>\n",
       "      <td>26363</td>\n",
       "      <td>385418393</td>\n",
       "      <td>https://www.tripadvisor.ca/Hotel_Review-g60982...</td>\n",
       "      <td>Hilton Hawaiian Village Waikiki Beach Resort</td>\n",
       "      <td>June 23, 2016</td>\n",
       "      <td>This hotel is good over all. I do think its ma...</td>\n",
       "      <td>Los Angeles, California</td>\n",
       "      <td>2</td>\n",
       "      <td>4.0</td>\n",
       "      <td>Hilton_Hawaiian_Village_Waikiki_Beach_Resort-H...</td>\n",
       "      <td>Honolulu-Hawaii.pg1</td>\n",
       "      <td>Honolulu</td>\n",
       "      <td>1.0</td>\n",
       "      <td>2</td>\n",
       "      <td>positive</td>\n",
       "    </tr>\n",
       "    <tr>\n",
       "      <td>194421</td>\n",
       "      <td>488559414</td>\n",
       "      <td>https://www.tripadvisor.com/Hotel_Review-g6076...</td>\n",
       "      <td>Hampton Inn Manhattan/Times Square South</td>\n",
       "      <td>May 28, 2017</td>\n",
       "      <td>Great location. Easy to get to everything. Lon...</td>\n",
       "      <td>Pembroke Pines, Florida</td>\n",
       "      <td>3</td>\n",
       "      <td>5.0</td>\n",
       "      <td>Hampton_Inn_Manhattan_Times_Square_South-New_Y...</td>\n",
       "      <td>New_York_City-New_York-pg1</td>\n",
       "      <td>New_York_City</td>\n",
       "      <td>1.0</td>\n",
       "      <td>2</td>\n",
       "      <td>positive</td>\n",
       "    </tr>\n",
       "    <tr>\n",
       "      <td>133833</td>\n",
       "      <td>133844150</td>\n",
       "      <td>https://www.tripadvisor.com/Hotel_Review-g6098...</td>\n",
       "      <td>Sheraton Waikiki</td>\n",
       "      <td>July 9, 2012</td>\n",
       "      <td>We only had the opportunity to stay here for o...</td>\n",
       "      <td>n/a</td>\n",
       "      <td>0</td>\n",
       "      <td>5.0</td>\n",
       "      <td>Sheraton_Waikiki-Honolulu_Oahu_Hawaii__en.csv</td>\n",
       "      <td>Honolulu-Hawaii.pg2</td>\n",
       "      <td>Honolulu</td>\n",
       "      <td>1.0</td>\n",
       "      <td>2</td>\n",
       "      <td>positive</td>\n",
       "    </tr>\n",
       "    <tr>\n",
       "      <td>184747</td>\n",
       "      <td>368822506</td>\n",
       "      <td>https://www.tripadvisor.com/Hotel_Review-g6076...</td>\n",
       "      <td>Hudson New York</td>\n",
       "      <td>April 29, 2016</td>\n",
       "      <td>When I entered my room, I immediately went to ...</td>\n",
       "      <td>Methuen</td>\n",
       "      <td>0</td>\n",
       "      <td>2.0</td>\n",
       "      <td>Hudson_New_York-New_York_City_New_York__en.csv</td>\n",
       "      <td>New_York_City-New_York-pg1</td>\n",
       "      <td>New_York_City</td>\n",
       "      <td>0.0</td>\n",
       "      <td>0</td>\n",
       "      <td>negative</td>\n",
       "    </tr>\n",
       "    <tr>\n",
       "      <td>86682</td>\n",
       "      <td>258481208</td>\n",
       "      <td>https://www.tripadvisor.com/Hotel_Review-g6098...</td>\n",
       "      <td>Moana Surfrider, A Westin Resort &amp; Spa, Waikik...</td>\n",
       "      <td>March 8, 2015</td>\n",
       "      <td>My Hubby and I just stayed at this property th...</td>\n",
       "      <td>Great Falls, Montana</td>\n",
       "      <td>30</td>\n",
       "      <td>3.0</td>\n",
       "      <td>Moana_Surfrider_A_Westin_Resort_Spa_Waikiki_Be...</td>\n",
       "      <td>Honolulu-Hawaii.pg3</td>\n",
       "      <td>Honolulu</td>\n",
       "      <td>0.5</td>\n",
       "      <td>1</td>\n",
       "      <td>neutral</td>\n",
       "    </tr>\n",
       "    <tr>\n",
       "      <td>42173</td>\n",
       "      <td>129341946</td>\n",
       "      <td>https://www.tripadvisor.com/Hotel_Review-g6098...</td>\n",
       "      <td>Aston Waikiki Beach Hotel</td>\n",
       "      <td>May 4, 2012</td>\n",
       "      <td>I loved staying here. As it was our first trip...</td>\n",
       "      <td>n/a</td>\n",
       "      <td>14</td>\n",
       "      <td>5.0</td>\n",
       "      <td>Aston_Waikiki_Beach_Hotel-Honolulu_Oahu_Hawaii...</td>\n",
       "      <td>Honolulu-Hawaii.pg1</td>\n",
       "      <td>Honolulu</td>\n",
       "      <td>1.0</td>\n",
       "      <td>2</td>\n",
       "      <td>positive</td>\n",
       "    </tr>\n",
       "    <tr>\n",
       "      <td>35503</td>\n",
       "      <td>20884885</td>\n",
       "      <td>https://www.tripadvisor.ca/Hotel_Review-g60982...</td>\n",
       "      <td>Hilton Hawaiian Village Waikiki Beach Resort</td>\n",
       "      <td>October 14, 2008</td>\n",
       "      <td>We stayed at this hotel for 3 days at the begi...</td>\n",
       "      <td>London, United Kingdom</td>\n",
       "      <td>94</td>\n",
       "      <td>1.0</td>\n",
       "      <td>Hilton_Hawaiian_Village_Waikiki_Beach_Resort-H...</td>\n",
       "      <td>Honolulu-Hawaii.pg1</td>\n",
       "      <td>Honolulu</td>\n",
       "      <td>0.0</td>\n",
       "      <td>0</td>\n",
       "      <td>negative</td>\n",
       "    </tr>\n",
       "    <tr>\n",
       "      <td>31626</td>\n",
       "      <td>181999368</td>\n",
       "      <td>https://www.tripadvisor.ca/Hotel_Review-g60982...</td>\n",
       "      <td>Hilton Hawaiian Village Waikiki Beach Resort</td>\n",
       "      <td>October 22, 2013</td>\n",
       "      <td>We booked here with some trepidation. The idea...</td>\n",
       "      <td>Berkeley, ca</td>\n",
       "      <td>21</td>\n",
       "      <td>4.0</td>\n",
       "      <td>Hilton_Hawaiian_Village_Waikiki_Beach_Resort-H...</td>\n",
       "      <td>Honolulu-Hawaii.pg1</td>\n",
       "      <td>Honolulu</td>\n",
       "      <td>1.0</td>\n",
       "      <td>2</td>\n",
       "      <td>positive</td>\n",
       "    </tr>\n",
       "    <tr>\n",
       "      <td>119185</td>\n",
       "      <td>220097794</td>\n",
       "      <td>https://www.tripadvisor.com/Hotel_Review-g6098...</td>\n",
       "      <td>Aqua Oasis</td>\n",
       "      <td>August 6, 2014</td>\n",
       "      <td>We stayed there for a night after a wedding in...</td>\n",
       "      <td>Whistler, Canada</td>\n",
       "      <td>12</td>\n",
       "      <td>4.0</td>\n",
       "      <td>Aqua_Oasis-Honolulu_Oahu_Hawaii__en.csv</td>\n",
       "      <td>Honolulu-Hawaii.pg2</td>\n",
       "      <td>Honolulu</td>\n",
       "      <td>1.0</td>\n",
       "      <td>2</td>\n",
       "      <td>positive</td>\n",
       "    </tr>\n",
       "    <tr>\n",
       "      <td>84763</td>\n",
       "      <td>589298596</td>\n",
       "      <td>https://www.tripadvisor.com/Hotel_Review-g6098...</td>\n",
       "      <td>Moana Surfrider, A Westin Resort &amp; Spa, Waikik...</td>\n",
       "      <td>June 20, 2018</td>\n",
       "      <td>We stayed for a week at this beautiful Histori...</td>\n",
       "      <td>Wildomar, California</td>\n",
       "      <td>4</td>\n",
       "      <td>5.0</td>\n",
       "      <td>Moana_Surfrider_A_Westin_Resort_Spa_Waikiki_Be...</td>\n",
       "      <td>Honolulu-Hawaii.pg3</td>\n",
       "      <td>Honolulu</td>\n",
       "      <td>1.0</td>\n",
       "      <td>2</td>\n",
       "      <td>positive</td>\n",
       "    </tr>\n",
       "    <tr>\n",
       "      <td>103215</td>\n",
       "      <td>587229320</td>\n",
       "      <td>https://www.tripadvisor.com/Hotel_Review-g6098...</td>\n",
       "      <td>Hilton Garden Inn Waikiki Beach</td>\n",
       "      <td>June 13, 2018</td>\n",
       "      <td>All I have to say is that Hilton Garden Inn wa...</td>\n",
       "      <td>North Carolina</td>\n",
       "      <td>0</td>\n",
       "      <td>5.0</td>\n",
       "      <td>Hilton_Garden_Inn_Waikiki_Beach-Honolulu_Oahu_...</td>\n",
       "      <td>Honolulu-Hawaii.pg3</td>\n",
       "      <td>Honolulu</td>\n",
       "      <td>1.0</td>\n",
       "      <td>2</td>\n",
       "      <td>positive</td>\n",
       "    </tr>\n",
       "  </tbody>\n",
       "</table>\n",
       "</div>"
      ],
      "text/plain": [
       "        review_id                                                url  \\\n",
       "107433  224697248  https://www.tripadvisor.com/Hotel_Review-g6098...   \n",
       "144648   47492067  https://www.tripadvisor.com/Hotel_Review-g6098...   \n",
       "143305  135563089  https://www.tripadvisor.com/Hotel_Review-g6098...   \n",
       "35993     5481407  https://www.tripadvisor.ca/Hotel_Review-g60982...   \n",
       "26363   385418393  https://www.tripadvisor.ca/Hotel_Review-g60982...   \n",
       "194421  488559414  https://www.tripadvisor.com/Hotel_Review-g6076...   \n",
       "133833  133844150  https://www.tripadvisor.com/Hotel_Review-g6098...   \n",
       "184747  368822506  https://www.tripadvisor.com/Hotel_Review-g6076...   \n",
       "86682   258481208  https://www.tripadvisor.com/Hotel_Review-g6098...   \n",
       "42173   129341946  https://www.tripadvisor.com/Hotel_Review-g6098...   \n",
       "35503    20884885  https://www.tripadvisor.ca/Hotel_Review-g60982...   \n",
       "31626   181999368  https://www.tripadvisor.ca/Hotel_Review-g60982...   \n",
       "119185  220097794  https://www.tripadvisor.com/Hotel_Review-g6098...   \n",
       "84763   589298596  https://www.tripadvisor.com/Hotel_Review-g6098...   \n",
       "103215  587229320  https://www.tripadvisor.com/Hotel_Review-g6098...   \n",
       "\n",
       "                                               hotel_name       review_date  \\\n",
       "107433           Hyatt Regency Waikiki Beach Resort & Spa   August 26, 2014   \n",
       "144648                                Pearl Hotel Waikiki  October 22, 2009   \n",
       "143305                          Hyatt Place Waikiki Beach     July 27, 2012   \n",
       "35993        Hilton Hawaiian Village Waikiki Beach Resort     July 17, 2006   \n",
       "26363        Hilton Hawaiian Village Waikiki Beach Resort     June 23, 2016   \n",
       "194421           Hampton Inn Manhattan/Times Square South      May 28, 2017   \n",
       "133833                                   Sheraton Waikiki      July 9, 2012   \n",
       "184747                                    Hudson New York    April 29, 2016   \n",
       "86682   Moana Surfrider, A Westin Resort & Spa, Waikik...     March 8, 2015   \n",
       "42173                           Aston Waikiki Beach Hotel       May 4, 2012   \n",
       "35503        Hilton Hawaiian Village Waikiki Beach Resort  October 14, 2008   \n",
       "31626        Hilton Hawaiian Village Waikiki Beach Resort  October 22, 2013   \n",
       "119185                                         Aqua Oasis    August 6, 2014   \n",
       "84763   Moana Surfrider, A Westin Resort & Spa, Waikik...     June 20, 2018   \n",
       "103215                    Hilton Garden Inn Waikiki Beach     June 13, 2018   \n",
       "\n",
       "                                              review_body  \\\n",
       "107433  I had requested an upgrade a few days prior to...   \n",
       "144648  Aqua Pearl is located in a central location in...   \n",
       "143305  Our behalf of my family I am writing this revi...   \n",
       "35993   We've loved Hawaii since my husband and I hone...   \n",
       "26363   This hotel is good over all. I do think its ma...   \n",
       "194421  Great location. Easy to get to everything. Lon...   \n",
       "133833  We only had the opportunity to stay here for o...   \n",
       "184747  When I entered my room, I immediately went to ...   \n",
       "86682   My Hubby and I just stayed at this property th...   \n",
       "42173   I loved staying here. As it was our first trip...   \n",
       "35503   We stayed at this hotel for 3 days at the begi...   \n",
       "31626   We booked here with some trepidation. The idea...   \n",
       "119185  We stayed there for a night after a wedding in...   \n",
       "84763   We stayed for a week at this beautiful Histori...   \n",
       "103215  All I have to say is that Hilton Garden Inn wa...   \n",
       "\n",
       "                  user_location  helpful_vote  rating  \\\n",
       "107433         Phoenix, Arizona             0     3.0   \n",
       "144648    Richmond Hill, Canada            53     3.0   \n",
       "143305                 Honolulu            20     5.0   \n",
       "35993                  New York             8     2.0   \n",
       "26363   Los Angeles, California             2     4.0   \n",
       "194421  Pembroke Pines, Florida             3     5.0   \n",
       "133833                      n/a             0     5.0   \n",
       "184747                  Methuen             0     2.0   \n",
       "86682      Great Falls, Montana            30     3.0   \n",
       "42173                       n/a            14     5.0   \n",
       "35503    London, United Kingdom            94     1.0   \n",
       "31626              Berkeley, ca            21     4.0   \n",
       "119185         Whistler, Canada            12     4.0   \n",
       "84763      Wildomar, California             4     5.0   \n",
       "103215           North Carolina             0     5.0   \n",
       "\n",
       "                                                      csv  \\\n",
       "107433  Hyatt_Regency_Waikiki_Beach_Resort_Spa-Honolul...   \n",
       "144648   Pearl_Hotel_Waikiki-Honolulu_Oahu_Hawaii__en.csv   \n",
       "143305  Hyatt_Place_Waikiki_Beach-Honolulu_Oahu_Hawaii...   \n",
       "35993   Hilton_Hawaiian_Village_Waikiki_Beach_Resort-H...   \n",
       "26363   Hilton_Hawaiian_Village_Waikiki_Beach_Resort-H...   \n",
       "194421  Hampton_Inn_Manhattan_Times_Square_South-New_Y...   \n",
       "133833      Sheraton_Waikiki-Honolulu_Oahu_Hawaii__en.csv   \n",
       "184747     Hudson_New_York-New_York_City_New_York__en.csv   \n",
       "86682   Moana_Surfrider_A_Westin_Resort_Spa_Waikiki_Be...   \n",
       "42173   Aston_Waikiki_Beach_Hotel-Honolulu_Oahu_Hawaii...   \n",
       "35503   Hilton_Hawaiian_Village_Waikiki_Beach_Resort-H...   \n",
       "31626   Hilton_Hawaiian_Village_Waikiki_Beach_Resort-H...   \n",
       "119185            Aqua_Oasis-Honolulu_Oahu_Hawaii__en.csv   \n",
       "84763   Moana_Surfrider_A_Westin_Resort_Spa_Waikiki_Be...   \n",
       "103215  Hilton_Garden_Inn_Waikiki_Beach-Honolulu_Oahu_...   \n",
       "\n",
       "                            folder           City  polarity  sentiment_int  \\\n",
       "107433         Honolulu-Hawaii.pg3       Honolulu       0.5              1   \n",
       "144648         Honolulu-Hawaii.pg2       Honolulu       0.5              1   \n",
       "143305         Honolulu-Hawaii.pg2       Honolulu       1.0              2   \n",
       "35993          Honolulu-Hawaii.pg1       Honolulu       0.0              0   \n",
       "26363          Honolulu-Hawaii.pg1       Honolulu       1.0              2   \n",
       "194421  New_York_City-New_York-pg1  New_York_City       1.0              2   \n",
       "133833         Honolulu-Hawaii.pg2       Honolulu       1.0              2   \n",
       "184747  New_York_City-New_York-pg1  New_York_City       0.0              0   \n",
       "86682          Honolulu-Hawaii.pg3       Honolulu       0.5              1   \n",
       "42173          Honolulu-Hawaii.pg1       Honolulu       1.0              2   \n",
       "35503          Honolulu-Hawaii.pg1       Honolulu       0.0              0   \n",
       "31626          Honolulu-Hawaii.pg1       Honolulu       1.0              2   \n",
       "119185         Honolulu-Hawaii.pg2       Honolulu       1.0              2   \n",
       "84763          Honolulu-Hawaii.pg3       Honolulu       1.0              2   \n",
       "103215         Honolulu-Hawaii.pg3       Honolulu       1.0              2   \n",
       "\n",
       "       sentiment  \n",
       "107433   neutral  \n",
       "144648   neutral  \n",
       "143305  positive  \n",
       "35993   negative  \n",
       "26363   positive  \n",
       "194421  positive  \n",
       "133833  positive  \n",
       "184747  negative  \n",
       "86682    neutral  \n",
       "42173   positive  \n",
       "35503   negative  \n",
       "31626   positive  \n",
       "119185  positive  \n",
       "84763   positive  \n",
       "103215  positive  "
      ]
     },
     "execution_count": 10,
     "metadata": {},
     "output_type": "execute_result"
    }
   ],
   "source": [
    "df_all_hotels_cleaned.sample(15)"
   ]
  },
  {
   "cell_type": "code",
   "execution_count": 11,
   "metadata": {
    "scrolled": false
   },
   "outputs": [
    {
     "name": "stdout",
     "output_type": "stream",
     "text": [
      "Count of Unique Values per Column:\n",
      "\n",
      "review_id: 212155\n",
      "url: 42484\n",
      "hotel_name: 149\n",
      "review_date: 6248\n",
      "review_body: 212124\n",
      "user_location: 27830\n",
      "helpful_vote: 799\n",
      "rating: 5\n",
      "csv: 149\n",
      "folder: 6\n",
      "City: 3\n",
      "polarity: 3\n",
      "sentiment_int: 3\n",
      "sentiment: 3\n"
     ]
    }
   ],
   "source": [
    "# Print how many unique values each column has\n",
    "hlp.print_unique_ct(df_all_hotels_cleaned)"
   ]
  },
  {
   "cell_type": "code",
   "execution_count": 12,
   "metadata": {
    "scrolled": false
   },
   "outputs": [
    {
     "data": {
      "text/html": [
       "<div>\n",
       "<style scoped>\n",
       "    .dataframe tbody tr th:only-of-type {\n",
       "        vertical-align: middle;\n",
       "    }\n",
       "\n",
       "    .dataframe tbody tr th {\n",
       "        vertical-align: top;\n",
       "    }\n",
       "\n",
       "    .dataframe thead th {\n",
       "        text-align: right;\n",
       "    }\n",
       "</style>\n",
       "<table border=\"1\" class=\"dataframe\">\n",
       "  <thead>\n",
       "    <tr style=\"text-align: right;\">\n",
       "      <th></th>\n",
       "      <th>review_id</th>\n",
       "      <th>helpful_vote</th>\n",
       "      <th>rating</th>\n",
       "      <th>polarity</th>\n",
       "      <th>sentiment_int</th>\n",
       "    </tr>\n",
       "  </thead>\n",
       "  <tbody>\n",
       "    <tr>\n",
       "      <td>count</td>\n",
       "      <td>2.121550e+05</td>\n",
       "      <td>212155.000000</td>\n",
       "      <td>212155.000000</td>\n",
       "      <td>212155.000000</td>\n",
       "      <td>212155.000000</td>\n",
       "    </tr>\n",
       "    <tr>\n",
       "      <td>mean</td>\n",
       "      <td>3.485569e+08</td>\n",
       "      <td>30.036360</td>\n",
       "      <td>4.104650</td>\n",
       "      <td>0.837633</td>\n",
       "      <td>1.675266</td>\n",
       "    </tr>\n",
       "    <tr>\n",
       "      <td>std</td>\n",
       "      <td>2.108024e+08</td>\n",
       "      <td>192.647358</td>\n",
       "      <td>1.094571</td>\n",
       "      <td>0.321905</td>\n",
       "      <td>0.643809</td>\n",
       "    </tr>\n",
       "    <tr>\n",
       "      <td>min</td>\n",
       "      <td>2.824200e+05</td>\n",
       "      <td>0.000000</td>\n",
       "      <td>1.000000</td>\n",
       "      <td>0.000000</td>\n",
       "      <td>0.000000</td>\n",
       "    </tr>\n",
       "    <tr>\n",
       "      <td>25%</td>\n",
       "      <td>1.655966e+08</td>\n",
       "      <td>2.000000</td>\n",
       "      <td>4.000000</td>\n",
       "      <td>1.000000</td>\n",
       "      <td>2.000000</td>\n",
       "    </tr>\n",
       "    <tr>\n",
       "      <td>50%</td>\n",
       "      <td>3.260000e+08</td>\n",
       "      <td>9.000000</td>\n",
       "      <td>4.000000</td>\n",
       "      <td>1.000000</td>\n",
       "      <td>2.000000</td>\n",
       "    </tr>\n",
       "    <tr>\n",
       "      <td>75%</td>\n",
       "      <td>5.286325e+08</td>\n",
       "      <td>29.000000</td>\n",
       "      <td>5.000000</td>\n",
       "      <td>1.000000</td>\n",
       "      <td>2.000000</td>\n",
       "    </tr>\n",
       "    <tr>\n",
       "      <td>max</td>\n",
       "      <td>7.534573e+08</td>\n",
       "      <td>34443.000000</td>\n",
       "      <td>5.000000</td>\n",
       "      <td>1.000000</td>\n",
       "      <td>2.000000</td>\n",
       "    </tr>\n",
       "  </tbody>\n",
       "</table>\n",
       "</div>"
      ],
      "text/plain": [
       "          review_id   helpful_vote         rating       polarity  \\\n",
       "count  2.121550e+05  212155.000000  212155.000000  212155.000000   \n",
       "mean   3.485569e+08      30.036360       4.104650       0.837633   \n",
       "std    2.108024e+08     192.647358       1.094571       0.321905   \n",
       "min    2.824200e+05       0.000000       1.000000       0.000000   \n",
       "25%    1.655966e+08       2.000000       4.000000       1.000000   \n",
       "50%    3.260000e+08       9.000000       4.000000       1.000000   \n",
       "75%    5.286325e+08      29.000000       5.000000       1.000000   \n",
       "max    7.534573e+08   34443.000000       5.000000       1.000000   \n",
       "\n",
       "       sentiment_int  \n",
       "count  212155.000000  \n",
       "mean        1.675266  \n",
       "std         0.643809  \n",
       "min         0.000000  \n",
       "25%         2.000000  \n",
       "50%         2.000000  \n",
       "75%         2.000000  \n",
       "max         2.000000  "
      ]
     },
     "execution_count": 12,
     "metadata": {},
     "output_type": "execute_result"
    }
   ],
   "source": [
    "df_all_hotels_cleaned.describe()"
   ]
  },
  {
   "cell_type": "code",
   "execution_count": 13,
   "metadata": {},
   "outputs": [
    {
     "name": "stdout",
     "output_type": "stream",
     "text": [
      "Total Number of Reviews: 212155\n"
     ]
    },
    {
     "data": {
      "text/plain": [
       "Text(0.5, 1.0, 'Count of Hotel Reviews per City')"
      ]
     },
     "execution_count": 13,
     "metadata": {},
     "output_type": "execute_result"
    },
    {
     "data": {
      "text/plain": [
       "Text(0.5, 0, 'City')"
      ]
     },
     "execution_count": 13,
     "metadata": {},
     "output_type": "execute_result"
    },
    {
     "data": {
      "image/png": "[encoded data removed]",
      "text/plain": [
       "<Figure size 864x720 with 1 Axes>"
      ]
     },
     "metadata": {
      "needs_background": "light"
     },
     "output_type": "display_data"
    }
   ],
   "source": [
    "# Plot counts - Reviews per city\n",
    "df = df_all_hotels_cleaned\n",
    "print('Total Number of Reviews:', df.shape[0])\n",
    "\n",
    "fig, ax = plt.subplots(figsize=(12,10))\n",
    "plot = sns.countplot(data=df, x='City', ax=ax, order = df['City'].value_counts().index)\n",
    "ax.set_title('Count of Hotel Reviews per City', size=BIGGEST_SIZE)\n",
    "ax.set_xlabel('City')\n",
    "fig.tight_layout()\n",
    "fig.savefig('../images/countplot_reviews_byCity_full')"
   ]
  },
  {
   "cell_type": "code",
   "execution_count": 14,
   "metadata": {
    "scrolled": false
   },
   "outputs": [
    {
     "name": "stdout",
     "output_type": "stream",
     "text": [
      "Total Number of Ratings:  212155\n"
     ]
    },
    {
     "data": {
      "text/plain": [
       "Text(0.5, 1.0, 'Counts of Hotel Ratings')"
      ]
     },
     "execution_count": 14,
     "metadata": {},
     "output_type": "execute_result"
    },
    {
     "data": {
      "text/plain": [
       "Text(0.5, 0, 'Hotel Rating')"
      ]
     },
     "execution_count": 14,
     "metadata": {},
     "output_type": "execute_result"
    },
    {
     "data": {
      "image/png": "[encoded data removed]",
      "text/plain": [
       "<Figure size 864x576 with 1 Axes>"
      ]
     },
     "metadata": {
      "needs_background": "light"
     },
     "output_type": "display_data"
    }
   ],
   "source": [
    "# Plot counts - Ratings\n",
    "df = df_all_hotels_cleaned\n",
    "print('Total Number of Ratings: ', df.shape[0])\n",
    "\n",
    "fig, ax = plt.subplots(figsize=(12,8))\n",
    "plot = sns.countplot(data=df, x='rating', ax=ax)\n",
    "ax.set_title('Counts of Hotel Ratings', size=BIGGEST_SIZE)\n",
    "ax.set_xlabel('Hotel Rating')\n",
    "fig.savefig('../images/countplot_ratings_full')"
   ]
  },
  {
   "cell_type": "code",
   "execution_count": 15,
   "metadata": {},
   "outputs": [
    {
     "name": "stdout",
     "output_type": "stream",
     "text": [
      "Total Number of Ratings:  212155\n"
     ]
    },
    {
     "data": {
      "text/plain": [
       "(<Figure size 576x576 with 1 Axes>,\n",
       " <matplotlib.axes._subplots.AxesSubplot at 0x1a29364dd0>)"
      ]
     },
     "execution_count": 15,
     "metadata": {},
     "output_type": "execute_result"
    },
    {
     "data": {
      "text/plain": [
       "Text(0.5, 1, 'Balance of Review Sentiments')"
      ]
     },
     "execution_count": 15,
     "metadata": {},
     "output_type": "execute_result"
    },
    {
     "data": {
      "text/plain": [
       "Text(73.76, 0.5, '')"
      ]
     },
     "execution_count": 15,
     "metadata": {},
     "output_type": "execute_result"
    },
    {
     "data": {
      "image/png": "[encoded data removed]",
      "text/plain": [
       "<Figure size 576x576 with 1 Axes>"
      ]
     },
     "metadata": {},
     "output_type": "display_data"
    }
   ],
   "source": [
    "# Plot pie - Sentiments\n",
    "df = df_all_hotels_cleaned\n",
    "print('Total Number of Ratings: ', df.shape[0])\n",
    "\n",
    "fig, ax = plt.subplots(figsize=(8,8))\n",
    "hlp.plot_pie(df['sentiment'], fig, ax)\n",
    "ax.set_title('Balance of Review Sentiments', size=BIGGEST_SIZE)\n",
    "ax.set_ylabel('')\n",
    "fig.savefig('../images/pie_sentiments_full')"
   ]
  },
  {
   "cell_type": "markdown",
   "metadata": {},
   "source": [
    "# NLP"
   ]
  },
  {
   "cell_type": "code",
   "execution_count": null,
   "metadata": {},
   "outputs": [],
   "source": []
  },
  {
   "cell_type": "markdown",
   "metadata": {},
   "source": [
    "# Train-Test Split"
   ]
  },
  {
   "cell_type": "code",
   "execution_count": 16,
   "metadata": {},
   "outputs": [],
   "source": [
    "# Specify df & target, X & y\n",
    "df = df_all_hotels_cleaned.copy()\n",
    "cols = df.columns\n",
    "target = 'sentiment'\n",
    "\n",
    "X = df.drop(columns=[target]).to_numpy()\n",
    "y = df[target].to_numpy()"
   ]
  },
  {
   "cell_type": "code",
   "execution_count": 17,
   "metadata": {},
   "outputs": [
    {
     "data": {
      "text/plain": [
       "((169724, 13), (42431, 13), (169724,), (42431,))"
      ]
     },
     "execution_count": 17,
     "metadata": {},
     "output_type": "execute_result"
    }
   ],
   "source": [
    "X_train, X_test, y_train, y_test = train_test_split(X, y, test_size=0.2, shuffle=True, stratify=y)\n",
    "X_train.shape, X_test.shape, y_train.shape, y_test.shape"
   ]
  },
  {
   "cell_type": "code",
   "execution_count": 18,
   "metadata": {},
   "outputs": [
    {
     "data": {
      "text/html": [
       "<div>\n",
       "<style scoped>\n",
       "    .dataframe tbody tr th:only-of-type {\n",
       "        vertical-align: middle;\n",
       "    }\n",
       "\n",
       "    .dataframe tbody tr th {\n",
       "        vertical-align: top;\n",
       "    }\n",
       "\n",
       "    .dataframe thead th {\n",
       "        text-align: right;\n",
       "    }\n",
       "</style>\n",
       "<table border=\"1\" class=\"dataframe\">\n",
       "  <thead>\n",
       "    <tr style=\"text-align: right;\">\n",
       "      <th></th>\n",
       "      <th>review_id</th>\n",
       "      <th>url</th>\n",
       "      <th>hotel_name</th>\n",
       "      <th>review_date</th>\n",
       "      <th>review_body</th>\n",
       "      <th>user_location</th>\n",
       "      <th>helpful_vote</th>\n",
       "      <th>rating</th>\n",
       "      <th>csv</th>\n",
       "      <th>folder</th>\n",
       "      <th>City</th>\n",
       "      <th>polarity</th>\n",
       "      <th>sentiment_int</th>\n",
       "      <th>sentiment</th>\n",
       "    </tr>\n",
       "  </thead>\n",
       "  <tbody>\n",
       "    <tr>\n",
       "      <td>0</td>\n",
       "      <td>703398208</td>\n",
       "      <td>https://www.tripadvisor.com/Hotel_Review-g1412...</td>\n",
       "      <td>ANA InterContinental Tokyo</td>\n",
       "      <td>August 26, 2019</td>\n",
       "      <td>Avoid the lobby bar. We stopped there whilst w...</td>\n",
       "      <td>Sydney, Australia</td>\n",
       "      <td>37</td>\n",
       "      <td>1</td>\n",
       "      <td>ANA_InterContinental_Tokyo-Akasaka_Minato_Toky...</td>\n",
       "      <td>Tokyo-Kanto-pg1</td>\n",
       "      <td>Tokyo</td>\n",
       "      <td>0</td>\n",
       "      <td>0</td>\n",
       "      <td>negative</td>\n",
       "    </tr>\n",
       "    <tr>\n",
       "      <td>1</td>\n",
       "      <td>165112988</td>\n",
       "      <td>https://www.tripadvisor.com/Hotel_Review-g6098...</td>\n",
       "      <td>Royal Grove Waikiki</td>\n",
       "      <td>June 24, 2013</td>\n",
       "      <td>This was the second time we have stayed at the...</td>\n",
       "      <td>Christchurch</td>\n",
       "      <td>13</td>\n",
       "      <td>5</td>\n",
       "      <td>Royal_Grove_Waikiki-Honolulu_Oahu_Hawaii__en.csv</td>\n",
       "      <td>Honolulu-Hawaii.pg2</td>\n",
       "      <td>Honolulu</td>\n",
       "      <td>1</td>\n",
       "      <td>2</td>\n",
       "      <td>positive</td>\n",
       "    </tr>\n",
       "    <tr>\n",
       "      <td>2</td>\n",
       "      <td>159308833</td>\n",
       "      <td>https://www.tripadvisor.com/Hotel_Review-g1412...</td>\n",
       "      <td>ANA InterContinental Tokyo</td>\n",
       "      <td>April 30, 2013</td>\n",
       "      <td>This hotel is convenient, if you have business...</td>\n",
       "      <td>Beverly Hills, California</td>\n",
       "      <td>12</td>\n",
       "      <td>3</td>\n",
       "      <td>ANA_InterContinental_Tokyo-Akasaka_Minato_Toky...</td>\n",
       "      <td>Tokyo-Kanto-pg1</td>\n",
       "      <td>Tokyo</td>\n",
       "      <td>0.5</td>\n",
       "      <td>1</td>\n",
       "      <td>neutral</td>\n",
       "    </tr>\n",
       "    <tr>\n",
       "      <td>3</td>\n",
       "      <td>224448922</td>\n",
       "      <td>https://www.tripadvisor.com/Hotel_Review-g6098...</td>\n",
       "      <td>White Sands Hotel</td>\n",
       "      <td>August 25, 2014</td>\n",
       "      <td>It took close inspection to conclude that the ...</td>\n",
       "      <td>Key Biscayne, Florida</td>\n",
       "      <td>87</td>\n",
       "      <td>3</td>\n",
       "      <td>White_Sands_Hotel-Honolulu_Oahu_Hawaii__en.csv</td>\n",
       "      <td>Honolulu-Hawaii.pg2</td>\n",
       "      <td>Honolulu</td>\n",
       "      <td>0.5</td>\n",
       "      <td>1</td>\n",
       "      <td>neutral</td>\n",
       "    </tr>\n",
       "    <tr>\n",
       "      <td>4</td>\n",
       "      <td>544748432</td>\n",
       "      <td>https://www.tripadvisor.com/Hotel_Review-g6098...</td>\n",
       "      <td>Aqua Ohia Waikiki Studio Suites</td>\n",
       "      <td>December 3, 2017</td>\n",
       "      <td>This hotel is good value for the price. The ho...</td>\n",
       "      <td>Sydney, Australia</td>\n",
       "      <td>3</td>\n",
       "      <td>4</td>\n",
       "      <td>Aqua_Ohia_Waikiki_Studio_Suites-Honolulu_Oahu_...</td>\n",
       "      <td>Honolulu-Hawaii.pg3</td>\n",
       "      <td>Honolulu</td>\n",
       "      <td>1</td>\n",
       "      <td>2</td>\n",
       "      <td>positive</td>\n",
       "    </tr>\n",
       "  </tbody>\n",
       "</table>\n",
       "</div>"
      ],
      "text/plain": [
       "   review_id                                                url  \\\n",
       "0  703398208  https://www.tripadvisor.com/Hotel_Review-g1412...   \n",
       "1  165112988  https://www.tripadvisor.com/Hotel_Review-g6098...   \n",
       "2  159308833  https://www.tripadvisor.com/Hotel_Review-g1412...   \n",
       "3  224448922  https://www.tripadvisor.com/Hotel_Review-g6098...   \n",
       "4  544748432  https://www.tripadvisor.com/Hotel_Review-g6098...   \n",
       "\n",
       "                        hotel_name       review_date  \\\n",
       "0       ANA InterContinental Tokyo   August 26, 2019   \n",
       "1              Royal Grove Waikiki     June 24, 2013   \n",
       "2       ANA InterContinental Tokyo    April 30, 2013   \n",
       "3                White Sands Hotel   August 25, 2014   \n",
       "4  Aqua Ohia Waikiki Studio Suites  December 3, 2017   \n",
       "\n",
       "                                         review_body  \\\n",
       "0  Avoid the lobby bar. We stopped there whilst w...   \n",
       "1  This was the second time we have stayed at the...   \n",
       "2  This hotel is convenient, if you have business...   \n",
       "3  It took close inspection to conclude that the ...   \n",
       "4  This hotel is good value for the price. The ho...   \n",
       "\n",
       "               user_location helpful_vote rating  \\\n",
       "0          Sydney, Australia           37      1   \n",
       "1               Christchurch           13      5   \n",
       "2  Beverly Hills, California           12      3   \n",
       "3      Key Biscayne, Florida           87      3   \n",
       "4          Sydney, Australia            3      4   \n",
       "\n",
       "                                                 csv               folder  \\\n",
       "0  ANA_InterContinental_Tokyo-Akasaka_Minato_Toky...      Tokyo-Kanto-pg1   \n",
       "1   Royal_Grove_Waikiki-Honolulu_Oahu_Hawaii__en.csv  Honolulu-Hawaii.pg2   \n",
       "2  ANA_InterContinental_Tokyo-Akasaka_Minato_Toky...      Tokyo-Kanto-pg1   \n",
       "3     White_Sands_Hotel-Honolulu_Oahu_Hawaii__en.csv  Honolulu-Hawaii.pg2   \n",
       "4  Aqua_Ohia_Waikiki_Studio_Suites-Honolulu_Oahu_...  Honolulu-Hawaii.pg3   \n",
       "\n",
       "       City polarity sentiment_int sentiment  \n",
       "0     Tokyo        0             0  negative  \n",
       "1  Honolulu        1             2  positive  \n",
       "2     Tokyo      0.5             1   neutral  \n",
       "3  Honolulu      0.5             1   neutral  \n",
       "4  Honolulu        1             2  positive  "
      ]
     },
     "execution_count": 18,
     "metadata": {},
     "output_type": "execute_result"
    }
   ],
   "source": [
    "train = np.concatenate([X_train, y_train.reshape(-1,1)], axis = 1)\n",
    "train_df = pd.DataFrame(train, columns=cols)\n",
    "train_df.head()"
   ]
  },
  {
   "cell_type": "markdown",
   "metadata": {},
   "source": [
    "# Appendix"
   ]
  },
  {
   "cell_type": "code",
   "execution_count": 20,
   "metadata": {},
   "outputs": [
    {
     "ename": "AssertionError",
     "evalue": "",
     "output_type": "error",
     "traceback": [
      "\u001b[0;31m---------------------------------------------------------------------------\u001b[0m",
      "\u001b[0;31mAssertionError\u001b[0m                            Traceback (most recent call last)",
      "\u001b[0;32m<ipython-input-20-2f502d8ff0c4>\u001b[0m in \u001b[0;36m<module>\u001b[0;34m\u001b[0m\n\u001b[1;32m      1\u001b[0m \u001b[0;31m# don't go beyond here with Run All\u001b[0m\u001b[0;34m\u001b[0m\u001b[0;34m\u001b[0m\u001b[0;34m\u001b[0m\u001b[0m\n\u001b[0;32m----> 2\u001b[0;31m \u001b[0;32massert\u001b[0m \u001b[0;32mFalse\u001b[0m\u001b[0;34m\u001b[0m\u001b[0;34m\u001b[0m\u001b[0m\n\u001b[0m",
      "\u001b[0;31mAssertionError\u001b[0m: "
     ]
    }
   ],
   "source": [
    "# don't go beyond here with Run All\n",
    "assert False"
   ]
  },
  {
   "cell_type": "code",
   "execution_count": 19,
   "metadata": {},
   "outputs": [
    {
     "name": "stdout",
     "output_type": "stream",
     "text": [
      "Total Number of Ratings:  169724\n"
     ]
    },
    {
     "data": {
      "text/plain": [
       "(<Figure size 576x576 with 1 Axes>,\n",
       " <matplotlib.axes._subplots.AxesSubplot at 0x1a2933ded0>)"
      ]
     },
     "execution_count": 19,
     "metadata": {},
     "output_type": "execute_result"
    },
    {
     "data": {
      "text/plain": [
       "Text(0.5, 1, 'Balance of Review Sentiments')"
      ]
     },
     "execution_count": 19,
     "metadata": {},
     "output_type": "execute_result"
    },
    {
     "data": {
      "text/plain": [
       "Text(73.76, 0.5, '')"
      ]
     },
     "execution_count": 19,
     "metadata": {},
     "output_type": "execute_result"
    },
    {
     "data": {
      "image/png": "[encoded data removed]",
      "text/plain": [
       "<Figure size 576x576 with 1 Axes>"
      ]
     },
     "metadata": {},
     "output_type": "display_data"
    }
   ],
   "source": [
    "# Plot pie - Sentiments\n",
    "df = train_df\n",
    "print('Total Number of Ratings: ', df.shape[0])\n",
    "\n",
    "fig, ax = plt.subplots(figsize=(8,8))\n",
    "hlp.plot_pie(df['sentiment'], fig, ax)\n",
    "ax.set_title('Balance of Review Sentiments', size=BIGGEST_SIZE)\n",
    "ax.set_ylabel('')\n",
    "# fig.savefig('../images/pie_sentiments_train')"
   ]
  }
 ],
 "metadata": {
  "kernelspec": {
   "display_name": "Python 3",
   "language": "python",
   "name": "python3"
  },
  "language_info": {
   "codemirror_mode": {
    "name": "ipython",
    "version": 3
   },
   "file_extension": ".py",
   "mimetype": "text/x-python",
   "name": "python",
   "nbconvert_exporter": "python",
   "pygments_lexer": "ipython3",
   "version": "3.7.4"
  }
 },
 "nbformat": 4,
 "nbformat_minor": 2
}
