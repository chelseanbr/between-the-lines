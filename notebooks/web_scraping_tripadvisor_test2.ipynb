{
 "cells": [
  {
   "cell_type": "code",
   "execution_count": 1,
   "metadata": {},
   "outputs": [],
   "source": [
    "%load_ext autoreload\n",
    "%autoreload 2\n",
    "import sys\n",
    "import os\n",
    "module_path = os.path.abspath(os.path.join('..'))\n",
    "if module_path not in sys.path:\n",
    "    sys.path.append(module_path+\"/src\")\n",
    "import helpers as hlp\n",
    "\n",
    "import web_scraping as ws"
   ]
  },
  {
   "cell_type": "code",
   "execution_count": 2,
   "metadata": {},
   "outputs": [],
   "source": [
    "import numpy as np\n",
    "import pandas as pd"
   ]
  },
  {
   "cell_type": "code",
   "execution_count": 3,
   "metadata": {},
   "outputs": [
    {
     "name": "stdout",
     "output_type": "stream",
     "text": [
      "[parse] url: https://www.tripadvisor.ca/Hotel_Review-g60982-d87016-Reviews-Hilton_Hawaiian_Village_Waikiki_Beach_Resort-Honolulu_Oahu_Hawaii.html?filterLang=en\n",
      "[parse] num_reviews ALL: 18510\n",
      "[parse] url_template: https://www.tripadvisor.ca/Hotel_Review-g60982-d87016-Reviews-Hilton_Hawaiian_Village_Waikiki_Beach_Resort-Honolulu_Oahu_Hawaii-or{}.html?filterLang=en\n",
      "[parse_reviews] url: https://www.tripadvisor.ca/Hotel_Review-g60982-d87016-Reviews-Hilton_Hawaiian_Village_Waikiki_Beach_Resort-Honolulu_Oahu_Hawaii-or0.html?filterLang=en\n",
      "[get_reviews_ids] data-reviewid: ['752651761', '752585766', '752537773']\n",
      "\n",
      "filename: Hilton_Hawaiian_Village_Waikiki_Beach_Resort-Honolulu_Oahu_Hawaii__en\n",
      "--- CSV ---\n",
      "[parse] url: https://www.tripadvisor.com/Hotel_Review-g60982-d224616-Reviews-Hilton_Grand_Vacations_at_Hilton_Hawaiian_Village-Honolulu_Oahu_Hawaii.html?filterLang=en\n",
      "[parse] num_reviews ALL: 1869\n",
      "[parse] url_template: https://www.tripadvisor.com/Hotel_Review-g60982-d224616-Reviews-Hilton_Grand_Vacations_at_Hilton_Hawaiian_Village-Honolulu_Oahu_Hawaii-or{}.html?filterLang=en\n",
      "[parse_reviews] url: https://www.tripadvisor.com/Hotel_Review-g60982-d224616-Reviews-Hilton_Grand_Vacations_at_Hilton_Hawaiian_Village-Honolulu_Oahu_Hawaii-or0.html?filterLang=en\n",
      "[get_reviews_ids] data-reviewid: ['751419612', '751278162', '749108365']\n",
      "\n",
      "filename: Hilton_Grand_Vacations_at_Hilton_Hawaiian_Village-Honolulu_Oahu_Hawaii__en\n",
      "--- CSV ---\n"
     ]
    }
   ],
   "source": [
    "# test\n",
    "# start_urls = [\n",
    "#         'https://www.tripadvisor.ca/Hotel_Review-g60982-d87016-Reviews-Hilton_Hawaiian_Village_Waikiki_Beach_Resort-Honolulu_Oahu_Hawaii.html',\n",
    "#     ]\n",
    "start_urls = ['https://www.tripadvisor.ca/Hotel_Review-g60982-d87016-Reviews-Hilton_Hawaiian_Village_Waikiki_Beach_Resort-Honolulu_Oahu_Hawaii.html',\n",
    "'https://www.tripadvisor.com/Hotel_Review-g60982-d224616-Reviews-Hilton_Grand_Vacations_at_Hilton_Hawaiian_Village-Honolulu_Oahu_Hawaii.html'    ]\n",
    "# ws.main()\n",
    "ws.main(start_urls)"
   ]
  },
  {
   "cell_type": "code",
   "execution_count": 4,
   "metadata": {},
   "outputs": [
    {
     "data": {
      "text/plain": [
       "0"
      ]
     },
     "execution_count": 4,
     "metadata": {},
     "output_type": "execute_result"
    }
   ],
   "source": [
    "os.system('say \"your program has finished\"')"
   ]
  },
  {
   "cell_type": "code",
   "execution_count": 5,
   "metadata": {},
   "outputs": [],
   "source": [
    "data_dir = '../data/web_scraped/'"
   ]
  },
  {
   "cell_type": "code",
   "execution_count": 6,
   "metadata": {},
   "outputs": [],
   "source": [
    "test_file = 'Hilton_Hawaiian_Village_Waikiki_Beach_Resort-Honolulu_Oahu_Hawaii__en' + '.csv'\n",
    "reviews_test = pd.read_csv(data_dir + test_file)"
   ]
  },
  {
   "cell_type": "code",
   "execution_count": 7,
   "metadata": {},
   "outputs": [
    {
     "data": {
      "text/plain": [
       "(3, 8)"
      ]
     },
     "execution_count": 7,
     "metadata": {},
     "output_type": "execute_result"
    }
   ],
   "source": [
    "reviews_test.shape"
   ]
  },
  {
   "cell_type": "code",
   "execution_count": 8,
   "metadata": {},
   "outputs": [
    {
     "data": {
      "text/html": [
       "<div>\n",
       "<style scoped>\n",
       "    .dataframe tbody tr th:only-of-type {\n",
       "        vertical-align: middle;\n",
       "    }\n",
       "\n",
       "    .dataframe tbody tr th {\n",
       "        vertical-align: top;\n",
       "    }\n",
       "\n",
       "    .dataframe thead th {\n",
       "        text-align: right;\n",
       "    }\n",
       "</style>\n",
       "<table border=\"1\" class=\"dataframe\">\n",
       "  <thead>\n",
       "    <tr style=\"text-align: right;\">\n",
       "      <th></th>\n",
       "      <th>review_id</th>\n",
       "      <th>url</th>\n",
       "      <th>hotel_name</th>\n",
       "      <th>review_date</th>\n",
       "      <th>review_body</th>\n",
       "      <th>user_location</th>\n",
       "      <th>helpful_vote</th>\n",
       "      <th>rating</th>\n",
       "    </tr>\n",
       "  </thead>\n",
       "  <tbody>\n",
       "    <tr>\n",
       "      <td>0</td>\n",
       "      <td>752651761</td>\n",
       "      <td>https://www.tripadvisor.ca/Hotel_Review-g60982...</td>\n",
       "      <td>Hilton Hawaiian Village Waikiki Beach Resort</td>\n",
       "      <td>April 15, 2020</td>\n",
       "      <td>I enjoyed my stay overall.The room itself was ...</td>\n",
       "      <td>Seattle, Washington</td>\n",
       "      <td>35</td>\n",
       "      <td>4.0</td>\n",
       "    </tr>\n",
       "    <tr>\n",
       "      <td>1</td>\n",
       "      <td>752585766</td>\n",
       "      <td>https://www.tripadvisor.ca/Hotel_Review-g60982...</td>\n",
       "      <td>Hilton Hawaiian Village Waikiki Beach Resort</td>\n",
       "      <td>April 13, 2020</td>\n",
       "      <td>Our family stayed here as a last second switch...</td>\n",
       "      <td>Pella, Iowa</td>\n",
       "      <td>3</td>\n",
       "      <td>5.0</td>\n",
       "    </tr>\n",
       "    <tr>\n",
       "      <td>2</td>\n",
       "      <td>752537773</td>\n",
       "      <td>https://www.tripadvisor.ca/Hotel_Review-g60982...</td>\n",
       "      <td>Hilton Hawaiian Village Waikiki Beach Resort</td>\n",
       "      <td>April 12, 2020</td>\n",
       "      <td>Great atmosphere in the village. You can prett...</td>\n",
       "      <td>High Ongar, United Kingdom</td>\n",
       "      <td>1</td>\n",
       "      <td>5.0</td>\n",
       "    </tr>\n",
       "  </tbody>\n",
       "</table>\n",
       "</div>"
      ],
      "text/plain": [
       "   review_id                                                url  \\\n",
       "0  752651761  https://www.tripadvisor.ca/Hotel_Review-g60982...   \n",
       "1  752585766  https://www.tripadvisor.ca/Hotel_Review-g60982...   \n",
       "2  752537773  https://www.tripadvisor.ca/Hotel_Review-g60982...   \n",
       "\n",
       "                                     hotel_name     review_date  \\\n",
       "0  Hilton Hawaiian Village Waikiki Beach Resort  April 15, 2020   \n",
       "1  Hilton Hawaiian Village Waikiki Beach Resort  April 13, 2020   \n",
       "2  Hilton Hawaiian Village Waikiki Beach Resort  April 12, 2020   \n",
       "\n",
       "                                         review_body  \\\n",
       "0  I enjoyed my stay overall.The room itself was ...   \n",
       "1  Our family stayed here as a last second switch...   \n",
       "2  Great atmosphere in the village. You can prett...   \n",
       "\n",
       "                user_location  helpful_vote  rating  \n",
       "0         Seattle, Washington            35     4.0  \n",
       "1                 Pella, Iowa             3     5.0  \n",
       "2  High Ongar, United Kingdom             1     5.0  "
      ]
     },
     "execution_count": 8,
     "metadata": {},
     "output_type": "execute_result"
    }
   ],
   "source": [
    "reviews_test.head()"
   ]
  },
  {
   "cell_type": "code",
   "execution_count": null,
   "metadata": {},
   "outputs": [],
   "source": []
  }
 ],
 "metadata": {
  "kernelspec": {
   "display_name": "Python 3",
   "language": "python",
   "name": "python3"
  },
  "language_info": {
   "codemirror_mode": {
    "name": "ipython",
    "version": 3
   },
   "file_extension": ".py",
   "mimetype": "text/x-python",
   "name": "python",
   "nbconvert_exporter": "python",
   "pygments_lexer": "ipython3",
   "version": "3.7.4"
  }
 },
 "nbformat": 4,
 "nbformat_minor": 2
}
